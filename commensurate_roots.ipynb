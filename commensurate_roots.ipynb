{
 "cells": [
  {
   "cell_type": "markdown",
   "metadata": {},
   "source": [
    "# Finding commensurate roots"
   ]
  },
  {
   "cell_type": "markdown",
   "metadata": {},
   "source": [
    "In many applications the poles of the transfer function can be found by solving a polynomial. If the denominator is a polynoamial in $x = exp(-zT_{\\text{lcm}})$ for some delay $T_{\\text{lcm}}$ then this can be done. In the more general case network when the delays $T_1,...,T_n$ are not commensurate, a different method is needed, such as the root-finding algorithm implemented in Roots.py. Here we show how from the commensurate delays we can find roots in a desired frequency range."
   ]
  },
  {
   "cell_type": "code",
   "execution_count": 1,
   "metadata": {
    "collapsed": true
   },
   "outputs": [],
   "source": [
    "import numpy as np"
   ]
  },
  {
   "cell_type": "code",
   "execution_count": 7,
   "metadata": {
    "collapsed": false
   },
   "outputs": [],
   "source": [
    "import Potapov_Code.Time_Delay_Network as networks"
   ]
  },
  {
   "cell_type": "code",
   "execution_count": null,
   "metadata": {
    "collapsed": true
   },
   "outputs": [],
   "source": [
    "import matplotlib.pyplot as plt\n",
    "%pylab inline"
   ]
  },
  {
   "cell_type": "code",
   "execution_count": 586,
   "metadata": {
    "collapsed": true
   },
   "outputs": [],
   "source": [
    "import sympy as sp\n",
    "from sympy import init_printing\n",
    "init_printing() "
   ]
  },
  {
   "cell_type": "code",
   "execution_count": 303,
   "metadata": {
    "collapsed": true
   },
   "outputs": [],
   "source": [
    "from fractions import gcd"
   ]
  },
  {
   "cell_type": "code",
   "execution_count": 304,
   "metadata": {
    "collapsed": true
   },
   "outputs": [],
   "source": [
    "## To identify commensurate delays, we must use a decimal and NOT a binary representation of the delays,\n",
    "## as done by standard python floats/longs\n",
    "\n",
    "from decimal import Decimal"
   ]
  },
  {
   "cell_type": "code",
   "execution_count": 305,
   "metadata": {
    "collapsed": true
   },
   "outputs": [],
   "source": [
    "X = networks.Example3()"
   ]
  },
  {
   "cell_type": "code",
   "execution_count": 306,
   "metadata": {
    "collapsed": false
   },
   "outputs": [
    {
     "data": {
      "text/plain": [
       "[0.1, 0.23, 0.1, 0.17]"
      ]
     },
     "execution_count": 306,
     "metadata": {},
     "output_type": "execute_result"
    }
   ],
   "source": [
    "X.delays"
   ]
  },
  {
   "cell_type": "markdown",
   "metadata": {},
   "source": [
    "## get gcd for a list of integers"
   ]
  },
  {
   "cell_type": "code",
   "execution_count": 307,
   "metadata": {
    "collapsed": true
   },
   "outputs": [],
   "source": [
    "def gcd_lst(lst):\n",
    "    l = len(lst)\n",
    "    if l == 0:\n",
    "        return None\n",
    "    elif l == 1:\n",
    "        return lst[0]\n",
    "    elif l == 2:\n",
    "        return gcd(lst[0],lst[1])\n",
    "    else:\n",
    "        return gcd(lst[0],gcd_lst(lst[1:]))"
   ]
  },
  {
   "cell_type": "markdown",
   "metadata": {},
   "source": [
    "## testing"
   ]
  },
  {
   "cell_type": "code",
   "execution_count": 308,
   "metadata": {
    "collapsed": false
   },
   "outputs": [
    {
     "data": {
      "text/plain": [
       "1"
      ]
     },
     "execution_count": 308,
     "metadata": {},
     "output_type": "execute_result"
    }
   ],
   "source": [
    "gcd_lst([1,2,3,4,5,6])"
   ]
  },
  {
   "cell_type": "code",
   "execution_count": 309,
   "metadata": {
    "collapsed": false
   },
   "outputs": [
    {
     "data": {
      "text/plain": [
       "2"
      ]
     },
     "execution_count": 309,
     "metadata": {},
     "output_type": "execute_result"
    }
   ],
   "source": [
    "gcd_lst([2,4,8,6])"
   ]
  },
  {
   "cell_type": "code",
   "execution_count": 310,
   "metadata": {
    "collapsed": false
   },
   "outputs": [
    {
     "data": {
      "text/plain": [
       "3"
      ]
     },
     "execution_count": 310,
     "metadata": {},
     "output_type": "execute_result"
    }
   ],
   "source": [
    "gcd_lst([3,27,300,6])"
   ]
  },
  {
   "cell_type": "markdown",
   "metadata": {},
   "source": [
    "## find the shortest commensurate delay"
   ]
  },
  {
   "cell_type": "code",
   "execution_count": 196,
   "metadata": {
    "collapsed": true
   },
   "outputs": [],
   "source": [
    "def find_commensurate(delays):\n",
    "    mult = min([d.as_tuple().exponent for d in delays])\n",
    "    power = 10**-mult\n",
    "    delays = map(lambda x: x*power,delays)\n",
    "    int_gcd = gcd_lst(delays)\n",
    "    return int_gcd/power"
   ]
  },
  {
   "cell_type": "markdown",
   "metadata": {},
   "source": [
    "## testing"
   ]
  },
  {
   "cell_type": "code",
   "execution_count": 223,
   "metadata": {
    "collapsed": true
   },
   "outputs": [],
   "source": [
    "delays = [Decimal('1.14'),Decimal('532.23423'),Decimal('0.06'),Decimal('0.1')]"
   ]
  },
  {
   "cell_type": "code",
   "execution_count": 312,
   "metadata": {
    "collapsed": false,
    "scrolled": true
   },
   "outputs": [
    {
     "data": {
      "text/plain": [
       "Decimal('0.00001')"
      ]
     },
     "execution_count": 312,
     "metadata": {},
     "output_type": "execute_result"
    }
   ],
   "source": [
    "lcm = find_commensurate(delays)\n",
    "lcm"
   ]
  },
  {
   "cell_type": "code",
   "execution_count": 313,
   "metadata": {
    "collapsed": false
   },
   "outputs": [
    {
     "data": {
      "text/plain": [
       "[Decimal('1.14E+5'), Decimal('53223423'), Decimal('6E+3'), Decimal('1E+4')]"
      ]
     },
     "execution_count": 313,
     "metadata": {},
     "output_type": "execute_result"
    }
   ],
   "source": [
    "map(lambda z: z / lcm, delays)"
   ]
  },
  {
   "cell_type": "code",
   "execution_count": 350,
   "metadata": {
    "collapsed": false
   },
   "outputs": [
    {
     "data": {
      "text/plain": [
       "Decimal('0.01')"
      ]
     },
     "execution_count": 350,
     "metadata": {},
     "output_type": "execute_result"
    }
   ],
   "source": [
    "## in general converting floats to Decimal shoudl be avoided because floats are stored in binary form.\n",
    "## converting to a string first will round the number.\n",
    "## Good practice would be to specify the delays in Decimals, then convert to floats later.\n",
    "\n",
    "lcm = find_commensurate(map(lambda x: Decimal(str(x)),X.delays)) \n",
    "lcm"
   ]
  },
  {
   "cell_type": "code",
   "execution_count": 585,
   "metadata": {
    "collapsed": false
   },
   "outputs": [
    {
     "data": {
      "text/plain": [
       "[Decimal('0.1'), Decimal('0.23'), Decimal('0.1'), Decimal('0.17')]"
      ]
     },
     "execution_count": 585,
     "metadata": {},
     "output_type": "execute_result"
    }
   ],
   "source": [
    "Decimal_delays =map(lambda x: Decimal(str(x)),X.delays)\n",
    "Decimal_delays"
   ]
  },
  {
   "cell_type": "code",
   "execution_count": 383,
   "metadata": {
    "collapsed": false
   },
   "outputs": [],
   "source": [
    "E = sp.Matrix(np.zeros_like(X.M1))"
   ]
  },
  {
   "cell_type": "code",
   "execution_count": 384,
   "metadata": {
    "collapsed": true
   },
   "outputs": [],
   "source": [
    "x = sp.symbols('x')"
   ]
  },
  {
   "cell_type": "code",
   "execution_count": 391,
   "metadata": {
    "collapsed": false
   },
   "outputs": [],
   "source": [
    "for i,delay in enumerate(Decimal_delays):\n",
    "    E[i,i] = 1.*x**int(delay / lcm)"
   ]
  },
  {
   "cell_type": "code",
   "execution_count": 392,
   "metadata": {
    "collapsed": false
   },
   "outputs": [
    {
     "data": {
      "image/png": "[encoded data removed]",
      "text/latex": [
       "$$\\left[\\begin{matrix}1.0 x^{10} & 0.0 & 0.0 & 0.0\\\\0.0 & 1.0 x^{23} & 0.0 & 0.0\\\\0.0 & 0.0 & 1.0 x^{10} & 0.0\\\\0.0 & 0.0 & 0.0 & 1.0 x^{17}\\end{matrix}\\right]$$"
      ],
      "text/plain": [
       "⎡     10                           ⎤\n",
       "⎢1.0⋅x      0.0      0.0      0.0  ⎥\n",
       "⎢                                  ⎥\n",
       "⎢              23                  ⎥\n",
       "⎢  0.0    1.0⋅x      0.0      0.0  ⎥\n",
       "⎢                                  ⎥\n",
       "⎢                       10         ⎥\n",
       "⎢  0.0      0.0    1.0⋅x      0.0  ⎥\n",
       "⎢                                  ⎥\n",
       "⎢                                17⎥\n",
       "⎣  0.0      0.0      0.0    1.0⋅x  ⎦"
      ]
     },
     "execution_count": 392,
     "metadata": {},
     "output_type": "execute_result"
    }
   ],
   "source": [
    "E"
   ]
  },
  {
   "cell_type": "code",
   "execution_count": 393,
   "metadata": {
    "collapsed": false,
    "scrolled": true
   },
   "outputs": [],
   "source": [
    "M1 = sp.Matrix(X.M1)"
   ]
  },
  {
   "cell_type": "code",
   "execution_count": 407,
   "metadata": {
    "collapsed": false
   },
   "outputs": [
    {
     "data": {
      "image/png": "[encoded data removed]",
      "text/latex": [
       "$$\\left[\\begin{matrix}0.0 & -0.9 & 0.0 & 0.0\\\\-0.4 & 0.0 & 0.916515138991168 & 0.0\\\\0.0 & 0.0 & 0.0 & -0.8\\\\0.916515138991168 & 0.0 & 0.4 & 0.0\\end{matrix}\\right]$$"
      ],
      "text/plain": [
       "⎡       0.0         -0.9         0.0         0.0 ⎤\n",
       "⎢                                                ⎥\n",
       "⎢      -0.4         0.0   0.916515138991168  0.0 ⎥\n",
       "⎢                                                ⎥\n",
       "⎢       0.0         0.0          0.0         -0.8⎥\n",
       "⎢                                                ⎥\n",
       "⎣0.916515138991168  0.0          0.4         0.0 ⎦"
      ]
     },
     "execution_count": 407,
     "metadata": {},
     "output_type": "execute_result"
    }
   ],
   "source": [
    "M1"
   ]
  },
  {
   "cell_type": "code",
   "execution_count": 394,
   "metadata": {
    "collapsed": false
   },
   "outputs": [
    {
     "data": {
      "image/png": "[encoded data removed]",
      "text/latex": [
       "$$\\left[\\begin{matrix}1.0 x^{10} & 0.9 & 0 & 0\\\\0.4 & 1.0 x^{23} & -0.916515138991168 & 0\\\\0 & 0 & 1.0 x^{10} & 0.8\\\\-0.916515138991168 & 0 & -0.4 & 1.0 x^{17}\\end{matrix}\\right]$$"
      ],
      "text/plain": [
       "⎡          10                                            ⎤\n",
       "⎢     1.0⋅x            0.9            0              0   ⎥\n",
       "⎢                                                        ⎥\n",
       "⎢                         23                             ⎥\n",
       "⎢       0.4          1.0⋅x    -0.916515138991168     0   ⎥\n",
       "⎢                                                        ⎥\n",
       "⎢                                       10               ⎥\n",
       "⎢        0              0          1.0⋅x            0.8  ⎥\n",
       "⎢                                                        ⎥\n",
       "⎢                                                      17⎥\n",
       "⎣-0.916515138991168     0            -0.4         1.0⋅x  ⎦"
      ]
     },
     "execution_count": 394,
     "metadata": {},
     "output_type": "execute_result"
    }
   ],
   "source": [
    "E - M1"
   ]
  },
  {
   "cell_type": "code",
   "execution_count": 410,
   "metadata": {
    "collapsed": false
   },
   "outputs": [],
   "source": [
    "expr = sp.apart((E - M1).det())"
   ]
  },
  {
   "cell_type": "code",
   "execution_count": 411,
   "metadata": {
    "collapsed": true
   },
   "outputs": [],
   "source": [
    "a = sp.Poly(expr, x)"
   ]
  },
  {
   "cell_type": "code",
   "execution_count": 414,
   "metadata": {
    "collapsed": false
   },
   "outputs": [
    {
     "data": {
      "image/png": "[encoded data removed]",
      "text/latex": [
       "$$\\operatorname{Poly}{\\left( 1.0 x^{60} + 0.32 x^{33} - 0.36 x^{27} - 0.72, x, domain=\\mathbb{R} \\right)}$$"
      ],
      "text/plain": [
       "Poly(1.0*x**60 + 0.32*x**33 - 0.36*x**27 - 0.72, x, domain='RR')"
      ]
     },
     "execution_count": 414,
     "metadata": {},
     "output_type": "execute_result"
    }
   ],
   "source": [
    "a"
   ]
  },
  {
   "cell_type": "code",
   "execution_count": 417,
   "metadata": {
    "collapsed": false
   },
   "outputs": [
    {
     "data": {
      "image/png": "[encoded data removed]",
      "text/latex": [
       "$$\\left [ 1.0, \\quad 0.0, \\quad 0.0, \\quad 0.0, \\quad 0.0, \\quad 0.0, \\quad 0.0, \\quad 0.0, \\quad 0.0, \\quad 0.0, \\quad 0.0, \\quad 0.0, \\quad 0.0, \\quad 0.0, \\quad 0.0, \\quad 0.0, \\quad 0.0, \\quad 0.0, \\quad 0.0, \\quad 0.0, \\quad 0.0, \\quad 0.0, \\quad 0.0, \\quad 0.0, \\quad 0.0, \\quad 0.0, \\quad 0.0, \\quad 0.32, \\quad 0.0, \\quad 0.0, \\quad 0.0, \\quad 0.0, \\quad 0.0, \\quad -0.36, \\quad 0.0, \\quad 0.0, \\quad 0.0, \\quad 0.0, \\quad 0.0, \\quad 0.0, \\quad 0.0, \\quad 0.0, \\quad 0.0, \\quad 0.0, \\quad 0.0, \\quad 0.0, \\quad 0.0, \\quad 0.0, \\quad 0.0, \\quad 0.0, \\quad 0.0, \\quad 0.0, \\quad 0.0, \\quad 0.0, \\quad 0.0, \\quad 0.0, \\quad 0.0, \\quad 0.0, \\quad 0.0, \\quad 0.0, \\quad -0.72\\right ]$$"
      ],
      "text/plain": [
       "[1.0, 0.0, 0.0, 0.0, 0.0, 0.0, 0.0, 0.0, 0.0, 0.0, 0.0, 0.0, 0.0, 0.0, 0.0, 0.\n",
       "0, 0.0, 0.0, 0.0, 0.0, 0.0, 0.0, 0.0, 0.0, 0.0, 0.0, 0.0, 0.32, 0.0, 0.0, 0.0,\n",
       " 0.0, 0.0, -0.36, 0.0, 0.0, 0.0, 0.0, 0.0, 0.0, 0.0, 0.0, 0.0, 0.0, 0.0, 0.0, \n",
       "0.0, 0.0, 0.0, 0.0, 0.0, 0.0, 0.0, 0.0, 0.0, 0.0, 0.0, 0.0, 0.0, 0.0, -0.72]"
      ]
     },
     "execution_count": 417,
     "metadata": {},
     "output_type": "execute_result"
    }
   ],
   "source": [
    "poly_coeffs = a.all_coeffs()\n",
    "poly_coeffs"
   ]
  },
  {
   "cell_type": "code",
   "execution_count": 437,
   "metadata": {
    "collapsed": false
   },
   "outputs": [
    {
     "data": {
      "text/plain": [
       "<matplotlib.text.Text at 0x11d57a110>"
      ]
     },
     "execution_count": 437,
     "metadata": {},
     "output_type": "execute_result"
    },
    {
     "data": {
      "image/png": "[encoded data removed]",
      "text/plain": [
       "<matplotlib.figure.Figure at 0x11d523610>"
      ]
     },
     "metadata": {},
     "output_type": "display_data"
    }
   ],
   "source": [
    "roots = np.roots(poly_coeffs)\n",
    "\n",
    "plt.figure(figsize =(6,6))\n",
    "fig = plt.scatter(roots.real,roots.imag)\n",
    "plt.title('Roots of the above polynomial',{'fontsize':24})\n",
    "plt.xlabel('Real part',{'fontsize':24})\n",
    "plt.ylabel('Imaginary part',{'fontsize':24})"
   ]
  },
  {
   "cell_type": "markdown",
   "metadata": {},
   "source": [
    "## Going from $x = exp(-zT_{\\text{lcm}})$ to solutions z. (Note the sign convention!)"
   ]
  },
  {
   "cell_type": "markdown",
   "metadata": {},
   "source": [
    "The roots repeat with a period of $2 \\pi / T_{\\text{lcm}} \\approx 628$."
   ]
  },
  {
   "cell_type": "code",
   "execution_count": 460,
   "metadata": {
    "collapsed": false
   },
   "outputs": [],
   "source": [
    "zs = np.asarray(map(lambda r: np.log(r) / - float(lcm), roots))"
   ]
  },
  {
   "cell_type": "code",
   "execution_count": 461,
   "metadata": {
    "collapsed": false
   },
   "outputs": [
    {
     "data": {
      "text/plain": [
       "<matplotlib.text.Text at 0x11c540450>"
      ]
     },
     "execution_count": 461,
     "metadata": {},
     "output_type": "execute_result"
    },
    {
     "data": {
      "image/png": "[encoded data removed]",
      "text/plain": [
       "<matplotlib.figure.Figure at 0x10507f910>"
      ]
     },
     "metadata": {},
     "output_type": "display_data"
    }
   ],
   "source": [
    "plt.figure(figsize =(6,6))\n",
    "fig = plt.scatter(zs.real,zs.imag)\n",
    "plt.title('Roots of the above polynomial',{'fontsize':24})\n",
    "plt.xlabel('Real part',{'fontsize':24})\n",
    "plt.ylabel('Imaginary part',{'fontsize':24})"
   ]
  },
  {
   "cell_type": "code",
   "execution_count": 555,
   "metadata": {
    "collapsed": false
   },
   "outputs": [],
   "source": [
    "def find_instances_in_range(z,freq_range):\n",
    "    T = 2.*np.pi / float(lcm)\n",
    "    if z.imag >= freq_range[0] and z.imag <= freq_range[1]:\n",
    "        lst_in_range = [z]\n",
    "        num_below = int((z.imag - freq_range[0])/T )\n",
    "        num_above = int((freq_range[1] - z.imag)/T )\n",
    "        lst_in_range += [z + 1j * disp for disp in (np.asarray(range(num_above))+1) * T]\n",
    "        lst_in_range += [z - 1j * disp for disp in (np.asarray(range(num_below))+1) * T]\n",
    "        return lst_in_range\n",
    "    elif z.imag > freq_range[1]:\n",
    "        min_dist = (int((z.imag - freq_range[1])/T)+1) * T\n",
    "        max_dist = int((z.imag - freq_range[0]) / T) * T\n",
    "        if min_dist > max_dist:\n",
    "            return []\n",
    "        else:\n",
    "            return find_instances_in_range(z - 1j*min_dist,freq_range)\n",
    "    else:\n",
    "        min_dist = (int((freq_range[0] - z.imag)/T)+1) * T\n",
    "        max_dist = int((freq_range[1] - z.imag)/T)  * T\n",
    "        if min_dist > max_dist:\n",
    "            return []\n",
    "        else:\n",
    "            return find_instances_in_range(z + 1j*min_dist,freq_range)  "
   ]
  },
  {
   "cell_type": "code",
   "execution_count": 556,
   "metadata": {
    "collapsed": false
   },
   "outputs": [
    {
     "data": {
      "image/png": "[encoded data removed]",
      "text/latex": [
       "$$104.71975512$$"
      ],
      "text/plain": [
       "104.71975512"
      ]
     },
     "execution_count": 556,
     "metadata": {},
     "output_type": "execute_result"
    }
   ],
   "source": [
    "z = zs[40]\n",
    "z.imag"
   ]
  },
  {
   "cell_type": "code",
   "execution_count": 562,
   "metadata": {
    "collapsed": true
   },
   "outputs": [],
   "source": [
    "## test cases..."
   ]
  },
  {
   "cell_type": "code",
   "execution_count": 558,
   "metadata": {
    "collapsed": false,
    "scrolled": true
   },
   "outputs": [
    {
     "data": {
      "text/plain": [
       "[(0.65220723077943077-1151.9173063162575j),\n",
       " (0.65220723077943077-1780.2358370342163j),\n",
       " (0.65220723077943077-2408.5543677521746j)]"
      ]
     },
     "execution_count": 558,
     "metadata": {},
     "output_type": "execute_result"
    }
   ],
   "source": [
    "find_instances_in_range(z,(-3000,-1000))"
   ]
  },
  {
   "cell_type": "code",
   "execution_count": 559,
   "metadata": {
    "collapsed": false
   },
   "outputs": [
    {
     "data": {
      "text/plain": [
       "[(0.65220723077943077+104.71975511965982j),\n",
       " (0.65220723077943077+733.03828583761845j),\n",
       " (0.65220723077943077-523.59877559829886j),\n",
       " (0.65220723077943077-1151.9173063162575j),\n",
       " (0.65220723077943077-1780.235837034216j),\n",
       " (0.65220723077943077-2408.5543677521746j)]"
      ]
     },
     "execution_count": 559,
     "metadata": {},
     "output_type": "execute_result"
    }
   ],
   "source": [
    "find_instances_in_range(z,(-3000,1000))"
   ]
  },
  {
   "cell_type": "code",
   "execution_count": 560,
   "metadata": {
    "collapsed": false
   },
   "outputs": [
    {
     "data": {
      "text/plain": [
       "[(0.65220723077943077+3246.3124087094534j),\n",
       " (0.65220723077943077+3874.6309394274122j),\n",
       " (0.65220723077943077+4502.9494701453705j)]"
      ]
     },
     "execution_count": 560,
     "metadata": {},
     "output_type": "execute_result"
    }
   ],
   "source": [
    "find_instances_in_range(z,(3000,5000))"
   ]
  },
  {
   "cell_type": "code",
   "execution_count": 561,
   "metadata": {
    "collapsed": false
   },
   "outputs": [
    {
     "data": {
      "image/png": "[encoded data removed]",
      "text/latex": [
       "$$\\left [ \\right ]$$"
      ],
      "text/plain": [
       "[]"
      ]
     },
     "execution_count": 561,
     "metadata": {},
     "output_type": "execute_result"
    }
   ],
   "source": [
    "find_instances_in_range(z,(3000,1000))"
   ]
  },
  {
   "cell_type": "code",
   "execution_count": 567,
   "metadata": {
    "collapsed": true
   },
   "outputs": [],
   "source": [
    "def find_roots_in_range(roots,freq_range):\n",
    "    return np.concatenate([find_instances_in_range(r,freq_range) for r in roots])"
   ]
  },
  {
   "cell_type": "code",
   "execution_count": 571,
   "metadata": {
    "collapsed": false
   },
   "outputs": [],
   "source": [
    "roots_in_range = find_roots_in_range(zs,(-1000,1000))"
   ]
  },
  {
   "cell_type": "code",
   "execution_count": 581,
   "metadata": {
    "collapsed": false
   },
   "outputs": [
    {
     "data": {
      "text/plain": [
       "<matplotlib.legend.Legend at 0x122ed59d0>"
      ]
     },
     "execution_count": 581,
     "metadata": {},
     "output_type": "execute_result"
    },
    {
     "data": {
      "image/png": "[encoded data removed]",
      "text/plain": [
       "<matplotlib.figure.Figure at 0x1227d62d0>"
      ]
     },
     "metadata": {},
     "output_type": "display_data"
    }
   ],
   "source": [
    "plt.figure(figsize =(6,12))\n",
    "fig = plt.scatter(roots_in_range.real,roots_in_range.imag,label='extended')\n",
    "plt.title('Roots of the above polynomial',{'fontsize':24})\n",
    "plt.xlabel('Real part',{'fontsize':24})\n",
    "plt.ylabel('Imaginary part',{'fontsize':24})\n",
    "plt.scatter(zs.real,zs.imag,label='original',c='yellow')\n",
    "plt.legend()"
   ]
  },
  {
   "cell_type": "markdown",
   "metadata": {},
   "source": [
    "## Scaling of finding roots of polynomial using Python\n",
    "\n",
    "The best we can hope for is $O(n^2)$ because this is a cost of an iteration in the QR algorithm, and ideally the number of iterations would not change much throughout the convergence process."
   ]
  },
  {
   "cell_type": "code",
   "execution_count": 285,
   "metadata": {
    "collapsed": true
   },
   "outputs": [],
   "source": [
    "sample_pol_length = [10,50,100,1000,2000,3000]"
   ]
  },
  {
   "cell_type": "code",
   "execution_count": 274,
   "metadata": {
    "collapsed": true
   },
   "outputs": [],
   "source": [
    "import time"
   ]
  },
  {
   "cell_type": "code",
   "execution_count": 275,
   "metadata": {
    "collapsed": false
   },
   "outputs": [],
   "source": [
    "ts = [time.clock()]\n",
    "for pol_length in sample_pol_length:\n",
    "    pol = [0]*(pol_length+1)\n",
    "    pol[0] = 1\n",
    "    pol[pol_length] = 5\n",
    "    np.roots(pol)\n",
    "    ts.append(time.clock())"
   ]
  },
  {
   "cell_type": "code",
   "execution_count": 276,
   "metadata": {
    "collapsed": false
   },
   "outputs": [],
   "source": [
    "delta_ts = [ts[i+1]-ts[i] for i in range(len(ts)-1)]"
   ]
  },
  {
   "cell_type": "code",
   "execution_count": 281,
   "metadata": {
    "collapsed": false
   },
   "outputs": [
    {
     "data": {
      "text/plain": [
       "[]"
      ]
     },
     "execution_count": 281,
     "metadata": {},
     "output_type": "execute_result"
    },
    {
     "data": {
      "image/png": "[encoded data removed]",
      "text/plain": [
       "<matplotlib.figure.Figure at 0x115cc57d0>"
      ]
     },
     "metadata": {},
     "output_type": "display_data"
    }
   ],
   "source": [
    "plt.plot(sort(sample_pol_length),sort(delta_ts))\n",
    "plt.loglog()"
   ]
  },
  {
   "cell_type": "markdown",
   "metadata": {},
   "source": [
    "## very roughly estimating the slope of the above log-log plot gives the exponent in $O(n^p)$."
   ]
  },
  {
   "cell_type": "code",
   "execution_count": 300,
   "metadata": {
    "collapsed": false
   },
   "outputs": [
    {
     "data": {
      "text/plain": [
       "2.1371719506769975"
      ]
     },
     "execution_count": 300,
     "metadata": {},
     "output_type": "execute_result"
    }
   ],
   "source": [
    "(np.log(delta_ts[-1])-np.log(delta_ts[0])) / (np.log(sample_pol_length[-1]) - np.log(sample_pol_length[0]))"
   ]
  }
 ],
 "metadata": {
  "kernelspec": {
   "display_name": "Python 2",
   "language": "python",
   "name": "python2"
  },
  "language_info": {
   "codemirror_mode": {
    "name": "ipython",
    "version": 2
   },
   "file_extension": ".py",
   "mimetype": "text/x-python",
   "name": "python",
   "nbconvert_exporter": "python",
   "pygments_lexer": "ipython2",
   "version": "2.7.11"
  }
 },
 "nbformat": 4,
 "nbformat_minor": 0
}
