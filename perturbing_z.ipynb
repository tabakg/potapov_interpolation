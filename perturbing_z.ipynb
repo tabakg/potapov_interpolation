{
 "cells": [
  {
   "cell_type": "code",
   "execution_count": 3,
   "metadata": {
    "collapsed": false,
    "scrolled": true
   },
   "outputs": [
    {
     "name": "stdout",
     "output_type": "stream",
     "text": [
      "Populating the interactive namespace from numpy and matplotlib\n"
     ]
    }
   ],
   "source": [
    "import Potapov_Code.Potapov as Potapov\n",
    "import Potapov_Code.Roots as Roots\n",
    "import Potapov_Code.Time_Delay_Network as Time_Delay_Network\n",
    "import Potapov_Code.functions as functions\n",
    "import numpy as np\n",
    "import numpy.testing as testing\n",
    "import Potapov_Code.Hamiltonian as Hamiltonian\n",
    "\n",
    "import numpy as np\n",
    "import numpy.linalg as la\n",
    "from scipy.integrate import ode\n",
    "import scipy.constants as consts\n",
    "import copy as cp\n",
    "\n",
    "import matplotlib.pyplot as plt\n",
    "import time\n",
    "%pylab inline\n",
    "from scipy.optimize import minimize"
   ]
  },
  {
   "cell_type": "code",
   "execution_count": 4,
   "metadata": {
    "collapsed": true
   },
   "outputs": [],
   "source": [
    "from ipywidgets import interact\n",
    "import pickle"
   ]
  },
  {
   "cell_type": "markdown",
   "metadata": {},
   "source": [
    "#  One approach to perturbing the roots is to define a cost function in terms of real variables and minimize. This is done in Time_Delay_Network.get_minimizing_function_z and Hamiltonian.minimize_roots_z"
   ]
  },
  {
   "cell_type": "code",
   "execution_count": 280,
   "metadata": {
    "collapsed": true
   },
   "outputs": [],
   "source": [
    "Ex = Time_Delay_Network.Example3( max_linewidth=15.,max_freq=50.)\n",
    "Ex.run_Potapov(commensurate_roots=True)\n",
    "modes = Ex.spatial_modes\n",
    "A,B,C,D = Ex.get_Potapov_ABCD(doubled=False)\n",
    "ham = Hamiltonian.Hamiltonian(Ex.roots,modes,Ex.delays,Omega=-1j*A,\n",
    "            nonlin_coeff = 1.)"
   ]
  },
  {
   "cell_type": "code",
   "execution_count": 281,
   "metadata": {
    "collapsed": true
   },
   "outputs": [],
   "source": [
    "chi_nonlin_test = Hamiltonian.Chi_nonlin(delay_indices=[0],start_nonlin=0,\n",
    "                           length_nonlin=0.1*consts.c)\n",
    "chi_nonlin_test.refraction_index_func = lambda freq, pol: 1. + 1e-1 * abs(freq / (np.pi))\n",
    "ham.chi_nonlinearities.append(chi_nonlin_test)\n",
    "ham.make_Delta_delays()"
   ]
  },
  {
   "cell_type": "code",
   "execution_count": 282,
   "metadata": {
    "collapsed": false
   },
   "outputs": [],
   "source": [
    "old_roots = cp.copy(ham.roots)"
   ]
  },
  {
   "cell_type": "code",
   "execution_count": 283,
   "metadata": {
    "collapsed": false
   },
   "outputs": [
    {
     "data": {
      "text/plain": [
       "<matplotlib.collections.PathCollection at 0x118362c10>"
      ]
     },
     "execution_count": 283,
     "metadata": {},
     "output_type": "execute_result"
    },
    {
     "data": {
      "image/png": "[encoded data removed]",
      "text/plain": [
       "<matplotlib.figure.Figure at 0x11a15f6d0>"
      ]
     },
     "metadata": {},
     "output_type": "display_data"
    }
   ],
   "source": [
    "plt.scatter(np.asarray(old_roots).real,np.asarray(old_roots).imag)\n"
   ]
  },
  {
   "cell_type": "code",
   "execution_count": 6,
   "metadata": {
    "collapsed": false
   },
   "outputs": [],
   "source": [
    "func,dfunc = Ex.get_minimizing_function_z()"
   ]
  },
  {
   "cell_type": "code",
   "execution_count": 7,
   "metadata": {
    "collapsed": false,
    "scrolled": true
   },
   "outputs": [],
   "source": [
    "ham.minimize_roots_z(func,dfunc)"
   ]
  },
  {
   "cell_type": "code",
   "execution_count": 8,
   "metadata": {
    "collapsed": false
   },
   "outputs": [
    {
     "data": {
      "image/png": "[encoded data removed]",
      "text/plain": [
       "<matplotlib.figure.Figure at 0x116584810>"
      ]
     },
     "metadata": {},
     "output_type": "display_data"
    }
   ],
   "source": [
    "plt.scatter(np.asarray(old_roots).real,np.asarray(old_roots).imag,c = 'b')\n",
    "plt.scatter(np.asarray(ham.roots).real,np.asarray(ham.roots).imag,c = 'r')\n",
    "plt.show()"
   ]
  },
  {
   "cell_type": "code",
   "execution_count": null,
   "metadata": {
    "collapsed": true
   },
   "outputs": [],
   "source": []
  },
  {
   "cell_type": "code",
   "execution_count": null,
   "metadata": {
    "collapsed": true
   },
   "outputs": [],
   "source": []
  },
  {
   "cell_type": "code",
   "execution_count": 9,
   "metadata": {
    "collapsed": false
   },
   "outputs": [],
   "source": [
    "\n",
    "#plt.scatter(np.asarray(ham.roots).real,np.asarray(ham.roots).imag)\n",
    "#plt.show()"
   ]
  },
  {
   "cell_type": "code",
   "execution_count": null,
   "metadata": {
    "collapsed": true
   },
   "outputs": [],
   "source": []
  },
  {
   "cell_type": "code",
   "execution_count": null,
   "metadata": {
    "collapsed": true
   },
   "outputs": [],
   "source": []
  },
  {
   "cell_type": "markdown",
   "metadata": {},
   "source": [
    "# Using Newton's method instead"
   ]
  },
  {
   "cell_type": "code",
   "execution_count": 7,
   "metadata": {
    "collapsed": false
   },
   "outputs": [],
   "source": [
    "Ex = Time_Delay_Network.Example3( max_linewidth=15.,max_freq=500.)\n",
    "Ex.run_Potapov(commensurate_roots=True)  ## slow part\n",
    "modes = Ex.spatial_modes\n",
    "A,B,C,D = Ex.get_Potapov_ABCD(doubled=False)\n"
   ]
  },
  {
   "cell_type": "code",
   "execution_count": 8,
   "metadata": {
    "collapsed": true
   },
   "outputs": [],
   "source": [
    "roots = cp.copy(Ex.roots)"
   ]
  },
  {
   "cell_type": "code",
   "execution_count": 20,
   "metadata": {
    "collapsed": true
   },
   "outputs": [],
   "source": [
    "ham = Hamiltonian.Hamiltonian(roots,modes,Ex.delays,Omega=-1j*A,\n",
    "            nonlin_coeff = 1.)\n",
    "strength = 0."
   ]
  },
  {
   "cell_type": "code",
   "execution_count": 21,
   "metadata": {
    "collapsed": false
   },
   "outputs": [],
   "source": [
    "def restart_ham(ham,strength):\n",
    "    ham = Hamiltonian.Hamiltonian(roots,modes,Ex.delays,Omega=-1j*A,\n",
    "                nonlin_coeff = 1.)\n",
    "    chi_nonlin_test = Hamiltonian.Chi_nonlin(delay_indices=[0],start_nonlin=0,\n",
    "                               length_nonlin=0.1*consts.c)\n",
    "\n",
    "    strength = 0.\n",
    "    chi_nonlin_test.refraction_index_func = lambda freq, pol: 1. + strength * abs(freq / (np.pi))\n",
    "    ham.chi_nonlinearities = [chi_nonlin_test]\n",
    "    return ham"
   ]
  },
  {
   "cell_type": "code",
   "execution_count": 22,
   "metadata": {
    "collapsed": false
   },
   "outputs": [],
   "source": [
    "def plot_with_refract_index(strength):\n",
    "    ## This nonlinearity will depend on the frequency.\n",
    "    ham.chi_nonlinearities[0].refraction_index_func = lambda freq, pol: 1. + strength * abs(freq / (np.pi))\n",
    "\n",
    "    ## update delays, which are different becuase of the nonlinearity.\n",
    "\n",
    "    perturb_func = Ex.get_frequency_pertub_func_z(use_ufuncify = True)\n",
    "    ham.perturb_roots_z(perturb_func)\n",
    "\n",
    "    plt.figure(figsize=(10,10))    \n",
    "    plt.scatter(np.asarray(ham.roots).real,np.asarray(ham.roots).imag)\n",
    "    plt.show()\n"
   ]
  },
  {
   "cell_type": "code",
   "execution_count": 23,
   "metadata": {
    "collapsed": true
   },
   "outputs": [],
   "source": [
    "def perturb_roots(strength):\n",
    "    ## This nonlinearity will depend on the frequency.\n",
    "    ham.chi_nonlinearities[0].refraction_index_func = lambda freq, pol: 1. + strength * abs(freq / (np.pi))\n",
    "    perturb_func = Ex.get_frequency_pertub_func_z(use_ufuncify = True)\n",
    "    ham.perturb_roots_z(perturb_func)\n"
   ]
  },
  {
   "cell_type": "code",
   "execution_count": 10,
   "metadata": {
    "collapsed": true
   },
   "outputs": [],
   "source": [
    "def plot_roots(roots):\n",
    "    plt.figure(figsize=(10,10))    \n",
    "    plt.scatter(np.asarray(roots).real,np.asarray(roots).imag)\n",
    "    plt.show()"
   ]
  },
  {
   "cell_type": "code",
   "execution_count": 25,
   "metadata": {
    "collapsed": false
   },
   "outputs": [],
   "source": [
    "ham = restart_ham(ham,strength)"
   ]
  },
  {
   "cell_type": "code",
   "execution_count": 27,
   "metadata": {
    "collapsed": false
   },
   "outputs": [
    {
     "name": "stdout",
     "output_type": "stream",
     "text": [
      "root adjustment converged!\n"
     ]
    },
    {
     "data": {
      "image/png": "[encoded data removed]",
      "text/plain": [
       "<matplotlib.figure.Figure at 0x116cada50>"
      ]
     },
     "metadata": {},
     "output_type": "display_data"
    }
   ],
   "source": [
    "plot_with_refract_index(1e-4)"
   ]
  },
  {
   "cell_type": "markdown",
   "metadata": {
    "collapsed": false
   },
   "source": [
    "# Next we make a widget to view different strengths of the nonlinearity."
   ]
  },
  {
   "cell_type": "code",
   "execution_count": 29,
   "metadata": {
    "collapsed": false
   },
   "outputs": [],
   "source": [
    "ham = restart_ham(ham,strength)"
   ]
  },
  {
   "cell_type": "code",
   "execution_count": 8,
   "metadata": {
    "collapsed": true
   },
   "outputs": [],
   "source": [
    "stepping_tuple = (0,100,1) #start, end, step"
   ]
  },
  {
   "cell_type": "code",
   "execution_count": 38,
   "metadata": {
    "collapsed": true
   },
   "outputs": [],
   "source": [
    "def make_roots_data((start,end,step)):\n",
    "    retrieve_roots = {}\n",
    "    current = start\n",
    "    while current <= end:\n",
    "        perturb_roots(current* 5e-5)\n",
    "        retrieve_roots[current] = cp.deepcopy(ham.roots)\n",
    "        current += step\n",
    "    return retrieve_roots"
   ]
  },
  {
   "cell_type": "code",
   "execution_count": 39,
   "metadata": {
    "collapsed": false
   },
   "outputs": [
    {
     "name": "stdout",
     "output_type": "stream",
     "text": [
      "root adjustment converged!\n",
      "root adjustment converged!\n",
      "root adjustment converged!\n",
      "root adjustment converged!\n",
      "root adjustment converged!\n",
      "root adjustment converged!\n",
      "root adjustment converged!\n",
      "root adjustment converged!\n",
      "root adjustment converged!\n",
      "root adjustment converged!\n",
      "root adjustment converged!\n",
      "root adjustment converged!\n",
      "root adjustment converged!\n",
      "root adjustment converged!\n",
      "root adjustment converged!\n",
      "root adjustment converged!\n",
      "root adjustment converged!\n",
      "root adjustment converged!\n",
      "root adjustment converged!\n",
      "root adjustment converged!\n",
      "root adjustment converged!\n",
      "root adjustment converged!\n",
      "root adjustment converged!\n",
      "root adjustment converged!\n",
      "root adjustment converged!\n",
      "root adjustment converged!\n",
      "root adjustment converged!\n",
      "root adjustment converged!\n",
      "root adjustment converged!\n",
      "root adjustment converged!\n",
      "root adjustment converged!\n",
      "root adjustment converged!\n",
      "root adjustment converged!\n",
      "root adjustment converged!\n",
      "root adjustment converged!\n",
      "root adjustment converged!\n",
      "root adjustment converged!\n",
      "root adjustment converged!\n",
      "root adjustment converged!\n",
      "root adjustment converged!\n",
      "root adjustment converged!\n",
      "root adjustment converged!\n",
      "root adjustment converged!\n",
      "root adjustment converged!\n",
      "root adjustment converged!\n",
      "root adjustment converged!\n",
      "root adjustment converged!\n",
      "root adjustment converged!\n",
      "root adjustment converged!\n",
      "root adjustment converged!\n",
      "root adjustment converged!\n",
      "root adjustment converged!\n",
      "root adjustment converged!\n",
      "root adjustment converged!\n",
      "root adjustment converged!\n",
      "root adjustment converged!\n",
      "root adjustment converged!\n",
      "root adjustment converged!\n",
      "root adjustment converged!\n",
      "root adjustment converged!\n",
      "root adjustment converged!\n",
      "root adjustment converged!\n",
      "root adjustment converged!\n",
      "root adjustment converged!\n",
      "root adjustment converged!\n",
      "root adjustment converged!\n",
      "root adjustment converged!\n",
      "root adjustment converged!\n",
      "root adjustment converged!\n",
      "root adjustment converged!\n",
      "root adjustment converged!\n",
      "root adjustment converged!\n",
      "root adjustment converged!\n",
      "root adjustment converged!\n",
      "root adjustment converged!\n",
      "root adjustment converged!\n",
      "root adjustment converged!\n",
      "root adjustment converged!\n",
      "root adjustment converged!\n",
      "root adjustment converged!\n",
      "root adjustment converged!\n",
      "root adjustment converged!\n",
      "root adjustment converged!\n",
      "root adjustment converged!\n",
      "root adjustment converged!\n",
      "root adjustment converged!\n",
      "root adjustment converged!\n",
      "root adjustment converged!\n",
      "root adjustment converged!\n",
      "root adjustment converged!\n",
      "root adjustment converged!\n",
      "root adjustment converged!\n",
      "root adjustment converged!\n",
      "root adjustment converged!\n",
      "root adjustment converged!\n",
      "root adjustment converged!\n",
      "root adjustment converged!\n",
      "root adjustment converged!\n",
      "root adjustment converged!\n",
      "root adjustment converged!\n",
      "root adjustment converged!\n"
     ]
    }
   ],
   "source": [
    "retrieve_roots = make_roots_data(stepping_tuple)"
   ]
  },
  {
   "cell_type": "code",
   "execution_count": 6,
   "metadata": {
    "collapsed": false
   },
   "outputs": [],
   "source": [
    "F = lambda strength: plot_roots(retrieve_roots[strength])"
   ]
  },
  {
   "cell_type": "code",
   "execution_count": 5,
   "metadata": {
    "collapsed": false,
    "scrolled": false
   },
   "outputs": [
    {
     "data": {
      "image/png": "[encoded data removed]",
      "text/plain": [
       "<matplotlib.figure.Figure at 0x1144e6310>"
      ]
     },
     "metadata": {},
     "output_type": "display_data"
    }
   ],
   "source": [
    "interact(F, strength=stepping_tuple)"
   ]
  },
  {
   "cell_type": "markdown",
   "metadata": {},
   "source": [
    "## Saving and loading for later"
   ]
  },
  {
   "cell_type": "code",
   "execution_count": 44,
   "metadata": {
    "collapsed": false
   },
   "outputs": [],
   "source": [
    "## saving\n",
    "\n",
    "with open('scatterplots/100_roots.pickle', 'wb') as handle:\n",
    "  pickle.dump(retrieve_roots, handle)"
   ]
  },
  {
   "cell_type": "code",
   "execution_count": 1,
   "metadata": {
    "collapsed": false
   },
   "outputs": [],
   "source": [
    "## opening\n",
    "\n",
    "from ipywidgets import interact\n",
    "import pickle\n",
    "\n",
    "stepping_tuple = (0,100,1) #start, end, step\n",
    "F = lambda strength: plot_roots(retrieve_roots[strength])\n",
    "\n",
    "def plot_roots(roots):\n",
    "    plt.figure(figsize=(10,10))    \n",
    "    plt.scatter(np.asarray(roots).real,np.asarray(roots).imag)\n",
    "    plt.show()\n",
    "\n",
    "with open('scatterplots/100_roots.pickle', 'rb') as handle:\n",
    "  retrieve_roots = pickle.load(handle)\n"
   ]
  },
  {
   "cell_type": "code",
   "execution_count": null,
   "metadata": {
    "collapsed": true
   },
   "outputs": [],
   "source": []
  }
 ],
 "metadata": {
  "kernelspec": {
   "display_name": "Python 2",
   "language": "python",
   "name": "python2"
  },
  "language_info": {
   "codemirror_mode": {
    "name": "ipython",
    "version": 2
   },
   "file_extension": ".py",
   "mimetype": "text/x-python",
   "name": "python",
   "nbconvert_exporter": "python",
   "pygments_lexer": "ipython2",
   "version": "2.7.12"
  },
  "widgets": {
   "state": {
    "31db216edd204a3a89cf7969b212d8c2": {
     "views": []
    },
    "3e2ac35a45d048fbb474e7d1b6ba50e6": {
     "views": []
    },
    "70b7bd4ed0464cdd93716599ed1670ac": {
     "views": []
    },
    "796545b3478d4915948116abd5ec866a": {
     "views": []
    },
    "8eadc58fb5c545b584aab74c81637aa3": {
     "views": []
    },
    "ad6ea9383671493cb9ae82af6ddf70ba": {
     "views": []
    },
    "bf58a01380f64aa8b17acf36758db56c": {
     "views": []
    },
    "db4bb2da3082467681f6d226b0188ccf": {
     "views": [
      {
       "cell_index": 31
      }
     ]
    }
   },
   "version": "1.1.2"
  }
 },
 "nbformat": 4,
 "nbformat_minor": 0
}
