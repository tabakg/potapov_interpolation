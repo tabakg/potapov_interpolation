{
 "cells": [
  {
   "cell_type": "code",
   "execution_count": 279,
   "metadata": {
    "collapsed": false
   },
   "outputs": [
    {
     "name": "stdout",
     "output_type": "stream",
     "text": [
      "Populating the interactive namespace from numpy and matplotlib\n"
     ]
    }
   ],
   "source": [
    "import Potapov\n",
    "import Roots\n",
    "import Time_Delay_Network\n",
    "import functions\n",
    "import numpy as np\n",
    "import numpy.testing as testing\n",
    "import Time_Sims_nonlin\n",
    "import Hamiltonian\n",
    "\n",
    "import numpy as np\n",
    "import numpy.linalg as la\n",
    "from scipy.integrate import ode\n",
    "import scipy.constants as consts\n",
    "import copy as cp\n",
    "\n",
    "import matplotlib.pyplot as plt\n",
    "import time\n",
    "%pylab inline\n",
    "from scipy.optimize import minimize"
   ]
  },
  {
   "cell_type": "markdown",
   "metadata": {},
   "source": [
    "#  One approach to perturbing the roots is to define a cost function in terms of real variables and minimize. This is done in Time_Delay_Network.get_minimizing_function_z and Hamiltonian.minimize_roots_z"
   ]
  },
  {
   "cell_type": "code",
   "execution_count": 280,
   "metadata": {
    "collapsed": true
   },
   "outputs": [],
   "source": [
    "Ex = Time_Delay_Network.Example3( max_linewidth=15.,max_freq=50.)\n",
    "Ex.run_Potapov(commensurate_roots=True)\n",
    "modes = Ex.spatial_modes\n",
    "A,B,C,D = Ex.get_Potapov_ABCD(doubled=False)\n",
    "ham = Hamiltonian.Hamiltonian(Ex.roots,modes,Ex.delays,Omega=-1j*A,\n",
    "            nonlin_coeff = 1.)"
   ]
  },
  {
   "cell_type": "code",
   "execution_count": 281,
   "metadata": {
    "collapsed": true
   },
   "outputs": [],
   "source": [
    "chi_nonlin_test = Hamiltonian.Chi_nonlin(delay_indices=[0],start_nonlin=0,\n",
    "                           length_nonlin=0.1*consts.c)\n",
    "chi_nonlin_test.refraction_index_func = lambda freq, pol: 1. + 1e-1 * abs(freq / (np.pi))\n",
    "ham.chi_nonlinearities.append(chi_nonlin_test)\n",
    "ham.make_Delta_delays()"
   ]
  },
  {
   "cell_type": "code",
   "execution_count": 282,
   "metadata": {
    "collapsed": false
   },
   "outputs": [],
   "source": [
    "old_roots = cp.copy(ham.roots)"
   ]
  },
  {
   "cell_type": "code",
   "execution_count": 283,
   "metadata": {
    "collapsed": false
   },
   "outputs": [
    {
     "data": {
      "text/plain": [
       "<matplotlib.collections.PathCollection at 0x118362c10>"
      ]
     },
     "execution_count": 283,
     "metadata": {},
     "output_type": "execute_result"
    },
    {
     "data": {
      "image/png": "[encoded data removed]",
      "text/plain": [
       "<matplotlib.figure.Figure at 0x11a15f6d0>"
      ]
     },
     "metadata": {},
     "output_type": "display_data"
    }
   ],
   "source": [
    "plt.scatter(np.asarray(old_roots).real,np.asarray(old_roots).imag)\n"
   ]
  },
  {
   "cell_type": "code",
   "execution_count": 6,
   "metadata": {
    "collapsed": false
   },
   "outputs": [],
   "source": [
    "func,dfunc = Ex.get_minimizing_function_z()"
   ]
  },
  {
   "cell_type": "code",
   "execution_count": 7,
   "metadata": {
    "collapsed": false,
    "scrolled": true
   },
   "outputs": [],
   "source": [
    "ham.minimize_roots_z(func,dfunc)"
   ]
  },
  {
   "cell_type": "code",
   "execution_count": 8,
   "metadata": {
    "collapsed": false
   },
   "outputs": [
    {
     "data": {
      "image/png": "[encoded data removed]",
      "text/plain": [
       "<matplotlib.figure.Figure at 0x116584810>"
      ]
     },
     "metadata": {},
     "output_type": "display_data"
    }
   ],
   "source": [
    "plt.scatter(np.asarray(old_roots).real,np.asarray(old_roots).imag,c = 'b')\n",
    "plt.scatter(np.asarray(ham.roots).real,np.asarray(ham.roots).imag,c = 'r')\n",
    "plt.show()"
   ]
  },
  {
   "cell_type": "code",
   "execution_count": null,
   "metadata": {
    "collapsed": true
   },
   "outputs": [],
   "source": []
  },
  {
   "cell_type": "code",
   "execution_count": null,
   "metadata": {
    "collapsed": true
   },
   "outputs": [],
   "source": []
  },
  {
   "cell_type": "code",
   "execution_count": 9,
   "metadata": {
    "collapsed": false
   },
   "outputs": [],
   "source": [
    "\n",
    "#plt.scatter(np.asarray(ham.roots).real,np.asarray(ham.roots).imag)\n",
    "#plt.show()"
   ]
  },
  {
   "cell_type": "code",
   "execution_count": null,
   "metadata": {
    "collapsed": true
   },
   "outputs": [],
   "source": []
  },
  {
   "cell_type": "code",
   "execution_count": null,
   "metadata": {
    "collapsed": true
   },
   "outputs": [],
   "source": []
  },
  {
   "cell_type": "markdown",
   "metadata": {},
   "source": [
    "# Using Newton's method instead"
   ]
  },
  {
   "cell_type": "code",
   "execution_count": 298,
   "metadata": {
    "collapsed": true
   },
   "outputs": [],
   "source": [
    "Ex = Time_Delay_Network.Example3( max_linewidth=15.,max_freq=500.)\n",
    "Ex.run_Potapov(commensurate_roots=True)  ## slow part\n",
    "modes = Ex.spatial_modes\n",
    "A,B,C,D = Ex.get_Potapov_ABCD(doubled=False)\n"
   ]
  },
  {
   "cell_type": "code",
   "execution_count": 306,
   "metadata": {
    "collapsed": true
   },
   "outputs": [],
   "source": [
    "roots = cp.copy(Ex.roots)"
   ]
  },
  {
   "cell_type": "code",
   "execution_count": 321,
   "metadata": {
    "collapsed": false
   },
   "outputs": [],
   "source": [
    "def restart_ham(ham,strength):\n",
    "    ham = Hamiltonian.Hamiltonian(roots,modes,Ex.delays,Omega=-1j*A,\n",
    "                nonlin_coeff = 1.)\n",
    "    chi_nonlin_test = Hamiltonian.Chi_nonlin(delay_indices=[0],start_nonlin=0,\n",
    "                               length_nonlin=0.1*consts.c)\n",
    "\n",
    "    strength = 0.\n",
    "    chi_nonlin_test.refraction_index_func = lambda freq, pol: 1. + strength * abs(freq / (np.pi))\n",
    "    ham.chi_nonlinearities = [chi_nonlin_test]\n",
    "    return ham"
   ]
  },
  {
   "cell_type": "code",
   "execution_count": 310,
   "metadata": {
    "collapsed": false
   },
   "outputs": [],
   "source": [
    "def plot_with_refract_index(strength):\n",
    "    ## This nonlinearity will depend on the frequency.\n",
    "    ham.chi_nonlinearities[0].refraction_index_func = lambda freq, pol: 1. + strength * abs(freq / (np.pi))\n",
    "\n",
    "    ## update delays, which are different becuase of the nonlinearity.\n",
    "\n",
    "    perturb_func = Ex.get_frequency_pertub_func_z(use_ufuncify = True)\n",
    "    ham.perturb_roots_z(perturb_func)\n",
    "\n",
    "    plt.figure(figsize=(10,10))    \n",
    "    plt.scatter(np.asarray(ham.roots).real,np.asarray(ham.roots).imag)\n",
    "    plt.show()\n"
   ]
  },
  {
   "cell_type": "code",
   "execution_count": 311,
   "metadata": {
    "collapsed": true
   },
   "outputs": [],
   "source": [
    "def perturb_roots(strength):\n",
    "    ## This nonlinearity will depend on the frequency.\n",
    "    ham.chi_nonlinearities[0].refraction_index_func = lambda freq, pol: 1. + strength * abs(freq / (np.pi))\n",
    "    perturb_func = Ex.get_frequency_pertub_func_z(use_ufuncify = True)\n",
    "    ham.perturb_roots_z(perturb_func)\n"
   ]
  },
  {
   "cell_type": "code",
   "execution_count": 332,
   "metadata": {
    "collapsed": true
   },
   "outputs": [],
   "source": [
    "def plot_roots(roots):\n",
    "    plt.figure(figsize=(10,10))    \n",
    "    plt.scatter(np.asarray(roots).real,np.asarray(roots).imag)\n",
    "    plt.show()"
   ]
  },
  {
   "cell_type": "code",
   "execution_count": 322,
   "metadata": {
    "collapsed": false
   },
   "outputs": [],
   "source": [
    "ham = restart_ham(ham,strength)"
   ]
  },
  {
   "cell_type": "code",
   "execution_count": 323,
   "metadata": {
    "collapsed": false
   },
   "outputs": [
    {
     "name": "stdout",
     "output_type": "stream",
     "text": [
      "root adjustment converged!\n"
     ]
    },
    {
     "data": {
      "image/png": "[encoded data removed]",
      "text/plain": [
       "<matplotlib.figure.Figure at 0x11a100f10>"
      ]
     },
     "metadata": {},
     "output_type": "display_data"
    }
   ],
   "source": [
    "plot_with_refract_index(5e-5)"
   ]
  },
  {
   "cell_type": "markdown",
   "metadata": {
    "collapsed": false
   },
   "source": [
    "# Next we make a widget to view different strengths of the nonlinearity."
   ]
  },
  {
   "cell_type": "code",
   "execution_count": 256,
   "metadata": {
    "collapsed": true
   },
   "outputs": [],
   "source": [
    "from ipywidgets import interact"
   ]
  },
  {
   "cell_type": "code",
   "execution_count": 324,
   "metadata": {
    "collapsed": false
   },
   "outputs": [],
   "source": [
    "ham = restart_ham(ham,strength)"
   ]
  },
  {
   "cell_type": "code",
   "execution_count": 334,
   "metadata": {
    "collapsed": true
   },
   "outputs": [],
   "source": [
    "stepping_tuple = (0,100,1) #start, end, step"
   ]
  },
  {
   "cell_type": "code",
   "execution_count": 335,
   "metadata": {
    "collapsed": true
   },
   "outputs": [],
   "source": [
    "def make_roots_data((start,end,step)):\n",
    "    current = start\n",
    "    while current <= end:\n",
    "        perturb_roots(current* 5e-5)\n",
    "        #plot_roots(ham.roots)\n",
    "        #print ham.roots[0]\n",
    "        retrieve_roots[current] = cp.deepcopy(ham.roots)\n",
    "        current += step\n",
    "    return retrieve_roots"
   ]
  },
  {
   "cell_type": "code",
   "execution_count": 336,
   "metadata": {
    "collapsed": false
   },
   "outputs": [
    {
     "name": "stdout",
     "output_type": "stream",
     "text": [
      "root adjustment converged!\n",
      "root adjustment converged!\n",
      "root adjustment converged!\n",
      "root adjustment converged!\n",
      "root adjustment converged!\n",
      "root adjustment converged!\n",
      "root adjustment converged!\n",
      "root adjustment converged!\n",
      "root adjustment converged!\n",
      "root adjustment converged!\n",
      "root adjustment converged!\n",
      "root adjustment converged!\n",
      "root adjustment converged!\n",
      "root adjustment converged!\n",
      "root adjustment converged!\n",
      "root adjustment converged!\n",
      "root adjustment converged!\n",
      "root adjustment converged!\n",
      "root adjustment converged!\n",
      "root adjustment converged!\n",
      "root adjustment converged!\n",
      "root adjustment converged!\n",
      "root adjustment converged!\n",
      "root adjustment converged!\n",
      "root adjustment converged!\n",
      "root adjustment converged!\n",
      "root adjustment converged!\n",
      "root adjustment converged!\n",
      "root adjustment converged!\n",
      "root adjustment converged!\n",
      "root adjustment converged!\n",
      "root adjustment converged!\n",
      "root adjustment converged!\n",
      "root adjustment converged!\n",
      "root adjustment converged!\n",
      "root adjustment converged!\n",
      "root adjustment converged!\n",
      "root adjustment converged!\n",
      "root adjustment converged!\n",
      "root adjustment converged!\n",
      "root adjustment converged!\n",
      "root adjustment converged!\n",
      "root adjustment converged!\n",
      "root adjustment converged!\n",
      "root adjustment converged!\n",
      "root adjustment converged!\n",
      "root adjustment converged!\n",
      "root adjustment converged!\n",
      "root adjustment converged!\n",
      "root adjustment converged!\n",
      "root adjustment converged!\n",
      "root adjustment converged!\n",
      "root adjustment converged!\n",
      "root adjustment converged!\n",
      "root adjustment converged!\n",
      "root adjustment converged!\n",
      "root adjustment converged!\n",
      "root adjustment converged!\n",
      "root adjustment converged!\n",
      "root adjustment converged!\n",
      "root adjustment converged!\n",
      "root adjustment converged!\n",
      "root adjustment converged!\n",
      "root adjustment converged!\n",
      "root adjustment converged!\n",
      "root adjustment converged!\n",
      "root adjustment converged!\n",
      "root adjustment converged!\n",
      "root adjustment converged!\n",
      "root adjustment converged!\n",
      "root adjustment converged!\n",
      "root adjustment converged!\n",
      "root adjustment converged!\n",
      "root adjustment converged!\n",
      "root adjustment converged!\n",
      "root adjustment converged!\n",
      "root adjustment converged!\n",
      "root adjustment converged!\n",
      "root adjustment converged!\n",
      "root adjustment converged!\n",
      "root adjustment converged!\n",
      "root adjustment converged!\n",
      "root adjustment converged!\n",
      "root adjustment converged!\n",
      "root adjustment converged!\n",
      "root adjustment converged!\n",
      "root adjustment converged!\n",
      "root adjustment converged!\n",
      "root adjustment converged!\n",
      "root adjustment converged!\n",
      "root adjustment converged!\n",
      "root adjustment converged!\n",
      "root adjustment converged!\n",
      "root adjustment converged!\n",
      "root adjustment converged!\n",
      "root adjustment converged!\n",
      "root adjustment converged!\n",
      "root adjustment converged!\n",
      "root adjustment converged!\n",
      "root adjustment converged!\n",
      "root adjustment converged!\n"
     ]
    }
   ],
   "source": [
    "retrieve_roots = make_roots_data(stepping_tuple);"
   ]
  },
  {
   "cell_type": "code",
   "execution_count": 339,
   "metadata": {
    "collapsed": false
   },
   "outputs": [],
   "source": [
    "F = lambda strength: plot_roots(retrieve_roots[strength])"
   ]
  },
  {
   "cell_type": "code",
   "execution_count": 340,
   "metadata": {
    "collapsed": false,
    "scrolled": false
   },
   "outputs": [
    {
     "data": {
      "image/png": "[encoded data removed]",
      "text/plain": [
       "<matplotlib.figure.Figure at 0x11849c4d0>"
      ]
     },
     "metadata": {},
     "output_type": "display_data"
    }
   ],
   "source": [
    "interact(F, strength=stepping_tuple)"
   ]
  },
  {
   "cell_type": "code",
   "execution_count": null,
   "metadata": {
    "collapsed": true
   },
   "outputs": [],
   "source": []
  },
  {
   "cell_type": "code",
   "execution_count": null,
   "metadata": {
    "collapsed": true
   },
   "outputs": [],
   "source": []
  },
  {
   "cell_type": "code",
   "execution_count": null,
   "metadata": {
    "collapsed": true
   },
   "outputs": [],
   "source": []
  },
  {
   "cell_type": "code",
   "execution_count": null,
   "metadata": {
    "collapsed": true
   },
   "outputs": [],
   "source": []
  }
 ],
 "metadata": {
  "kernelspec": {
   "display_name": "Python 2",
   "language": "python",
   "name": "python2"
  },
  "language_info": {
   "codemirror_mode": {
    "name": "ipython",
    "version": 2
   },
   "file_extension": ".py",
   "mimetype": "text/x-python",
   "name": "python",
   "nbconvert_exporter": "python",
   "pygments_lexer": "ipython2",
   "version": "2.7.11"
  },
  "widgets": {
   "state": {
    "023713ddc8584077a991edc74c60850a": {
     "views": []
    },
    "03ae8a378bc04e40ab363f353f689e28": {
     "views": []
    },
    "07f10bd0252848439616beadad1ad161": {
     "views": []
    },
    "09117c4a46f8417eaf8ac0c079cb40ee": {
     "views": []
    },
    "0b98da2d81654b6ab67b5aa1a225acd3": {
     "views": []
    },
    "127c7dbf60a244029be3624ce5813f13": {
     "views": []
    },
    "1349362a2b494b7b89b1ab3ddef69e17": {
     "views": []
    },
    "1654bb8aad534c4ca678a2752e22c6b1": {
     "views": []
    },
    "1868dd4aa3a44ea3a8011b10e4bb05ad": {
     "views": []
    },
    "1d38166d5c31439b8e8b2312270b1770": {
     "views": []
    },
    "1db973e85a4b4307928ff5b590198852": {
     "views": []
    },
    "1e0c165c6a0b4b3ab68bcbf0ecb0e047": {
     "views": []
    },
    "1f643d814809470a9f50d288673689fc": {
     "views": []
    },
    "20f12ac7cb1e47189880d831babb01f1": {
     "views": [
      {
       "cell_index": 32
      }
     ]
    },
    "29641a4329eb4ab4b3fdcf7887ebd707": {
     "views": []
    },
    "2cecf57e8b6a4a1cb678ee19fec4b00a": {
     "views": []
    },
    "2d7c938459ed4b20aadcc94023048593": {
     "views": []
    },
    "2ff43dfb66504dbb871c609e0632c4c9": {
     "views": []
    },
    "38d174fae2dc46e29a54ff6b6fb8211a": {
     "views": []
    },
    "3bfda7b140ed4d949a1c7e2ad0424387": {
     "views": []
    },
    "3c90a246ed4c4784823240cab51ec47d": {
     "views": []
    },
    "40b7c61e046e49d9a6be7753fa8dffbf": {
     "views": []
    },
    "410f537fdd0b4a32b8fa88c9d5ccbafc": {
     "views": []
    },
    "47faa9c5c8f4416da2f5dd3c36d3e70c": {
     "views": []
    },
    "48f2905d329b4955bd513abb0519c04a": {
     "views": []
    },
    "4c259258a5ec48b69111f0a0846299d6": {
     "views": []
    },
    "56493e863d9849fbb9ca85b1b89f9bcf": {
     "views": []
    },
    "5753527170a640af832a1ec4d606e95b": {
     "views": []
    },
    "57a627591c0345e8ba3ed4652af8b52d": {
     "views": []
    },
    "58e42b39d2994a08b0ee3bb2248a0a68": {
     "views": []
    },
    "5c794e1639e145b59c1230b6f8b157d7": {
     "views": []
    },
    "6eeddf1990f44d5088cf3b7a726047a5": {
     "views": []
    },
    "705d113fe2af4912965eb1a1243b47a7": {
     "views": []
    },
    "72145a341ec74cb28572028f270a8528": {
     "views": []
    },
    "7735b2a4b27541cc94d704228adeac88": {
     "views": []
    },
    "7e6e669589514629aed61d5f3854c247": {
     "views": []
    },
    "7f14ac42b03b4e1fa6d15cc4255eef95": {
     "views": []
    },
    "8cb00901b43246978f21698fa0a1dc17": {
     "views": []
    },
    "8e6e2e7788114cb7bf2b1ad2ac39979e": {
     "views": []
    },
    "8fd07d613e5c47b1a40a9f3781124240": {
     "views": []
    },
    "90a3975fdd1e4a468970c326231561a0": {
     "views": []
    },
    "92db1ec05fce4f43ae7d7feeeb0a2277": {
     "views": []
    },
    "94bc86cf890241b7a8b57e3d23e17b06": {
     "views": []
    },
    "988d296fe652447b916900f6208ffef6": {
     "views": []
    },
    "abb4294af95f436895edbd639cf3d493": {
     "views": []
    },
    "adfd62b706074f71873e0c6f466ac781": {
     "views": []
    },
    "b9e0c077ebc14933a6b78f702ce4a6a2": {
     "views": []
    },
    "c043dde059a04ca0b9630e524c180102": {
     "views": []
    },
    "c64b1b6bd4eb4cd790392b5104ea913e": {
     "views": []
    },
    "c7f9dc88976146519d40696b3b47b198": {
     "views": []
    },
    "caf38e44cd5e4b56839bedcba394225d": {
     "views": []
    },
    "d3d63744a7254e58b6cfc556d222c64e": {
     "views": []
    },
    "d870ddc542a9441b94b9d11705673897": {
     "views": []
    },
    "daa2bc385271433c92ebbc8ffcaa0190": {
     "views": []
    },
    "dce6d184b3ed4f85bdff0d14df00cd4f": {
     "views": []
    },
    "dfec1f6186be45b39a0af013e0842a20": {
     "views": []
    },
    "e19164b2b1b545b598d183396310e184": {
     "views": []
    },
    "e2ee4dda8d694610a51dd89277f7131e": {
     "views": []
    },
    "e911022b02b84f6a833802da41fe499c": {
     "views": []
    },
    "edf289bc08ae42df8858499746f97406": {
     "views": []
    },
    "efc0aa0956524dab8f68de64d4eb89d9": {
     "views": []
    },
    "f0e2a96624494d1287b6768e4b82c66c": {
     "views": []
    },
    "f6df89d5333b4c6686415d389f3c8ddc": {
     "views": []
    },
    "fcf5bd9ce25546d79ec229e3e69909f5": {
     "views": []
    }
   },
   "version": "1.1.2"
  }
 },
 "nbformat": 4,
 "nbformat_minor": 0
}
