{
 "cells": [
  {
   "cell_type": "markdown",
   "metadata": {},
   "source": [
    "# Solving phase and frequency matching conditions for $\\chi^{(2)}$  with voxels of increasing resolution.\n",
    "Refractive index from:\n",
    "\n",
    "http://refractiveindex.info/?shelf=main&book=LiNbO3&page=Zelmon-o"
   ]
  },
  {
   "cell_type": "markdown",
   "metadata": {},
   "source": [
    "see also the notebook Dispersion_relation_chi_2_and_interpolations"
   ]
  },
  {
   "cell_type": "code",
   "execution_count": 1,
   "metadata": {
    "collapsed": false
   },
   "outputs": [],
   "source": [
    "import sympy as sp\n",
    "import numpy as np\n",
    "import scipy.constants\n",
    "from sympy.utilities.autowrap import ufuncify\n",
    "import time\n",
    "from scipy import interpolate\n",
    "\n",
    "import matplotlib.pyplot as plt\n",
    "%matplotlib inline\n",
    "\n",
    "from sympy import init_printing\n",
    "init_printing() "
   ]
  },
  {
   "cell_type": "code",
   "execution_count": 224,
   "metadata": {
    "collapsed": true
   },
   "outputs": [],
   "source": [
    "def plot_arr(arr):\n",
    "    fig = plt.figure(figsize=(15,15))\n",
    "    ax = fig.add_subplot(111)\n",
    "    cax = ax.matshow(np.asmatrix(arr), interpolation='nearest')\n",
    "    fig.colorbar(cax)\n",
    "    plt.show()"
   ]
  },
  {
   "cell_type": "code",
   "execution_count": 225,
   "metadata": {
    "collapsed": true
   },
   "outputs": [],
   "source": [
    "## from https://www.andreas-jung.com/contents/a-python-decorator-for-measuring-the-execution-time-of-methods\n",
    "\n",
    "def timeit(method):\n",
    "    def timed(*args, **kw):\n",
    "        ts = time.time()\n",
    "        result = method(*args, **kw)\n",
    "        te = time.time()\n",
    "        print '%r %2.2f sec' % \\\n",
    "              (method.__name__, te-ts)\n",
    "        return result\n",
    "    return timed"
   ]
  },
  {
   "cell_type": "code",
   "execution_count": 226,
   "metadata": {
    "collapsed": false
   },
   "outputs": [],
   "source": [
    "lambd,omega,omega1,omega2,omega3,omega4 = sp.symbols('lambda omega omega_1 omega_2 omega_3 omega_4')\n",
    "l2 = lambd **2\n",
    "\n",
    "def n_symb(pol='o'):\n",
    "    s = 1.\n",
    "    if pol == 'o':\n",
    "        s += 2.6734 * l2 / (l2 - 0.01764)\n",
    "        s += 1.2290 * l2 / (l2 - 0.05914)\n",
    "        s += 12.614 * l2 / (l2 - 474.6)\n",
    "    else:\n",
    "        s += 2.9804 * l2 / (l2 - 0.02047)\n",
    "        s += 0.5981 * l2 / (l2 - 0.0666)\n",
    "        s += 8.9543 * l2 / (l2 - 416.08)\n",
    "    return sp.sqrt(s)\n",
    "\n",
    "def k_symb(symbol=omega,pol='o'):\n",
    "    '''k is accurate for omega inputs between 6-60.'''\n",
    "    return ((n_symb(pol=pol) * symbol )\n",
    "                .subs(lambd,scipy.constants.c / (symbol*1e7))) ## / scipy.constants.c"
   ]
  },
  {
   "cell_type": "code",
   "execution_count": 227,
   "metadata": {
    "collapsed": true
   },
   "outputs": [],
   "source": [
    "expressions = [k_symb(omega1,pol='o'), k_symb(omega2,pol='o'), k_symb(omega3,pol='e')]"
   ]
  },
  {
   "cell_type": "code",
   "execution_count": 228,
   "metadata": {
    "collapsed": false
   },
   "outputs": [],
   "source": [
    "dispersion_difference_function = sum(expressions)\n",
    "dispersion_difference_function = dispersion_difference_function.subs(omega3,-omega1-omega2)"
   ]
  },
  {
   "cell_type": "code",
   "execution_count": 229,
   "metadata": {
    "collapsed": false
   },
   "outputs": [
    {
     "data": {
      "image/png": "[encoded data removed]",
      "text/latex": [
       "$$\\omega_{1} \\sqrt{1.0 + \\frac{2402.73209483501}{\\omega_{1}^{2} \\left(-0.01764 + \\frac{898.755178736817}{\\omega_{1}^{2}}\\right)} + \\frac{1104.57011466755}{\\omega_{1}^{2} \\left(-0.05914 + \\frac{898.755178736817}{\\omega_{1}^{2}}\\right)} + \\frac{11336.8978245862}{\\omega_{1}^{2} \\left(-474.6 + \\frac{898.755178736817}{\\omega_{1}^{2}}\\right)}} + \\omega_{2} \\sqrt{1.0 + \\frac{2402.73209483501}{\\omega_{2}^{2} \\left(-0.01764 + \\frac{898.755178736817}{\\omega_{2}^{2}}\\right)} + \\frac{1104.57011466755}{\\omega_{2}^{2} \\left(-0.05914 + \\frac{898.755178736817}{\\omega_{2}^{2}}\\right)} + \\frac{11336.8978245862}{\\omega_{2}^{2} \\left(-474.6 + \\frac{898.755178736817}{\\omega_{2}^{2}}\\right)}} + \\left(- \\omega_{1} - \\omega_{2}\\right) \\sqrt{1.0 + \\frac{2678.64993470721}{\\left(-0.02047 + \\frac{898.755178736817}{\\left(- \\omega_{1} - \\omega_{2}\\right)^{2}}\\right) \\left(- \\omega_{1} - \\omega_{2}\\right)^{2}} + \\frac{537.545472402491}{\\left(-0.0666 + \\frac{898.755178736817}{\\left(- \\omega_{1} - \\omega_{2}\\right)^{2}}\\right) \\left(- \\omega_{1} - \\omega_{2}\\right)^{2}} + \\frac{8047.72349696308}{\\left(-416.08 + \\frac{898.755178736817}{\\left(- \\omega_{1} - \\omega_{2}\\right)^{2}}\\right) \\left(- \\omega_{1} - \\omega_{2}\\right)^{2}}}$$"
      ],
      "text/plain": [
       "          ____________________________________________________________________\n",
       "         ╱                2402.73209483501                    1104.57011466755\n",
       "ω₁⋅     ╱  1.0 + ───────────────────────────────── + ─────────────────────────\n",
       "       ╱           2 ⎛           898.755178736817⎞     2 ⎛           898.75517\n",
       "      ╱          ω₁ ⋅⎜-0.01764 + ────────────────⎟   ω₁ ⋅⎜-0.05914 + ─────────\n",
       "     ╱               ⎜                   2       ⎟       ⎜                   2\n",
       "   ╲╱                ⎝                 ω₁        ⎠       ⎝                 ω₁ \n",
       "\n",
       "___________________________________________             ______________________\n",
       "                   11336.8978245862                    ╱                2402.7\n",
       "──────── + ───────────────────────────────  + ω₂⋅     ╱  1.0 + ───────────────\n",
       "8736817⎞     2 ⎛         898.755178736817⎞           ╱           2 ⎛          \n",
       "───────⎟   ω₁ ⋅⎜-474.6 + ────────────────⎟          ╱          ω₂ ⋅⎜-0.01764 +\n",
       "       ⎟       ⎜                 2       ⎟         ╱               ⎜          \n",
       "       ⎠       ⎝               ω₁        ⎠       ╲╱                ⎝          \n",
       "\n",
       "______________________________________________________________________________\n",
       "3209483501                    1104.57011466755                   11336.8978245\n",
       "────────────────── + ───────────────────────────────── + ─────────────────────\n",
       " 898.755178736817⎞     2 ⎛           898.755178736817⎞     2 ⎛         898.755\n",
       " ────────────────⎟   ω₂ ⋅⎜-0.05914 + ────────────────⎟   ω₂ ⋅⎜-474.6 + ───────\n",
       "         2       ⎟       ⎜                   2       ⎟       ⎜                \n",
       "       ω₂        ⎠       ⎝                 ω₂        ⎠       ⎝               ω\n",
       "\n",
       "___________                     ______________________________________________\n",
       "862                            ╱                    2678.64993470721          \n",
       "──────────  + (-ω₁ - ω₂)⋅     ╱  1.0 + ───────────────────────────────────────\n",
       "178736817⎞                   ╱         ⎛           898.755178736817⎞          \n",
       "─────────⎟                  ╱          ⎜-0.02047 + ────────────────⎟⋅(-ω₁ - ω₂\n",
       " 2       ⎟                 ╱           ⎜                       2   ⎟          \n",
       "₂        ⎠               ╲╱            ⎝             (-ω₁ - ω₂)    ⎠          \n",
       "\n",
       "______________________________________________________________________________\n",
       "                 537.545472402491                           8047.72349696308  \n",
       "── + ──────────────────────────────────────── + ──────────────────────────────\n",
       " 2   ⎛          898.755178736817⎞           2   ⎛          898.755178736817⎞  \n",
       ")    ⎜-0.0666 + ────────────────⎟⋅(-ω₁ - ω₂)    ⎜-416.08 + ────────────────⎟⋅(\n",
       "     ⎜                      2   ⎟               ⎜                      2   ⎟  \n",
       "     ⎝            (-ω₁ - ω₂)    ⎠               ⎝            (-ω₁ - ω₂)    ⎠  \n",
       "\n",
       "___________\n",
       "           \n",
       "────────── \n",
       "         2 \n",
       "-ω₁ - ω₂)  \n",
       "           \n",
       "           "
      ]
     },
     "execution_count": 229,
     "metadata": {},
     "output_type": "execute_result"
    }
   ],
   "source": [
    "dispersion_difference_function"
   ]
  },
  {
   "cell_type": "code",
   "execution_count": 230,
   "metadata": {
    "collapsed": false
   },
   "outputs": [],
   "source": [
    "k_of_omega1_omega2 = ufuncify([omega1,omega2],dispersion_difference_function)"
   ]
  },
  {
   "cell_type": "markdown",
   "metadata": {},
   "source": [
    "### Find maximum derivative of dispersion_difference_function over a range. This could be used as a bound for $\\epsilon$ to guarantee results."
   ]
  },
  {
   "cell_type": "code",
   "execution_count": 231,
   "metadata": {
    "collapsed": true
   },
   "outputs": [],
   "source": [
    "def find_max_der(expression,symbol,input_range):\n",
    "    expr_der = sp.diff(expression,symbol)\n",
    "    expr_def_func = ufuncify([symbol],expr_der)\n",
    "    return max(abs(expr_def_func(input_range)))"
   ]
  },
  {
   "cell_type": "code",
   "execution_count": 232,
   "metadata": {
    "collapsed": false
   },
   "outputs": [],
   "source": [
    "## Apply the triangle inequality over a range of omegas\n",
    "\n",
    "omegas = np.asarray([6.+ i*5e-2 for i in range(1+int(1e3))])\n",
    "max_derivative = sum([find_max_der(exp,om,omegas) for om,exp in zip([omega1,omega2,omega3],expressions)])"
   ]
  },
  {
   "cell_type": "code",
   "execution_count": 233,
   "metadata": {
    "collapsed": false
   },
   "outputs": [
    {
     "data": {
      "image/png": "[encoded data removed]",
      "text/latex": [
       "$$7.60876091113$$"
      ],
      "text/plain": [
       "7.60876091113"
      ]
     },
     "execution_count": 233,
     "metadata": {},
     "output_type": "execute_result"
    }
   ],
   "source": [
    "max_derivative"
   ]
  },
  {
   "cell_type": "markdown",
   "metadata": {},
   "source": [
    "## Methods for systematic search over ranges\n",
    "\n",
    "### Definitions:\n",
    "`base` -- The number base to use, i.e. the factor to increase the grid resolution at each step.\n",
    "`starting_i` -- index of starting step. `0` means we use a grid of size `base` by `base`.\n",
    "`max_i` -- final index.\n",
    "`eps` -- desired resolution at step max_i\n",
    "\n",
    "### Description \n",
    "\n",
    "To look for solutions more efficiently, we can recursively enhance the resolution of the grid in which we are looking. At each step, decrease the cutoff `eps_current` by some factor (for now let's make it `base`). For the set of voxels in each step that are close enough to a solution of the equation, increase the resolution by a factor of `base` and examine the resulting smaller voxels. Continue until the last step."
   ]
  },
  {
   "cell_type": "code",
   "execution_count": 234,
   "metadata": {
    "collapsed": true
   },
   "outputs": [],
   "source": [
    "eps = 0.00002\n",
    "starting_i = 0\n",
    "max_i = 4\n",
    "base = 10"
   ]
  },
  {
   "cell_type": "code",
   "execution_count": 235,
   "metadata": {
    "collapsed": false
   },
   "outputs": [],
   "source": [
    "@timeit\n",
    "def setup_ranges(max_i,base):\n",
    "    ranges= {}\n",
    "    for i in range(max_i+1):\n",
    "        ranges[i] = np.linspace(6.,11.,1+pow(base,i+1))\n",
    "    return ranges"
   ]
  },
  {
   "cell_type": "code",
   "execution_count": 236,
   "metadata": {
    "collapsed": false
   },
   "outputs": [],
   "source": [
    "@timeit\n",
    "def initial_voxels(max_i,base,starting_i,eps):\n",
    "    solution_containing_voxels = {}\n",
    "    eps_current = eps * pow(base,max_i-starting_i)\n",
    "    solution_containing_voxels[starting_i] = {}\n",
    "    \n",
    "    for i1,om1 in enumerate(ranges[starting_i]):\n",
    "        for i2,om2 in enumerate(ranges[starting_i]):\n",
    "            err = k_of_omega1_omega2(om1,om2)\n",
    "            if abs(err) < eps_current:\n",
    "                solution_containing_voxels[starting_i][i1,i2] = err\n",
    "    return solution_containing_voxels"
   ]
  },
  {
   "cell_type": "code",
   "execution_count": 237,
   "metadata": {
    "collapsed": false
   },
   "outputs": [],
   "source": [
    "@timeit\n",
    "def add_high_res_voxels(max_i,base,starting_i,eps,solution_containing_voxels):\n",
    "    for i in range(starting_i+1,max_i+1):\n",
    "        eps_current = eps * pow(base,max_i-i)\n",
    "        solution_containing_voxels[i] = {}\n",
    "        for (i1,i2) in solution_containing_voxels[i-1]:\n",
    "            step_size = int(base/2)\n",
    "            max_length = pow(base,i+1)\n",
    "            for i1_new in range(max(0,i1*base-step_size),min(max_length,i1*base+step_size+1)):\n",
    "                for i2_new in range(max(0,i2*base-step_size),min(max_length,i2*base+step_size+1)):\n",
    "                    if i1_new < max_length and i2_new < max_length:\n",
    "                        err = k_of_omega1_omega2(ranges[i][i1_new],ranges[i][i2_new])\n",
    "                        if abs(err) < eps_current:\n",
    "                            solution_containing_voxels[i][i1_new,i2_new] = err "
   ]
  },
  {
   "cell_type": "code",
   "execution_count": 238,
   "metadata": {
    "collapsed": true
   },
   "outputs": [],
   "source": [
    "@timeit\n",
    "def plot_voxels(solution_containing_voxels,i):\n",
    "    voxels = np.zeros((1+pow(base,i+1),1+pow(base,i+1)))\n",
    "    for (i1,i2) in solution_containing_voxels[i]:\n",
    "        voxels[i1,i2] = 1\n",
    "    plot_arr(voxels)"
   ]
  },
  {
   "cell_type": "code",
   "execution_count": 239,
   "metadata": {
    "collapsed": false,
    "scrolled": true
   },
   "outputs": [
    {
     "name": "stdout",
     "output_type": "stream",
     "text": [
      "'setup_ranges' 0.00 sec\n"
     ]
    }
   ],
   "source": [
    "ranges = setup_ranges(max_i,base)"
   ]
  },
  {
   "cell_type": "code",
   "execution_count": 240,
   "metadata": {
    "collapsed": false
   },
   "outputs": [
    {
     "name": "stdout",
     "output_type": "stream",
     "text": [
      "'initial_voxels' 0.00 sec\n"
     ]
    }
   ],
   "source": [
    "solution_containing_voxels = initial_voxels(max_i,base,starting_i,eps)"
   ]
  },
  {
   "cell_type": "code",
   "execution_count": 241,
   "metadata": {
    "collapsed": false
   },
   "outputs": [
    {
     "name": "stdout",
     "output_type": "stream",
     "text": [
      "'add_high_res_voxels' 15.12 sec\n"
     ]
    }
   ],
   "source": [
    "add_high_res_voxels(max_i,base,starting_i,eps,solution_containing_voxels)"
   ]
  },
  {
   "cell_type": "code",
   "execution_count": 242,
   "metadata": {
    "collapsed": false,
    "scrolled": false
   },
   "outputs": [
    {
     "data": {
      "image/png": "[encoded data removed]",
      "text/plain": [
       "<matplotlib.figure.Figure at 0x116169650>"
      ]
     },
     "metadata": {},
     "output_type": "display_data"
    },
    {
     "name": "stdout",
     "output_type": "stream",
     "text": [
      "'plot_voxels' 0.80 sec\n"
     ]
    }
   ],
   "source": [
    "plot_voxels(solution_containing_voxels,0)"
   ]
  },
  {
   "cell_type": "code",
   "execution_count": 243,
   "metadata": {
    "collapsed": false,
    "scrolled": false
   },
   "outputs": [
    {
     "data": {
      "image/png": "[encoded data removed]",
      "text/plain": [
       "<matplotlib.figure.Figure at 0x116153690>"
      ]
     },
     "metadata": {},
     "output_type": "display_data"
    },
    {
     "name": "stdout",
     "output_type": "stream",
     "text": [
      "'plot_voxels' 0.51 sec\n"
     ]
    }
   ],
   "source": [
    "plot_voxels(solution_containing_voxels,1)"
   ]
  },
  {
   "cell_type": "code",
   "execution_count": 244,
   "metadata": {
    "collapsed": false,
    "scrolled": false
   },
   "outputs": [
    {
     "data": {
      "image/png": "[encoded data removed]",
      "text/plain": [
       "<matplotlib.figure.Figure at 0x116d30790>"
      ]
     },
     "metadata": {},
     "output_type": "display_data"
    },
    {
     "name": "stdout",
     "output_type": "stream",
     "text": [
      "'plot_voxels' 0.64 sec\n"
     ]
    }
   ],
   "source": [
    "plot_voxels(solution_containing_voxels,2)"
   ]
  },
  {
   "cell_type": "code",
   "execution_count": 245,
   "metadata": {
    "collapsed": false
   },
   "outputs": [
    {
     "name": "stdout",
     "output_type": "stream",
     "text": [
      "55\n",
      "529\n",
      "5339\n",
      "53349\n",
      "533391\n"
     ]
    }
   ],
   "source": [
    "## Number of solutions found for each resolution:\n",
    "\n",
    "for i in range(0,5):\n",
    "    print len(solution_containing_voxels[i])"
   ]
  },
  {
   "cell_type": "code",
   "execution_count": 246,
   "metadata": {
    "collapsed": false
   },
   "outputs": [
    {
     "data": {
      "text/plain": [
       "[<matplotlib.lines.Line2D at 0x118470210>]"
      ]
     },
     "execution_count": 246,
     "metadata": {},
     "output_type": "execute_result"
    },
    {
     "data": {
      "image/png": "[encoded data removed]",
      "text/plain": [
       "<matplotlib.figure.Figure at 0x118470310>"
      ]
     },
     "metadata": {},
     "output_type": "display_data"
    }
   ],
   "source": [
    "## Number of solutions found for each resolution:\n",
    "plt.title('Number of voxels per step')\n",
    "plt.semilogy([(len(solution_containing_voxels[i])) for i in range(0,max_i)])"
   ]
  },
  {
   "cell_type": "markdown",
   "metadata": {},
   "source": [
    "## Different bases comparison"
   ]
  },
  {
   "cell_type": "markdown",
   "metadata": {},
   "source": [
    "### Base 10"
   ]
  },
  {
   "cell_type": "code",
   "execution_count": 277,
   "metadata": {
    "collapsed": true
   },
   "outputs": [],
   "source": [
    "eps = 0.006\n",
    "starting_i = 0\n",
    "max_i = 2\n",
    "base = 10"
   ]
  },
  {
   "cell_type": "code",
   "execution_count": 278,
   "metadata": {
    "collapsed": false
   },
   "outputs": [
    {
     "data": {
      "image/png": "[encoded data removed]",
      "text/latex": [
       "$$1001$$"
      ],
      "text/plain": [
       "1001"
      ]
     },
     "execution_count": 278,
     "metadata": {},
     "output_type": "execute_result"
    }
   ],
   "source": [
    "## maximum grid length:\n",
    "1+pow(base,max_i+1)"
   ]
  },
  {
   "cell_type": "code",
   "execution_count": 279,
   "metadata": {
    "collapsed": false
   },
   "outputs": [
    {
     "name": "stdout",
     "output_type": "stream",
     "text": [
      "'setup_ranges' 0.00 sec\n",
      "'initial_voxels' 0.00 sec\n",
      "'add_high_res_voxels' 0.44 sec\n"
     ]
    }
   ],
   "source": [
    "ranges = setup_ranges(max_i,base)\n",
    "solution_containing_voxels = initial_voxels(max_i,base,starting_i,eps)\n",
    "add_high_res_voxels(max_i,base,starting_i,eps,solution_containing_voxels)"
   ]
  },
  {
   "cell_type": "code",
   "execution_count": 280,
   "metadata": {
    "collapsed": false
   },
   "outputs": [
    {
     "name": "stdout",
     "output_type": "stream",
     "text": [
      "117\n",
      "1582\n",
      "16012\n"
     ]
    }
   ],
   "source": [
    "## Number of solutions found for each resolution:\n",
    "\n",
    "for i in range(0,max_i+1):\n",
    "    print len(solution_containing_voxels[i])"
   ]
  },
  {
   "cell_type": "code",
   "execution_count": 281,
   "metadata": {
    "collapsed": false
   },
   "outputs": [
    {
     "data": {
      "text/plain": [
       "[<matplotlib.lines.Line2D at 0x118415cd0>]"
      ]
     },
     "execution_count": 281,
     "metadata": {},
     "output_type": "execute_result"
    },
    {
     "data": {
      "image/png": "[encoded data removed]",
      "text/plain": [
       "<matplotlib.figure.Figure at 0x118415bd0>"
      ]
     },
     "metadata": {},
     "output_type": "display_data"
    }
   ],
   "source": [
    "## Number of solutions found for each resolution:\n",
    "plt.title('Number of voxels per step')\n",
    "plt.semilogy([(len(solution_containing_voxels[i])) for i in range(0,max_i+1)])"
   ]
  },
  {
   "cell_type": "code",
   "execution_count": 282,
   "metadata": {
    "collapsed": false
   },
   "outputs": [
    {
     "data": {
      "image/png": "[encoded data removed]",
      "text/plain": [
       "<matplotlib.figure.Figure at 0x1139e3d10>"
      ]
     },
     "metadata": {},
     "output_type": "display_data"
    },
    {
     "name": "stdout",
     "output_type": "stream",
     "text": [
      "'plot_voxels' 1.06 sec\n"
     ]
    }
   ],
   "source": [
    "plot_voxels(solution_containing_voxels,max_i)"
   ]
  },
  {
   "cell_type": "markdown",
   "metadata": {},
   "source": [
    "### Base 2"
   ]
  },
  {
   "cell_type": "code",
   "execution_count": 283,
   "metadata": {
    "collapsed": false
   },
   "outputs": [],
   "source": [
    "eps = 0.006\n",
    "starting_i = 0\n",
    "max_i = 9\n",
    "base = 2"
   ]
  },
  {
   "cell_type": "code",
   "execution_count": 284,
   "metadata": {
    "collapsed": false
   },
   "outputs": [
    {
     "data": {
      "image/png": "[encoded data removed]",
      "text/latex": [
       "$$1025$$"
      ],
      "text/plain": [
       "1025"
      ]
     },
     "execution_count": 284,
     "metadata": {},
     "output_type": "execute_result"
    }
   ],
   "source": [
    "## maximum grid length:\n",
    "1+pow(base,max_i+1)"
   ]
  },
  {
   "cell_type": "code",
   "execution_count": 273,
   "metadata": {
    "collapsed": false
   },
   "outputs": [
    {
     "name": "stdout",
     "output_type": "stream",
     "text": [
      "'setup_ranges' 0.00 sec\n",
      "'initial_voxels' 0.00 sec\n",
      "'add_high_res_voxels' 0.43 sec\n"
     ]
    }
   ],
   "source": [
    "ranges = setup_ranges(max_i,base)\n",
    "solution_containing_voxels = initial_voxels(max_i,base,starting_i,eps)\n",
    "add_high_res_voxels(max_i,base,starting_i,eps,solution_containing_voxels)"
   ]
  },
  {
   "cell_type": "code",
   "execution_count": 274,
   "metadata": {
    "collapsed": false,
    "scrolled": true
   },
   "outputs": [
    {
     "name": "stdout",
     "output_type": "stream",
     "text": [
      "9\n",
      "16\n",
      "64\n",
      "205\n",
      "483\n",
      "1029\n",
      "2093\n",
      "4205\n",
      "8435\n",
      "16873\n"
     ]
    }
   ],
   "source": [
    "## Number of solutions found for each resolution:\n",
    "\n",
    "for i in range(0,max_i+1):\n",
    "    print len(solution_containing_voxels[i])"
   ]
  },
  {
   "cell_type": "code",
   "execution_count": 275,
   "metadata": {
    "collapsed": false
   },
   "outputs": [
    {
     "data": {
      "text/plain": [
       "[<matplotlib.lines.Line2D at 0x1139d4810>]"
      ]
     },
     "execution_count": 275,
     "metadata": {},
     "output_type": "execute_result"
    },
    {
     "data": {
      "image/png": "[encoded data removed]",
      "text/plain": [
       "<matplotlib.figure.Figure at 0x1139d4d10>"
      ]
     },
     "metadata": {},
     "output_type": "display_data"
    }
   ],
   "source": [
    "## Number of solutions found for each resolution:\n",
    "plt.title('Number of voxels per step')\n",
    "plt.semilogy([(len(solution_containing_voxels[i])) for i in range(0,max_i+1)])"
   ]
  },
  {
   "cell_type": "code",
   "execution_count": 276,
   "metadata": {
    "collapsed": false
   },
   "outputs": [
    {
     "data": {
      "image/png": "[encoded data removed]",
      "text/plain": [
       "<matplotlib.figure.Figure at 0x128cd2dd0>"
      ]
     },
     "metadata": {},
     "output_type": "display_data"
    },
    {
     "name": "stdout",
     "output_type": "stream",
     "text": [
      "'plot_voxels' 0.64 sec\n"
     ]
    }
   ],
   "source": [
    "plot_voxels(solution_containing_voxels,max_i)"
   ]
  },
  {
   "cell_type": "markdown",
   "metadata": {},
   "source": [
    "## Discussion"
   ]
  },
  {
   "cell_type": "markdown",
   "metadata": {},
   "source": [
    "The number of solution voxels increases by a factor of `base` at each step. This happens because the function being optimize is close to linear near the solutions and because we decrease `eps_current` by a factor of `base` at each step. As a result, the total number of voxels increases by a factor of `base**2` at each step, but the thickness of the solution voxel surface decreases by a factor of `base`.\n",
    "\n",
    "The cost of the algorithm is dominated by the last step. This is because the number of voxels increases approximately by a factor of `base` at each step, and the computational cost at each step is the number of voxels from the previous step multiplied by `base**2`. As such, the algorithm runtime is essentially the number of solution points. Notice in the above experiments the runtime was similar for different bases used. \n",
    "\n",
    "A more careful analysis assuming a large number of points and the scaling described above gives a geometric series for the runtime, where the sum starts at the last step ($b$ stands for `base` and $p$ stands for number of points):\n",
    "\\begin{align}\n",
    "b^2(\\frac{p}{b} + \\frac{p}{b^2} + ...)\n",
    "=\n",
    "p\\left( b + 1 + \\frac{1}{b} + ...\\right)\n",
    "\\approx \\frac{pb^2}{b-1}.\n",
    "\\end{align}\n",
    "\n",
    "The other factor contributing to the runtime is breaking away from the scaling law in the above discussion. "
   ]
  }
 ],
 "metadata": {
  "kernelspec": {
   "display_name": "Python 2",
   "language": "python",
   "name": "python2"
  },
  "language_info": {
   "codemirror_mode": {
    "name": "ipython",
    "version": 2
   },
   "file_extension": ".py",
   "mimetype": "text/x-python",
   "name": "python",
   "nbconvert_exporter": "python",
   "pygments_lexer": "ipython2",
   "version": "2.7.12"
  },
  "widgets": {
   "state": {},
   "version": "1.1.2"
  }
 },
 "nbformat": 4,
 "nbformat_minor": 0
}
