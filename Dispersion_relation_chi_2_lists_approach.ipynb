{
 "cells": [
  {
   "cell_type": "markdown",
   "metadata": {},
   "source": [
    "# Solving phase and frequency matching conditions for $\\chi^{(2)}$  with voxels of increasing resolution.\n",
    "\n",
    "# Applying voxels of increasing resolution to $\\chi^{(3)}$.\n",
    "Refractive index from:\n",
    "\n",
    "http://refractiveindex.info/?shelf=main&book=LiNbO3&page=Zelmon-o"
   ]
  },
  {
   "cell_type": "markdown",
   "metadata": {},
   "source": [
    "see also the notebook Dispersion_relation_chi_2_and_interpolations"
   ]
  },
  {
   "cell_type": "code",
   "execution_count": 1,
   "metadata": {
    "collapsed": false
   },
   "outputs": [],
   "source": [
    "import sympy as sp\n",
    "import numpy as np\n",
    "import scipy.constants\n",
    "from sympy.utilities.autowrap import ufuncify\n",
    "import time\n",
    "from scipy import interpolate\n",
    "\n",
    "import matplotlib.pyplot as plt\n",
    "%matplotlib inline\n",
    "\n",
    "from sympy import init_printing\n",
    "init_printing() "
   ]
  },
  {
   "cell_type": "code",
   "execution_count": 352,
   "metadata": {
    "collapsed": true
   },
   "outputs": [],
   "source": [
    "def plot_arr(arr):\n",
    "    fig = plt.figure(figsize=(15,15))\n",
    "    ax = fig.add_subplot(111)\n",
    "    cax = ax.matshow(np.asmatrix(arr), interpolation='nearest')\n",
    "    fig.colorbar(cax)\n",
    "    plt.show()"
   ]
  },
  {
   "cell_type": "code",
   "execution_count": 353,
   "metadata": {
    "collapsed": true
   },
   "outputs": [],
   "source": [
    "## from https://www.andreas-jung.com/contents/a-python-decorator-for-measuring-the-execution-time-of-methods\n",
    "\n",
    "def timeit(method):\n",
    "    def timed(*args, **kw):\n",
    "        ts = time.time()\n",
    "        result = method(*args, **kw)\n",
    "        te = time.time()\n",
    "        print '%r %2.2f sec' % \\\n",
    "              (method.__name__, te-ts)\n",
    "        return result\n",
    "    return timed"
   ]
  },
  {
   "cell_type": "code",
   "execution_count": 354,
   "metadata": {
    "collapsed": false
   },
   "outputs": [],
   "source": [
    "lambd,omega,omega1,omega2,omega3,omega4 = sp.symbols('lambda omega omega_1 omega_2 omega_3 omega_4')\n",
    "l2 = lambd **2\n",
    "\n",
    "def n_symb(pol='o'):\n",
    "    s = 1.\n",
    "    if pol == 'o':\n",
    "        s += 2.6734 * l2 / (l2 - 0.01764)\n",
    "        s += 1.2290 * l2 / (l2 - 0.05914)\n",
    "        s += 12.614 * l2 / (l2 - 474.6)\n",
    "    else:\n",
    "        s += 2.9804 * l2 / (l2 - 0.02047)\n",
    "        s += 0.5981 * l2 / (l2 - 0.0666)\n",
    "        s += 8.9543 * l2 / (l2 - 416.08)\n",
    "    return sp.sqrt(s)\n",
    "\n",
    "def k_symb(symbol=omega,pol='o'):\n",
    "    '''k is accurate for omega inputs between 6-60.'''\n",
    "    return ((n_symb(pol=pol) * symbol )\n",
    "                .subs(lambd,scipy.constants.c / (symbol*1e7))) ## / scipy.constants.c"
   ]
  },
  {
   "cell_type": "code",
   "execution_count": 355,
   "metadata": {
    "collapsed": true
   },
   "outputs": [],
   "source": [
    "expressions = [k_symb(omega1,pol='o'), k_symb(omega2,pol='o'), k_symb(omega3,pol='e')]"
   ]
  },
  {
   "cell_type": "code",
   "execution_count": 356,
   "metadata": {
    "collapsed": false
   },
   "outputs": [],
   "source": [
    "dispersion_difference_function = sum(expressions)\n",
    "dispersion_difference_function = dispersion_difference_function.subs(omega3,-omega1-omega2)"
   ]
  },
  {
   "cell_type": "code",
   "execution_count": 357,
   "metadata": {
    "collapsed": false
   },
   "outputs": [
    {
     "data": {
      "image/png": "[encoded data removed]",
      "text/latex": [
       "$$\\omega_{1} \\sqrt{1.0 + \\frac{2402.73209483501}{\\omega_{1}^{2} \\left(-0.01764 + \\frac{898.755178736817}{\\omega_{1}^{2}}\\right)} + \\frac{1104.57011466755}{\\omega_{1}^{2} \\left(-0.05914 + \\frac{898.755178736817}{\\omega_{1}^{2}}\\right)} + \\frac{11336.8978245862}{\\omega_{1}^{2} \\left(-474.6 + \\frac{898.755178736817}{\\omega_{1}^{2}}\\right)}} + \\omega_{2} \\sqrt{1.0 + \\frac{2402.73209483501}{\\omega_{2}^{2} \\left(-0.01764 + \\frac{898.755178736817}{\\omega_{2}^{2}}\\right)} + \\frac{1104.57011466755}{\\omega_{2}^{2} \\left(-0.05914 + \\frac{898.755178736817}{\\omega_{2}^{2}}\\right)} + \\frac{11336.8978245862}{\\omega_{2}^{2} \\left(-474.6 + \\frac{898.755178736817}{\\omega_{2}^{2}}\\right)}} + \\left(- \\omega_{1} - \\omega_{2}\\right) \\sqrt{1.0 + \\frac{2678.64993470721}{\\left(-0.02047 + \\frac{898.755178736817}{\\left(- \\omega_{1} - \\omega_{2}\\right)^{2}}\\right) \\left(- \\omega_{1} - \\omega_{2}\\right)^{2}} + \\frac{537.545472402491}{\\left(-0.0666 + \\frac{898.755178736817}{\\left(- \\omega_{1} - \\omega_{2}\\right)^{2}}\\right) \\left(- \\omega_{1} - \\omega_{2}\\right)^{2}} + \\frac{8047.72349696308}{\\left(-416.08 + \\frac{898.755178736817}{\\left(- \\omega_{1} - \\omega_{2}\\right)^{2}}\\right) \\left(- \\omega_{1} - \\omega_{2}\\right)^{2}}}$$"
      ],
      "text/plain": [
       "          ____________________________________________________________________\n",
       "         ╱                2402.73209483501                    1104.57011466755\n",
       "ω₁⋅     ╱  1.0 + ───────────────────────────────── + ─────────────────────────\n",
       "       ╱           2 ⎛           898.755178736817⎞     2 ⎛           898.75517\n",
       "      ╱          ω₁ ⋅⎜-0.01764 + ────────────────⎟   ω₁ ⋅⎜-0.05914 + ─────────\n",
       "     ╱               ⎜                   2       ⎟       ⎜                   2\n",
       "   ╲╱                ⎝                 ω₁        ⎠       ⎝                 ω₁ \n",
       "\n",
       "___________________________________________             ______________________\n",
       "                   11336.8978245862                    ╱                2402.7\n",
       "──────── + ───────────────────────────────  + ω₂⋅     ╱  1.0 + ───────────────\n",
       "8736817⎞     2 ⎛         898.755178736817⎞           ╱           2 ⎛          \n",
       "───────⎟   ω₁ ⋅⎜-474.6 + ────────────────⎟          ╱          ω₂ ⋅⎜-0.01764 +\n",
       "       ⎟       ⎜                 2       ⎟         ╱               ⎜          \n",
       "       ⎠       ⎝               ω₁        ⎠       ╲╱                ⎝          \n",
       "\n",
       "______________________________________________________________________________\n",
       "3209483501                    1104.57011466755                   11336.8978245\n",
       "────────────────── + ───────────────────────────────── + ─────────────────────\n",
       " 898.755178736817⎞     2 ⎛           898.755178736817⎞     2 ⎛         898.755\n",
       " ────────────────⎟   ω₂ ⋅⎜-0.05914 + ────────────────⎟   ω₂ ⋅⎜-474.6 + ───────\n",
       "         2       ⎟       ⎜                   2       ⎟       ⎜                \n",
       "       ω₂        ⎠       ⎝                 ω₂        ⎠       ⎝               ω\n",
       "\n",
       "___________                     ______________________________________________\n",
       "862                            ╱                    2678.64993470721          \n",
       "──────────  + (-ω₁ - ω₂)⋅     ╱  1.0 + ───────────────────────────────────────\n",
       "178736817⎞                   ╱         ⎛           898.755178736817⎞          \n",
       "─────────⎟                  ╱          ⎜-0.02047 + ────────────────⎟⋅(-ω₁ - ω₂\n",
       " 2       ⎟                 ╱           ⎜                       2   ⎟          \n",
       "₂        ⎠               ╲╱            ⎝             (-ω₁ - ω₂)    ⎠          \n",
       "\n",
       "______________________________________________________________________________\n",
       "                 537.545472402491                           8047.72349696308  \n",
       "── + ──────────────────────────────────────── + ──────────────────────────────\n",
       " 2   ⎛          898.755178736817⎞           2   ⎛          898.755178736817⎞  \n",
       ")    ⎜-0.0666 + ────────────────⎟⋅(-ω₁ - ω₂)    ⎜-416.08 + ────────────────⎟⋅(\n",
       "     ⎜                      2   ⎟               ⎜                      2   ⎟  \n",
       "     ⎝            (-ω₁ - ω₂)    ⎠               ⎝            (-ω₁ - ω₂)    ⎠  \n",
       "\n",
       "___________\n",
       "           \n",
       "────────── \n",
       "         2 \n",
       "-ω₁ - ω₂)  \n",
       "           \n",
       "           "
      ]
     },
     "execution_count": 357,
     "metadata": {},
     "output_type": "execute_result"
    }
   ],
   "source": [
    "dispersion_difference_function"
   ]
  },
  {
   "cell_type": "code",
   "execution_count": 358,
   "metadata": {
    "collapsed": false
   },
   "outputs": [],
   "source": [
    "k_of_omega1_omega2 = ufuncify([omega1,omega2],dispersion_difference_function)"
   ]
  },
  {
   "cell_type": "markdown",
   "metadata": {},
   "source": [
    "### Find maximum derivative of dispersion_difference_function over a range. This could be used as a bound for $\\epsilon$ to guarantee results."
   ]
  },
  {
   "cell_type": "code",
   "execution_count": 359,
   "metadata": {
    "collapsed": true
   },
   "outputs": [],
   "source": [
    "def find_max_der(expression,symbol,input_range):\n",
    "    expr_der = sp.diff(expression,symbol)\n",
    "    expr_def_func = ufuncify([symbol],expr_der)\n",
    "    return max(abs(expr_def_func(input_range)))"
   ]
  },
  {
   "cell_type": "code",
   "execution_count": 360,
   "metadata": {
    "collapsed": false
   },
   "outputs": [],
   "source": [
    "## Apply the triangle inequality over a range of omegas\n",
    "\n",
    "omegas = np.asarray([6.+ i*5e-2 for i in range(1+int(1e3))])\n",
    "max_derivative = sum([find_max_der(exp,om,omegas) for om,exp in zip([omega1,omega2,omega3],expressions)])"
   ]
  },
  {
   "cell_type": "code",
   "execution_count": 361,
   "metadata": {
    "collapsed": false
   },
   "outputs": [
    {
     "data": {
      "image/png": "[encoded data removed]",
      "text/latex": [
       "$$7.60876091113$$"
      ],
      "text/plain": [
       "7.60876091113"
      ]
     },
     "execution_count": 361,
     "metadata": {},
     "output_type": "execute_result"
    }
   ],
   "source": [
    "max_derivative"
   ]
  },
  {
   "cell_type": "markdown",
   "metadata": {},
   "source": [
    "## Methods for systematic search over ranges\n",
    "\n",
    "### Definitions:\n",
    "`base` -- The number base to use, i.e. the factor to increase the grid resolution at each step.\n",
    "`starting_i` -- index of starting step. `0` means we use a grid of size `base` by `base`.\n",
    "`max_i` -- final index.\n",
    "`eps` -- desired resolution at step max_i\n",
    "\n",
    "### Description \n",
    "\n",
    "To look for solutions more efficiently, we can recursively enhance the resolution of the grid in which we are looking. At each step, decrease the cutoff `eps_current` by some factor (for now let's make it `base`). For the set of voxels in each step that are close enough to a solution of the equation, increase the resolution by a factor of `base` and examine the resulting smaller voxels. Continue until the last step."
   ]
  },
  {
   "cell_type": "code",
   "execution_count": 362,
   "metadata": {
    "collapsed": true
   },
   "outputs": [],
   "source": [
    "eps = 0.00002\n",
    "starting_i = 0\n",
    "max_i = 4\n",
    "base = 10"
   ]
  },
  {
   "cell_type": "code",
   "execution_count": 363,
   "metadata": {
    "collapsed": false
   },
   "outputs": [],
   "source": [
    "@timeit\n",
    "def setup_ranges(max_i,base):\n",
    "    ranges= {}\n",
    "    for i in range(max_i+1):\n",
    "        ranges[i] = np.linspace(6.,11.,1+pow(base,i+1))\n",
    "    return ranges"
   ]
  },
  {
   "cell_type": "code",
   "execution_count": 364,
   "metadata": {
    "collapsed": false
   },
   "outputs": [],
   "source": [
    "@timeit\n",
    "def initial_voxels(max_i,base,starting_i,eps):\n",
    "    solution_containing_voxels = {}\n",
    "    eps_current = eps * pow(base,max_i-starting_i)\n",
    "    solution_containing_voxels[starting_i] = {}\n",
    "    \n",
    "    for i1,om1 in enumerate(ranges[starting_i]):\n",
    "        for i2,om2 in enumerate(ranges[starting_i]):\n",
    "            err = k_of_omega1_omega2(om1,om2)\n",
    "            if abs(err) < eps_current:\n",
    "                solution_containing_voxels[starting_i][i1,i2] = err\n",
    "    return solution_containing_voxels"
   ]
  },
  {
   "cell_type": "code",
   "execution_count": 365,
   "metadata": {
    "collapsed": false
   },
   "outputs": [],
   "source": [
    "@timeit\n",
    "def add_high_res_voxels(max_i,base,starting_i,eps,solution_containing_voxels):\n",
    "    for i in range(starting_i+1,max_i+1):\n",
    "        eps_current = eps * pow(base,max_i-i)\n",
    "        solution_containing_voxels[i] = {}\n",
    "        for (i1,i2) in solution_containing_voxels[i-1]:\n",
    "            step_size = int(base/2)\n",
    "            max_length = pow(base,i+1)\n",
    "            for i1_new in range(max(0,i1*base-step_size),min(max_length,i1*base+step_size+1)):\n",
    "                for i2_new in range(max(0,i2*base-step_size),min(max_length,i2*base+step_size+1)):\n",
    "                    err = k_of_omega1_omega2(ranges[i][i1_new],ranges[i][i2_new])\n",
    "                    if abs(err) < eps_current:\n",
    "                        solution_containing_voxels[i][i1_new,i2_new] = err "
   ]
  },
  {
   "cell_type": "code",
   "execution_count": 366,
   "metadata": {
    "collapsed": true
   },
   "outputs": [],
   "source": [
    "@timeit\n",
    "def plot_voxels(solution_containing_voxels,i):\n",
    "    voxels = np.zeros((1+pow(base,i+1),1+pow(base,i+1)))\n",
    "    for (i1,i2) in solution_containing_voxels[i]:\n",
    "        voxels[i1,i2] = 1\n",
    "    plot_arr(voxels)"
   ]
  },
  {
   "cell_type": "code",
   "execution_count": 367,
   "metadata": {
    "collapsed": false,
    "scrolled": true
   },
   "outputs": [
    {
     "name": "stdout",
     "output_type": "stream",
     "text": [
      "'setup_ranges' 0.00 sec\n"
     ]
    }
   ],
   "source": [
    "ranges = setup_ranges(max_i,base)"
   ]
  },
  {
   "cell_type": "code",
   "execution_count": 368,
   "metadata": {
    "collapsed": false
   },
   "outputs": [
    {
     "name": "stdout",
     "output_type": "stream",
     "text": [
      "'initial_voxels' 0.00 sec\n"
     ]
    }
   ],
   "source": [
    "solution_containing_voxels = initial_voxels(max_i,base,starting_i,eps)"
   ]
  },
  {
   "cell_type": "code",
   "execution_count": 369,
   "metadata": {
    "collapsed": false
   },
   "outputs": [
    {
     "name": "stdout",
     "output_type": "stream",
     "text": [
      "'add_high_res_voxels' 13.59 sec\n"
     ]
    }
   ],
   "source": [
    "add_high_res_voxels(max_i,base,starting_i,eps,solution_containing_voxels)"
   ]
  },
  {
   "cell_type": "code",
   "execution_count": 370,
   "metadata": {
    "collapsed": false,
    "scrolled": false
   },
   "outputs": [
    {
     "data": {
      "image/png": "[encoded data removed]",
      "text/plain": [
       "<matplotlib.figure.Figure at 0x112a9e710>"
      ]
     },
     "metadata": {},
     "output_type": "display_data"
    },
    {
     "name": "stdout",
     "output_type": "stream",
     "text": [
      "'plot_voxels' 0.55 sec\n"
     ]
    }
   ],
   "source": [
    "plot_voxels(solution_containing_voxels,0)"
   ]
  },
  {
   "cell_type": "code",
   "execution_count": 371,
   "metadata": {
    "collapsed": false,
    "scrolled": false
   },
   "outputs": [
    {
     "data": {
      "image/png": "[encoded data removed]",
      "text/plain": [
       "<matplotlib.figure.Figure at 0x116142cd0>"
      ]
     },
     "metadata": {},
     "output_type": "display_data"
    },
    {
     "name": "stdout",
     "output_type": "stream",
     "text": [
      "'plot_voxels' 0.55 sec\n"
     ]
    }
   ],
   "source": [
    "plot_voxels(solution_containing_voxels,1)"
   ]
  },
  {
   "cell_type": "code",
   "execution_count": 372,
   "metadata": {
    "collapsed": false,
    "scrolled": false
   },
   "outputs": [
    {
     "data": {
      "image/png": "[encoded data removed]",
      "text/plain": [
       "<matplotlib.figure.Figure at 0x1160574d0>"
      ]
     },
     "metadata": {},
     "output_type": "display_data"
    },
    {
     "name": "stdout",
     "output_type": "stream",
     "text": [
      "'plot_voxels' 0.67 sec\n"
     ]
    }
   ],
   "source": [
    "plot_voxels(solution_containing_voxels,2)"
   ]
  },
  {
   "cell_type": "code",
   "execution_count": 245,
   "metadata": {
    "collapsed": false
   },
   "outputs": [
    {
     "name": "stdout",
     "output_type": "stream",
     "text": [
      "55\n",
      "529\n",
      "5339\n",
      "53349\n",
      "533391\n"
     ]
    }
   ],
   "source": [
    "## Number of solutions found for each resolution:\n",
    "\n",
    "for i in range(0,5):\n",
    "    print len(solution_containing_voxels[i])"
   ]
  },
  {
   "cell_type": "code",
   "execution_count": 246,
   "metadata": {
    "collapsed": false
   },
   "outputs": [
    {
     "data": {
      "text/plain": [
       "[<matplotlib.lines.Line2D at 0x118470210>]"
      ]
     },
     "execution_count": 246,
     "metadata": {},
     "output_type": "execute_result"
    },
    {
     "data": {
      "image/png": "[encoded data removed]",
      "text/plain": [
       "<matplotlib.figure.Figure at 0x118470310>"
      ]
     },
     "metadata": {},
     "output_type": "display_data"
    }
   ],
   "source": [
    "## Number of solutions found for each resolution:\n",
    "plt.title('Number of voxels per step')\n",
    "plt.semilogy([(len(solution_containing_voxels[i])) for i in range(0,max_i)])"
   ]
  },
  {
   "cell_type": "markdown",
   "metadata": {},
   "source": [
    "## Different bases comparison"
   ]
  },
  {
   "cell_type": "markdown",
   "metadata": {},
   "source": [
    "### Base 10"
   ]
  },
  {
   "cell_type": "code",
   "execution_count": 526,
   "metadata": {
    "collapsed": true
   },
   "outputs": [],
   "source": [
    "eps = 0.006\n",
    "starting_i = 0\n",
    "max_i = 2\n",
    "base = 10"
   ]
  },
  {
   "cell_type": "code",
   "execution_count": 527,
   "metadata": {
    "collapsed": false
   },
   "outputs": [
    {
     "data": {
      "image/png": "[encoded data removed]",
      "text/latex": [
       "$$1001$$"
      ],
      "text/plain": [
       "1001"
      ]
     },
     "execution_count": 527,
     "metadata": {},
     "output_type": "execute_result"
    }
   ],
   "source": [
    "## maximum grid length:\n",
    "1+pow(base,max_i+1)"
   ]
  },
  {
   "cell_type": "code",
   "execution_count": 528,
   "metadata": {
    "collapsed": false
   },
   "outputs": [
    {
     "name": "stdout",
     "output_type": "stream",
     "text": [
      "'setup_ranges' 0.00 sec\n",
      "'initial_voxels' 0.00 sec\n",
      "'add_high_res_voxels' 0.41 sec\n"
     ]
    }
   ],
   "source": [
    "ranges = setup_ranges(max_i,base)\n",
    "solution_containing_voxels = initial_voxels(max_i,base,starting_i,eps)\n",
    "add_high_res_voxels(max_i,base,starting_i,eps,solution_containing_voxels)"
   ]
  },
  {
   "cell_type": "code",
   "execution_count": 529,
   "metadata": {
    "collapsed": false
   },
   "outputs": [
    {
     "name": "stdout",
     "output_type": "stream",
     "text": [
      "117\n",
      "1582\n",
      "16012\n"
     ]
    }
   ],
   "source": [
    "## Number of solutions found for each resolution:\n",
    "\n",
    "for i in range(0,max_i+1):\n",
    "    print len(solution_containing_voxels[i])"
   ]
  },
  {
   "cell_type": "code",
   "execution_count": 530,
   "metadata": {
    "collapsed": false
   },
   "outputs": [
    {
     "data": {
      "text/plain": [
       "[<matplotlib.lines.Line2D at 0x116e4cfd0>]"
      ]
     },
     "execution_count": 530,
     "metadata": {},
     "output_type": "execute_result"
    },
    {
     "data": {
      "image/png": "[encoded data removed]",
      "text/plain": [
       "<matplotlib.figure.Figure at 0x116e4c0d0>"
      ]
     },
     "metadata": {},
     "output_type": "display_data"
    }
   ],
   "source": [
    "## Number of solutions found for each resolution:\n",
    "plt.title('Number of voxels per step')\n",
    "plt.semilogy([(len(solution_containing_voxels[i])) for i in range(0,max_i+1)])"
   ]
  },
  {
   "cell_type": "code",
   "execution_count": 531,
   "metadata": {
    "collapsed": false
   },
   "outputs": [
    {
     "data": {
      "image/png": "[encoded data removed]",
      "text/plain": [
       "<matplotlib.figure.Figure at 0x1161a0b50>"
      ]
     },
     "metadata": {},
     "output_type": "display_data"
    },
    {
     "name": "stdout",
     "output_type": "stream",
     "text": [
      "'plot_voxels' 0.67 sec\n"
     ]
    }
   ],
   "source": [
    "plot_voxels(solution_containing_voxels,max_i)"
   ]
  },
  {
   "cell_type": "markdown",
   "metadata": {},
   "source": [
    "### Base 2"
   ]
  },
  {
   "cell_type": "code",
   "execution_count": 283,
   "metadata": {
    "collapsed": false
   },
   "outputs": [],
   "source": [
    "eps = 0.006\n",
    "starting_i = 0\n",
    "max_i = 9\n",
    "base = 2"
   ]
  },
  {
   "cell_type": "code",
   "execution_count": 284,
   "metadata": {
    "collapsed": false
   },
   "outputs": [
    {
     "data": {
      "image/png": "[encoded data removed]",
      "text/latex": [
       "$$1025$$"
      ],
      "text/plain": [
       "1025"
      ]
     },
     "execution_count": 284,
     "metadata": {},
     "output_type": "execute_result"
    }
   ],
   "source": [
    "## maximum grid length:\n",
    "1+pow(base,max_i+1)"
   ]
  },
  {
   "cell_type": "code",
   "execution_count": 273,
   "metadata": {
    "collapsed": false
   },
   "outputs": [
    {
     "name": "stdout",
     "output_type": "stream",
     "text": [
      "'setup_ranges' 0.00 sec\n",
      "'initial_voxels' 0.00 sec\n",
      "'add_high_res_voxels' 0.43 sec\n"
     ]
    }
   ],
   "source": [
    "ranges = setup_ranges(max_i,base)\n",
    "solution_containing_voxels = initial_voxels(max_i,base,starting_i,eps)\n",
    "add_high_res_voxels(max_i,base,starting_i,eps,solution_containing_voxels)"
   ]
  },
  {
   "cell_type": "code",
   "execution_count": 274,
   "metadata": {
    "collapsed": false,
    "scrolled": true
   },
   "outputs": [
    {
     "name": "stdout",
     "output_type": "stream",
     "text": [
      "9\n",
      "16\n",
      "64\n",
      "205\n",
      "483\n",
      "1029\n",
      "2093\n",
      "4205\n",
      "8435\n",
      "16873\n"
     ]
    }
   ],
   "source": [
    "## Number of solutions found for each resolution:\n",
    "\n",
    "for i in range(0,max_i+1):\n",
    "    print len(solution_containing_voxels[i])"
   ]
  },
  {
   "cell_type": "code",
   "execution_count": 275,
   "metadata": {
    "collapsed": false
   },
   "outputs": [
    {
     "data": {
      "text/plain": [
       "[<matplotlib.lines.Line2D at 0x1139d4810>]"
      ]
     },
     "execution_count": 275,
     "metadata": {},
     "output_type": "execute_result"
    },
    {
     "data": {
      "image/png": "[encoded data removed]",
      "text/plain": [
       "<matplotlib.figure.Figure at 0x1139d4d10>"
      ]
     },
     "metadata": {},
     "output_type": "display_data"
    }
   ],
   "source": [
    "## Number of solutions found for each resolution:\n",
    "plt.title('Number of voxels per step')\n",
    "plt.semilogy([(len(solution_containing_voxels[i])) for i in range(0,max_i+1)])"
   ]
  },
  {
   "cell_type": "code",
   "execution_count": 276,
   "metadata": {
    "collapsed": false
   },
   "outputs": [
    {
     "data": {
      "image/png": "[encoded data removed]",
      "text/plain": [
       "<matplotlib.figure.Figure at 0x128cd2dd0>"
      ]
     },
     "metadata": {},
     "output_type": "display_data"
    },
    {
     "name": "stdout",
     "output_type": "stream",
     "text": [
      "'plot_voxels' 0.64 sec\n"
     ]
    }
   ],
   "source": [
    "plot_voxels(solution_containing_voxels,max_i)"
   ]
  },
  {
   "cell_type": "markdown",
   "metadata": {},
   "source": [
    "## Discussion"
   ]
  },
  {
   "cell_type": "markdown",
   "metadata": {},
   "source": [
    "The number of solution voxels increases by a factor of `base` at each step. This happens because the function being optimize is close to linear near the solutions and because we decrease `eps_current` by a factor of `base` at each step. As a result, the total number of voxels increases by a factor of `base**2` at each step, but the thickness of the solution voxel surface decreases by a factor of `base`.\n",
    "\n",
    "The cost of the algorithm is dominated by the last step. This is because the number of voxels increases approximately by a factor of `base` at each step, and the computational cost at each step is the number of voxels from the previous step multiplied by `base**2`. As such, the algorithm runtime is essentially the number of solution points. Notice in the above experiments the runtime was similar for different bases used. \n",
    "\n",
    "A more careful analysis assuming a large number of points and the scaling described above gives a geometric series for the runtime, where the sum starts at the last step ($b$ stands for `base` and $p$ stands for number of points):\n",
    "\\begin{align}\n",
    "b^2(\\frac{p}{b} + \\frac{p}{b^2} + ...)\n",
    "=\n",
    "p\\left( b + 1 + \\frac{1}{b} + ...\\right)\n",
    "\\approx \\frac{pb^2}{b-1}.\n",
    "\\end{align}\n",
    "\n",
    "The other factor contributing to the runtime is breaking away from the scaling law in the above discussion. "
   ]
  },
  {
   "cell_type": "markdown",
   "metadata": {},
   "source": [
    "# Using the same technique for $\\chi^{(3)}$.\n",
    "\n",
    "Let's extend the above search technique to using four-wave mixing.\n",
    "\n",
    "The problems here will be larger, so runtime may be more important. For this reason, I tested different values of epsilon at each stage. Using a smaller epsilon will improve the runtime, but may miss correct solutions. Compare the number of solutions and runtime to the methods used in the notebook Dispersion_relation_two_approaches. The complexity is essentially linear in the number of solutions, but here the constant factor may be large if epsilon is not chosen carefully at each step. For this reason one may prefer to use the other techniques for $\\chi^{(3)}$ problems. The number of solutions in the method below converges to the number of solutions using the other two methods."
   ]
  },
  {
   "cell_type": "code",
   "execution_count": 467,
   "metadata": {
    "collapsed": true
   },
   "outputs": [],
   "source": [
    "eps = 2e-4\n",
    "starting_i = 0\n",
    "max_i = 1\n",
    "base = 10"
   ]
  },
  {
   "cell_type": "code",
   "execution_count": 468,
   "metadata": {
    "collapsed": true
   },
   "outputs": [],
   "source": [
    "relative_scalings = [4,4,10]"
   ]
  },
  {
   "cell_type": "code",
   "execution_count": 469,
   "metadata": {
    "collapsed": false
   },
   "outputs": [
    {
     "name": "stdout",
     "output_type": "stream",
     "text": [
      "401 401 1001\n"
     ]
    }
   ],
   "source": [
    "phi1_min = 30.\n",
    "phi1_max = 34.\n",
    "ranges1 = {}\n",
    "for i in range(0,2):\n",
    "    ranges1[i] = np.linspace(phi1_min,phi1_max,relative_scalings[0]*pow(base,i+1)+1)\n",
    "\n",
    "phi2_min = -13\n",
    "phi2_max = -9\n",
    "ranges2 = {}\n",
    "for i in range(0,2):\n",
    "    ranges2[i] = np.linspace(phi2_min,phi2_max,relative_scalings[1]*pow(base,i+1)+1)\n",
    "\n",
    "omega3_min = -26.\n",
    "omega3_max = -16.\n",
    "ranges3 = {}\n",
    "for i in range(0,2):\n",
    "    ranges3[i] = np.linspace(omega3_min,omega3_max,relative_scalings[2]*pow(base,i+1)+1)\n",
    "\n",
    "print len(ranges1[1]),len(ranges2[1]),len(ranges3[1])"
   ]
  },
  {
   "cell_type": "code",
   "execution_count": 470,
   "metadata": {
    "collapsed": true
   },
   "outputs": [],
   "source": [
    "phi1, phi2 = sp.symbols('phi_1 phi_2')"
   ]
  },
  {
   "cell_type": "code",
   "execution_count": 471,
   "metadata": {
    "collapsed": true
   },
   "outputs": [],
   "source": [
    "ex1 = (k_symb(omega1,pol='e')+k_symb(omega2,pol='e')).expand().subs({omega1:(phi1 + phi2)/2, omega2: (phi1-phi2)/2})"
   ]
  },
  {
   "cell_type": "code",
   "execution_count": 472,
   "metadata": {
    "collapsed": true
   },
   "outputs": [],
   "source": [
    "ex2 = -(k_symb(omega3,pol='e')+k_symb(omega4,pol='e')).expand().subs(omega4,-phi1-omega3)"
   ]
  },
  {
   "cell_type": "code",
   "execution_count": 473,
   "metadata": {
    "collapsed": true
   },
   "outputs": [],
   "source": [
    "f_phi12_omega3 =ufuncify([phi1,phi2,omega3], ex1-ex2)"
   ]
  },
  {
   "cell_type": "code",
   "execution_count": 510,
   "metadata": {
    "collapsed": false
   },
   "outputs": [],
   "source": [
    "@timeit\n",
    "def initial_voxels_4wv(max_i,base,starting_i,eps,eps_factor = None):\n",
    "\n",
    "    if eps_factor is None:\n",
    "        eps_factor = pow(base,max_i-starting_i)\n",
    "    eps_current = eps * eps_factor\n",
    "        \n",
    "    solution_containing_voxels = {}\n",
    "    solution_containing_voxels[starting_i] = {}\n",
    "    \n",
    "    for i1,om1 in enumerate(ranges1[starting_i]):\n",
    "        for i2,om2 in enumerate(ranges2[starting_i]):\n",
    "            for i3,om3 in enumerate(ranges3[starting_i]):\n",
    "                err = f_phi12_omega3(om1,om2,om3)\n",
    "                if abs(err) < eps_current:\n",
    "                    solution_containing_voxels[starting_i][i1,i2,i3] = err\n",
    "    return solution_containing_voxels"
   ]
  },
  {
   "cell_type": "code",
   "execution_count": 511,
   "metadata": {
    "collapsed": true
   },
   "outputs": [],
   "source": [
    "@timeit\n",
    "def add_high_res_voxels_4wv(max_i,base,starting_i,eps,solution_containing_voxels):\n",
    "    for i in range(starting_i+1,max_i+1):\n",
    "        eps_current = eps * pow(base,max_i-i)\n",
    "        solution_containing_voxels[i] = {}\n",
    "        for (i1,i2,i3) in solution_containing_voxels[i-1]:\n",
    "            step_size = int(base/2)\n",
    "            max_length = pow(base,i+1)\n",
    "            for i1_new in range(max(0,i1*base-step_size),min(relative_scalings[0]*max_length,i1*base+step_size+1)):\n",
    "                for i2_new in range(max(0,i2*base-step_size),min(relative_scalings[1]*max_length,i2*base+step_size+1)):\n",
    "                    for i3_new in range(max(0,i3*base-step_size),min(relative_scalings[2]*max_length,i3*base+step_size+1)):\n",
    "                        err = f_phi12_omega3(ranges1[i][i1_new],ranges2[i][i2_new],ranges3[i][i3_new])\n",
    "                        if abs(err) < eps_current:\n",
    "                            solution_containing_voxels[i][i1_new,i2_new,i3_new] = err "
   ]
  },
  {
   "cell_type": "code",
   "execution_count": 512,
   "metadata": {
    "collapsed": true
   },
   "outputs": [],
   "source": [
    "eps_factors = [1.5,2.,2.5,3.,3.5,4.]\n",
    "num_found = {}"
   ]
  },
  {
   "cell_type": "code",
   "execution_count": 513,
   "metadata": {
    "collapsed": false
   },
   "outputs": [
    {
     "name": "stdout",
     "output_type": "stream",
     "text": [
      "'initial_voxels_4wv' 0.39 sec\n",
      "big voxels:  6184\n",
      "'add_high_res_voxels_4wv' 27.07 sec\n",
      "little voxels:  3766866\n",
      "'initial_voxels_4wv' 0.42 sec\n",
      "big voxels:  7776\n",
      "'add_high_res_voxels_4wv' 33.33 sec\n",
      "little voxels:  3979085\n",
      "'initial_voxels_4wv' 0.38 sec\n",
      "big voxels:  9295\n",
      "'add_high_res_voxels_4wv' 38.83 sec\n",
      "little voxels:  4094222\n",
      "'initial_voxels_4wv' 0.38 sec\n",
      "big voxels:  10772\n",
      "'add_high_res_voxels_4wv' 45.37 sec\n",
      "little voxels:  4158570\n",
      "'initial_voxels_4wv' 0.40 sec\n",
      "big voxels:  12168\n",
      "'add_high_res_voxels_4wv' 50.01 sec\n",
      "little voxels:  4193377\n",
      "'initial_voxels_4wv' 0.40 sec\n",
      "big voxels:  13556\n",
      "'add_high_res_voxels_4wv' 55.12 sec\n",
      "little voxels:  4208929\n"
     ]
    }
   ],
   "source": [
    "for eps_factor in eps_factors:\n",
    "    solution_containing_voxels_4wv = initial_voxels_4wv(max_i,base,starting_i,eps,eps_factor = eps_factor)\n",
    "    print 'big voxels: ', len(solution_containing_voxels_4wv[0].keys())\n",
    "    add_high_res_voxels_4wv(max_i,base,starting_i,eps,solution_containing_voxels_4wv)\n",
    "    num_found[eps_factor] = len(solution_containing_voxels_4wv[1].keys())\n",
    "    print 'little voxels: ', num_found[eps_factor]"
   ]
  },
  {
   "cell_type": "code",
   "execution_count": 515,
   "metadata": {
    "collapsed": false
   },
   "outputs": [
    {
     "data": {
      "text/plain": [
       "[<matplotlib.lines.Line2D at 0x113cdabd0>]"
      ]
     },
     "execution_count": 515,
     "metadata": {},
     "output_type": "execute_result"
    },
    {
     "data": {
      "image/png": "[encoded data removed]",
      "text/plain": [
       "<matplotlib.figure.Figure at 0x1266fc550>"
      ]
     },
     "metadata": {},
     "output_type": "display_data"
    }
   ],
   "source": [
    "plt.title('number of solutions found as a function of the epsilon multiplier for the voxel method')\n",
    "plt.plot(eps_factors, [num_found[eps] for eps in eps_factors] )"
   ]
  },
  {
   "cell_type": "code",
   "execution_count": null,
   "metadata": {
    "collapsed": true
   },
   "outputs": [],
   "source": []
  },
  {
   "cell_type": "code",
   "execution_count": null,
   "metadata": {
    "collapsed": true
   },
   "outputs": [],
   "source": []
  },
  {
   "cell_type": "markdown",
   "metadata": {},
   "source": [
    "## Experimental Stuff"
   ]
  },
  {
   "cell_type": "code",
   "execution_count": 534,
   "metadata": {
    "collapsed": true
   },
   "outputs": [],
   "source": [
    "eps = 0.006\n",
    "starting_i = 0\n",
    "max_i = 2\n",
    "base = 10"
   ]
  },
  {
   "cell_type": "code",
   "execution_count": 535,
   "metadata": {
    "collapsed": false
   },
   "outputs": [
    {
     "name": "stdout",
     "output_type": "stream",
     "text": [
      "'setup_ranges' 0.00 sec\n",
      "'initial_voxels' 0.00 sec\n",
      "'add_high_res_voxels' 0.38 sec\n"
     ]
    }
   ],
   "source": [
    "ranges = setup_ranges(max_i,base)\n",
    "solution_containing_voxels = initial_voxels(max_i,base,starting_i,eps)\n",
    "add_high_res_voxels(max_i,base,starting_i,eps,solution_containing_voxels)"
   ]
  },
  {
   "cell_type": "code",
   "execution_count": null,
   "metadata": {
    "collapsed": true
   },
   "outputs": [],
   "source": []
  },
  {
   "cell_type": "code",
   "execution_count": 517,
   "metadata": {
    "collapsed": false
   },
   "outputs": [],
   "source": [
    "import itertools\n",
    "list_of_pm_arr = list(itertools.product([-1, 1], repeat=3))"
   ]
  },
  {
   "cell_type": "code",
   "execution_count": 518,
   "metadata": {
    "collapsed": false
   },
   "outputs": [
    {
     "data": {
      "image/png": "[encoded data removed]",
      "text/latex": [
       "$$\\left [ \\left ( -1, \\quad -1, \\quad -1\\right ), \\quad \\left ( -1, \\quad -1, \\quad 1\\right ), \\quad \\left ( -1, \\quad 1, \\quad -1\\right ), \\quad \\left ( -1, \\quad 1, \\quad 1\\right ), \\quad \\left ( 1, \\quad -1, \\quad -1\\right ), \\quad \\left ( 1, \\quad -1, \\quad 1\\right ), \\quad \\left ( 1, \\quad 1, \\quad -1\\right ), \\quad \\left ( 1, \\quad 1, \\quad 1\\right )\\right ]$$"
      ],
      "text/plain": [
       "[(-1, -1, -1), (-1, -1, 1), (-1, 1, -1), (-1, 1, 1), (1, -1, -1), (1, -1, 1), \n",
       "(1, 1, -1), (1, 1, 1)]"
      ]
     },
     "execution_count": 518,
     "metadata": {},
     "output_type": "execute_result"
    }
   ],
   "source": [
    "list_of_pm_arr"
   ]
  },
  {
   "cell_type": "code",
   "execution_count": 543,
   "metadata": {
    "collapsed": true
   },
   "outputs": [],
   "source": [
    "import random"
   ]
  },
  {
   "cell_type": "code",
   "execution_count": 547,
   "metadata": {
    "collapsed": false
   },
   "outputs": [
    {
     "data": {
      "image/png": "[encoded data removed]",
      "text/latex": [
       "$$0.222080132815$$"
      ],
      "text/plain": [
       "0.222080132815"
      ]
     },
     "execution_count": 547,
     "metadata": {},
     "output_type": "execute_result"
    }
   ],
   "source": [
    "random.random()"
   ]
  },
  {
   "cell_type": "code",
   "execution_count": 522,
   "metadata": {
    "collapsed": false,
    "scrolled": true
   },
   "outputs": [
    {
     "data": {
      "text/plain": [
       "array([  6. ,   6.5,   7. ,   7.5,   8. ,   8.5,   9. ,   9.5,  10. ,\n",
       "        10.5,  11. ])"
      ]
     },
     "execution_count": 522,
     "metadata": {},
     "output_type": "execute_result"
    }
   ],
   "source": [
    "ranges[0]"
   ]
  },
  {
   "cell_type": "code",
   "execution_count": 540,
   "metadata": {
    "collapsed": false
   },
   "outputs": [
    {
     "name": "stdout",
     "output_type": "stream",
     "text": [
      "16012\n"
     ]
    }
   ],
   "source": [
    "print len(solution_containing_voxels[2].keys())"
   ]
  },
  {
   "cell_type": "code",
   "execution_count": 562,
   "metadata": {
    "collapsed": false
   },
   "outputs": [
    {
     "data": {
      "image/png": "[encoded data removed]",
      "text/latex": [
       "$$\\left \\{ \\left ( 0, \\quad 2\\right ) : -0.528188559692, \\quad \\left ( 0, \\quad 3\\right ) : -0.447495514594, \\quad \\left ( 0, \\quad 4\\right ) : -0.374949159627, \\quad \\left ( 0, \\quad 5\\right ) : -0.308781931033, \\quad \\left ( 0, \\quad 6\\right ) : -0.247710724479, \\quad \\left ( 0, \\quad 7\\right ) : -0.19078109624, \\quad \\left ( 0, \\quad 8\\right ) : -0.137268181022, \\quad \\left ( 0, \\quad 9\\right ) : -0.0866115253325, \\quad \\left ( 0, \\quad 10\\right ) : -0.0383709772287, \\quad \\left ( 1, \\quad 1\\right ) : -0.513041185357, \\quad \\left ( 1, \\quad 2\\right ) : -0.421062188064, \\quad \\left ( 1, \\quad 3\\right ) : -0.339890023526, \\quad \\left ( 1, \\quad 4\\right ) : -0.266998155457, \\quad \\left ( 1, \\quad 5\\right ) : -0.200603019404, \\quad \\left ( 1, \\quad 6\\right ) : -0.139408325178, \\quad \\left ( 1, \\quad 7\\right ) : -0.0824486852194, \\quad \\left ( 1, \\quad 8\\right ) : -0.0289900922079, \\quad \\left ( 1, \\quad 9\\right ) : 0.0215355892694, \\quad \\left ( 1, \\quad 10\\right ) : 0.0695750007298, \\quad \\left ( 2, \\quad 0\\right ) : -0.528188559692, \\quad \\left ( 2, \\quad 1\\right ) : -0.421062188064, \\quad \\left ( 2, \\quad 2\\right ) : -0.328604071331, \\quad \\left ( 2, \\quad 3\\right ) : -0.247086393692, \\quad \\left ( 2, \\quad 4\\right ) : -0.173966618163, \\quad \\left ( 2, \\quad 5\\right ) : -0.107447994439, \\quad \\left ( 2, \\quad 6\\right ) : -0.0462232884932, \\quad \\left ( 2, \\quad 7\\right ) : 0.0106820292589, \\quad \\left ( 2, \\quad 8\\right ) : 0.0640096480584, \\quad \\left ( 2, \\quad 9\\right ) : 0.114334192892, \\quad \\left ( 2, \\quad 10\\right ) : 0.162107814123, \\quad \\left ( 3, \\quad 0\\right ) : -0.447495514594, \\quad \\left ( 3, \\quad 1\\right ) : -0.339890023526, \\quad \\left ( 3, \\quad 2\\right ) : -0.247086393692, \\quad \\left ( 3, \\quad 3\\right ) : -0.165340808593, \\quad \\left ( 3, \\quad 4\\right ) : -0.0920975453933, \\quad \\left ( 3, \\quad 5\\right ) : -0.0255489099487, \\quad \\left ( 3, \\quad 6\\right ) : 0.0356214737903, \\quad \\left ( 3, \\quad 7\\right ) : 0.0923958173304, \\quad \\left ( 3, \\quad 8\\right ) : 0.145522299486, \\quad \\left ( 3, \\quad 9\\right ) : 0.195581054091, \\quad \\left ( 3, \\quad 10\\right ) : 0.243028928229, \\quad \\left ( 4, \\quad 0\\right ) : -0.374949159627, \\quad \\left ( 4, \\quad 1\\right ) : -0.266998155457, \\quad \\left ( 4, \\quad 2\\right ) : -0.173966618163, \\quad \\left ( 4, \\quad 3\\right ) : -0.0920975453933, \\quad \\left ( 4, \\quad 4\\right ) : -0.0188242704735, \\quad \\left ( 4, \\quad 5\\right ) : 0.0476700427643, \\quad \\left ( 4, \\quad 6\\right ) : 0.108709452291, \\quad \\left ( 4, \\quad 7\\right ) : 0.165282659188, \\quad \\left ( 4, \\quad 8\\right ) : 0.218143351115, \\quad \\left ( 4, \\quad 9\\right ) : 0.267876358626, \\quad \\left ( 4, \\quad 10\\right ) : 0.314942548749, \\quad \\left ( 5, \\quad 0\\right ) : -0.308781931033, \\quad \\left ( 5, \\quad 1\\right ) : -0.200603019404, \\quad \\left ( 5, \\quad 2\\right ) : -0.107447994439, \\quad \\left ( 5, \\quad 3\\right ) : -0.0255489099487, \\quad \\left ( 5, \\quad 4\\right ) : 0.0476700427643, \\quad \\left ( 5, \\quad 5\\right ) : 0.11403338179, \\quad \\left ( 5, \\quad 6\\right ) : 0.174871654674, \\quad \\left ( 5, \\quad 7\\right ) : 0.231179071341, \\quad \\left ( 5, \\quad 8\\right ) : 0.283714016174, \\quad \\left ( 5, \\quad 9\\right ) : 0.333065339671, \\quad \\left ( 5, \\quad 10\\right ) : 0.37969736142, \\quad \\left ( 6, \\quad 0\\right ) : -0.247710724479, \\quad \\left ( 6, \\quad 1\\right ) : -0.139408325178, \\quad \\left ( 6, \\quad 2\\right ) : -0.0462232884932, \\quad \\left ( 6, \\quad 3\\right ) : 0.0356214737903, \\quad \\left ( 6, \\quad 4\\right ) : 0.108709452291, \\quad \\left ( 6, \\quad 5\\right ) : 0.174871654674, \\quad \\left ( 6, \\quad 6\\right ) : 0.235444137328, \\quad \\left ( 6, \\quad 7\\right ) : 0.291425806902, \\quad \\left ( 6, \\quad 8\\right ) : 0.34357906772, \\quad \\left ( 6, \\quad 9\\right ) : 0.392496222843, \\quad \\left ( 6, \\quad 10\\right ) : 0.438644566063, \\quad \\left ( 7, \\quad 0\\right ) : -0.19078109624, \\quad \\left ( 7, \\quad 1\\right ) : -0.0824486852194, \\quad \\left ( 7, \\quad 2\\right ) : 0.0106820292589, \\quad \\left ( 7, \\quad 3\\right ) : 0.0923958173304, \\quad \\left ( 7, \\quad 4\\right ) : 0.165282659188, \\quad \\left ( 7, \\quad 5\\right ) : 0.231179071341, \\quad \\left ( 7, \\quad 6\\right ) : 0.291425806902, \\quad \\left ( 7, \\quad 7\\right ) : 0.347025792461, \\quad \\left ( 7, \\quad 8\\right ) : 0.398744884906, \\quad \\left ( 7, \\quad 9\\right ) : 0.447178361499, \\quad \\left ( 7, \\quad 10\\right ) : 0.492796084736, \\quad \\left ( 8, \\quad 0\\right ) : -0.137268181022, \\quad \\left ( 8, \\quad 1\\right ) : -0.0289900922079, \\quad \\left ( 8, \\quad 2\\right ) : 0.0640096480584, \\quad \\left ( 8, \\quad 3\\right ) : 0.145522299486, \\quad \\left ( 8, \\quad 4\\right ) : 0.218143351115, \\quad \\left ( 8, \\quad 5\\right ) : 0.283714016174, \\quad \\left ( 8, \\quad 6\\right ) : 0.34357906772, \\quad \\left ( 8, \\quad 7\\right ) : 0.398744884906, \\quad \\left ( 8, \\quad 8\\right ) : 0.449980298821, \\quad \\left ( 8, \\quad 9\\right ) : 0.497883155432, \\quad \\left ( 8, \\quad 10\\right ) : 0.542925540441, \\quad \\left ( 9, \\quad 0\\right ) : -0.0866115253325, \\quad \\left ( 9, \\quad 1\\right ) : 0.0215355892694, \\quad \\left ( 9, \\quad 2\\right ) : 0.114334192892, \\quad \\left ( 9, \\quad 3\\right ) : 0.195581054091, \\quad \\left ( 9, \\quad 4\\right ) : 0.267876358626, \\quad \\left ( 9, \\quad 5\\right ) : 0.333065339671, \\quad \\left ( 9, \\quad 6\\right ) : 0.392496222843, \\quad \\left ( 9, \\quad 7\\right ) : 0.447178361499, \\quad \\left ( 9, \\quad 8\\right ) : 0.497883155432, \\quad \\left ( 9, \\quad 9\\right ) : 0.545210673815, \\quad \\left ( 9, \\quad 10\\right ) : 0.589634929718, \\quad \\left ( 10, \\quad 0\\right ) : -0.0383709772287, \\quad \\left ( 10, \\quad 1\\right ) : 0.0695750007298, \\quad \\left ( 10, \\quad 2\\right ) : 0.162107814123, \\quad \\left ( 10, \\quad 3\\right ) : 0.243028928229, \\quad \\left ( 10, \\quad 4\\right ) : 0.314942548749, \\quad \\left ( 10, \\quad 5\\right ) : 0.37969736142, \\quad \\left ( 10, \\quad 6\\right ) : 0.438644566063, \\quad \\left ( 10, \\quad 7\\right ) : 0.492796084736, \\quad \\left ( 10, \\quad 8\\right ) : 0.542925540441, \\quad \\left ( 10, \\quad 9\\right ) : 0.589634929718\\right \\}$$"
      ],
      "text/plain": [
       "{(0, 2): -0.528188559692, (0, 3): -0.447495514594, (0, 4): -0.374949159627, (0\n",
       ", 5): -0.308781931033, (0, 6): -0.247710724479, (0, 7): -0.19078109624, (0, 8)\n",
       ": -0.137268181022, (0, 9): -0.0866115253325, (0, 10): -0.0383709772287, (1, 1)\n",
       ": -0.513041185357, (1, 2): -0.421062188064, (1, 3): -0.339890023526, (1, 4): -\n",
       "0.266998155457, (1, 5): -0.200603019404, (1, 6): -0.139408325178, (1, 7): -0.0\n",
       "824486852194, (1, 8): -0.0289900922079, (1, 9): 0.0215355892694, (1, 10): 0.06\n",
       "95750007298, (2, 0): -0.528188559692, (2, 1): -0.421062188064, (2, 2): -0.3286\n",
       "04071331, (2, 3): -0.247086393692, (2, 4): -0.173966618163, (2, 5): -0.1074479\n",
       "94439, (2, 6): -0.0462232884932, (2, 7): 0.0106820292589, (2, 8): 0.0640096480\n",
       "584, (2, 9): 0.114334192892, (2, 10): 0.162107814123, (3, 0): -0.447495514594,\n",
       " (3, 1): -0.339890023526, (3, 2): -0.247086393692, (3, 3): -0.165340808593, (3\n",
       ", 4): -0.0920975453933, (3, 5): -0.0255489099487, (3, 6): 0.0356214737903, (3,\n",
       " 7): 0.0923958173304, (3, 8): 0.145522299486, (3, 9): 0.195581054091, (3, 10):\n",
       " 0.243028928229, (4, 0): -0.374949159627, (4, 1): -0.266998155457, (4, 2): -0.\n",
       "173966618163, (4, 3): -0.0920975453933, (4, 4): -0.0188242704735, (4, 5): 0.04\n",
       "76700427643, (4, 6): 0.108709452291, (4, 7): 0.165282659188, (4, 8): 0.2181433\n",
       "51115, (4, 9): 0.267876358626, (4, 10): 0.314942548749, (5, 0): -0.30878193103\n",
       "3, (5, 1): -0.200603019404, (5, 2): -0.107447994439, (5, 3): -0.0255489099487,\n",
       " (5, 4): 0.0476700427643, (5, 5): 0.11403338179, (5, 6): 0.174871654674, (5, 7\n",
       "): 0.231179071341, (5, 8): 0.283714016174, (5, 9): 0.333065339671, (5, 10): 0.\n",
       "37969736142, (6, 0): -0.247710724479, (6, 1): -0.139408325178, (6, 2): -0.0462\n",
       "232884932, (6, 3): 0.0356214737903, (6, 4): 0.108709452291, (6, 5): 0.17487165\n",
       "4674, (6, 6): 0.235444137328, (6, 7): 0.291425806902, (6, 8): 0.34357906772, (\n",
       "6, 9): 0.392496222843, (6, 10): 0.438644566063, (7, 0): -0.19078109624, (7, 1)\n",
       ": -0.0824486852194, (7, 2): 0.0106820292589, (7, 3): 0.0923958173304, (7, 4): \n",
       "0.165282659188, (7, 5): 0.231179071341, (7, 6): 0.291425806902, (7, 7): 0.3470\n",
       "25792461, (7, 8): 0.398744884906, (7, 9): 0.447178361499, (7, 10): 0.492796084\n",
       "736, (8, 0): -0.137268181022, (8, 1): -0.0289900922079, (8, 2): 0.064009648058\n",
       "4, (8, 3): 0.145522299486, (8, 4): 0.218143351115, (8, 5): 0.283714016174, (8,\n",
       " 6): 0.34357906772, (8, 7): 0.398744884906, (8, 8): 0.449980298821, (8, 9): 0.\n",
       "497883155432, (8, 10): 0.542925540441, (9, 0): -0.0866115253325, (9, 1): 0.021\n",
       "5355892694, (9, 2): 0.114334192892, (9, 3): 0.195581054091, (9, 4): 0.26787635\n",
       "8626, (9, 5): 0.333065339671, (9, 6): 0.392496222843, (9, 7): 0.447178361499, \n",
       "(9, 8): 0.497883155432, (9, 9): 0.545210673815, (9, 10): 0.589634929718, (10, \n",
       "0): -0.0383709772287, (10, 1): 0.0695750007298, (10, 2): 0.162107814123, (10, \n",
       "3): 0.243028928229, (10, 4): 0.314942548749, (10, 5): 0.37969736142, (10, 6): \n",
       "0.438644566063, (10, 7): 0.492796084736, (10, 8): 0.542925540441, (10, 9): 0.5\n",
       "89634929718}"
      ]
     },
     "execution_count": 562,
     "metadata": {},
     "output_type": "execute_result"
    }
   ],
   "source": [
    "solution_containing_voxels[0]"
   ]
  },
  {
   "cell_type": "code",
   "execution_count": 541,
   "metadata": {
    "collapsed": false
   },
   "outputs": [
    {
     "data": {
      "text/plain": [
       "array([  6. ,   6.5,   7. ,   7.5,   8. ,   8.5,   9. ,   9.5,  10. ,\n",
       "        10.5,  11. ])"
      ]
     },
     "execution_count": 541,
     "metadata": {},
     "output_type": "execute_result"
    }
   ],
   "source": [
    "ranges[0]"
   ]
  },
  {
   "cell_type": "code",
   "execution_count": 555,
   "metadata": {
    "collapsed": false
   },
   "outputs": [],
   "source": [
    "scale = 0.1\n",
    "Delta = ranges[0][1] - ranges[0][0]\n",
    "ranges_special = [num+random.random()*scale for num in ranges[0]]"
   ]
  },
  {
   "cell_type": "code",
   "execution_count": 569,
   "metadata": {
    "collapsed": false
   },
   "outputs": [],
   "source": [
    "values = 2*[round(el/Delta)*Delta for el in ranges_special]"
   ]
  },
  {
   "cell_type": "code",
   "execution_count": 570,
   "metadata": {
    "collapsed": true
   },
   "outputs": [],
   "source": [
    "inputs = 2*ranges_special"
   ]
  },
  {
   "cell_type": "code",
   "execution_count": 571,
   "metadata": {
    "collapsed": true
   },
   "outputs": [],
   "source": [
    "def make_dict_values_to_lists_of_inputs(values,inputs):\n",
    "    D = {}\n",
    "    for k, v in zip(values,inputs):\n",
    "        D.setdefault(k, []).append(v)\n",
    "    return D"
   ]
  },
  {
   "cell_type": "code",
   "execution_count": 572,
   "metadata": {
    "collapsed": false
   },
   "outputs": [
    {
     "data": {
      "image/png": "[encoded data removed]",
      "text/latex": [
       "$$\\left \\{ 6.0 : \\left [ 6.05508298945, \\quad 6.05508298945\\right ], \\quad 6.5 : \\left [ 6.5807675702, \\quad 6.5807675702\\right ], \\quad 7.0 : \\left [ 7.05302509671, \\quad 7.05302509671\\right ], \\quad 7.5 : \\left [ 7.53059727135, \\quad 7.53059727135\\right ], \\quad 8.0 : \\left [ 8.02796025586, \\quad 8.02796025586\\right ], \\quad 8.5 : \\left [ 8.5001538287, \\quad 8.5001538287\\right ], \\quad 9.0 : \\left [ 9.07077799544, \\quad 9.07077799544\\right ], \\quad 9.5 : \\left [ 9.55894069084, \\quad 9.55894069084\\right ], \\quad 10.0 : \\left [ 10.0169920899, \\quad 10.0169920899\\right ], \\quad 10.5 : \\left [ 10.5461962285, \\quad 10.5461962285\\right ], \\quad 11.0 : \\left [ 11.0808400978, \\quad 11.0808400978\\right ]\\right \\}$$"
      ],
      "text/plain": [
       "{6.0: [6.05508298945, 6.05508298945], 6.5: [6.5807675702, 6.5807675702], 7.0: \n",
       "[7.05302509671, 7.05302509671], 7.5: [7.53059727135, 7.53059727135], 8.0: [8.0\n",
       "2796025586, 8.02796025586], 8.5: [8.5001538287, 8.5001538287], 9.0: [9.0707779\n",
       "9544, 9.07077799544], 9.5: [9.55894069084, 9.55894069084], 10.0: [10.016992089\n",
       "9, 10.0169920899], 10.5: [10.5461962285, 10.5461962285], 11.0: [11.0808400978,\n",
       " 11.0808400978]}"
      ]
     },
     "execution_count": 572,
     "metadata": {},
     "output_type": "execute_result"
    }
   ],
   "source": [
    "make_dict_values_to_lists_of_inputs(values,inputs)"
   ]
  },
  {
   "cell_type": "code",
   "execution_count": null,
   "metadata": {
    "collapsed": true
   },
   "outputs": [],
   "source": []
  },
  {
   "cell_type": "code",
   "execution_count": null,
   "metadata": {
    "collapsed": true
   },
   "outputs": [],
   "source": []
  },
  {
   "cell_type": "code",
   "execution_count": null,
   "metadata": {
    "collapsed": true
   },
   "outputs": [],
   "source": []
  },
  {
   "cell_type": "code",
   "execution_count": null,
   "metadata": {
    "collapsed": true
   },
   "outputs": [],
   "source": []
  },
  {
   "cell_type": "code",
   "execution_count": null,
   "metadata": {
    "collapsed": true
   },
   "outputs": [],
   "source": []
  }
 ],
 "metadata": {
  "kernelspec": {
   "display_name": "Python 2",
   "language": "python",
   "name": "python2"
  },
  "language_info": {
   "codemirror_mode": {
    "name": "ipython",
    "version": 2
   },
   "file_extension": ".py",
   "mimetype": "text/x-python",
   "name": "python",
   "nbconvert_exporter": "python",
   "pygments_lexer": "ipython2",
   "version": "2.7.12"
  },
  "widgets": {
   "state": {},
   "version": "1.1.2"
  }
 },
 "nbformat": 4,
 "nbformat_minor": 0
}
