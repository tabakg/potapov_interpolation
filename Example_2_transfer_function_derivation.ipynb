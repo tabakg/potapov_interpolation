{
 "cells": [
  {
   "cell_type": "code",
   "execution_count": 1,
   "metadata": {
    "collapsed": true
   },
   "outputs": [],
   "source": [
    "import sympy\n",
    "from sympy.utilities.lambdify import lambdify\n",
    "import numpy.linalg as la\n",
    "import numpy as np\n",
    "from sympy import init_printing\n",
    "init_printing()"
   ]
  },
  {
   "cell_type": "code",
   "execution_count": 10,
   "metadata": {
    "collapsed": true
   },
   "outputs": [],
   "source": [
    "z, r,tau=sympy.symbols('z r tau')"
   ]
  },
  {
   "cell_type": "code",
   "execution_count": 28,
   "metadata": {
    "collapsed": true
   },
   "outputs": [],
   "source": [
    "t=1.-r**2"
   ]
  },
  {
   "cell_type": "code",
   "execution_count": 11,
   "metadata": {
    "collapsed": true
   },
   "outputs": [],
   "source": [
    "e=sympy.exp"
   ]
  },
  {
   "cell_type": "code",
   "execution_count": 12,
   "metadata": {
    "collapsed": true
   },
   "outputs": [],
   "source": [
    "dim=2"
   ]
  },
  {
   "cell_type": "code",
   "execution_count": 22,
   "metadata": {
    "collapsed": false
   },
   "outputs": [],
   "source": [
    "T_denom = (1.-r**2* e(z)**2)"
   ]
  },
  {
   "cell_type": "code",
   "execution_count": 23,
   "metadata": {
    "collapsed": false
   },
   "outputs": [
    {
     "data": {
      "image/png": "[encoded data removed]",
      "text/latex": [
       "$$- r^{2} e^{2 z} + 1.0$$"
      ],
      "text/plain": [
       "   2  2⋅z      \n",
       "- r ⋅ℯ    + 1.0"
      ]
     },
     "execution_count": 23,
     "metadata": {},
     "output_type": "execute_result"
    }
   ],
   "source": [
    "T_denom"
   ]
  },
  {
   "cell_type": "code",
   "execution_count": 74,
   "metadata": {
    "collapsed": false,
    "scrolled": true
   },
   "outputs": [],
   "source": [
    "## transfer function in the program\n",
    "T_program = -r*sympy.eye(dim) + ((1.-r**2)/T_denom) * sympy.Matrix([[r*e(z)**2,e(z)],[e(z),r*e(z)**2]])"
   ]
  },
  {
   "cell_type": "code",
   "execution_count": 35,
   "metadata": {
    "collapsed": true
   },
   "outputs": [],
   "source": [
    "## coefficients of transfer between the two internal nodes\n",
    "M1 = sympy.Matrix([[0,r],[r,0]])"
   ]
  },
  {
   "cell_type": "code",
   "execution_count": 36,
   "metadata": {
    "collapsed": true
   },
   "outputs": [],
   "source": [
    "## from inputs to internal nodes\n",
    "M2 = sympy.Matrix([[t,0],[0,t]])"
   ]
  },
  {
   "cell_type": "code",
   "execution_count": 37,
   "metadata": {
    "collapsed": true
   },
   "outputs": [],
   "source": [
    "## from internal nodes to outputs\n",
    "M3 = sympy.Matrix([[0,t],[t,0]])"
   ]
  },
  {
   "cell_type": "code",
   "execution_count": 66,
   "metadata": {
    "collapsed": true
   },
   "outputs": [],
   "source": [
    "## from inputs to outputs. Note the phase shift \n",
    "M4 = sympy.Matrix([[-r,0],[0,-r]])"
   ]
  },
  {
   "cell_type": "code",
   "execution_count": 67,
   "metadata": {
    "collapsed": false
   },
   "outputs": [],
   "source": [
    "M = np.vstack([np.hstack([M1,M2]),np.hstack([M3,M4])])"
   ]
  },
  {
   "cell_type": "code",
   "execution_count": 68,
   "metadata": {
    "collapsed": false
   },
   "outputs": [
    {
     "name": "stdout",
     "output_type": "stream",
     "text": [
      "[[0 r -r**2 + 1.0 0]\n",
      " [r 0 0 -r**2 + 1.0]\n",
      " [0 -r**2 + 1.0 -r 0]\n",
      " [-r**2 + 1.0 0 0 -r]]\n"
     ]
    }
   ],
   "source": [
    "print M"
   ]
  },
  {
   "cell_type": "code",
   "execution_count": 56,
   "metadata": {
    "collapsed": false
   },
   "outputs": [
    {
     "data": {
      "image/png": "[encoded data removed]",
      "text/latex": [
       "$$\\left[\\begin{matrix}e^{z} & 0\\\\0 & e^{z}\\end{matrix}\\right]$$"
      ],
      "text/plain": [
       "⎡ z    ⎤\n",
       "⎢ℯ   0 ⎥\n",
       "⎢      ⎥\n",
       "⎢     z⎥\n",
       "⎣0   ℯ ⎦"
      ]
     },
     "execution_count": 56,
     "metadata": {},
     "output_type": "execute_result"
    }
   ],
   "source": [
    "E = sympy.Matrix([[e(z),0],[0,e(z)]])\n",
    "E"
   ]
  },
  {
   "cell_type": "code",
   "execution_count": 57,
   "metadata": {
    "collapsed": false
   },
   "outputs": [
    {
     "data": {
      "image/png": "[encoded data removed]",
      "text/latex": [
       "$$\\left[\\begin{matrix}1 & - r e^{z}\\\\- r e^{z} & 1\\end{matrix}\\right]$$"
      ],
      "text/plain": [
       "⎡           z⎤\n",
       "⎢  1    -r⋅ℯ ⎥\n",
       "⎢            ⎥\n",
       "⎢    z       ⎥\n",
       "⎣-r⋅ℯ     1  ⎦"
      ]
     },
     "execution_count": 57,
     "metadata": {},
     "output_type": "execute_result"
    }
   ],
   "source": [
    "sympy.eye(2)-M1*E"
   ]
  },
  {
   "cell_type": "code",
   "execution_count": 69,
   "metadata": {
    "collapsed": false
   },
   "outputs": [],
   "source": [
    "##inverse of sympy.eye(2)-M1*E\n",
    "inv = sympy.Matrix([[1,r*e(z)],[r*e(z),1]])/(1-r**2*e(2*z))"
   ]
  },
  {
   "cell_type": "code",
   "execution_count": 72,
   "metadata": {
    "collapsed": false
   },
   "outputs": [
    {
     "data": {
      "image/png": "[encoded data removed]",
      "text/latex": [
       "$$\\left[\\begin{matrix}\\frac{r \\left(- r^{2} + 1.0\\right)^{2} e^{2 z}}{- r^{2} e^{2 z} + 1} - r & \\frac{\\left(- r^{2} + 1.0\\right)^{2} e^{z}}{- r^{2} e^{2 z} + 1}\\\\\\frac{\\left(- r^{2} + 1.0\\right)^{2} e^{z}}{- r^{2} e^{2 z} + 1} & \\frac{r \\left(- r^{2} + 1.0\\right)^{2} e^{2 z}}{- r^{2} e^{2 z} + 1} - r\\end{matrix}\\right]$$"
      ],
      "text/plain": [
       "⎡              2                           2       ⎤\n",
       "⎢  ⎛   2      ⎞   2⋅z          ⎛   2      ⎞   z    ⎥\n",
       "⎢r⋅⎝- r  + 1.0⎠ ⋅ℯ             ⎝- r  + 1.0⎠ ⋅ℯ     ⎥\n",
       "⎢──────────────────── - r      ────────────────    ⎥\n",
       "⎢      2  2⋅z                      2  2⋅z          ⎥\n",
       "⎢   - r ⋅ℯ    + 1               - r ⋅ℯ    + 1      ⎥\n",
       "⎢                                                  ⎥\n",
       "⎢                2                       2         ⎥\n",
       "⎢    ⎛   2      ⎞   z        ⎛   2      ⎞   2⋅z    ⎥\n",
       "⎢    ⎝- r  + 1.0⎠ ⋅ℯ       r⋅⎝- r  + 1.0⎠ ⋅ℯ       ⎥\n",
       "⎢    ────────────────      ──────────────────── - r⎥\n",
       "⎢        2  2⋅z                  2  2⋅z            ⎥\n",
       "⎣     - r ⋅ℯ    + 1           - r ⋅ℯ    + 1        ⎦"
      ]
     },
     "execution_count": 72,
     "metadata": {},
     "output_type": "execute_result"
    }
   ],
   "source": [
    "##derived transfer function\n",
    "T = M3*E*inv*M2+M4\n",
    "T"
   ]
  },
  {
   "cell_type": "code",
   "execution_count": 75,
   "metadata": {
    "collapsed": false
   },
   "outputs": [
    {
     "data": {
      "image/png": "[encoded data removed]",
      "text/latex": [
       "$$\\left[\\begin{matrix}\\frac{r \\left(- r^{2} + 1.0\\right) e^{2 z}}{- r^{2} e^{2 z} + 1.0} - r & \\frac{\\left(- r^{2} + 1.0\\right) e^{z}}{- r^{2} e^{2 z} + 1.0}\\\\\\frac{\\left(- r^{2} + 1.0\\right) e^{z}}{- r^{2} e^{2 z} + 1.0} & \\frac{r \\left(- r^{2} + 1.0\\right) e^{2 z}}{- r^{2} e^{2 z} + 1.0} - r\\end{matrix}\\right]$$"
      ],
      "text/plain": [
       "⎡  ⎛   2      ⎞  2⋅z          ⎛   2      ⎞  z    ⎤\n",
       "⎢r⋅⎝- r  + 1.0⎠⋅ℯ             ⎝- r  + 1.0⎠⋅ℯ     ⎥\n",
       "⎢─────────────────── - r      ───────────────    ⎥\n",
       "⎢     2  2⋅z                     2  2⋅z          ⎥\n",
       "⎢  - r ⋅ℯ    + 1.0            - r ⋅ℯ    + 1.0    ⎥\n",
       "⎢                                                ⎥\n",
       "⎢    ⎛   2      ⎞  z        ⎛   2      ⎞  2⋅z    ⎥\n",
       "⎢    ⎝- r  + 1.0⎠⋅ℯ       r⋅⎝- r  + 1.0⎠⋅ℯ       ⎥\n",
       "⎢    ───────────────      ─────────────────── - r⎥\n",
       "⎢       2  2⋅z                 2  2⋅z            ⎥\n",
       "⎣    - r ⋅ℯ    + 1.0        - r ⋅ℯ    + 1.0      ⎦"
      ]
     },
     "execution_count": 75,
     "metadata": {},
     "output_type": "execute_result"
    }
   ],
   "source": [
    "## transfer function in code\n",
    "T_program"
   ]
  },
  {
   "cell_type": "code",
   "execution_count": null,
   "metadata": {
    "collapsed": true
   },
   "outputs": [],
   "source": []
  }
 ],
 "metadata": {
  "kernelspec": {
   "display_name": "Python 2",
   "language": "python",
   "name": "python2"
  },
  "language_info": {
   "codemirror_mode": {
    "name": "ipython",
    "version": 2
   },
   "file_extension": ".py",
   "mimetype": "text/x-python",
   "name": "python",
   "nbconvert_exporter": "python",
   "pygments_lexer": "ipython2",
   "version": "2.7.11"
  }
 },
 "nbformat": 4,
 "nbformat_minor": 0
}
