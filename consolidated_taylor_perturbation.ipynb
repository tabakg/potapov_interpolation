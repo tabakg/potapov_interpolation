{
 "cells": [
  {
   "cell_type": "code",
   "execution_count": 1,
   "metadata": {
    "collapsed": true
   },
   "outputs": [],
   "source": [
    "from scipy.sparse.linalg import eigs\n",
    "import scipy.sparse as sparse\n",
    "import numpy as np\n",
    "import numpy.linalg as la\n",
    "import sympy as sp\n",
    "\n",
    "import matplotlib.pyplot as plt\n",
    "%matplotlib inline\n",
    "\n",
    "import Potapov_Code.Time_Delay_Network as networks\n",
    "from Potapov_Code.functions import spatial_modes\n",
    "from decimal import Decimal\n",
    "\n",
    "from sympy import init_printing\n",
    "init_printing() \n",
    "\n",
    "from sympy.utilities.autowrap import ufuncify\n",
    "import time"
   ]
  },
  {
   "cell_type": "code",
   "execution_count": 2,
   "metadata": {
    "collapsed": true
   },
   "outputs": [],
   "source": [
    "import Potapov_Code.Time_Delay_Network"
   ]
  },
  {
   "cell_type": "code",
   "execution_count": 3,
   "metadata": {
    "collapsed": true
   },
   "outputs": [],
   "source": [
    "from Potapov_Code.functions import gcd_lst"
   ]
  },
  {
   "cell_type": "code",
   "execution_count": 4,
   "metadata": {
    "collapsed": true
   },
   "outputs": [],
   "source": [
    "X1 = Potapov_Code.Time_Delay_Network.Example3()"
   ]
  },
  {
   "cell_type": "code",
   "execution_count": 6,
   "metadata": {
    "collapsed": false
   },
   "outputs": [],
   "source": [
    "def _find_commensurate(delays):\n",
    "    '''\n",
    "    Find the 'gcd' but for Decimal numbers.\n",
    "\n",
    "    Args:\n",
    "        delays(list of Demicals): numbers whose gcd will be found.\n",
    "\n",
    "    Returns:\n",
    "        Decimal gcd.\n",
    "    '''\n",
    "    mult = min([d.as_tuple().exponent for d in delays])\n",
    "    power = 10**-mult\n",
    "    delays = map(lambda x: x*power,delays)\n",
    "    int_gcd = gcd_lst(delays)\n",
    "    return int_gcd/power\n",
    "\n",
    "Decimal_delays = map(lambda x: Decimal(str(x)),X1.delays)\n",
    "Decimal_gcd = _find_commensurate(Decimal_delays)\n",
    "\n",
    "xs = [sp.symbols('x_'+str(i)) for i in range(4) ]\n",
    "E_sym = sp.Matrix(np.zeros_like(X1.M1))\n",
    "for i,delay in enumerate(Decimal_delays):\n",
    "    E_sym[i,i] = xs[i]\n",
    "M1_sym = sp.Matrix(X1.M1)\n",
    "num, den = (E_sym - M1_sym).det().as_numer_denom()"
   ]
  },
  {
   "cell_type": "markdown",
   "metadata": {},
   "source": [
    "### Alternatively, we can Taylor expand about the $z$ variable only. This gives just Newton's method. To first order we get\n",
    "$$\n",
    "\\Delta z = - \\frac{f(z,T+\\Delta T)}{\\frac{\\partial f}{\\partial z (z,T+\\Delta T}}.\n",
    "$$\n",
    "This can be used as an iterative procedure with the substitution $z \\mapsto z + \\Delta_z$. In addition, dependence on $\\Delta T $ can be incorporated by evaluation $\\Delta T \\equiv \\Delta T(z + \\Delta z)$."
   ]
  },
  {
   "cell_type": "code",
   "execution_count": 7,
   "metadata": {
    "collapsed": false,
    "scrolled": true
   },
   "outputs": [
    {
     "data": {
      "image/png": "[encoded data removed]",
      "text/latex": [
       "$$\\left ( 1.0 x_{0}^{2} x_{1}^{2} x_{2} x_{3} + 0.32 x_{0}^{2} x_{1}^{2} - 0.72 x_{0} x_{1} x_{2} x_{3} - 0.8352 x_{0} x_{1} + 0.1296 x_{2} x_{3} + 0.2592, \\quad 1.0 x_{0} x_{1} - 0.36\\right )$$"
      ],
      "text/plain": [
       "⎛      2   2                2   2                                             \n",
       "⎝1.0⋅x₀ ⋅x₁ ⋅x₂⋅x₃ + 0.32⋅x₀ ⋅x₁  - - -0.72⋅x₀⋅x₁⋅x₂⋅x₃ - - -0.8352⋅x₀⋅x₁ + 0.\n",
       "\n",
       "                                     ⎞\n",
       "1296⋅x₂⋅x₃ + 0.2592, 1.0⋅x₀⋅x₁ - 0.36⎠"
      ]
     },
     "execution_count": 7,
     "metadata": {},
     "output_type": "execute_result"
    }
   ],
   "source": [
    "num, den"
   ]
  },
  {
   "cell_type": "code",
   "execution_count": 54,
   "metadata": {
    "collapsed": true
   },
   "outputs": [],
   "source": [
    "z, z_Delta = sp.symbols('z dz',complex=True)\n",
    "Ts = [sp.symbols('T_'+str(i),real=True) for i in range(4)]\n",
    "x,y = sp.symbols('x y', real = True)"
   ]
  },
  {
   "cell_type": "code",
   "execution_count": 16,
   "metadata": {
    "collapsed": false,
    "scrolled": true
   },
   "outputs": [],
   "source": [
    "num2 = num.subs({x: sp.exp(-z*T) for x,T in zip(xs,Ts)})"
   ]
  },
  {
   "cell_type": "code",
   "execution_count": 48,
   "metadata": {
    "collapsed": false
   },
   "outputs": [
    {
     "data": {
      "image/png": "[encoded data removed]",
      "text/latex": [
       "$$0.2592 + 0.1296 e^{- T_{2} z} e^{- T_{3} z} - 0.8352 e^{- T_{0} z} e^{- T_{1} z} - 0.72 e^{- T_{0} z} e^{- T_{1} z} e^{- T_{2} z} e^{- T_{3} z} + 0.32 e^{- 2 T_{0} z} e^{- 2 T_{1} z} + 1.0 e^{- 2 T_{0} z} e^{- 2 T_{1} z} e^{- T_{2} z} e^{- T_{3} z}$$"
      ],
      "text/plain": [
       "                 -T₂⋅z  -T₃⋅z              -T₀⋅z  -T₁⋅z            -T₀⋅z  -T₁⋅\n",
       "0.2592 + 0.1296⋅ℯ     ⋅ℯ      - - -0.8352⋅ℯ     ⋅ℯ      - - -0.72⋅ℯ     ⋅ℯ    \n",
       "\n",
       "z  -T₂⋅z  -T₃⋅z         -2⋅T₀⋅z  -2⋅T₁⋅z        -2⋅T₀⋅z  -2⋅T₁⋅z  -T₂⋅z  -T₃⋅z\n",
       " ⋅ℯ     ⋅ℯ      + 0.32⋅ℯ       ⋅ℯ        + 1.0⋅ℯ       ⋅ℯ       ⋅ℯ     ⋅ℯ     "
      ]
     },
     "execution_count": 48,
     "metadata": {},
     "output_type": "execute_result"
    }
   ],
   "source": [
    "num2"
   ]
  },
  {
   "cell_type": "code",
   "execution_count": 17,
   "metadata": {
    "collapsed": false
   },
   "outputs": [],
   "source": [
    "num3 = num2.subs({sp.exp(-z*T): sp.cos(-x*T)*(1j*sp.sin(y*T)+sp.cos(y*T)) for T in Ts})"
   ]
  },
  {
   "cell_type": "code",
   "execution_count": 49,
   "metadata": {
    "collapsed": false
   },
   "outputs": [
    {
     "data": {
      "image/png": "[encoded data removed]",
      "text/latex": [
       "$$1.0 \\left(1.0 i \\sin{\\left (T_{0} y \\right )} + \\cos{\\left (T_{0} y \\right )}\\right)^{2} \\left(1.0 i \\sin{\\left (T_{1} y \\right )} + \\cos{\\left (T_{1} y \\right )}\\right)^{2} \\left(1.0 i \\sin{\\left (T_{2} y \\right )} + \\cos{\\left (T_{2} y \\right )}\\right) \\left(1.0 i \\sin{\\left (T_{3} y \\right )} + \\cos{\\left (T_{3} y \\right )}\\right) \\cos^{2}{\\left (T_{0} x \\right )} \\cos^{2}{\\left (T_{1} x \\right )} \\cos{\\left (T_{2} x \\right )} \\cos{\\left (T_{3} x \\right )} + 0.32 \\left(1.0 i \\sin{\\left (T_{0} y \\right )} + \\cos{\\left (T_{0} y \\right )}\\right)^{2} \\left(1.0 i \\sin{\\left (T_{1} y \\right )} + \\cos{\\left (T_{1} y \\right )}\\right)^{2} \\cos^{2}{\\left (T_{0} x \\right )} \\cos^{2}{\\left (T_{1} x \\right )} - 0.72 \\left(1.0 i \\sin{\\left (T_{0} y \\right )} + \\cos{\\left (T_{0} y \\right )}\\right) \\left(1.0 i \\sin{\\left (T_{1} y \\right )} + \\cos{\\left (T_{1} y \\right )}\\right) \\left(1.0 i \\sin{\\left (T_{2} y \\right )} + \\cos{\\left (T_{2} y \\right )}\\right) \\left(1.0 i \\sin{\\left (T_{3} y \\right )} + \\cos{\\left (T_{3} y \\right )}\\right) \\cos{\\left (T_{0} x \\right )} \\cos{\\left (T_{1} x \\right )} \\cos{\\left (T_{2} x \\right )} \\cos{\\left (T_{3} x \\right )} - 0.8352 \\left(1.0 i \\sin{\\left (T_{0} y \\right )} + \\cos{\\left (T_{0} y \\right )}\\right) \\left(1.0 i \\sin{\\left (T_{1} y \\right )} + \\cos{\\left (T_{1} y \\right )}\\right) \\cos{\\left (T_{0} x \\right )} \\cos{\\left (T_{1} x \\right )} + 0.1296 \\left(1.0 i \\sin{\\left (T_{2} y \\right )} + \\cos{\\left (T_{2} y \\right )}\\right) \\left(1.0 i \\sin{\\left (T_{3} y \\right )} + \\cos{\\left (T_{3} y \\right )}\\right) \\cos{\\left (T_{2} x \\right )} \\cos{\\left (T_{3} x \\right )} + 0.2592$$"
      ],
      "text/plain": [
       "                                 2                              2             \n",
       "1.0⋅(1.0⋅ⅈ⋅sin(T₀⋅y) + cos(T₀⋅y)) ⋅(1.0⋅ⅈ⋅sin(T₁⋅y) + cos(T₁⋅y)) ⋅(1.0⋅ⅈ⋅sin(T\n",
       "\n",
       "                                                   2          2               \n",
       "₂⋅y) + cos(T₂⋅y))⋅(1.0⋅ⅈ⋅sin(T₃⋅y) + cos(T₃⋅y))⋅cos (T₀⋅x)⋅cos (T₁⋅x)⋅cos(T₂⋅x\n",
       "\n",
       "                                                2                             \n",
       ")⋅cos(T₃⋅x) + 0.32⋅(1.0⋅ⅈ⋅sin(T₀⋅y) + cos(T₀⋅y)) ⋅(1.0⋅ⅈ⋅sin(T₁⋅y) + cos(T₁⋅y)\n",
       "\n",
       " 2    2          2                                                            \n",
       ") ⋅cos (T₀⋅x)⋅cos (T₁⋅x) - - -0.72⋅(1.0⋅ⅈ⋅sin(T₀⋅y) + cos(T₀⋅y))⋅(1.0⋅ⅈ⋅sin(T₁\n",
       "\n",
       "                                                                              \n",
       "⋅y) + cos(T₁⋅y))⋅(1.0⋅ⅈ⋅sin(T₂⋅y) + cos(T₂⋅y))⋅(1.0⋅ⅈ⋅sin(T₃⋅y) + cos(T₃⋅y))⋅c\n",
       "\n",
       "                                                                              \n",
       "os(T₀⋅x)⋅cos(T₁⋅x)⋅cos(T₂⋅x)⋅cos(T₃⋅x) - - -0.8352⋅(1.0⋅ⅈ⋅sin(T₀⋅y) + cos(T₀⋅y\n",
       "\n",
       "                                                                              \n",
       "))⋅(1.0⋅ⅈ⋅sin(T₁⋅y) + cos(T₁⋅y))⋅cos(T₀⋅x)⋅cos(T₁⋅x) + 0.1296⋅(1.0⋅ⅈ⋅sin(T₂⋅y)\n",
       "\n",
       "                                                                        \n",
       " + cos(T₂⋅y))⋅(1.0⋅ⅈ⋅sin(T₃⋅y) + cos(T₃⋅y))⋅cos(T₂⋅x)⋅cos(T₃⋅x) + 0.2592"
      ]
     },
     "execution_count": 49,
     "metadata": {},
     "output_type": "execute_result"
    }
   ],
   "source": [
    "num3"
   ]
  },
  {
   "cell_type": "code",
   "execution_count": 18,
   "metadata": {
    "collapsed": true
   },
   "outputs": [],
   "source": [
    "num_real,num_imag = num3.expand().as_real_imag()"
   ]
  },
  {
   "cell_type": "code",
   "execution_count": 57,
   "metadata": {
    "collapsed": false
   },
   "outputs": [],
   "source": []
  },
  {
   "cell_type": "code",
   "execution_count": 44,
   "metadata": {
    "collapsed": false
   },
   "outputs": [
    {
     "data": {
      "image/png": "[encoded data removed]",
      "text/latex": [
       "$$\\left [ x, \\quad y, \\quad \\left [ T_{0}, \\quad T_{1}, \\quad T_{2}, \\quad T_{3}\\right ]\\right ]$$"
      ],
      "text/plain": [
       "[x, y, [T₀, T₁, T₂, T₃]]"
      ]
     },
     "execution_count": 44,
     "metadata": {},
     "output_type": "execute_result"
    }
   ],
   "source": [
    "[x,y]+[Ts]"
   ]
  },
  {
   "cell_type": "code",
   "execution_count": 122,
   "metadata": {
    "collapsed": false
   },
   "outputs": [],
   "source": [
    "f_r =  ufuncify( [x,y]+Ts, num_real)\n",
    "f_i =  ufuncify( [x,y]+Ts, num_imag)"
   ]
  },
  {
   "cell_type": "code",
   "execution_count": 47,
   "metadata": {
    "collapsed": false
   },
   "outputs": [
    {
     "data": {
      "text/plain": [
       "(0.14730830564958425-0.40346430265728966j)"
      ]
     },
     "execution_count": 47,
     "metadata": {},
     "output_type": "execute_result"
    }
   ],
   "source": [
    "f_r(1,2,3,4,5,6)+f_i(1,2,3,4,5,6)*1j"
   ]
  },
  {
   "cell_type": "code",
   "execution_count": 52,
   "metadata": {
    "collapsed": false,
    "scrolled": true
   },
   "outputs": [
    {
     "data": {
      "image/png": "[encoded data removed]",
      "text/latex": [
       "$$0.147308305649584 - 0.40346430265729 i$$"
      ],
      "text/plain": [
       "0.147308305649584 - - -0.40346430265729⋅ⅈ"
      ]
     },
     "execution_count": 52,
     "metadata": {},
     "output_type": "execute_result"
    }
   ],
   "source": [
    "## testing\n",
    "num3.subs({x:1,y:2,Ts[0]:3,Ts[1]:4,Ts[2]:5,Ts[3]:6}).evalf()"
   ]
  },
  {
   "cell_type": "code",
   "execution_count": 89,
   "metadata": {
    "collapsed": false
   },
   "outputs": [],
   "source": [
    "#Consolidating\n",
    "def get_real_imag_func(expression):\n",
    "    '''\n",
    "    Takes an expression in terms of Ts and sp.exp(-z*T) for T in Ts. \n",
    "    Here :math:`z = x + i y` is a complex number.\n",
    "    '''\n",
    "    D = {sp.exp(-z*T): sp.cos(-x*T)*(1j*sp.sin(y*T)+sp.cos(y*T)) for T in Ts}\n",
    "    expression2 = expression.subs(D)\n",
    "    num_real,num_imag = expression2.expand().as_real_imag()\n",
    "    f_r =  ufuncify( [x,y]+Ts, num_real)\n",
    "    f_i =  ufuncify( [x,y]+Ts, num_imag)\n",
    "    return lambda x,y,Ts: f_r(x,y,*Ts)+f_i(x,y,*Ts)*1j"
   ]
  },
  {
   "cell_type": "code",
   "execution_count": 90,
   "metadata": {
    "collapsed": true
   },
   "outputs": [],
   "source": [
    "F = get_real_imag_func(num2)"
   ]
  },
  {
   "cell_type": "code",
   "execution_count": 91,
   "metadata": {
    "collapsed": false
   },
   "outputs": [
    {
     "data": {
      "text/plain": [
       "(0.14730830564958425-0.40346430265728966j)"
      ]
     },
     "execution_count": 91,
     "metadata": {},
     "output_type": "execute_result"
    }
   ],
   "source": [
    "##  testing\n",
    "F(1,2,(3,4,5,6))"
   ]
  },
  {
   "cell_type": "code",
   "execution_count": 104,
   "metadata": {
    "collapsed": false
   },
   "outputs": [
    {
     "data": {
      "text/plain": [
       "(-0.33226636779973417+1.7256217430980794j)"
      ]
     },
     "execution_count": 104,
     "metadata": {},
     "output_type": "execute_result"
    }
   ],
   "source": [
    "get_real_imag_func(sp.diff(num2,z))(1,2,(3,4,5,6))"
   ]
  },
  {
   "cell_type": "code",
   "execution_count": 117,
   "metadata": {
    "collapsed": false
   },
   "outputs": [],
   "source": [
    "def blah(args):\n",
    "    for i in range(500):\n",
    "        F(*args)"
   ]
  },
  {
   "cell_type": "code",
   "execution_count": 161,
   "metadata": {
    "collapsed": true
   },
   "outputs": [],
   "source": [
    "ls = [[0.]*5]*5"
   ]
  },
  {
   "cell_type": "code",
   "execution_count": 163,
   "metadata": {
    "collapsed": false
   },
   "outputs": [],
   "source": [
    "ls[1][2] = 4"
   ]
  },
  {
   "cell_type": "code",
   "execution_count": 164,
   "metadata": {
    "collapsed": false
   },
   "outputs": [
    {
     "data": {
      "image/png": "[encoded data removed]",
      "text/latex": [
       "$$\\left [ \\left [ 0.0, \\quad 0.0, \\quad 4, \\quad 0.0, \\quad 0.0\\right ], \\quad \\left [ 0.0, \\quad 0.0, \\quad 4, \\quad 0.0, \\quad 0.0\\right ], \\quad \\left [ 0.0, \\quad 0.0, \\quad 4, \\quad 0.0, \\quad 0.0\\right ], \\quad \\left [ 0.0, \\quad 0.0, \\quad 4, \\quad 0.0, \\quad 0.0\\right ], \\quad \\left [ 0.0, \\quad 0.0, \\quad 4, \\quad 0.0, \\quad 0.0\\right ]\\right ]$$"
      ],
      "text/plain": [
       "[[0.0, 0.0, 4, 0.0, 0.0], [0.0, 0.0, 4, 0.0, 0.0], [0.0, 0.0, 4, 0.0, 0.0], [0\n",
       ".0, 0.0, 4, 0.0, 0.0], [0.0, 0.0, 4, 0.0, 0.0]]"
      ]
     },
     "execution_count": 164,
     "metadata": {},
     "output_type": "execute_result"
    }
   ],
   "source": [
    "ls"
   ]
  },
  {
   "cell_type": "code",
   "execution_count": 165,
   "metadata": {
    "collapsed": true
   },
   "outputs": [],
   "source": [
    "ls2 = np.zeros((5,5))"
   ]
  },
  {
   "cell_type": "code",
   "execution_count": 166,
   "metadata": {
    "collapsed": false
   },
   "outputs": [
    {
     "data": {
      "text/plain": [
       "array([[ 0.,  0.,  0.,  0.,  0.],\n",
       "       [ 0.,  0.,  0.,  0.,  0.],\n",
       "       [ 0.,  0.,  0.,  0.,  0.],\n",
       "       [ 0.,  0.,  0.,  0.,  0.],\n",
       "       [ 0.,  0.,  0.,  0.,  0.]])"
      ]
     },
     "execution_count": 166,
     "metadata": {},
     "output_type": "execute_result"
    }
   ],
   "source": [
    "ls2"
   ]
  },
  {
   "cell_type": "code",
   "execution_count": 169,
   "metadata": {
    "collapsed": false
   },
   "outputs": [],
   "source": [
    "ls2[2,3] = 4"
   ]
  },
  {
   "cell_type": "code",
   "execution_count": 181,
   "metadata": {
    "collapsed": false
   },
   "outputs": [
    {
     "data": {
      "text/plain": [
       "array([[ 0.,  0.,  0.,  0.,  0.],\n",
       "       [ 0.,  0.,  0.,  0.,  0.],\n",
       "       [ 0.,  0.,  0.,  4.,  0.],\n",
       "       [ 0.,  0.,  0.,  0.,  0.],\n",
       "       [ 0.,  0.,  0.,  0.,  0.]])"
      ]
     },
     "execution_count": 181,
     "metadata": {},
     "output_type": "execute_result"
    }
   ],
   "source": [
    "ls2"
   ]
  },
  {
   "cell_type": "code",
   "execution_count": 174,
   "metadata": {
    "collapsed": false
   },
   "outputs": [
    {
     "data": {
      "text/plain": [
       "array([ 0.,  0.,  0.,  4.,  0.])"
      ]
     },
     "execution_count": 174,
     "metadata": {},
     "output_type": "execute_result"
    }
   ],
   "source": [
    "ls2[2]"
   ]
  },
  {
   "cell_type": "code",
   "execution_count": 175,
   "metadata": {
    "collapsed": false
   },
   "outputs": [],
   "source": [
    "delays = [1,4,5,6,7]"
   ]
  },
  {
   "cell_type": "code",
   "execution_count": 179,
   "metadata": {
    "collapsed": false
   },
   "outputs": [
    {
     "data": {
      "image/png": "[encoded data removed]",
      "text/latex": [
       "$$\\left [ 1.0, \\quad 4.0, \\quad 5.0, \\quad 10.0, \\quad 7.0\\right ]$$"
      ],
      "text/plain": [
       "[1.0, 4.0, 5.0, 10.0, 7.0]"
      ]
     },
     "execution_count": 179,
     "metadata": {},
     "output_type": "execute_result"
    }
   ],
   "source": [
    "map(sum,zip(ls2[2],delays))"
   ]
  },
  {
   "cell_type": "code",
   "execution_count": 183,
   "metadata": {
    "collapsed": false
   },
   "outputs": [
    {
     "data": {
      "image/png": "[encoded data removed]",
      "text/latex": [
       "$$1.11$$"
      ],
      "text/plain": [
       "1.11"
      ]
     },
     "execution_count": 183,
     "metadata": {},
     "output_type": "execute_result"
    }
   ],
   "source": [
    "round(1.111111,2)"
   ]
  },
  {
   "cell_type": "code",
   "execution_count": null,
   "metadata": {
    "collapsed": true
   },
   "outputs": [],
   "source": []
  }
 ],
 "metadata": {
  "kernelspec": {
   "display_name": "Python 2",
   "language": "python",
   "name": "python2"
  },
  "language_info": {
   "codemirror_mode": {
    "name": "ipython",
    "version": 2
   },
   "file_extension": ".py",
   "mimetype": "text/x-python",
   "name": "python",
   "nbconvert_exporter": "python",
   "pygments_lexer": "ipython2",
   "version": "2.7.11"
  }
 },
 "nbformat": 4,
 "nbformat_minor": 0
}
