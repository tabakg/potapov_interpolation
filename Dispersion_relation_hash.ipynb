{
 "cells": [
  {
   "cell_type": "markdown",
   "metadata": {},
   "source": [
    "# This notebook includes the hashing approach only for solving the frequency and phase matching problem."
   ]
  },
  {
   "cell_type": "code",
   "execution_count": 1,
   "metadata": {
    "collapsed": true
   },
   "outputs": [],
   "source": [
    "import sympy as sp\n",
    "import numpy as np\n",
    "import scipy.constants\n",
    "from sympy.utilities.autowrap import ufuncify\n",
    "import time\n",
    "from scipy import interpolate\n",
    "\n",
    "import matplotlib.pyplot as plt\n",
    "%matplotlib inline\n",
    "\n",
    "from sympy import init_printing\n",
    "init_printing() \n",
    "\n",
    "import plotly.plotly as py\n",
    "import plotly.graph_objs as go\n",
    "import random\n",
    "\n",
    "# import multiprocessing\n",
    "# pool = multiprocessing.Pool()"
   ]
  },
  {
   "cell_type": "code",
   "execution_count": 2,
   "metadata": {
    "collapsed": true
   },
   "outputs": [],
   "source": [
    "## from https://www.andreas-jung.com/contents/a-python-decorator-for-measuring-the-execution-time-of-methods\n",
    "\n",
    "def timeit(method):\n",
    "    def timed(*args, **kw):\n",
    "        ts = time.time()\n",
    "        result = method(*args, **kw)\n",
    "        te = time.time()\n",
    "        print '%r %2.2f sec' % \\\n",
    "              (method.__name__, te-ts)\n",
    "        return result\n",
    "    return timed"
   ]
  },
  {
   "cell_type": "code",
   "execution_count": 3,
   "metadata": {
    "collapsed": false
   },
   "outputs": [],
   "source": [
    "lambd,omega,omega1,omega2,omega3,omega4 = sp.symbols('lambda omega omega_1 omega_2 omega_3 omega_4')\n",
    "l2 = lambd **2\n",
    "\n",
    "def n_symb(pol='o'):\n",
    "    s = 1.\n",
    "    if pol == 'o':\n",
    "        s += 2.6734 * l2 / (l2 - 0.01764)\n",
    "        s += 1.2290 * l2 / (l2 - 0.05914)\n",
    "        s += 12.614 * l2 / (l2 - 474.6)\n",
    "    else:\n",
    "        s += 2.9804 * l2 / (l2 - 0.02047)\n",
    "        s += 0.5981 * l2 / (l2 - 0.0666)\n",
    "        s += 8.9543 * l2 / (l2 - 416.08)\n",
    "    return sp.sqrt(s)\n",
    "\n",
    "def k_symb(symbol=omega,pol='o'):\n",
    "    '''k is accurate for omega inputs between 6-60.'''\n",
    "    return ((n_symb(pol=pol) * symbol )\n",
    "                .subs(lambd,scipy.constants.c / (symbol*1e7))) ## / scipy.constants.c"
   ]
  },
  {
   "cell_type": "code",
   "execution_count": 4,
   "metadata": {
    "collapsed": true
   },
   "outputs": [],
   "source": [
    "phi1, phi2 = sp.symbols('phi_1 phi_2')"
   ]
  },
  {
   "cell_type": "code",
   "execution_count": 5,
   "metadata": {
    "collapsed": false
   },
   "outputs": [],
   "source": [
    "ex1 = (k_symb(omega1,pol='e')+k_symb(omega2,pol='e')).expand().subs({omega1:(phi1 + phi2)/2, omega2: (phi1-phi2)/2})"
   ]
  },
  {
   "cell_type": "code",
   "execution_count": 19,
   "metadata": {
    "collapsed": false
   },
   "outputs": [],
   "source": [
    "## ex1"
   ]
  },
  {
   "cell_type": "code",
   "execution_count": 7,
   "metadata": {
    "collapsed": true
   },
   "outputs": [],
   "source": [
    "ex2 = -(k_symb(omega3,pol='e')+k_symb(omega4,pol='e')).expand().subs(omega4,-phi1-omega3)"
   ]
  },
  {
   "cell_type": "code",
   "execution_count": 20,
   "metadata": {
    "collapsed": false
   },
   "outputs": [],
   "source": [
    "## ex2"
   ]
  },
  {
   "cell_type": "code",
   "execution_count": 9,
   "metadata": {
    "collapsed": true
   },
   "outputs": [],
   "source": [
    "## We need to find where ex1(phi1,phi2) + ex2(phi1,omega3) = 0."
   ]
  },
  {
   "cell_type": "code",
   "execution_count": 10,
   "metadata": {
    "collapsed": false,
    "scrolled": true
   },
   "outputs": [],
   "source": [
    "diff_func_4wv_1 = ufuncify([phi1,phi2], ex1)\n",
    "diff_func_4wv_2 = ufuncify([phi1,omega3], ex2)"
   ]
  },
  {
   "cell_type": "code",
   "execution_count": 11,
   "metadata": {
    "collapsed": false
   },
   "outputs": [
    {
     "name": "stdout",
     "output_type": "stream",
     "text": [
      "400 400 1000\n"
     ]
    }
   ],
   "source": [
    "phi1_min = 30.\n",
    "phi1_max = 34.\n",
    "phi1_range = np.arange(phi1_min,phi1_max,0.01)\n",
    "\n",
    "phi2_min = -13\n",
    "phi2_max = -9\n",
    "phi2_range = np.arange(phi2_min,phi2_max,0.01)\n",
    "\n",
    "omega3_min = -26.\n",
    "omega3_max = -16.\n",
    "omega3_range = np.arange(omega3_min,omega3_max,0.01)  ## 5e-5\n",
    "\n",
    "print len(phi1_range),len(phi2_range),len(omega3_range)"
   ]
  },
  {
   "cell_type": "code",
   "execution_count": 13,
   "metadata": {
    "collapsed": true
   },
   "outputs": [],
   "source": [
    "eps = 1e-4"
   ]
  },
  {
   "cell_type": "code",
   "execution_count": 14,
   "metadata": {
    "collapsed": true
   },
   "outputs": [],
   "source": [
    "def eps_multiply_digitize(y,eps):\n",
    "    return  map(lambda el: int(el/eps), y)\n",
    "\n",
    "\n",
    "def make_dict_values_to_lists_of_inputs(values,inputs):\n",
    "    D = {}\n",
    "    for k, v in zip(values,inputs):\n",
    "        D.setdefault(k, []).append(v)\n",
    "    return D"
   ]
  },
  {
   "cell_type": "code",
   "execution_count": 15,
   "metadata": {
    "collapsed": true
   },
   "outputs": [],
   "source": [
    "f_phi12_omega3 = lambda phi1,phi2,omega3 : (diff_func_4wv_1(phi1_range[phi1],phi2_range[phi2]) \n",
    "                                            - diff_func_4wv_2(phi1_range[phi1],omega3_range[omega3]) )"
   ]
  },
  {
   "cell_type": "code",
   "execution_count": 16,
   "metadata": {
    "collapsed": true
   },
   "outputs": [],
   "source": [
    "@timeit\n",
    "def make_matching_dict_hash(phi1_range,phi2_range,omega3_range,eps=eps):\n",
    "    phi2_indices = range(len(phi2_range))\n",
    "    omega3_indices = range(len(omega3_range))\n",
    "    matching_dict = {}\n",
    "    for phi1_index,phi1 in enumerate(phi1_range):\n",
    "        y1 = diff_func_4wv_1(phi1,phi2_range)\n",
    "        y2 = diff_func_4wv_2(phi1,omega3_range)\n",
    "\n",
    "        y1_rounded = eps_multiply_digitize(y1,eps)\n",
    "        y1_rounded_up =  [ind + 1 for ind in y1_rounded]\n",
    "        y2_rounded = eps_multiply_digitize(y2,eps)\n",
    "        y2_rounded_up =  [ind + 1 for ind in y2_rounded]\n",
    "                \n",
    "        D1 = make_dict_values_to_lists_of_inputs(y1_rounded+y1_rounded_up,2*phi2_indices)\n",
    "        D2 = make_dict_values_to_lists_of_inputs(y2_rounded+y2_rounded_up,2*omega3_indices)\n",
    "            \n",
    "        inter = set(D1.keys()) & set(D2.keys())\n",
    "        \n",
    "        for el in inter:\n",
    "            for ind1 in D1[el]:\n",
    "                for ind2 in D2[el]:\n",
    "                    err = y1[ind1]-y2[ind2]\n",
    "                    if abs(err) < eps:\n",
    "                        matching_dict[phi1_index,ind1,ind2] = err \n",
    "        \n",
    "    return matching_dict"
   ]
  },
  {
   "cell_type": "code",
   "execution_count": 17,
   "metadata": {
    "collapsed": true
   },
   "outputs": [],
   "source": [
    "#### e.g."
   ]
  },
  {
   "cell_type": "code",
   "execution_count": 18,
   "metadata": {
    "collapsed": false
   },
   "outputs": [
    {
     "name": "stdout",
     "output_type": "stream",
     "text": [
      "'make_matching_dict_hash' 7.63 sec\n"
     ]
    }
   ],
   "source": [
    "matching_dict_hash = make_matching_dict_hash(phi1_range,phi2_range,omega3_range,eps=eps)"
   ]
  },
  {
   "cell_type": "code",
   "execution_count": 21,
   "metadata": {
    "collapsed": false
   },
   "outputs": [
    {
     "data": {
      "image/png": "[encoded data removed]",
      "text/latex": [
       "$$2365644$$"
      ],
      "text/plain": [
       "2365644"
      ]
     },
     "execution_count": 21,
     "metadata": {},
     "output_type": "execute_result"
    }
   ],
   "source": [
    "len(matching_dict_hash)"
   ]
  }
 ],
 "metadata": {
  "kernelspec": {
   "display_name": "Python 2",
   "language": "python",
   "name": "python2"
  },
  "language_info": {
   "codemirror_mode": {
    "name": "ipython",
    "version": 2
   },
   "file_extension": ".py",
   "mimetype": "text/x-python",
   "name": "python",
   "nbconvert_exporter": "python",
   "pygments_lexer": "ipython2",
   "version": "2.7.12"
  },
  "widgets": {
   "state": {},
   "version": "1.1.2"
  }
 },
 "nbformat": 4,
 "nbformat_minor": 0
}
