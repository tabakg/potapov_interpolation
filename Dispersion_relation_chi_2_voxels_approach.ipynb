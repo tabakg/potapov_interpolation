{
 "cells": [
  {
   "cell_type": "markdown",
   "metadata": {},
   "source": [
    "# Solving phase and frequency matching conditions for $\\chi^{(2)}$  with voxels of increasing resolution.\n",
    "\n",
    "# Applying voxels of increasing resolution to $\\chi^{(3)}$.\n",
    "Refractive index from:\n",
    "\n",
    "http://refractiveindex.info/?shelf=main&book=LiNbO3&page=Zelmon-o"
   ]
  },
  {
   "cell_type": "markdown",
   "metadata": {},
   "source": [
    "see also the notebook Dispersion_relation_chi_2_and_interpolations"
   ]
  },
  {
   "cell_type": "code",
   "execution_count": 130,
   "metadata": {
    "collapsed": false
   },
   "outputs": [],
   "source": [
    "import sympy as sp\n",
    "import numpy as np\n",
    "import scipy.constants\n",
    "from sympy.utilities.autowrap import ufuncify\n",
    "import time\n",
    "import itertools\n",
    "#from scipy import interpolate\n",
    "\n",
    "import matplotlib.pyplot as plt\n",
    "%matplotlib inline\n",
    "\n",
    "from sympy import init_printing\n",
    "init_printing() \n",
    "import random"
   ]
  },
  {
   "cell_type": "code",
   "execution_count": 131,
   "metadata": {
    "collapsed": true
   },
   "outputs": [],
   "source": [
    "def plot_arr(arr):\n",
    "    fig = plt.figure(figsize=(15,15))\n",
    "    ax = fig.add_subplot(111)\n",
    "    cax = ax.matshow(np.asmatrix(arr), interpolation='nearest')\n",
    "    fig.colorbar(cax)\n",
    "    plt.show()"
   ]
  },
  {
   "cell_type": "code",
   "execution_count": 132,
   "metadata": {
    "collapsed": true
   },
   "outputs": [],
   "source": [
    "## from https://www.andreas-jung.com/contents/a-python-decorator-for-measuring-the-execution-time-of-methods\n",
    "\n",
    "def timeit(method):\n",
    "    def timed(*args, **kw):\n",
    "        ts = time.time()\n",
    "        result = method(*args, **kw)\n",
    "        te = time.time()\n",
    "        print '%r %2.2f sec' % \\\n",
    "              (method.__name__, te-ts)\n",
    "        return result\n",
    "    return timed"
   ]
  },
  {
   "cell_type": "code",
   "execution_count": 133,
   "metadata": {
    "collapsed": false
   },
   "outputs": [],
   "source": [
    "lambd,nu,nu1,nu2,nu3,nu4 = sp.symbols('lambda nu nu_1 nu_2 nu_3 nu_4')\n",
    "l2 = lambd **2\n",
    "\n",
    "def n_symb(pol='o'):\n",
    "    s = 1.\n",
    "    if pol == 'o':\n",
    "        s += 2.6734 * l2 / (l2 - 0.01764)\n",
    "        s += 1.2290 * l2 / (l2 - 0.05914)\n",
    "        s += 12.614 * l2 / (l2 - 474.6)\n",
    "    else:\n",
    "        s += 2.9804 * l2 / (l2 - 0.02047)\n",
    "        s += 0.5981 * l2 / (l2 - 0.0666)\n",
    "        s += 8.9543 * l2 / (l2 - 416.08)\n",
    "    return sp.sqrt(s)\n",
    "\n",
    "def k_symb(symbol=nu,pol='o'):\n",
    "    '''k is accurate for nu inputs between 6-60.'''\n",
    "    return ((n_symb(pol=pol) * symbol )\n",
    "                .subs(lambd,scipy.constants.c / (symbol*1e7))) ## / scipy.constants.c"
   ]
  },
  {
   "cell_type": "code",
   "execution_count": 134,
   "metadata": {
    "collapsed": true
   },
   "outputs": [],
   "source": [
    "expressions = [k_symb(nu1,pol='o'), k_symb(nu2,pol='o'), k_symb(nu3,pol='e')]"
   ]
  },
  {
   "cell_type": "code",
   "execution_count": 135,
   "metadata": {
    "collapsed": false
   },
   "outputs": [],
   "source": [
    "dispersion_difference_function = sum(expressions)\n",
    "dispersion_difference_function = dispersion_difference_function.subs(nu3,-nu1-nu2)"
   ]
  },
  {
   "cell_type": "code",
   "execution_count": 136,
   "metadata": {
    "collapsed": false
   },
   "outputs": [
    {
     "data": {
      "image/png": "[encoded data removed]",
      "text/latex": [
       "$$\\nu_{1} \\sqrt{1.0 + \\frac{2402.73209483501}{\\nu_{1}^{2} \\left(-0.01764 + \\frac{898.755178736817}{\\nu_{1}^{2}}\\right)} + \\frac{1104.57011466755}{\\nu_{1}^{2} \\left(-0.05914 + \\frac{898.755178736817}{\\nu_{1}^{2}}\\right)} + \\frac{11336.8978245862}{\\nu_{1}^{2} \\left(-474.6 + \\frac{898.755178736817}{\\nu_{1}^{2}}\\right)}} + \\nu_{2} \\sqrt{1.0 + \\frac{2402.73209483501}{\\nu_{2}^{2} \\left(-0.01764 + \\frac{898.755178736817}{\\nu_{2}^{2}}\\right)} + \\frac{1104.57011466755}{\\nu_{2}^{2} \\left(-0.05914 + \\frac{898.755178736817}{\\nu_{2}^{2}}\\right)} + \\frac{11336.8978245862}{\\nu_{2}^{2} \\left(-474.6 + \\frac{898.755178736817}{\\nu_{2}^{2}}\\right)}} + \\left(- \\nu_{1} - \\nu_{2}\\right) \\sqrt{1.0 + \\frac{2678.64993470721}{\\left(-0.02047 + \\frac{898.755178736817}{\\left(- \\nu_{1} - \\nu_{2}\\right)^{2}}\\right) \\left(- \\nu_{1} - \\nu_{2}\\right)^{2}} + \\frac{537.545472402491}{\\left(-0.0666 + \\frac{898.755178736817}{\\left(- \\nu_{1} - \\nu_{2}\\right)^{2}}\\right) \\left(- \\nu_{1} - \\nu_{2}\\right)^{2}} + \\frac{8047.72349696308}{\\left(-416.08 + \\frac{898.755178736817}{\\left(- \\nu_{1} - \\nu_{2}\\right)^{2}}\\right) \\left(- \\nu_{1} - \\nu_{2}\\right)^{2}}}$$"
      ],
      "text/plain": [
       "          ____________________________________________________________________\n",
       "         ╱                2402.73209483501                    1104.57011466755\n",
       "ν₁⋅     ╱  1.0 + ───────────────────────────────── + ─────────────────────────\n",
       "       ╱           2 ⎛           898.755178736817⎞     2 ⎛           898.75517\n",
       "      ╱          ν₁ ⋅⎜-0.01764 + ────────────────⎟   ν₁ ⋅⎜-0.05914 + ─────────\n",
       "     ╱               ⎜                   2       ⎟       ⎜                   2\n",
       "   ╲╱                ⎝                 ν₁        ⎠       ⎝                 ν₁ \n",
       "\n",
       "___________________________________________             ______________________\n",
       "                   11336.8978245862                    ╱                2402.7\n",
       "──────── + ───────────────────────────────  + ν₂⋅     ╱  1.0 + ───────────────\n",
       "8736817⎞     2 ⎛         898.755178736817⎞           ╱           2 ⎛          \n",
       "───────⎟   ν₁ ⋅⎜-474.6 + ────────────────⎟          ╱          ν₂ ⋅⎜-0.01764 +\n",
       "       ⎟       ⎜                 2       ⎟         ╱               ⎜          \n",
       "       ⎠       ⎝               ν₁        ⎠       ╲╱                ⎝          \n",
       "\n",
       "______________________________________________________________________________\n",
       "3209483501                    1104.57011466755                   11336.8978245\n",
       "────────────────── + ───────────────────────────────── + ─────────────────────\n",
       " 898.755178736817⎞     2 ⎛           898.755178736817⎞     2 ⎛         898.755\n",
       " ────────────────⎟   ν₂ ⋅⎜-0.05914 + ────────────────⎟   ν₂ ⋅⎜-474.6 + ───────\n",
       "         2       ⎟       ⎜                   2       ⎟       ⎜                \n",
       "       ν₂        ⎠       ⎝                 ν₂        ⎠       ⎝               ν\n",
       "\n",
       "___________                     ______________________________________________\n",
       "862                            ╱                    2678.64993470721          \n",
       "──────────  + (-ν₁ - ν₂)⋅     ╱  1.0 + ───────────────────────────────────────\n",
       "178736817⎞                   ╱         ⎛           898.755178736817⎞          \n",
       "─────────⎟                  ╱          ⎜-0.02047 + ────────────────⎟⋅(-ν₁ - ν₂\n",
       " 2       ⎟                 ╱           ⎜                       2   ⎟          \n",
       "₂        ⎠               ╲╱            ⎝             (-ν₁ - ν₂)    ⎠          \n",
       "\n",
       "______________________________________________________________________________\n",
       "                 537.545472402491                           8047.72349696308  \n",
       "── + ──────────────────────────────────────── + ──────────────────────────────\n",
       " 2   ⎛          898.755178736817⎞           2   ⎛          898.755178736817⎞  \n",
       ")    ⎜-0.0666 + ────────────────⎟⋅(-ν₁ - ν₂)    ⎜-416.08 + ────────────────⎟⋅(\n",
       "     ⎜                      2   ⎟               ⎜                      2   ⎟  \n",
       "     ⎝            (-ν₁ - ν₂)    ⎠               ⎝            (-ν₁ - ν₂)    ⎠  \n",
       "\n",
       "___________\n",
       "           \n",
       "────────── \n",
       "         2 \n",
       "-ν₁ - ν₂)  \n",
       "           \n",
       "           "
      ]
     },
     "execution_count": 136,
     "metadata": {},
     "output_type": "execute_result"
    }
   ],
   "source": [
    "dispersion_difference_function"
   ]
  },
  {
   "cell_type": "code",
   "execution_count": 137,
   "metadata": {
    "collapsed": false
   },
   "outputs": [],
   "source": [
    "k_of_nu1_nu2 = ufuncify([nu1,nu2],dispersion_difference_function)"
   ]
  },
  {
   "cell_type": "markdown",
   "metadata": {},
   "source": [
    "### Find maximum derivative of dispersion_difference_function over a range. This could be used as a bound for $\\epsilon$ to guarantee results."
   ]
  },
  {
   "cell_type": "code",
   "execution_count": 9,
   "metadata": {
    "collapsed": true
   },
   "outputs": [],
   "source": [
    "def find_max_der(expression,symbol,input_range):\n",
    "    expr_der = sp.diff(expression,symbol)\n",
    "    expr_def_func = ufuncify([symbol],expr_der)\n",
    "    return max(abs(expr_def_func(input_range)))"
   ]
  },
  {
   "cell_type": "code",
   "execution_count": 10,
   "metadata": {
    "collapsed": false
   },
   "outputs": [],
   "source": [
    "## Apply the triangle inequality over a range of nus\n",
    "\n",
    "nus = np.asarray([6.+ i*5e-2 for i in range(1+int(1e3))])\n",
    "max_derivative = sum([find_max_der(exp,om,nus) for om,exp in zip([nu1,nu2,nu3],expressions)])"
   ]
  },
  {
   "cell_type": "code",
   "execution_count": 11,
   "metadata": {
    "collapsed": false
   },
   "outputs": [
    {
     "data": {
      "image/png": "[encoded data removed]",
      "text/latex": [
       "$$7.60876091113$$"
      ],
      "text/plain": [
       "7.60876091113"
      ]
     },
     "execution_count": 11,
     "metadata": {},
     "output_type": "execute_result"
    }
   ],
   "source": [
    "max_derivative"
   ]
  },
  {
   "cell_type": "markdown",
   "metadata": {},
   "source": [
    "## Methods for systematic search over ranges\n",
    "\n",
    "### Definitions:\n",
    "`base` -- The number base to use, i.e. the factor to increase the grid resolution at each step.\n",
    "`starting_i` -- index of starting step. `0` means we use a grid of size `base` by `base`.\n",
    "`max_i` -- final index.\n",
    "`eps` -- desired resolution at step max_i\n",
    "\n",
    "### Description \n",
    "\n",
    "To look for solutions more efficiently, we can recursively enhance the resolution of the grid in which we are looking. At each step, decrease the cutoff `eps_current` by some factor (for now let's make it `base`). For the set of voxels in each step that are close enough to a solution of the equation, increase the resolution by a factor of `base` and examine the resulting smaller voxels. Continue until the last step."
   ]
  },
  {
   "cell_type": "code",
   "execution_count": 274,
   "metadata": {
    "collapsed": true
   },
   "outputs": [],
   "source": [
    "eps = 0.00002\n",
    "starting_i = 0\n",
    "max_i = 4\n",
    "base = 10"
   ]
  },
  {
   "cell_type": "code",
   "execution_count": 275,
   "metadata": {
    "collapsed": true
   },
   "outputs": [],
   "source": [
    "min_value = 6.\n",
    "max_value = 20."
   ]
  },
  {
   "cell_type": "code",
   "execution_count": 276,
   "metadata": {
    "collapsed": false
   },
   "outputs": [],
   "source": [
    "@timeit\n",
    "def setup_ranges(max_i,base):\n",
    "    ranges= {}\n",
    "    for i in range(max_i+1):\n",
    "        ranges[i] = np.linspace(min_value,max_value,1+pow(base,i+1))\n",
    "    return ranges"
   ]
  },
  {
   "cell_type": "markdown",
   "metadata": {},
   "source": [
    "### Note: How to obtain the index of $\\nu_3$."
   ]
  },
  {
   "cell_type": "code",
   "execution_count": 277,
   "metadata": {
    "collapsed": true
   },
   "outputs": [],
   "source": [
    "i = 2"
   ]
  },
  {
   "cell_type": "code",
   "execution_count": 278,
   "metadata": {
    "collapsed": false
   },
   "outputs": [
    {
     "data": {
      "image/png": "[encoded data removed]",
      "text/latex": [
       "$$1001$$"
      ],
      "text/plain": [
       "1001"
      ]
     },
     "execution_count": 278,
     "metadata": {},
     "output_type": "execute_result"
    }
   ],
   "source": [
    "1+pow(base,i+1)"
   ]
  },
  {
   "cell_type": "code",
   "execution_count": 279,
   "metadata": {
    "collapsed": false
   },
   "outputs": [
    {
     "data": {
      "text/plain": [
       "array([  6.   ,   6.014,   6.028, ...,  19.972,  19.986,  20.   ])"
      ]
     },
     "execution_count": 279,
     "metadata": {},
     "output_type": "execute_result"
    }
   ],
   "source": [
    "np.linspace(min_value,max_value,1+pow(base,i+1))"
   ]
  },
  {
   "cell_type": "code",
   "execution_count": 280,
   "metadata": {
    "collapsed": false
   },
   "outputs": [
    {
     "data": {
      "image/png": "[encoded data removed]",
      "text/latex": [
       "$$0.014$$"
      ],
      "text/plain": [
       "0.014"
      ]
     },
     "execution_count": 280,
     "metadata": {},
     "output_type": "execute_result"
    }
   ],
   "source": [
    "spacing = (max_value-min_value)/ pow(base,i+1)\n",
    "spacing"
   ]
  },
  {
   "cell_type": "code",
   "execution_count": 281,
   "metadata": {
    "collapsed": false
   },
   "outputs": [
    {
     "data": {
      "image/png": "[encoded data removed]",
      "text/latex": [
       "$$428.571428571$$"
      ],
      "text/plain": [
       "428.571428571"
      ]
     },
     "execution_count": 281,
     "metadata": {},
     "output_type": "execute_result"
    }
   ],
   "source": [
    "num_indices_from_zero = min_value / spacing\n",
    "num_indices_from_zero"
   ]
  },
  {
   "cell_type": "code",
   "execution_count": 282,
   "metadata": {
    "collapsed": false
   },
   "outputs": [
    {
     "data": {
      "text/plain": [
       "array([  6.   ,   6.005,   6.01 , ...,  10.99 ,  10.995,  11.   ])"
      ]
     },
     "execution_count": 282,
     "metadata": {},
     "output_type": "execute_result"
    }
   ],
   "source": [
    "ranges[i]"
   ]
  },
  {
   "cell_type": "code",
   "execution_count": 283,
   "metadata": {
    "collapsed": false
   },
   "outputs": [
    {
     "ename": "IndexError",
     "evalue": "list index out of range",
     "output_type": "error",
     "traceback": [
      "\u001b[0;31m---------------------------------------------------------------------------\u001b[0m",
      "\u001b[0;31mIndexError\u001b[0m                                Traceback (most recent call last)",
      "\u001b[0;32m<ipython-input-283-c5d70f052923>\u001b[0m in \u001b[0;36m<module>\u001b[0;34m()\u001b[0m\n\u001b[0;32m----> 1\u001b[0;31m \u001b[0msample_index\u001b[0m \u001b[0;34m=\u001b[0m \u001b[0msolution_containing_voxels\u001b[0m\u001b[0;34m[\u001b[0m\u001b[0;36m2\u001b[0m\u001b[0;34m]\u001b[0m\u001b[0;34m.\u001b[0m\u001b[0mkeys\u001b[0m\u001b[0;34m(\u001b[0m\u001b[0;34m)\u001b[0m\u001b[0;34m[\u001b[0m\u001b[0;36m1000\u001b[0m\u001b[0;34m]\u001b[0m\u001b[0;34m\u001b[0m\u001b[0m\n\u001b[0m",
      "\u001b[0;31mIndexError\u001b[0m: list index out of range"
     ]
    }
   ],
   "source": [
    "sample_index = solution_containing_voxels[2].keys()[1000]"
   ]
  },
  {
   "cell_type": "code",
   "execution_count": 284,
   "metadata": {
    "collapsed": false
   },
   "outputs": [
    {
     "data": {
      "image/png": "[encoded data removed]",
      "text/latex": [
       "$$\\left ( 150, \\quad 146\\right )$$"
      ],
      "text/plain": [
       "(150, 146)"
      ]
     },
     "execution_count": 284,
     "metadata": {},
     "output_type": "execute_result"
    }
   ],
   "source": [
    "sample_index"
   ]
  },
  {
   "cell_type": "code",
   "execution_count": 285,
   "metadata": {
    "collapsed": false,
    "scrolled": true
   },
   "outputs": [
    {
     "data": {
      "image/png": "[encoded data removed]",
      "text/latex": [
       "$$9.62$$"
      ],
      "text/plain": [
       "9.62"
      ]
     },
     "execution_count": 285,
     "metadata": {},
     "output_type": "execute_result"
    }
   ],
   "source": [
    "ranges[2][(sum(sample_index)+int(num_indices_from_zero))]"
   ]
  },
  {
   "cell_type": "markdown",
   "metadata": {},
   "source": [
    "### Main methods used"
   ]
  },
  {
   "cell_type": "code",
   "execution_count": 286,
   "metadata": {
    "collapsed": false
   },
   "outputs": [],
   "source": [
    "@timeit\n",
    "def initial_voxels(max_i,base,starting_i,eps):\n",
    "    solution_containing_voxels = {}\n",
    "    eps_current = eps * pow(base,max_i-starting_i)\n",
    "    solution_containing_voxels[starting_i] = {}\n",
    "    \n",
    "    for i1,om1 in enumerate(ranges[starting_i]):\n",
    "        for i2,om2 in enumerate(ranges[starting_i]):\n",
    "            err = k_of_nu1_nu2(om1,om2)\n",
    "            if abs(err) < eps_current:\n",
    "                solution_containing_voxels[starting_i][i1,i2] = err\n",
    "    return solution_containing_voxels"
   ]
  },
  {
   "cell_type": "code",
   "execution_count": 287,
   "metadata": {
    "collapsed": false
   },
   "outputs": [],
   "source": [
    "@timeit\n",
    "def add_high_res_voxels(max_i,base,starting_i,eps,solution_containing_voxels):\n",
    "    for i in range(starting_i+1,max_i+1):\n",
    "        eps_current = eps * pow(base,max_i-i)\n",
    "        solution_containing_voxels[i] = {}\n",
    "        for (i1,i2) in solution_containing_voxels[i-1]:\n",
    "            step_size = int(base/2)\n",
    "            max_length = pow(base,i+1)\n",
    "            for i1_new in range(max(0,i1*base-step_size),min(max_length,i1*base+step_size+1)):\n",
    "                for i2_new in range(max(0,i2*base-step_size),min(max_length,i2*base+step_size+1)):\n",
    "                    err = k_of_nu1_nu2(ranges[i][i1_new],ranges[i][i2_new])\n",
    "                    if abs(err) < eps_current:\n",
    "                        solution_containing_voxels[i][i1_new,i2_new] = err "
   ]
  },
  {
   "cell_type": "code",
   "execution_count": 288,
   "metadata": {
    "collapsed": true
   },
   "outputs": [],
   "source": [
    "@timeit\n",
    "def plot_voxels(solution_containing_voxels,i):\n",
    "    voxels = np.zeros((1+pow(base,i+1),1+pow(base,i+1)))\n",
    "    for (i1,i2) in solution_containing_voxels[i]:\n",
    "        voxels[i1,i2] = 1\n",
    "    plot_arr(voxels)"
   ]
  },
  {
   "cell_type": "code",
   "execution_count": 289,
   "metadata": {
    "collapsed": true
   },
   "outputs": [],
   "source": [
    "def voxel_solutions(ranges,k_of_nu1_nu2,max_i,base,starting_i,eps):\n",
    "    solution_containing_voxels = initial_voxels(ranges,k_of_nu1_nu2,max_i,\n",
    "                                                base,starting_i,eps)\n",
    "    add_high_res_voxels(ranges,k_of_nu1_nu2,max_i,base,starting_i,eps,\n",
    "                        solution_containing_voxels)\n",
    "    return solution_containing_voxels"
   ]
  },
  {
   "cell_type": "code",
   "execution_count": 290,
   "metadata": {
    "collapsed": false,
    "scrolled": true
   },
   "outputs": [
    {
     "name": "stdout",
     "output_type": "stream",
     "text": [
      "'setup_ranges' 0.00 sec\n"
     ]
    }
   ],
   "source": [
    "ranges = setup_ranges(max_i,base)"
   ]
  },
  {
   "cell_type": "code",
   "execution_count": 291,
   "metadata": {
    "collapsed": false
   },
   "outputs": [
    {
     "name": "stdout",
     "output_type": "stream",
     "text": [
      "'initial_voxels' 0.00 sec\n"
     ]
    }
   ],
   "source": [
    "solution_containing_voxels = initial_voxels(max_i,base,starting_i,eps)"
   ]
  },
  {
   "cell_type": "code",
   "execution_count": 292,
   "metadata": {
    "collapsed": false
   },
   "outputs": [
    {
     "name": "stdout",
     "output_type": "stream",
     "text": [
      "'add_high_res_voxels' 2.06 sec\n"
     ]
    }
   ],
   "source": [
    "add_high_res_voxels(max_i,base,starting_i,eps,solution_containing_voxels)"
   ]
  },
  {
   "cell_type": "code",
   "execution_count": 293,
   "metadata": {
    "collapsed": false,
    "scrolled": false
   },
   "outputs": [
    {
     "data": {
      "image/png": "[encoded data removed]",
      "text/plain": [
       "<matplotlib.figure.Figure at 0x114a20850>"
      ]
     },
     "metadata": {},
     "output_type": "display_data"
    },
    {
     "name": "stdout",
     "output_type": "stream",
     "text": [
      "'plot_voxels' 0.54 sec\n"
     ]
    }
   ],
   "source": [
    "plot_voxels(solution_containing_voxels,0)"
   ]
  },
  {
   "cell_type": "code",
   "execution_count": 294,
   "metadata": {
    "collapsed": false,
    "scrolled": false
   },
   "outputs": [
    {
     "data": {
      "image/png": "[encoded data removed]",
      "text/plain": [
       "<matplotlib.figure.Figure at 0x117fabcd0>"
      ]
     },
     "metadata": {},
     "output_type": "display_data"
    },
    {
     "name": "stdout",
     "output_type": "stream",
     "text": [
      "'plot_voxels' 0.60 sec\n"
     ]
    }
   ],
   "source": [
    "plot_voxels(solution_containing_voxels,1)"
   ]
  },
  {
   "cell_type": "code",
   "execution_count": 295,
   "metadata": {
    "collapsed": false,
    "scrolled": false
   },
   "outputs": [
    {
     "data": {
      "image/png": "[encoded data removed]",
      "text/plain": [
       "<matplotlib.figure.Figure at 0x1138e6910>"
      ]
     },
     "metadata": {},
     "output_type": "display_data"
    },
    {
     "name": "stdout",
     "output_type": "stream",
     "text": [
      "'plot_voxels' 0.63 sec\n"
     ]
    }
   ],
   "source": [
    "plot_voxels(solution_containing_voxels,2)"
   ]
  },
  {
   "cell_type": "code",
   "execution_count": 296,
   "metadata": {
    "collapsed": false
   },
   "outputs": [
    {
     "name": "stdout",
     "output_type": "stream",
     "text": [
      "12\n",
      "79\n",
      "749\n",
      "7609\n",
      "75791\n"
     ]
    }
   ],
   "source": [
    "## Number of solutions found for each resolution:\n",
    "\n",
    "for i in range(0,5):\n",
    "    print len(solution_containing_voxels[i])"
   ]
  },
  {
   "cell_type": "code",
   "execution_count": 297,
   "metadata": {
    "collapsed": false
   },
   "outputs": [
    {
     "data": {
      "text/plain": [
       "[<matplotlib.lines.Line2D at 0x114a20b50>]"
      ]
     },
     "execution_count": 297,
     "metadata": {},
     "output_type": "execute_result"
    },
    {
     "data": {
      "image/png": "[encoded data removed]",
      "text/plain": [
       "<matplotlib.figure.Figure at 0x114a20090>"
      ]
     },
     "metadata": {},
     "output_type": "display_data"
    }
   ],
   "source": [
    "## Number of solutions found for each resolution:\n",
    "plt.title('Number of voxels per step')\n",
    "plt.semilogy([(len(solution_containing_voxels[i])) for i in range(0,max_i)])"
   ]
  },
  {
   "cell_type": "markdown",
   "metadata": {},
   "source": [
    "## Different bases comparison"
   ]
  },
  {
   "cell_type": "markdown",
   "metadata": {},
   "source": [
    "### Base 10"
   ]
  },
  {
   "cell_type": "code",
   "execution_count": 298,
   "metadata": {
    "collapsed": true
   },
   "outputs": [],
   "source": [
    "eps = 0.006\n",
    "starting_i = 0\n",
    "max_i = 2\n",
    "base = 10"
   ]
  },
  {
   "cell_type": "code",
   "execution_count": 299,
   "metadata": {
    "collapsed": false
   },
   "outputs": [
    {
     "data": {
      "image/png": "[encoded data removed]",
      "text/latex": [
       "$$1001$$"
      ],
      "text/plain": [
       "1001"
      ]
     },
     "execution_count": 299,
     "metadata": {},
     "output_type": "execute_result"
    }
   ],
   "source": [
    "## maximum grid length:\n",
    "1+pow(base,max_i+1)"
   ]
  },
  {
   "cell_type": "code",
   "execution_count": 300,
   "metadata": {
    "collapsed": false
   },
   "outputs": [
    {
     "name": "stdout",
     "output_type": "stream",
     "text": [
      "'setup_ranges' 0.00 sec\n",
      "'initial_voxels' 0.00 sec\n",
      "'add_high_res_voxels' 0.07 sec\n"
     ]
    }
   ],
   "source": [
    "ranges = setup_ranges(max_i,base)\n",
    "solution_containing_voxels = initial_voxels(max_i,base,starting_i,eps)\n",
    "add_high_res_voxels(max_i,base,starting_i,eps,solution_containing_voxels)"
   ]
  },
  {
   "cell_type": "code",
   "execution_count": 301,
   "metadata": {
    "collapsed": false
   },
   "outputs": [
    {
     "name": "stdout",
     "output_type": "stream",
     "text": [
      "37\n",
      "239\n",
      "2265\n"
     ]
    }
   ],
   "source": [
    "## Number of solutions found for each resolution:\n",
    "\n",
    "for i in range(0,max_i+1):\n",
    "    print len(solution_containing_voxels[i])"
   ]
  },
  {
   "cell_type": "code",
   "execution_count": 302,
   "metadata": {
    "collapsed": false
   },
   "outputs": [
    {
     "data": {
      "text/plain": [
       "[<matplotlib.lines.Line2D at 0x11064d4d0>]"
      ]
     },
     "execution_count": 302,
     "metadata": {},
     "output_type": "execute_result"
    },
    {
     "data": {
      "image/png": "[encoded data removed]",
      "text/plain": [
       "<matplotlib.figure.Figure at 0x114403f10>"
      ]
     },
     "metadata": {},
     "output_type": "display_data"
    }
   ],
   "source": [
    "## Number of solutions found for each resolution:\n",
    "plt.title('Number of voxels per step')\n",
    "plt.semilogy([(len(solution_containing_voxels[i])) for i in range(0,max_i+1)])"
   ]
  },
  {
   "cell_type": "code",
   "execution_count": 303,
   "metadata": {
    "collapsed": false
   },
   "outputs": [
    {
     "data": {
      "image/png": "[encoded data removed]",
      "text/plain": [
       "<matplotlib.figure.Figure at 0x11440d190>"
      ]
     },
     "metadata": {},
     "output_type": "display_data"
    },
    {
     "name": "stdout",
     "output_type": "stream",
     "text": [
      "'plot_voxels' 0.63 sec\n"
     ]
    }
   ],
   "source": [
    "plot_voxels(solution_containing_voxels,max_i)"
   ]
  },
  {
   "cell_type": "markdown",
   "metadata": {},
   "source": [
    "### Base 2"
   ]
  },
  {
   "cell_type": "code",
   "execution_count": 304,
   "metadata": {
    "collapsed": false
   },
   "outputs": [],
   "source": [
    "eps = 0.006\n",
    "starting_i = 0\n",
    "max_i = 9\n",
    "base = 2"
   ]
  },
  {
   "cell_type": "code",
   "execution_count": 305,
   "metadata": {
    "collapsed": false
   },
   "outputs": [
    {
     "data": {
      "image/png": "[encoded data removed]",
      "text/latex": [
       "$$1025$$"
      ],
      "text/plain": [
       "1025"
      ]
     },
     "execution_count": 305,
     "metadata": {},
     "output_type": "execute_result"
    }
   ],
   "source": [
    "## maximum grid length:\n",
    "1+pow(base,max_i+1)"
   ]
  },
  {
   "cell_type": "code",
   "execution_count": 306,
   "metadata": {
    "collapsed": false
   },
   "outputs": [
    {
     "name": "stdout",
     "output_type": "stream",
     "text": [
      "'setup_ranges' 0.00 sec\n",
      "'initial_voxels' 0.00 sec\n",
      "'add_high_res_voxels' 0.07 sec\n"
     ]
    }
   ],
   "source": [
    "ranges = setup_ranges(max_i,base)\n",
    "solution_containing_voxels = initial_voxels(max_i,base,starting_i,eps)\n",
    "add_high_res_voxels(max_i,base,starting_i,eps,solution_containing_voxels)"
   ]
  },
  {
   "cell_type": "code",
   "execution_count": 307,
   "metadata": {
    "collapsed": false,
    "scrolled": true
   },
   "outputs": [
    {
     "name": "stdout",
     "output_type": "stream",
     "text": [
      "9\n",
      "16\n",
      "32\n",
      "52\n",
      "85\n",
      "158\n",
      "307\n",
      "613\n",
      "1199\n",
      "2381\n"
     ]
    }
   ],
   "source": [
    "## Number of solutions found for each resolution:\n",
    "\n",
    "for i in range(0,max_i+1):\n",
    "    print len(solution_containing_voxels[i])"
   ]
  },
  {
   "cell_type": "code",
   "execution_count": 308,
   "metadata": {
    "collapsed": false
   },
   "outputs": [
    {
     "data": {
      "text/plain": [
       "[<matplotlib.lines.Line2D at 0x114d56f10>]"
      ]
     },
     "execution_count": 308,
     "metadata": {},
     "output_type": "execute_result"
    },
    {
     "data": {
      "image/png": "[encoded data removed]",
      "text/plain": [
       "<matplotlib.figure.Figure at 0x114d56f50>"
      ]
     },
     "metadata": {},
     "output_type": "display_data"
    }
   ],
   "source": [
    "## Number of solutions found for each resolution:\n",
    "plt.title('Number of voxels per step')\n",
    "plt.semilogy([(len(solution_containing_voxels[i])) for i in range(0,max_i+1)])"
   ]
  },
  {
   "cell_type": "code",
   "execution_count": 309,
   "metadata": {
    "collapsed": false
   },
   "outputs": [
    {
     "data": {
      "image/png": "[encoded data removed]",
      "text/plain": [
       "<matplotlib.figure.Figure at 0x1166acd90>"
      ]
     },
     "metadata": {},
     "output_type": "display_data"
    },
    {
     "name": "stdout",
     "output_type": "stream",
     "text": [
      "'plot_voxels' 0.69 sec\n"
     ]
    }
   ],
   "source": [
    "plot_voxels(solution_containing_voxels,max_i)"
   ]
  },
  {
   "cell_type": "markdown",
   "metadata": {},
   "source": [
    "## Discussion"
   ]
  },
  {
   "cell_type": "markdown",
   "metadata": {},
   "source": [
    "The number of solution voxels increases by a factor of `base` at each step. This happens because the function being optimize is close to linear near the solutions and because we decrease `eps_current` by a factor of `base` at each step. As a result, the total number of voxels increases by a factor of `base**2` at each step, but the thickness of the solution voxel surface decreases by a factor of `base`.\n",
    "\n",
    "The cost of the algorithm is dominated by the last step. This is because the number of voxels increases approximately by a factor of `base` at each step, and the computational cost at each step is the number of voxels from the previous step multiplied by `base**2`. As such, the algorithm runtime is essentially the number of solution points. Notice in the above experiments the runtime was similar for different bases used. \n",
    "\n",
    "A more careful analysis assuming a large number of points and the scaling described above gives a geometric series for the runtime, where the sum starts at the last step ($b$ stands for `base` and $p$ stands for number of points):\n",
    "\\begin{align}\n",
    "b^2(\\frac{p}{b} + \\frac{p}{b^2} + ...)\n",
    "=\n",
    "p\\left( b + 1 + \\frac{1}{b} + ...\\right)\n",
    "\\approx \\frac{pb^2}{b-1}.\n",
    "\\end{align}\n",
    "\n",
    "The other factor contributing to the runtime is breaking away from the scaling law in the above discussion. "
   ]
  },
  {
   "cell_type": "markdown",
   "metadata": {},
   "source": [
    "# Using the same technique for $\\chi^{(3)}$.\n",
    "\n",
    "Let's extend the above search technique to using four-wave mixing.\n",
    "\n",
    "The problems here will be larger, so runtime may be more important. For this reason, I tested different values of epsilon at each stage. Using a smaller epsilon will improve the runtime, but may miss correct solutions. Compare the number of solutions and runtime to the methods used in the notebook Dispersion_relation_two_approaches. The complexity is essentially linear in the number of solutions, but here the constant factor may be large if epsilon is not chosen carefully at each step. For this reason one may prefer to use the other techniques for $\\chi^{(3)}$ problems. The number of solutions in the method below converges to the number of solutions using the other two methods."
   ]
  },
  {
   "cell_type": "code",
   "execution_count": 310,
   "metadata": {
    "collapsed": true
   },
   "outputs": [],
   "source": [
    "eps = 2e-4\n",
    "starting_i = 0\n",
    "max_i = 1\n",
    "base = 10"
   ]
  },
  {
   "cell_type": "code",
   "execution_count": 311,
   "metadata": {
    "collapsed": true
   },
   "outputs": [],
   "source": [
    "relative_scalings = [4,4,10]"
   ]
  },
  {
   "cell_type": "code",
   "execution_count": 312,
   "metadata": {
    "collapsed": false
   },
   "outputs": [
    {
     "name": "stdout",
     "output_type": "stream",
     "text": [
      "401 401 1001\n"
     ]
    }
   ],
   "source": [
    "phi1_min = 30.\n",
    "phi1_max = 34.\n",
    "ranges1 = {}\n",
    "for i in range(0,2):\n",
    "    ranges1[i] = np.linspace(phi1_min,phi1_max,relative_scalings[0]*pow(base,i+1)+1)\n",
    "\n",
    "phi2_min = -13\n",
    "phi2_max = -9\n",
    "ranges2 = {}\n",
    "for i in range(0,2):\n",
    "    ranges2[i] = np.linspace(phi2_min,phi2_max,relative_scalings[1]*pow(base,i+1)+1)\n",
    "\n",
    "nu3_min = -26.\n",
    "nu3_max = -16.\n",
    "ranges3 = {}\n",
    "for i in range(0,2):\n",
    "    ranges3[i] = np.linspace(nu3_min,nu3_max,relative_scalings[2]*pow(base,i+1)+1)\n",
    "\n",
    "print len(ranges1[1]),len(ranges2[1]),len(ranges3[1])"
   ]
  },
  {
   "cell_type": "code",
   "execution_count": 313,
   "metadata": {
    "collapsed": true
   },
   "outputs": [],
   "source": [
    "phi1, phi2 = sp.symbols('phi_1 phi_2')"
   ]
  },
  {
   "cell_type": "code",
   "execution_count": 314,
   "metadata": {
    "collapsed": true
   },
   "outputs": [],
   "source": [
    "ex1 = (k_symb(nu1,pol='e')+k_symb(nu2,pol='e')).expand().subs({nu1:(phi1 + phi2)/2, nu2: (phi1-phi2)/2})"
   ]
  },
  {
   "cell_type": "code",
   "execution_count": 315,
   "metadata": {
    "collapsed": true
   },
   "outputs": [],
   "source": [
    "ex2 = -(k_symb(nu3,pol='e')+k_symb(nu4,pol='e')).expand().subs(nu4,-phi1-nu3)"
   ]
  },
  {
   "cell_type": "code",
   "execution_count": 316,
   "metadata": {
    "collapsed": true
   },
   "outputs": [],
   "source": [
    "f_phi12_nu3 =ufuncify([phi1,phi2,nu3], ex1-ex2)"
   ]
  },
  {
   "cell_type": "code",
   "execution_count": 317,
   "metadata": {
    "collapsed": false
   },
   "outputs": [],
   "source": [
    "@timeit\n",
    "def initial_voxels_4wv(max_i,base,starting_i,eps,eps_factor = None):\n",
    "\n",
    "    if eps_factor is None:\n",
    "        eps_factor = pow(base,max_i-starting_i)\n",
    "    eps_current = eps * eps_factor\n",
    "        \n",
    "    solution_containing_voxels = {}\n",
    "    solution_containing_voxels[starting_i] = {}\n",
    "    \n",
    "    for i1,om1 in enumerate(ranges1[starting_i]):\n",
    "        for i2,om2 in enumerate(ranges2[starting_i]):\n",
    "            for i3,om3 in enumerate(ranges3[starting_i]):\n",
    "                err = f_phi12_nu3(om1,om2,om3)\n",
    "                if abs(err) < eps_current:\n",
    "                    solution_containing_voxels[starting_i][i1,i2,i3] = err\n",
    "    return solution_containing_voxels"
   ]
  },
  {
   "cell_type": "code",
   "execution_count": 318,
   "metadata": {
    "collapsed": true
   },
   "outputs": [],
   "source": [
    "@timeit\n",
    "def add_high_res_voxels_4wv(max_i,base,starting_i,eps,solution_containing_voxels):\n",
    "    for i in range(starting_i+1,max_i+1):\n",
    "        eps_current = eps * pow(base,max_i-i)\n",
    "        solution_containing_voxels[i] = {}\n",
    "        for (i1,i2,i3) in solution_containing_voxels[i-1]:\n",
    "            step_size = int(base/2)\n",
    "            max_length = pow(base,i+1)\n",
    "            for i1_new in range(max(0,i1*base-step_size),min(relative_scalings[0]*max_length,i1*base+step_size+1)):\n",
    "                for i2_new in range(max(0,i2*base-step_size),min(relative_scalings[1]*max_length,i2*base+step_size+1)):\n",
    "                    for i3_new in range(max(0,i3*base-step_size),min(relative_scalings[2]*max_length,i3*base+step_size+1)):\n",
    "                        err = f_phi12_nu3(ranges1[i][i1_new],ranges2[i][i2_new],ranges3[i][i3_new])\n",
    "                        if abs(err) < eps_current:\n",
    "                            solution_containing_voxels[i][i1_new,i2_new,i3_new] = err "
   ]
  },
  {
   "cell_type": "code",
   "execution_count": 319,
   "metadata": {
    "collapsed": true
   },
   "outputs": [],
   "source": [
    "eps_factors = [1.5,2.,2.5,3.,3.5,4.]\n",
    "num_found = {}"
   ]
  },
  {
   "cell_type": "code",
   "execution_count": 320,
   "metadata": {
    "collapsed": false
   },
   "outputs": [
    {
     "name": "stdout",
     "output_type": "stream",
     "text": [
      "'initial_voxels_4wv' 0.41 sec\n",
      "big voxels:  6184\n",
      "'add_high_res_voxels_4wv' 26.67 sec\n",
      "little voxels:  3766866\n",
      "'initial_voxels_4wv' 0.41 sec\n",
      "big voxels:  7776\n",
      "'add_high_res_voxels_4wv' 34.65 sec\n",
      "little voxels:  3979085\n",
      "'initial_voxels_4wv' 0.40 sec\n",
      "big voxels:  9295\n",
      "'add_high_res_voxels_4wv' 38.42 sec\n",
      "little voxels:  4094222\n",
      "'initial_voxels_4wv' 0.39 sec\n",
      "big voxels:  10772\n",
      "'add_high_res_voxels_4wv' 45.57 sec\n",
      "little voxels:  4158570\n",
      "'initial_voxels_4wv' 0.38 sec\n",
      "big voxels:  12168\n",
      "'add_high_res_voxels_4wv' 50.95 sec\n",
      "little voxels:  4193377\n",
      "'initial_voxels_4wv' 0.38 sec\n",
      "big voxels:  13556\n",
      "'add_high_res_voxels_4wv' 56.38 sec\n",
      "little voxels:  4208929\n"
     ]
    }
   ],
   "source": [
    "for eps_factor in eps_factors:\n",
    "    solution_containing_voxels_4wv = initial_voxels_4wv(max_i,base,starting_i,eps,eps_factor = eps_factor)\n",
    "    print 'big voxels: ', len(solution_containing_voxels_4wv[0].keys())\n",
    "    add_high_res_voxels_4wv(max_i,base,starting_i,eps,solution_containing_voxels_4wv)\n",
    "    num_found[eps_factor] = len(solution_containing_voxels_4wv[1].keys())\n",
    "    print 'little voxels: ', num_found[eps_factor]"
   ]
  },
  {
   "cell_type": "code",
   "execution_count": 321,
   "metadata": {
    "collapsed": false
   },
   "outputs": [
    {
     "data": {
      "text/plain": [
       "[<matplotlib.lines.Line2D at 0x1138c4750>]"
      ]
     },
     "execution_count": 321,
     "metadata": {},
     "output_type": "execute_result"
    },
    {
     "data": {
      "image/png": "[encoded data removed]",
      "text/plain": [
       "<matplotlib.figure.Figure at 0x117f85910>"
      ]
     },
     "metadata": {},
     "output_type": "display_data"
    }
   ],
   "source": [
    "plt.title('number of solutions found as a function of the epsilon multiplier for the voxel method')\n",
    "plt.plot(eps_factors, [num_found[eps] for eps in eps_factors] )"
   ]
  },
  {
   "cell_type": "markdown",
   "metadata": {},
   "source": [
    "## Finding solutions in the voxels:\n",
    "\n",
    "In general the nus to be considered do not lie on a grid. For this reason it is necessary to find which nus lie in each voxel."
   ]
  },
  {
   "cell_type": "markdown",
   "metadata": {},
   "source": [
    "### Setup for the experiment"
   ]
  },
  {
   "cell_type": "code",
   "execution_count": 322,
   "metadata": {
    "collapsed": true
   },
   "outputs": [],
   "source": [
    "eps = 0.006\n",
    "starting_i = 0\n",
    "max_i = 2\n",
    "base = 10"
   ]
  },
  {
   "cell_type": "code",
   "execution_count": 323,
   "metadata": {
    "collapsed": false
   },
   "outputs": [
    {
     "name": "stdout",
     "output_type": "stream",
     "text": [
      "'setup_ranges' 0.00 sec\n",
      "'initial_voxels' 0.00 sec\n",
      "'add_high_res_voxels' 0.08 sec\n"
     ]
    }
   ],
   "source": [
    "ranges = setup_ranges(max_i,base)\n",
    "solution_containing_voxels = initial_voxels(max_i,base,starting_i,eps)\n",
    "add_high_res_voxels(max_i,base,starting_i,eps,solution_containing_voxels)"
   ]
  },
  {
   "cell_type": "code",
   "execution_count": null,
   "metadata": {
    "collapsed": true
   },
   "outputs": [],
   "source": []
  },
  {
   "cell_type": "code",
   "execution_count": 324,
   "metadata": {
    "collapsed": true
   },
   "outputs": [],
   "source": [
    "i = 2  ## where to draw points from."
   ]
  },
  {
   "cell_type": "code",
   "execution_count": 325,
   "metadata": {
    "collapsed": false
   },
   "outputs": [],
   "source": [
    "scale = 0.1  ## scale on random noise to add to points\n",
    "Delta = ranges[i][1] - ranges[i][0]  ## Delta here was made with ranges[0] spacing\n",
    "range_min = ranges[i][0]\n",
    "ranges_perturbed = [num+random.random()*scale for num in ranges[2]] ## make "
   ]
  },
  {
   "cell_type": "code",
   "execution_count": 326,
   "metadata": {
    "collapsed": false
   },
   "outputs": [],
   "source": [
    "values = [ int(round( (el - range_min) / Delta)) for el in ranges_perturbed]"
   ]
  },
  {
   "cell_type": "code",
   "execution_count": 327,
   "metadata": {
    "collapsed": true
   },
   "outputs": [],
   "source": [
    "def make_dict_values_to_lists_of_inputs(values,inputs):\n",
    "    D = {}\n",
    "    for k, v in zip(values,inputs):\n",
    "        D.setdefault(k, []).append(v)\n",
    "    return D"
   ]
  },
  {
   "cell_type": "code",
   "execution_count": 328,
   "metadata": {
    "collapsed": true
   },
   "outputs": [],
   "source": [
    "D = make_dict_values_to_lists_of_inputs(values,ranges_perturbed)"
   ]
  },
  {
   "cell_type": "code",
   "execution_count": 329,
   "metadata": {
    "collapsed": false
   },
   "outputs": [],
   "source": [
    "solution_nus = []\n",
    "for indices in solution_containing_voxels[i].keys(): \n",
    "    if all([ind in D for ind in indices]): ## check all indices are in D,\n",
    "        for it in itertools.product(*[D[ind] for ind in indices]): ## get all nus in the voxel.\n",
    "            solution_nus.append(it)"
   ]
  },
  {
   "cell_type": "code",
   "execution_count": 330,
   "metadata": {
    "collapsed": false
   },
   "outputs": [
    {
     "data": {
      "text/plain": [
       "<matplotlib.collections.PathCollection at 0x114354990>"
      ]
     },
     "execution_count": 330,
     "metadata": {},
     "output_type": "execute_result"
    },
    {
     "data": {
      "image/png": "[encoded data removed]",
      "text/plain": [
       "<matplotlib.figure.Figure at 0x11e711850>"
      ]
     },
     "metadata": {},
     "output_type": "display_data"
    }
   ],
   "source": [
    "plt.figure(figsize=(13,13))\n",
    "plt.title('perturbed grid points still in the solution voxels')\n",
    "plt.scatter([el[0] for el in solution_nus],[el[1] for el in solution_nus])"
   ]
  },
  {
   "cell_type": "markdown",
   "metadata": {},
   "source": [
    "### Development for method to be used in the package"
   ]
  },
  {
   "cell_type": "code",
   "execution_count": 333,
   "metadata": {
    "collapsed": true
   },
   "outputs": [],
   "source": [
    "def setup_ranges(max_i,base,min_value = 6.,max_value = 11.):\n",
    "    ranges= {}\n",
    "    for i in range(max_i+1):\n",
    "        ranges[i] = np.linspace(min_value,max_value,1+pow(base,i+1))\n",
    "    return ranges\n",
    "\n",
    "@timeit\n",
    "def initial_voxels(ranges,k_of_nu1_nu2,max_i,base,starting_i,eps):\n",
    "    solution_containing_voxels = {}\n",
    "    eps_current = eps * pow(base,max_i-starting_i)\n",
    "    solution_containing_voxels[starting_i] = {}\n",
    "\n",
    "    for i1,om1 in enumerate(ranges[starting_i]):\n",
    "        for i2,om2 in enumerate(ranges[starting_i]):\n",
    "            err = k_of_nu1_nu2(om1,om2)\n",
    "            if abs(err) < eps_current:\n",
    "                solution_containing_voxels[starting_i][i1,i2] = err\n",
    "    return solution_containing_voxels\n",
    "\n",
    "@timeit\n",
    "def add_high_res_voxels(ranges,k_of_nu1_nu2,max_i,base,starting_i,eps,solution_containing_voxels):\n",
    "    for i in range(starting_i+1,max_i+1):\n",
    "        eps_current = eps * pow(base,max_i-i)\n",
    "        solution_containing_voxels[i] = {}\n",
    "        for (i1,i2) in solution_containing_voxels[i-1]:\n",
    "            step_size = int(base/2)\n",
    "            max_length = pow(base,i+1)\n",
    "            for i1_new in range(max(0,i1*base-step_size),min(max_length,i1*base+step_size+1)):\n",
    "                for i2_new in range(max(0,i2*base-step_size),min(max_length,i2*base+step_size+1)):\n",
    "                    err = k_of_nu1_nu2(ranges[i][i1_new],ranges[i][i2_new])\n",
    "                    if abs(err) < eps_current:\n",
    "                        solution_containing_voxels[i][i1_new,i2_new] = err\n",
    "\n",
    "@timeit\n",
    "def plot_voxels(solution_containing_voxels,i):\n",
    "    voxels = np.zeros((1+pow(base,i+1),1+pow(base,i+1)))\n",
    "    for (i1,i2) in solution_containing_voxels[i]:\n",
    "        voxels[i1,i2] = 1\n",
    "    plot_arr(voxels)\n",
    "\n",
    "def voxel_solutions(ranges,k_of_nu1_nu2,max_i,base,starting_i,eps):\n",
    "    solution_containing_voxels = initial_voxels(ranges,k_of_nu1_nu2,max_i,\n",
    "                                                base,starting_i,eps)\n",
    "    add_high_res_voxels(ranges,k_of_nu1_nu2,max_i,base,starting_i,eps,\n",
    "                        solution_containing_voxels)\n",
    "    return solution_containing_voxels"
   ]
  },
  {
   "cell_type": "code",
   "execution_count": 334,
   "metadata": {
    "collapsed": true
   },
   "outputs": [],
   "source": [
    "def generate_k_func(pols=(1,1,-1),n_symb = None):\n",
    "\n",
    "    lambd,nu,nu1,nu2,nu3,nu4 = sp.symbols(\n",
    "        'lambda nu nu_1 nu_2 nu_3 nu_4')\n",
    "    l2 = lambd **2\n",
    "\n",
    "    if n_symb is None:\n",
    "        def n_symb(pol=1):\n",
    "            '''Valid for lambda between 0.5 and 5. (units are microns)'''\n",
    "            s = 1.\n",
    "            if pol == 1:\n",
    "                s += 2.6734 * l2 / (l2 - 0.01764)\n",
    "                s += 1.2290 * l2 / (l2 - 0.05914)\n",
    "                s += 12.614 * l2 / (l2 - 474.6)\n",
    "            else:\n",
    "                s += 2.9804 * l2 / (l2 - 0.02047)\n",
    "                s += 0.5981 * l2 / (l2 - 0.0666)\n",
    "                s += 8.9543 * l2 / (l2 - 416.08)\n",
    "            return sp.sqrt(s)\n",
    "\n",
    "    def k_symb(symbol=nu,pol=1):\n",
    "        '''k is accurate for nu inputs between 6-60 (units are 1e13 Hz).'''\n",
    "        return ((n_symb(pol=pol) * symbol )\n",
    "                    .subs(lambd,scipy.constants.c / (symbol*1e7)))\n",
    "\n",
    "    expressions = [k_symb(nu1,pols[0]),\n",
    "                   k_symb(nu2,pols[1]),\n",
    "                   k_symb(nu3,pols[2])]\n",
    "    dispersion_difference_function = sum(expressions)\n",
    "    dispersion_difference_function = dispersion_difference_function.subs(\n",
    "                                     nu3,-nu1-nu2)\n",
    "    k_of_nu1_nu2 = ufuncify([nu1,nu2],\n",
    "                                   dispersion_difference_function)\n",
    "    return k_of_nu1_nu2"
   ]
  },
  {
   "cell_type": "code",
   "execution_count": 335,
   "metadata": {
    "collapsed": false
   },
   "outputs": [],
   "source": [
    "pols = (1,1,-1)\n",
    "k_of_nu1_nu2 = generate_k_func(pols)\n",
    "\n",
    "eps = 0.006\n",
    "starting_i = 0\n",
    "max_i = 2\n",
    "base = 10\n",
    "\n",
    "min_value = 6.\n",
    "max_value = 20.\n",
    "ranges = setup_ranges(max_i,base,min_value,max_value)\n"
   ]
  },
  {
   "cell_type": "code",
   "execution_count": 384,
   "metadata": {
    "collapsed": false
   },
   "outputs": [
    {
     "name": "stdout",
     "output_type": "stream",
     "text": [
      "'initial_voxels' 0.00 sec\n",
      "'add_high_res_voxels' 0.06 sec\n"
     ]
    }
   ],
   "source": [
    "pos_nus_lst = np.random.uniform(min_value,max_value,1000) ## 100 random values\n",
    "\n",
    "Delta = ranges[max_i][1] - ranges[max_i][0] ## spacing in grid used\n",
    "\n",
    "## get index values\n",
    "values = [ int(round( (freq - min_value) / Delta)) for freq in pos_nus_lst]\n",
    "\n",
    "## make a dict to remember which frequencies belong in which grid voxel.\n",
    "grid_indices_to_unrounded = make_dict_values_to_lists_of_inputs(values,pos_nus_lst)\n",
    "grid_indices_to_ham_index = make_dict_values_to_lists_of_inputs(values,range(len(pos_nus_lst)))\n",
    "\n",
    "solution_containing_voxels = voxel_solutions(ranges,k_of_nu1_nu2,\n",
    "    max_i,base,starting_i,eps)\n",
    "\n",
    "## Let's figure out which indices we can expect for nu3\n",
    "spacing = (max_value-min_value)/ pow(base,max_i+1)\n",
    "num_indices_from_zero = min_value / spacing  ## float, round up or down\n",
    "\n",
    "solutions_nu1_and_nu2 = solution_containing_voxels[max_i].keys()\n",
    "\n",
    "solution_indices = []\n",
    "for indices in solutions_nu1_and_nu2:\n",
    "    for how_to_round_last_index in range(2):\n",
    "        last_index = (sum(indices)\n",
    "                      + int(num_indices_from_zero)\n",
    "                      + how_to_round_last_index)\n",
    "        if last_index < 0 or last_index >= len(ranges[max_i]):\n",
    "            print \"breaking!\"\n",
    "            break\n",
    "        current_grid_indices = (indices[0],indices[1],last_index)\n",
    "        if all([ind in grid_indices_to_ham_index for ind in current_grid_indices]):\n",
    "            for it in itertools.product(*[grid_indices_to_ham_index[ind] for ind in current_grid_indices]):\n",
    "                solution_indices.append(it)"
   ]
  },
  {
   "cell_type": "code",
   "execution_count": 385,
   "metadata": {
    "collapsed": false
   },
   "outputs": [
    {
     "data": {
      "image/png": "[encoded data removed]",
      "text/latex": [
       "$$2265$$"
      ],
      "text/plain": [
       "2265"
      ]
     },
     "execution_count": 385,
     "metadata": {},
     "output_type": "execute_result"
    }
   ],
   "source": [
    "len(solutions_nu1_and_nu2)"
   ]
  },
  {
   "cell_type": "code",
   "execution_count": 386,
   "metadata": {
    "collapsed": false
   },
   "outputs": [
    {
     "data": {
      "image/png": "[encoded data removed]",
      "text/latex": [
       "$$5079$$"
      ],
      "text/plain": [
       "5079"
      ]
     },
     "execution_count": 386,
     "metadata": {},
     "output_type": "execute_result"
    }
   ],
   "source": [
    "len(solution_indices)"
   ]
  },
  {
   "cell_type": "code",
   "execution_count": 374,
   "metadata": {
    "collapsed": false
   },
   "outputs": [],
   "source": [
    "sample_indices = solution_indices[random.randint(0,len(solution_indices)-1)]"
   ]
  },
  {
   "cell_type": "code",
   "execution_count": 375,
   "metadata": {
    "collapsed": false
   },
   "outputs": [
    {
     "data": {
      "image/png": "[encoded data removed]",
      "text/latex": [
       "$$\\left ( 213, \\quad 523, \\quad 423\\right )$$"
      ],
      "text/plain": [
       "(213, 523, 423)"
      ]
     },
     "execution_count": 375,
     "metadata": {},
     "output_type": "execute_result"
    }
   ],
   "source": [
    "sample_indices"
   ]
  },
  {
   "cell_type": "code",
   "execution_count": 376,
   "metadata": {
    "collapsed": false
   },
   "outputs": [
    {
     "data": {
      "image/png": "[encoded data removed]",
      "text/latex": [
       "$$\\left ( 8.01874256402, \\quad 8.15636006023, \\quad 16.1780985831\\right )$$"
      ],
      "text/plain": [
       "(8.01874256402, 8.15636006023, 16.1780985831)"
      ]
     },
     "execution_count": 376,
     "metadata": {},
     "output_type": "execute_result"
    }
   ],
   "source": [
    "pos_nus_lst[sample_indices[0]], pos_nus_lst[sample_indices[1]], pos_nus_lst[sample_indices[2]] "
   ]
  },
  {
   "cell_type": "code",
   "execution_count": 377,
   "metadata": {
    "collapsed": false
   },
   "outputs": [
    {
     "data": {
      "image/png": "[encoded data removed]",
      "text/latex": [
       "$$-0.00299595885004$$"
      ],
      "text/plain": [
       "-0.00299595885004"
      ]
     },
     "execution_count": 377,
     "metadata": {},
     "output_type": "execute_result"
    }
   ],
   "source": [
    "pos_nus_lst[sample_indices[0]]+pos_nus_lst[sample_indices[1]] - pos_nus_lst[sample_indices[2]] "
   ]
  },
  {
   "cell_type": "code",
   "execution_count": 395,
   "metadata": {
    "collapsed": false
   },
   "outputs": [
    {
     "data": {
      "text/plain": [
       "array([], shape=(0, 0), dtype=float64)"
      ]
     },
     "execution_count": 395,
     "metadata": {},
     "output_type": "execute_result"
    }
   ],
   "source": [
    "np.zeros((0,0))"
   ]
  },
  {
   "cell_type": "code",
   "execution_count": null,
   "metadata": {
    "collapsed": true
   },
   "outputs": [],
   "source": []
  }
 ],
 "metadata": {
  "kernelspec": {
   "display_name": "Python 2",
   "language": "python",
   "name": "python2"
  },
  "language_info": {
   "codemirror_mode": {
    "name": "ipython",
    "version": 2
   },
   "file_extension": ".py",
   "mimetype": "text/x-python",
   "name": "python",
   "nbconvert_exporter": "python",
   "pygments_lexer": "ipython2",
   "version": "2.7.12"
  },
  "widgets": {
   "state": {},
   "version": "1.1.2"
  }
 },
 "nbformat": 4,
 "nbformat_minor": 0
}
