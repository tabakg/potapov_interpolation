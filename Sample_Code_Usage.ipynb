{
 "cells": [
  {
   "cell_type": "code",
   "execution_count": 1,
   "metadata": {
    "collapsed": false
   },
   "outputs": [],
   "source": [
    "import Potapov_Code.Roots as Roots\n",
    "import Potapov_Code.Potapov as Potapov\n",
    "import Potapov_Code.Time_Delay_Network as Time_Delay_Network\n",
    "import Potapov_Code.Time_Sims_nonlin as Time_Sims_nonlin\n",
    "import Potapov_Code.functions as functions\n",
    "import Potapov_Code.Hamiltonian as Hamiltonian\n",
    "import scipy.constants as consts\n",
    "\n",
    "import numpy as np\n",
    "\n",
    "import matplotlib.pyplot as plt\n",
    "%matplotlib inline\n",
    "\n",
    "from sympy import init_printing\n",
    "init_printing() \n"
   ]
  },
  {
   "cell_type": "code",
   "execution_count": 2,
   "metadata": {
    "collapsed": false
   },
   "outputs": [],
   "source": [
    "\n",
    "## Make a sample Time_Delay_Network, changing some parameters.\n",
    "X = Time_Delay_Network.Example3(r1 = 0.7, r3 = 0.7, max_linewidth=35.,max_freq=15.)\n",
    "\n",
    "## run the Potapov procedure.\n",
    "## Setting commensurate_roots to True will tell the program to identify\n",
    "## the roots utilizing the periodic structure of the roots.\n",
    "X.run_Potapov(commensurate_roots = True)\n",
    "\n",
    "## Get the roots, modes, and delays from the Time_Delay_Network.\n",
    "modes = X.spatial_modes\n",
    "roots = X.roots\n",
    "delays = X.delays\n",
    "\n",
    "## Generated doubled-up ABCD matrices for the passive system.\n",
    "## These matrices are not doubled up\n",
    "A,B,C,D = X.get_Potapov_ABCD(doubled=False)\n",
    "\n",
    "## Generated doubled-up ABCD matrices for the passive system.\n",
    "## These matrices not doubled up\n",
    "A_d,B_d,C_d,D_d = X.get_Potapov_ABCD(doubled=True)\n",
    "\n",
    "M = len(A)"
   ]
  },
  {
   "cell_type": "code",
   "execution_count": 3,
   "metadata": {
    "collapsed": false,
    "scrolled": true
   },
   "outputs": [],
   "source": [
    "## make an instance of Hamiltonian.\n",
    "## The non-Hermitian part of A dictates the linear internal dynamics of the system\n",
    "## the Hermitian part of A dictates the linear decay of the internal modes.\n",
    "\n",
    "ham = Hamiltonian.Hamiltonian(roots,modes,delays,Omega=-1j*A,nonlin_coeff = 0.)"
   ]
  },
  {
   "cell_type": "code",
   "execution_count": 4,
   "metadata": {
    "collapsed": false,
    "scrolled": true
   },
   "outputs": [],
   "source": [
    "## Add a chi nonlinearity to ham.\n",
    "ham.make_chi_nonlinearity(delay_indices=[0],start_nonlin=0,\n",
    "                             length_nonlin=0.1,\n",
    "                             chi_order=3)"
   ]
  },
  {
   "cell_type": "code",
   "execution_count": 5,
   "metadata": {
    "collapsed": false
   },
   "outputs": [],
   "source": [
    "## Make the Hamiltonian expression\n",
    "H = ham.make_H()"
   ]
  },
  {
   "cell_type": "code",
   "execution_count": 6,
   "metadata": {
    "collapsed": false,
    "scrolled": false
   },
   "outputs": [
    {
     "data": {
      "image/png": "[encoded data removed]",
      "text/latex": [
       "$$- 10.9017545695014 {{a_0}^\\dagger} {a_0} + 1.23614238475696 i {{a_0}^\\dagger} {a_0} - 0.479562718369909 {{a_1}^\\dagger} {a_0} + 2.31027570386332 i {{a_1}^\\dagger} {a_0} + 10.9017545695014 {{a_1}^\\dagger} {a_1} + 1.23614238475696 i {{a_1}^\\dagger} {a_1} - 0.363133253538855 {{a_2}^\\dagger} {a_0} + 0.0480703540551863 i {{a_2}^\\dagger} {a_0} + 0.355341014098253 {{a_2}^\\dagger} {a_1} - 0.0336195481232906 i {{a_2}^\\dagger} {a_1} + 1.14318168299454 i {{a_2}^\\dagger} {a_2}$$"
      ],
      "text/plain": [
       "                           †                           †                      \n",
       "- -10.9017545695014⋅(-1)⋅a₀ ⋅a₀ + 1.23614238475696⋅ⅈ⋅a₀ ⋅a₀ - - -0.47956271836\n",
       "\n",
       "       †                           †                         †                \n",
       "9909⋅a₁ ⋅a₀ + 2.31027570386332⋅ⅈ⋅a₁ ⋅a₀ + 10.9017545695014⋅a₁ ⋅a₁ + 1.23614238\n",
       "\n",
       "           †                             †                             †      \n",
       "475696⋅ⅈ⋅a₁ ⋅a₁ - - -0.363133253538855⋅a₂ ⋅a₀ + 0.0480703540551863⋅ⅈ⋅a₂ ⋅a₀ + \n",
       "\n",
       "                    †                                †                        \n",
       "0.355341014098253⋅a₂ ⋅a₁ - - -0.0336195481232906⋅ⅈ⋅a₂ ⋅a₁ + 1.14318168299454⋅ⅈ\n",
       "\n",
       "   †   \n",
       "⋅a₂ ⋅a₂"
      ]
     },
     "execution_count": 6,
     "metadata": {},
     "output_type": "execute_result"
    }
   ],
   "source": [
    "H.expand()"
   ]
  },
  {
   "cell_type": "code",
   "execution_count": 14,
   "metadata": {
    "collapsed": false
   },
   "outputs": [],
   "source": [
    "    expr = ham.make_lin_H(-1j*A)"
   ]
  },
  {
   "cell_type": "code",
   "execution_count": 17,
   "metadata": {
    "collapsed": false
   },
   "outputs": [
    {
     "data": {
      "image/png": "[encoded data removed]",
      "text/latex": [
       "$$\\left \\{ {a_0} : 1, \\quad {a_1} : 1, \\quad {a_2} : 1\\right \\}$$"
      ],
      "text/plain": [
       "{a₀: 1, a₁: 1, a₂: 1}"
      ]
     },
     "execution_count": 17,
     "metadata": {},
     "output_type": "execute_result"
    }
   ],
   "source": [
    "{el:1 for el in ham.a}"
   ]
  },
  {
   "cell_type": "code",
   "execution_count": 18,
   "metadata": {
    "collapsed": false
   },
   "outputs": [
    {
     "data": {
      "image/png": "[encoded data removed]",
      "text/latex": [
       "$$\\left \\{ {{a_0}^\\dagger} : 1, \\quad {{a_1}^\\dagger} : 1, \\quad {{a_2}^\\dagger} : 1\\right \\}$$"
      ],
      "text/plain": [
       "⎧  †       †       †   ⎫\n",
       "⎨a₀ : 1, a₁ : 1, a₂ : 1⎬\n",
       "⎩                      ⎭"
      ]
     },
     "execution_count": 18,
     "metadata": {},
     "output_type": "execute_result"
    }
   ],
   "source": [
    "{ham.Dagger(el):1 for el in ham.a}"
   ]
  },
  {
   "cell_type": "code",
   "execution_count": 22,
   "metadata": {
    "collapsed": false
   },
   "outputs": [],
   "source": [
    "D = {el:1 for el in ham.a}\n",
    "D.update({ham.Dagger(el):1 for el in ham.a})"
   ]
  },
  {
   "cell_type": "code",
   "execution_count": 23,
   "metadata": {
    "collapsed": false
   },
   "outputs": [
    {
     "data": {
      "image/png": "[encoded data removed]",
      "text/latex": [
       "$$\\left \\{ {{a_0}^\\dagger} : 1, \\quad {a_0} : 1, \\quad {{a_1}^\\dagger} : 1, \\quad {a_1} : 1, \\quad {{a_2}^\\dagger} : 1, \\quad {a_2} : 1\\right \\}$$"
      ],
      "text/plain": [
       "⎧  †              †              †          ⎫\n",
       "⎨a₀ : 1, a₀: 1, a₁ : 1, a₁: 1, a₂ : 1, a₂: 1⎬\n",
       "⎩                                           ⎭"
      ]
     },
     "execution_count": 23,
     "metadata": {},
     "output_type": "execute_result"
    }
   ],
   "source": [
    "D"
   ]
  },
  {
   "cell_type": "code",
   "execution_count": 24,
   "metadata": {
    "collapsed": false,
    "scrolled": true
   },
   "outputs": [],
   "source": [
    "    expr = expr.subs(D)\n"
   ]
  },
  {
   "cell_type": "code",
   "execution_count": 27,
   "metadata": {
    "collapsed": false
   },
   "outputs": [
    {
     "data": {
      "image/png": "[encoded data removed]",
      "text/latex": [
       "$$5.96015161588232$$"
      ],
      "text/plain": [
       "5.96015161588232"
      ]
     },
     "execution_count": 27,
     "metadata": {},
     "output_type": "execute_result"
    }
   ],
   "source": [
    "abs(expr)"
   ]
  },
  {
   "cell_type": "code",
   "execution_count": 7,
   "metadata": {
    "collapsed": false
   },
   "outputs": [],
   "source": [
    "## Make the classical equation of motion from Hamilton's equations.\n",
    "eq_mot = ham.make_eq_motion()\n",
    "\n",
    "## make a sample input function\n",
    "a_in = lambda t: np.asmatrix([1.]*np.shape(D_d)[-1]).T  \n",
    "\n",
    "## find f, the system evolution function from Hamilton's equations\n",
    "f = Time_Sims_nonlin.make_f(eq_mot,B_d,a_in)\n",
    "\n",
    "## Generate the linear equations of motion from the original linear system matrices\n",
    "f_lin = Time_Sims_nonlin.make_f_lin(A_d,B_d,a_in)"
   ]
  },
  {
   "cell_type": "code",
   "execution_count": 8,
   "metadata": {
    "collapsed": false
   },
   "outputs": [],
   "source": [
    "## Simulate the systems (both linear and nonlinear).\n",
    "Y_lin = Time_Sims_nonlin.run_ODE(f_lin, a_in, C_d, D_d, 2*M, T = 15, dt = 0.01)\n",
    "Y_nonlin = Time_Sims_nonlin.run_ODE(f, a_in, C_d, D_d, 2*M, T = 15, dt = 0.01)"
   ]
  },
  {
   "cell_type": "code",
   "execution_count": 9,
   "metadata": {
    "collapsed": false
   },
   "outputs": [
    {
     "data": {
      "image/png": "[encoded data removed]",
      "text/plain": [
       "<matplotlib.figure.Figure at 0x11282ce90>"
      ]
     },
     "metadata": {},
     "output_type": "display_data"
    }
   ],
   "source": [
    "for i in range(len(Y_lin[0])):\n",
    "    plt.plot(map(abs,[y[i,0] for y in Y_lin] ))"
   ]
  },
  {
   "cell_type": "code",
   "execution_count": 10,
   "metadata": {
    "collapsed": false
   },
   "outputs": [
    {
     "data": {
      "image/png": "[encoded data removed]",
      "text/plain": [
       "<matplotlib.figure.Figure at 0x116446d50>"
      ]
     },
     "metadata": {},
     "output_type": "display_data"
    }
   ],
   "source": [
    "for i in range(len(Y_lin[0])):\n",
    "    plt.plot(map(abs,[y[i,0] for y in Y_nonlin] ))"
   ]
  },
  {
   "cell_type": "code",
   "execution_count": null,
   "metadata": {
    "collapsed": true
   },
   "outputs": [],
   "source": []
  }
 ],
 "metadata": {
  "kernelspec": {
   "display_name": "Python 2",
   "language": "python",
   "name": "python2"
  },
  "language_info": {
   "codemirror_mode": {
    "name": "ipython",
    "version": 2
   },
   "file_extension": ".py",
   "mimetype": "text/x-python",
   "name": "python",
   "nbconvert_exporter": "python",
   "pygments_lexer": "ipython2",
   "version": "2.7.12"
  },
  "widgets": {
   "state": {},
   "version": "1.1.2"
  }
 },
 "nbformat": 4,
 "nbformat_minor": 0
}
