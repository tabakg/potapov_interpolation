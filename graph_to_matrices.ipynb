{
 "cells": [
  {
   "cell_type": "markdown",
   "metadata": {},
   "source": [
    "# In this notebook we come up with an easy way for the user to input networks to the Potapov Interpolation package, as well as a nice way to visualize the resulting system."
   ]
  },
  {
   "cell_type": "code",
   "execution_count": 1,
   "metadata": {
    "collapsed": true
   },
   "outputs": [],
   "source": [
    "import networkx as nx\n",
    "import numpy as np\n",
    "from numpy import linalg as la"
   ]
  },
  {
   "cell_type": "code",
   "execution_count": 109,
   "metadata": {
    "collapsed": true
   },
   "outputs": [],
   "source": [
    "from sympy import init_printing\n",
    "init_printing() "
   ]
  },
  {
   "cell_type": "code",
   "execution_count": 110,
   "metadata": {
    "collapsed": false
   },
   "outputs": [
    {
     "name": "stdout",
     "output_type": "stream",
     "text": [
      "Populating the interactive namespace from numpy and matplotlib\n"
     ]
    }
   ],
   "source": [
    "import matplotlib.pyplot as plt\n",
    "%pylab inline"
   ]
  },
  {
   "cell_type": "markdown",
   "metadata": {},
   "source": [
    "## Passive Linear Time Delays Networks\n",
    "The first component of the project takes as inputs a description of a model, which can be thought of as a graph where the nodes and edges have some special properties. These properties are outlines below."
   ]
  },
  {
   "cell_type": "code",
   "execution_count": 333,
   "metadata": {
    "collapsed": false
   },
   "outputs": [],
   "source": [
    "G = nx.DiGraph(selfloops=True)"
   ]
  },
  {
   "cell_type": "markdown",
   "metadata": {},
   "source": [
    "We use a directed graph with various properties along the nodes and edges. The direction describes the propagation of signals in the system.\n",
    "\n",
    "There are three kinds of nodes: inputs nodes, internal nodes, and output nodes. There is the same number of input and output nodes (say n). The number of internal nodes may be different. Each internal node has an associated matrix describing its relationship between its incoming and outgoing signals. It suffices for now to take $2 \\times 2$ matrices of the form $\\begin{pmatrix} t && -r \\\\ r && t \\end{pmatrix}$ corresponding to a beamsplitter, where $r$ and $t$ are the reflectivity and transmissivity of the beamsplitter, respectively. These satisfy $r^2+t^2 = 1$.\n",
    "\n",
    "In general we may want other matrices, but it's not really necessary.\n",
    "\n",
    "If the signal along several edges is thought of as a vector, multiplying by the matrix from the left represents the signal traveling through the element. This formalism works only for linear networks."
   ]
  },
  {
   "cell_type": "markdown",
   "metadata": {},
   "source": [
    "Let's make an example graph:"
   ]
  },
  {
   "cell_type": "code",
   "execution_count": 334,
   "metadata": {
    "collapsed": false
   },
   "outputs": [],
   "source": [
    "rs = np.asarray([0.9,0.5,0.8]) ## some sample values \n",
    "ts = np.sqrt(1.-rs**2) ## ts are determined from rs"
   ]
  },
  {
   "cell_type": "code",
   "execution_count": 335,
   "metadata": {
    "collapsed": true
   },
   "outputs": [],
   "source": [
    "N = 2 ## number of input nodes"
   ]
  },
  {
   "cell_type": "code",
   "execution_count": 405,
   "metadata": {
    "collapsed": false
   },
   "outputs": [],
   "source": [
    "for i in range(N):  ## make the input and output nodes\n",
    "    G.add_node(i*2,label='x_in_'+str(i))\n",
    "    G.add_node(i*2+1,label='x_out_'+str(i))\n",
    "for i,(r,t) in enumerate(zip(rs,ts)): ## make the remaining nodes\n",
    "    G.add_node(2*N+i,label='x_'+str(i),M=np.matrix([[t,-r],[r,t]]))"
   ]
  },
  {
   "cell_type": "code",
   "execution_count": 406,
   "metadata": {
    "collapsed": false
   },
   "outputs": [
    {
     "data": {
      "text/plain": [
       "[(0, {'label': 'x_in_0'}),\n",
       " (1, {'label': 'x_out_0'}),\n",
       " (2, {'label': 'x_in_1'}),\n",
       " (3, {'label': 'x_out_1'}),\n",
       " (4, {'M': matrix([[ 0.43588989, -0.9       ],\n",
       "           [ 0.9       ,  0.43588989]]), 'label': 'x_0'}),\n",
       " (5, {'M': matrix([[ 0.8660254, -0.5      ],\n",
       "           [ 0.5      ,  0.8660254]]), 'label': 'x_1'}),\n",
       " (6, {'M': matrix([[ 0.6, -0.8],\n",
       "           [ 0.8,  0.6]]), 'label': 'x_2'})]"
      ]
     },
     "execution_count": 406,
     "metadata": {},
     "output_type": "execute_result"
    }
   ],
   "source": [
    "G.nodes(data=True) ## display the nodes"
   ]
  },
  {
   "cell_type": "markdown",
   "metadata": {},
   "source": [
    "Each (directed) edge $j$ has a time delay $\\tau_j$. In general a delay line may have an additional phase shift $\\exp(i\\theta_j)$ which is determined by a number $\\theta_j$.\n",
    "\n",
    "We will also include a pair of indices for each edge. The first index corresponds to the previous node and the second index corresponds to the next node. The indices indicate enumerations of the edges with respect to the input and output nodes, respectively. If the previous or next node is an input or output node of the graph, the index will be $0$.\n",
    "\n",
    "For now, let's assume that only internal edges have nonzero delays.\n",
    "\n",
    "**For the visualization, it would be nice if for a given node, the incoming and outgoing edges with the same index value would appear as a straight line, since this physically means the signal is being transmitted without reflecting.**"
   ]
  },
  {
   "cell_type": "code",
   "execution_count": 407,
   "metadata": {
    "collapsed": false
   },
   "outputs": [],
   "source": [
    "## edges to inputs\n",
    "G.add_edge(0,4,delay=0.,indices=(0,0),theta=0.,edge_type = 'input',edge_num=0)\n",
    "G.add_edge(2,6,delay=0.,indices=(0,1),theta=0.,edge_type = 'input',edge_num=1)\n",
    "\n",
    "## edges to outputs\n",
    "G.add_edge(4,1,delay=0.,indices=(1,0),theta=0.,edge_type = 'output',edge_num=2)\n",
    "G.add_edge(6,3,delay=0.,indices=(0,0),theta=0.,edge_type = 'output',edge_num=3)\n",
    "\n",
    "## internal edges\n",
    "G.add_edge(4,5,delay=1.,indices=(0,0),theta=0.,edge_type = 'internal',edge_num=4)\n",
    "G.add_edge(5,4,delay=1.,indices=(1,1),theta=0.,edge_type = 'internal',edge_num=5)\n",
    "G.add_edge(5,6,delay=1.,indices=(0,0),theta=0.,edge_type = 'internal',edge_num=6)\n",
    "G.add_edge(6,5,delay=1.,indices=(1,1),theta=0.,edge_type = 'internal',edge_num=7)"
   ]
  },
  {
   "cell_type": "code",
   "execution_count": 408,
   "metadata": {
    "collapsed": false
   },
   "outputs": [
    {
     "data": {
      "text/plain": [
       "[(0,\n",
       "  4,\n",
       "  {'delay': 0.0,\n",
       "   'edge_num': 0,\n",
       "   'edge_type': 'input',\n",
       "   'indices': (0, 0),\n",
       "   'theta': 0.0}),\n",
       " (2,\n",
       "  6,\n",
       "  {'delay': 0.0,\n",
       "   'edge_num': 1,\n",
       "   'edge_type': 'input',\n",
       "   'indices': (0, 1),\n",
       "   'theta': 0.0}),\n",
       " (4,\n",
       "  1,\n",
       "  {'delay': 0.0,\n",
       "   'edge_num': 2,\n",
       "   'edge_type': 'output',\n",
       "   'indices': (1, 0),\n",
       "   'theta': 0.0}),\n",
       " (4,\n",
       "  5,\n",
       "  {'delay': 1.0,\n",
       "   'edge_num': 4,\n",
       "   'edge_type': 'internal',\n",
       "   'indices': (0, 0),\n",
       "   'theta': 0.0}),\n",
       " (5,\n",
       "  4,\n",
       "  {'delay': 1.0,\n",
       "   'edge_num': 5,\n",
       "   'edge_type': 'internal',\n",
       "   'indices': (1, 1),\n",
       "   'theta': 0.0}),\n",
       " (5,\n",
       "  6,\n",
       "  {'delay': 1.0,\n",
       "   'edge_num': 6,\n",
       "   'edge_type': 'internal',\n",
       "   'indices': (0, 0),\n",
       "   'theta': 0.0}),\n",
       " (6,\n",
       "  3,\n",
       "  {'delay': 0.0,\n",
       "   'edge_num': 3,\n",
       "   'edge_type': 'output',\n",
       "   'indices': (0, 0),\n",
       "   'theta': 0.0}),\n",
       " (6,\n",
       "  5,\n",
       "  {'delay': 1.0,\n",
       "   'edge_num': 7,\n",
       "   'edge_type': 'internal',\n",
       "   'indices': (1, 1),\n",
       "   'theta': 0.0})]"
      ]
     },
     "execution_count": 408,
     "metadata": {},
     "output_type": "execute_result"
    }
   ],
   "source": [
    "G.edges(data=True)"
   ]
  },
  {
   "cell_type": "code",
   "execution_count": 409,
   "metadata": {
    "collapsed": false
   },
   "outputs": [],
   "source": [
    "## I can make a diagram for the graph, output to file\n",
    "A=nx.to_agraph(G)\n",
    "A.draw('file.ps',prog='neato')"
   ]
  },
  {
   "cell_type": "markdown",
   "metadata": {},
   "source": [
    "# Convert the network of nodes and edges to the framework used in the paper. \n",
    "\n",
    "This would take the graph structure above and generate matrices $M1,M2,M2,M3$ in the notation used in `Potapov_Code.Time_Delay_Network.py`. This would allow generating an instance of Time_Delay_Network."
   ]
  },
  {
   "cell_type": "code",
   "execution_count": 410,
   "metadata": {
    "collapsed": true
   },
   "outputs": [],
   "source": [
    "internal_edges = {(edge[0],edge[1]):edge[2] for edge in G.edges(data=True) if edge[2]['edge_type'] == 'internal'}\n",
    "m = len(internal_edges)"
   ]
  },
  {
   "cell_type": "code",
   "execution_count": 411,
   "metadata": {
    "collapsed": true
   },
   "outputs": [],
   "source": [
    "# input_edges = [edge for edge in G.edges(data=True) if edge[2]['edge_type'] == 'input']\n",
    "# output_edges = [edge for edge in G.edges(data=True) if edge[2]['edge_type'] == 'output']"
   ]
  },
  {
   "cell_type": "code",
   "execution_count": 440,
   "metadata": {
    "collapsed": false
   },
   "outputs": [],
   "source": [
    "M1 = np.zeros((m,m))\n",
    "internal_node_range = range(2*N,num_nodes)\n",
    "internal_connections = []\n",
    "for i in internal_node_range: ## internal nodes\n",
    "    outgoing_connections = nx.edges(G,[i])\n",
    "    internal_connections += [connection for connection in outgoing_connections if connection[1] in internal_node_range]\n",
    "\n",
    "for i in internal_connections:\n",
    "    for j in internal_connections:\n",
    "        if i[1] == j[0]:\n",
    "            matrix_indices = G.edge[i[0]][i[1]]['indices'][0], G.edge[j[0]][j[1]]['indices'][1]\n",
    "            M1[internal_edges[j]['edge_num']-2*N,internal_edges[i]['edge_num']-2*N] = G.node[i[1]]['M'][matrix_indices]"
   ]
  },
  {
   "cell_type": "code",
   "execution_count": 441,
   "metadata": {
    "collapsed": false
   },
   "outputs": [
    {
     "data": {
      "text/plain": [
       "array([[ 0.       ,  0.9      ,  0.       ,  0.       ],\n",
       "       [-0.5      ,  0.       ,  0.       ,  0.8660254],\n",
       "       [ 0.8660254,  0.       ,  0.       ,  0.5      ],\n",
       "       [ 0.       ,  0.       , -0.8      ,  0.       ]])"
      ]
     },
     "execution_count": 441,
     "metadata": {},
     "output_type": "execute_result"
    }
   ],
   "source": [
    "M1"
   ]
  },
  {
   "cell_type": "code",
   "execution_count": 429,
   "metadata": {
    "collapsed": true
   },
   "outputs": [],
   "source": [
    "all_connections = []\n",
    "for i in range(num_nodes): ## internal nodes\n",
    "    outgoing_connections = nx.edges(G,[i])\n",
    "    all_connections += [connection for connection in outgoing_connections if connection[1] in range(num_nodes)]"
   ]
  },
  {
   "cell_type": "code",
   "execution_count": 456,
   "metadata": {
    "collapsed": true
   },
   "outputs": [],
   "source": [
    "all_edges = {(edge[0],edge[1]):edge[2] for edge in G.edges(data=True)}\n",
    "m_all = len(all_edges)"
   ]
  },
  {
   "cell_type": "code",
   "execution_count": 457,
   "metadata": {
    "collapsed": false
   },
   "outputs": [],
   "source": [
    "U = np.zeros((m_all,m_all))\n",
    "\n",
    "for i in all_connections:\n",
    "    for j in all_connections:\n",
    "        if i[1] == j[0]:\n",
    "            matrix_indices = G.edge[i[0]][i[1]]['indices'][0], G.edge[j[0]][j[1]]['indices'][1]\n",
    "            U[all_edges[j]['edge_num'],all_edges[i]['edge_num']] = G.node[i[1]]['M'][matrix_indices]"
   ]
  },
  {
   "cell_type": "code",
   "execution_count": 463,
   "metadata": {
    "collapsed": false
   },
   "outputs": [
    {
     "data": {
      "text/plain": [
       "array([ 0. ,  0.6,  0. ,  0. ,  0. ,  0. ,  0.6,  0. ])"
      ]
     },
     "execution_count": 463,
     "metadata": {},
     "output_type": "execute_result"
    }
   ],
   "source": [
    "U[3]"
   ]
  },
  {
   "cell_type": "code",
   "execution_count": 447,
   "metadata": {
    "collapsed": false
   },
   "outputs": [
    {
     "data": {
      "text/plain": [
       "array([[ 0.       ,  0.9      ,  0.       ,  0.       ],\n",
       "       [-0.5      ,  0.       ,  0.       ,  0.8660254],\n",
       "       [ 0.8660254,  0.       ,  0.       ,  0.5      ],\n",
       "       [ 0.       ,  0.       , -0.8      ,  0.       ]])"
      ]
     },
     "execution_count": 447,
     "metadata": {},
     "output_type": "execute_result"
    }
   ],
   "source": [
    "## should coincide with M1\n",
    "\n",
    "U[4:8,4:8]"
   ]
  },
  {
   "cell_type": "markdown",
   "metadata": {},
   "source": [
    "# Usage Description"
   ]
  },
  {
   "cell_type": "markdown",
   "metadata": {},
   "source": [
    "Using the run_Potapov function of this method generates the variables that will be used for the first part of the visualization. Those are contained in an instance of the Time_Delay_Network. Specifically, the outputs we will want to plot are (1) `Time_Delay_Network.roots` (2) `Time_Delay_Network.spatial_modes`. \n",
    "\n",
    "The roots $r_1,...,r_n$ are a list of complex numbers corresponding to the modes indexed by $1,...,n$. The imaginary part of root $r_k$ correspond to the frequency of mode $k$, and the real part of $r_k$ indicate the decay coefficients of mode $k$.\n",
    "\n",
    "The spatial_modes are a list $v_1,...,v_n$ of complex-valued vectors. Each vector $v_k$ in the list corresponds to a mode $k$, in the same order as the roots. Each vector has the same length as the number of time delays of the network, $\\tau_1,...,\\tau_m$. The $l_{th}$ component $v_{k,l}$ of vector $v_k$ indicates the spatially normalized amplitude of mode $k$ along the delay $\\tau_l$. "
   ]
  },
  {
   "cell_type": "markdown",
   "metadata": {},
   "source": [
    "What would be cool is to be able to select one or many modes $1,...,k,...,n$ and to illustrate the spatial component of the signal of the selected modes along the graph. Specifically, the frequency of the root could correspond to a color or a periodic sinusoidal shape (higher frequency would be more blue or a shorter period), or both. The absolute value of the spatial mode component could be indicated by the thickness of the signal along each time delay. A phase shift could be indicated by a shift in the frequency of a sinusoidal signal."
   ]
  },
  {
   "cell_type": "code",
   "execution_count": 11,
   "metadata": {
    "collapsed": true
   },
   "outputs": [],
   "source": [
    "import Potapov_Code"
   ]
  },
  {
   "cell_type": "code",
   "execution_count": 225,
   "metadata": {
    "collapsed": true
   },
   "outputs": [],
   "source": [
    "Network = Potapov_Code.Time_Delay_Network.Example3() ## an example network with hardcoded values"
   ]
  },
  {
   "cell_type": "code",
   "execution_count": 227,
   "metadata": {
    "collapsed": false
   },
   "outputs": [],
   "source": [
    "Network.run_Potapov(commensurate_roots=True) ## run the analysis"
   ]
  },
  {
   "cell_type": "code",
   "execution_count": 238,
   "metadata": {
    "collapsed": false
   },
   "outputs": [
    {
     "data": {
      "text/plain": [
       "<matplotlib.collections.PathCollection at 0x1164cf4d0>"
      ]
     },
     "execution_count": 238,
     "metadata": {},
     "output_type": "execute_result"
    },
    {
     "data": {
      "image/png": "[encoded data removed]",
      "text/plain": [
       "<matplotlib.figure.Figure at 0x116311b10>"
      ]
     },
     "metadata": {},
     "output_type": "display_data"
    }
   ],
   "source": [
    "roots = Network.roots  ## roots\n",
    "plt.scatter(map(lambda z: z.real, roots), map(lambda z: z.imag, roots))"
   ]
  },
  {
   "cell_type": "code",
   "execution_count": 237,
   "metadata": {
    "collapsed": false
   },
   "outputs": [
    {
     "data": {
      "text/plain": [
       "[matrix([[-1.48727953 +4.66694763e-16j],\n",
       "         [ 1.48974810 +0.00000000e+00j],\n",
       "         [ 0.90468607 -3.51626818e-16j],\n",
       "         [-1.04741674 -3.02032128e-16j]]), matrix([[ 0.59123272+0.86497598j],\n",
       "         [ 0.94661031+0.33190779j],\n",
       "         [ 0.40453718+1.3928748j ],\n",
       "         [ 1.62411460+0.j        ]]), matrix([[ 0.59123272-0.86497598j],\n",
       "         [ 0.94661031-0.33190779j],\n",
       "         [ 0.40453718-1.3928748j ],\n",
       "         [ 1.62411460+0.j        ]]), matrix([[ 1.46055765+0.j        ],\n",
       "         [ 0.10451599+1.45435338j],\n",
       "         [-0.77553231-0.556405j  ],\n",
       "         [-0.67586950-0.87084148j]]), matrix([[ 1.46055765+0.j        ],\n",
       "         [ 0.10451599-1.45435338j],\n",
       "         [-0.77553231+0.556405j  ],\n",
       "         [-0.67586950+0.87084148j]]), matrix([[-1.12842454+0.22723406j],\n",
       "         [ 0.59750551+0.93771369j],\n",
       "         [-0.99353600-0.92653161j],\n",
       "         [ 1.53122646+0.j        ]]), matrix([[-1.12842454-0.22723406j],\n",
       "         [ 0.59750551-0.93771369j],\n",
       "         [-0.99353600+0.92653161j],\n",
       "         [ 1.53122646+0.j        ]]), matrix([[ 1.37270509+0.j        ],\n",
       "         [ 1.35117325-0.11704324j],\n",
       "         [-0.34761074-1.03966373j],\n",
       "         [-0.36698856+1.20157807j]]), matrix([[ 1.37270509+0.j        ],\n",
       "         [ 1.35117325+0.11704324j],\n",
       "         [-0.34761074+1.03966373j],\n",
       "         [-0.36698856-1.20157807j]]), matrix([[ 0.36243672-1.25335277j],\n",
       "         [-0.09466254+1.27596715j],\n",
       "         [ 1.13895896+0.33977773j],\n",
       "         [ 1.35469722+0.j        ]]), matrix([[ 0.36243672+1.25335277j],\n",
       "         [-0.09466254-1.27596715j],\n",
       "         [ 1.13895896-0.33977773j],\n",
       "         [ 1.35469722+0.j        ]])]"
      ]
     },
     "execution_count": 237,
     "metadata": {},
     "output_type": "execute_result"
    }
   ],
   "source": [
    "Network.spatial_modes ## the spatial modes"
   ]
  }
 ],
 "metadata": {
  "kernelspec": {
   "display_name": "Python 2",
   "language": "python",
   "name": "python2"
  },
  "language_info": {
   "codemirror_mode": {
    "name": "ipython",
    "version": 2
   },
   "file_extension": ".py",
   "mimetype": "text/x-python",
   "name": "python",
   "nbconvert_exporter": "python",
   "pygments_lexer": "ipython2",
   "version": "2.7.12"
  },
  "widgets": {
   "state": {},
   "version": "1.1.2"
  }
 },
 "nbformat": 4,
 "nbformat_minor": 0
}
