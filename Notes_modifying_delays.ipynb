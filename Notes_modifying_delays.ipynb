{
 "cells": [
  {
   "cell_type": "code",
   "execution_count": 1383,
   "metadata": {
    "collapsed": false
   },
   "outputs": [],
   "source": [
    "from scipy.sparse.linalg import eigs\n",
    "import scipy.sparse as sparse\n",
    "import numpy as np\n",
    "import numpy.linalg as la\n",
    "\n",
    "import matplotlib.pyplot as plt\n",
    "%matplotlib inline\n",
    "\n",
    "import Potapov_Code.Time_Delay_Network as networks\n",
    "from Potapov_Code.functions import spatial_modes\n",
    "\n",
    "from sympy import init_printing\n",
    "init_printing() "
   ]
  },
  {
   "cell_type": "markdown",
   "metadata": {},
   "source": [
    "# The first thing we try is to refine the roots based on changing the delay lengths and correcting the root values with the Muller method."
   ]
  },
  {
   "cell_type": "code",
   "execution_count": 1485,
   "metadata": {
    "collapsed": true
   },
   "outputs": [],
   "source": [
    "### A method for perturbing the roots"
   ]
  },
  {
   "cell_type": "code",
   "execution_count": 1486,
   "metadata": {
    "collapsed": true
   },
   "outputs": [],
   "source": [
    "from decimal import Decimal\n",
    "import scipy.constants as consts"
   ]
  },
  {
   "cell_type": "code",
   "execution_count": 1487,
   "metadata": {
    "collapsed": true
   },
   "outputs": [],
   "source": [
    "from mpmath import mpf\n",
    "from Potapov_Code import Roots"
   ]
  },
  {
   "cell_type": "code",
   "execution_count": 1488,
   "metadata": {
    "collapsed": true
   },
   "outputs": [],
   "source": [
    "mp.mp.dps = 40"
   ]
  },
  {
   "cell_type": "code",
   "execution_count": 1489,
   "metadata": {
    "collapsed": true
   },
   "outputs": [],
   "source": [
    "crystal_len = mpf('0.01') / consts.c ## in m\n",
    "r = mpf('0.99')\n",
    "tau = mpf('0.99') / consts.c ## e.g. 1 meter\n",
    "\n",
    "tau_effective =  tau - crystal_len +crystal_len * refraction_index_center"
   ]
  },
  {
   "cell_type": "code",
   "execution_count": 1589,
   "metadata": {
    "collapsed": false
   },
   "outputs": [],
   "source": [
    "S = mpf('3e2')"
   ]
  },
  {
   "cell_type": "code",
   "execution_count": 1590,
   "metadata": {
    "collapsed": true
   },
   "outputs": [],
   "source": [
    "skip = 2.*mp.pi/tau_effective * S  ## separation between modes"
   ]
  },
  {
   "cell_type": "code",
   "execution_count": 1591,
   "metadata": {
    "collapsed": false
   },
   "outputs": [],
   "source": [
    "freq_list = [(num*skip) for num in (np.linspace(0,1000,1001))] ## assuming center at zero."
   ]
  },
  {
   "cell_type": "code",
   "execution_count": 1592,
   "metadata": {
    "collapsed": true
   },
   "outputs": [],
   "source": [
    "refraction_index_func_lam = lambda lam: np.sqrt(np.maximum(1 + 2.9804*lam**2/(lam**2-0.02047) + 0.5981*lam**2/(lam**2-0.0666)\n",
    "                        + 8.9543*lam**2/(lam**2-416.08), 0))"
   ]
  },
  {
   "cell_type": "code",
   "execution_count": 1593,
   "metadata": {
    "collapsed": true
   },
   "outputs": [],
   "source": [
    "refraction_index_func = lambda f: refraction_index_func_lam(consts.c * 1e9 / (f + mpf('5e14')) )"
   ]
  },
  {
   "cell_type": "code",
   "execution_count": 1594,
   "metadata": {
    "collapsed": false
   },
   "outputs": [
    {
     "data": {
      "text/plain": [
       "mpf('599.584916')"
      ]
     },
     "execution_count": 1594,
     "metadata": {},
     "output_type": "execute_result"
    }
   ],
   "source": [
    "consts.c * 1e9 / (freq_list[0]+ mpf('5e14'))"
   ]
  },
  {
   "cell_type": "code",
   "execution_count": 1595,
   "metadata": {
    "collapsed": false
   },
   "outputs": [
    {
     "data": {
      "text/plain": [
       "mpf('283.9594228748266150060325200473726603424741')"
      ]
     },
     "execution_count": 1595,
     "metadata": {},
     "output_type": "execute_result"
    }
   ],
   "source": [
    "consts.c * 1e9 / (freq_list[-1]+ mpf('5e14'))"
   ]
  },
  {
   "cell_type": "code",
   "execution_count": 1596,
   "metadata": {
    "collapsed": false
   },
   "outputs": [],
   "source": [
    "refraction_index_center = refraction_index_func(freq_list[100])"
   ]
  },
  {
   "cell_type": "code",
   "execution_count": 1597,
   "metadata": {
    "collapsed": false
   },
   "outputs": [
    {
     "data": {
      "text/plain": [
       "mpf('3.680436666030034653586145676497687787415213')"
      ]
     },
     "execution_count": 1597,
     "metadata": {},
     "output_type": "execute_result"
    }
   ],
   "source": [
    "refraction_index_center"
   ]
  },
  {
   "cell_type": "code",
   "execution_count": 1598,
   "metadata": {
    "collapsed": true
   },
   "outputs": [],
   "source": [
    "T_denom = lambda z: (mpf('1')-r* mp.exp(-z*tau_effective))"
   ]
  },
  {
   "cell_type": "code",
   "execution_count": 1599,
   "metadata": {
    "collapsed": false
   },
   "outputs": [],
   "source": [
    "exps = np.roots([-(r),1.])"
   ]
  },
  {
   "cell_type": "code",
   "execution_count": 1600,
   "metadata": {
    "collapsed": true
   },
   "outputs": [],
   "source": [
    "x = exps[0]"
   ]
  },
  {
   "cell_type": "code",
   "execution_count": 1601,
   "metadata": {
    "collapsed": false
   },
   "outputs": [],
   "source": [
    "x = Roots.Muller(x,x+0.1,x-0.1,lambda x: mpf('1') - x *r ,tol = mpf('1e-30')) ## refine roots"
   ]
  },
  {
   "cell_type": "code",
   "execution_count": null,
   "metadata": {
    "collapsed": true
   },
   "outputs": [],
   "source": []
  },
  {
   "cell_type": "code",
   "execution_count": 1602,
   "metadata": {
    "collapsed": false
   },
   "outputs": [],
   "source": [
    "kappa = -mp.log(x)/tau_effective"
   ]
  },
  {
   "cell_type": "code",
   "execution_count": 1603,
   "metadata": {
    "collapsed": false
   },
   "outputs": [
    {
     "data": {
      "text/plain": [
       "mpf('4.001869345090630919409246198438762822182218e-36')"
      ]
     },
     "execution_count": 1603,
     "metadata": {},
     "output_type": "execute_result"
    }
   ],
   "source": [
    "abs(T_denom(kappa + freq_list[100]*1j))"
   ]
  },
  {
   "cell_type": "code",
   "execution_count": 1604,
   "metadata": {
    "collapsed": true
   },
   "outputs": [],
   "source": [
    "### make multiple... do differently later"
   ]
  },
  {
   "cell_type": "code",
   "execution_count": null,
   "metadata": {
    "collapsed": true
   },
   "outputs": [],
   "source": []
  },
  {
   "cell_type": "code",
   "execution_count": 1605,
   "metadata": {
    "collapsed": false
   },
   "outputs": [
    {
     "data": {
      "text/plain": [
       "[<matplotlib.lines.Line2D at 0x13b314d10>]"
      ]
     },
     "execution_count": 1605,
     "metadata": {},
     "output_type": "execute_result"
    },
    {
     "data": {
      "image/png": "[encoded data removed]",
      "text/plain": [
       "<matplotlib.figure.Figure at 0x13b142090>"
      ]
     },
     "metadata": {},
     "output_type": "display_data"
    }
   ],
   "source": [
    "plt.plot(map(lambda x: refraction_index_func_lam(x),np.linspace(400,1000)))"
   ]
  },
  {
   "cell_type": "code",
   "execution_count": 1606,
   "metadata": {
    "collapsed": true
   },
   "outputs": [],
   "source": [
    "indices_of_refraction = map(lambda x: refraction_index_func(x),freq_list)"
   ]
  },
  {
   "cell_type": "code",
   "execution_count": 1607,
   "metadata": {
    "collapsed": false
   },
   "outputs": [
    {
     "data": {
      "text/plain": [
       "mpf('3.680105406643590024592391682651124991846114')"
      ]
     },
     "execution_count": 1607,
     "metadata": {},
     "output_type": "execute_result"
    }
   ],
   "source": [
    "min(indices_of_refraction)"
   ]
  },
  {
   "cell_type": "code",
   "execution_count": 1608,
   "metadata": {
    "collapsed": false
   },
   "outputs": [
    {
     "data": {
      "text/plain": [
       "mpf('3.680105406643590024592391682651124991846114')"
      ]
     },
     "execution_count": 1608,
     "metadata": {},
     "output_type": "execute_result"
    }
   ],
   "source": [
    "min(indices_of_refraction)"
   ]
  },
  {
   "cell_type": "code",
   "execution_count": 1609,
   "metadata": {
    "collapsed": false,
    "scrolled": true
   },
   "outputs": [
    {
     "data": {
      "text/plain": [
       "[<matplotlib.lines.Line2D at 0x13b3d56d0>]"
      ]
     },
     "execution_count": 1609,
     "metadata": {},
     "output_type": "execute_result"
    },
    {
     "data": {
      "image/png": "[encoded data removed]",
      "text/plain": [
       "<matplotlib.figure.Figure at 0x13a05cc90>"
      ]
     },
     "metadata": {},
     "output_type": "display_data"
    }
   ],
   "source": [
    "plt.plot(indices_of_refraction)"
   ]
  },
  {
   "cell_type": "code",
   "execution_count": 1610,
   "metadata": {
    "collapsed": true
   },
   "outputs": [],
   "source": [
    "## Next let's re-solve for the modes:"
   ]
  },
  {
   "cell_type": "code",
   "execution_count": 1611,
   "metadata": {
    "collapsed": true
   },
   "outputs": [],
   "source": [
    "new_delays = map( lambda z: tau - crystal_len +crystal_len * z,  indices_of_refraction)"
   ]
  },
  {
   "cell_type": "code",
   "execution_count": 1612,
   "metadata": {
    "collapsed": false,
    "scrolled": true
   },
   "outputs": [
    {
     "data": {
      "text/plain": [
       "mpf('0.000000003302284542461705290798209473301693266746553')"
      ]
     },
     "execution_count": 1612,
     "metadata": {},
     "output_type": "execute_result"
    }
   ],
   "source": [
    "tau"
   ]
  },
  {
   "cell_type": "code",
   "execution_count": 1613,
   "metadata": {
    "collapsed": false
   },
   "outputs": [
    {
     "data": {
      "text/plain": [
       "mpf('0.00004816505465907468509438129990116540915157414')"
      ]
     },
     "execution_count": 1613,
     "metadata": {},
     "output_type": "execute_result"
    }
   ],
   "source": [
    "(max(new_delays) - min(new_delays)) / sum(new_delays) * len(new_delays)"
   ]
  },
  {
   "cell_type": "code",
   "execution_count": 1614,
   "metadata": {
    "collapsed": false
   },
   "outputs": [],
   "source": [
    "funcs = [lambda z: (mpf('1')-r* mp.exp(-z*tau_new)) for tau_new in new_delays]"
   ]
  },
  {
   "cell_type": "code",
   "execution_count": 1615,
   "metadata": {
    "collapsed": true
   },
   "outputs": [],
   "source": [
    "roots = np.asarray([kappa + f*1j for f in freq_list])"
   ]
  },
  {
   "cell_type": "code",
   "execution_count": 1616,
   "metadata": {
    "collapsed": false
   },
   "outputs": [],
   "source": [
    "corrected_roots = np.asarray([Roots.Muller(root+0.1,root-0.1,root,fun,tol = mpf('1e-30')) for root,fun in zip(roots,funcs)])"
   ]
  },
  {
   "cell_type": "code",
   "execution_count": 1617,
   "metadata": {
    "collapsed": false
   },
   "outputs": [
    {
     "data": {
      "text/plain": [
       "[<matplotlib.lines.Line2D at 0x13b76f390>]"
      ]
     },
     "execution_count": 1617,
     "metadata": {},
     "output_type": "execute_result"
    },
    {
     "data": {
      "image/png": "[encoded data removed]",
      "text/plain": [
       "<matplotlib.figure.Figure at 0x13b514e50>"
      ]
     },
     "metadata": {},
     "output_type": "display_data"
    }
   ],
   "source": [
    "plt.plot(  map(lambda z: z.imag,((corrected_roots - roots ) ) ) )\n",
    "#plt.plot( map(lambda z: 0.00002-2e-2/(z+100), xrange(256,4000))  )"
   ]
  },
  {
   "cell_type": "code",
   "execution_count": 1618,
   "metadata": {
    "collapsed": false,
    "scrolled": true
   },
   "outputs": [
    {
     "data": {
      "text/plain": [
       "[<matplotlib.lines.Line2D at 0x13b8bd810>]"
      ]
     },
     "execution_count": 1618,
     "metadata": {},
     "output_type": "execute_result"
    },
    {
     "data": {
      "image/png": "[encoded data removed]",
      "text/plain": [
       "<matplotlib.figure.Figure at 0x13b72c510>"
      ]
     },
     "metadata": {},
     "output_type": "display_data"
    }
   ],
   "source": [
    "plt.plot(  map(lambda z: z.imag,(( roots)  ) ))\n"
   ]
  },
  {
   "cell_type": "code",
   "execution_count": 1619,
   "metadata": {
    "collapsed": false,
    "scrolled": true
   },
   "outputs": [
    {
     "data": {
      "text/plain": [
       "[<matplotlib.lines.Line2D at 0x13ba1a550>]"
      ]
     },
     "execution_count": 1619,
     "metadata": {},
     "output_type": "execute_result"
    },
    {
     "data": {
      "image/png": "[encoded data removed]",
      "text/plain": [
       "<matplotlib.figure.Figure at 0x13b7d5750>"
      ]
     },
     "metadata": {},
     "output_type": "display_data"
    }
   ],
   "source": [
    "plt.plot(  map(lambda z: z.imag,(( corrected_roots)  ) ))\n"
   ]
  },
  {
   "cell_type": "markdown",
   "metadata": {},
   "source": [
    "## Conclusions with Muller:\n",
    "## The method can be slow. For roots far apart, the method might 'skip' roots, which is not really acceptable."
   ]
  },
  {
   "cell_type": "markdown",
   "metadata": {},
   "source": [
    "# Below we use a different approach based on Taylor expanding"
   ]
  },
  {
   "cell_type": "code",
   "execution_count": 1521,
   "metadata": {
    "collapsed": true
   },
   "outputs": [],
   "source": [
    "import Potapov_Code.Time_Delay_Network"
   ]
  },
  {
   "cell_type": "code",
   "execution_count": 1522,
   "metadata": {
    "collapsed": false
   },
   "outputs": [],
   "source": [
    "from Potapov_Code.functions import gcd_lst"
   ]
  },
  {
   "cell_type": "code",
   "execution_count": 1523,
   "metadata": {
    "collapsed": false
   },
   "outputs": [],
   "source": [
    "X1 = Potapov_Code.Time_Delay_Network.Example3()"
   ]
  },
  {
   "cell_type": "code",
   "execution_count": 1524,
   "metadata": {
    "collapsed": false
   },
   "outputs": [
    {
     "data": {
      "text/plain": [
       "<Potapov_Code.Time_Delay_Network.Example3 instance at 0x13a6d0710>"
      ]
     },
     "execution_count": 1524,
     "metadata": {},
     "output_type": "execute_result"
    }
   ],
   "source": [
    "X1"
   ]
  },
  {
   "cell_type": "code",
   "execution_count": 1525,
   "metadata": {
    "collapsed": true
   },
   "outputs": [],
   "source": [
    "def _find_commensurate(delays):\n",
    "    '''\n",
    "    Find the 'gcd' but for Decimal numbers.\n",
    "\n",
    "    Args:\n",
    "        delays(list of Demicals): numbers whose gcd will be found.\n",
    "\n",
    "    Returns:\n",
    "        Decimal gcd.\n",
    "    '''\n",
    "    mult = min([d.as_tuple().exponent for d in delays])\n",
    "    power = 10**-mult\n",
    "    delays = map(lambda x: x*power,delays)\n",
    "    int_gcd = gcd_lst(delays)\n",
    "    return int_gcd/power"
   ]
  },
  {
   "cell_type": "code",
   "execution_count": 1526,
   "metadata": {
    "collapsed": false
   },
   "outputs": [],
   "source": [
    "Decimal_delays = map(lambda x: Decimal(str(x)),X1.delays)\n",
    "Decimal_gcd = _find_commensurate(Decimal_delays)\n",
    "\n",
    "xs = [sp.symbols('x_'+str(i)) for i in range(4) ]\n",
    "E_sym = sp.Matrix(np.zeros_like(X1.M1))\n",
    "for i,delay in enumerate(Decimal_delays):\n",
    "    E_sym[i,i] = xs[i]\n",
    "M1_sym = sp.Matrix(X1.M1)\n",
    "num, den = (E_sym - M1_sym).det().as_numer_denom()"
   ]
  },
  {
   "cell_type": "code",
   "execution_count": 1527,
   "metadata": {
    "collapsed": false
   },
   "outputs": [
    {
     "data": {
      "image/png": "[encoded data removed]",
      "text/latex": [
       "$$\\left ( 1.0 x_{0}^{2} x_{1}^{2} x_{2} x_{3} + 0.32 x_{0}^{2} x_{1}^{2} - 0.72 x_{0} x_{1} x_{2} x_{3} - 0.8352 x_{0} x_{1} + 0.1296 x_{2} x_{3} + 0.2592, \\quad 1.0 x_{0} x_{1} - 0.36\\right )$$"
      ],
      "text/plain": [
       "⎛      2   2                2   2                                             \n",
       "⎝1.0⋅x₀ ⋅x₁ ⋅x₂⋅x₃ + 0.32⋅x₀ ⋅x₁  - - -0.72⋅x₀⋅x₁⋅x₂⋅x₃ - - -0.8352⋅x₀⋅x₁ + 0.\n",
       "\n",
       "                                     ⎞\n",
       "1296⋅x₂⋅x₃ + 0.2592, 1.0⋅x₀⋅x₁ - 0.36⎠"
      ]
     },
     "execution_count": 1527,
     "metadata": {},
     "output_type": "execute_result"
    }
   ],
   "source": [
    "num, den"
   ]
  },
  {
   "cell_type": "code",
   "execution_count": 1386,
   "metadata": {
    "collapsed": true
   },
   "outputs": [],
   "source": [
    "D = {xs[i]: i for i in range(4)}"
   ]
  },
  {
   "cell_type": "code",
   "execution_count": 1387,
   "metadata": {
    "collapsed": false
   },
   "outputs": [
    {
     "data": {
      "image/png": "[encoded data removed]",
      "text/latex": [
       "$$-2.88$$"
      ],
      "text/plain": [
       "-2.88000000000000"
      ]
     },
     "execution_count": 1387,
     "metadata": {},
     "output_type": "execute_result"
    }
   ],
   "source": [
    "num.subs(D) / den.subs(D)"
   ]
  },
  {
   "cell_type": "code",
   "execution_count": 1388,
   "metadata": {
    "collapsed": false
   },
   "outputs": [
    {
     "data": {
      "image/png": "[encoded data removed]",
      "text/latex": [
       "$$-2.88$$"
      ],
      "text/plain": [
       "-2.88000000000000"
      ]
     },
     "execution_count": 1388,
     "metadata": {},
     "output_type": "execute_result"
    }
   ],
   "source": [
    "(E_sym - M1_sym).subs(D).det()"
   ]
  },
  {
   "cell_type": "code",
   "execution_count": 1389,
   "metadata": {
    "collapsed": false
   },
   "outputs": [
    {
     "data": {
      "image/png": "[encoded data removed]",
      "text/latex": [
       "$$1.0 x_{0}^{2} x_{1}^{2} x_{2} x_{3} + 0.32 x_{0}^{2} x_{1}^{2} - 0.72 x_{0} x_{1} x_{2} x_{3} - 0.8352 x_{0} x_{1} + 0.1296 x_{2} x_{3} + 0.2592$$"
      ],
      "text/plain": [
       "      2   2                2   2                                              \n",
       "1.0⋅x₀ ⋅x₁ ⋅x₂⋅x₃ + 0.32⋅x₀ ⋅x₁  - - -0.72⋅x₀⋅x₁⋅x₂⋅x₃ - - -0.8352⋅x₀⋅x₁ + 0.1\n",
       "\n",
       "                  \n",
       "296⋅x₂⋅x₃ + 0.2592"
      ]
     },
     "execution_count": 1389,
     "metadata": {},
     "output_type": "execute_result"
    }
   ],
   "source": [
    "num"
   ]
  },
  {
   "cell_type": "code",
   "execution_count": 1431,
   "metadata": {
    "collapsed": false
   },
   "outputs": [],
   "source": [
    "z, z_Delta = sp.symbols('z dz')\n",
    "Ts = [sp.symbols('T_'+str(i)) for i in range(4)]\n",
    "Ts_Delta = [sp.symbols('dT_'+str(i)) for i in range(4)]"
   ]
  },
  {
   "cell_type": "code",
   "execution_count": 1435,
   "metadata": {
    "collapsed": true
   },
   "outputs": [],
   "source": [
    "D = {x: sp.exp(-z*T) for x,T in zip(xs,Ts)}"
   ]
  },
  {
   "cell_type": "code",
   "execution_count": 1436,
   "metadata": {
    "collapsed": false
   },
   "outputs": [],
   "source": [
    "exp_periodic = num.subs(D)"
   ]
  },
  {
   "cell_type": "code",
   "execution_count": 1437,
   "metadata": {
    "collapsed": false
   },
   "outputs": [
    {
     "data": {
      "image/png": "[encoded data removed]",
      "text/latex": [
       "$$0.2592 + 0.1296 e^{- T_{2} z} e^{- T_{3} z} - 0.8352 e^{- T_{0} z} e^{- T_{1} z} - 0.72 e^{- T_{0} z} e^{- T_{1} z} e^{- T_{2} z} e^{- T_{3} z} + 0.32 e^{- 2 T_{0} z} e^{- 2 T_{1} z} + 1.0 e^{- 2 T_{0} z} e^{- 2 T_{1} z} e^{- T_{2} z} e^{- T_{3} z}$$"
      ],
      "text/plain": [
       "                 -T₂⋅z  -T₃⋅z              -T₀⋅z  -T₁⋅z            -T₀⋅z  -T₁⋅\n",
       "0.2592 + 0.1296⋅ℯ     ⋅ℯ      - - -0.8352⋅ℯ     ⋅ℯ      - - -0.72⋅ℯ     ⋅ℯ    \n",
       "\n",
       "z  -T₂⋅z  -T₃⋅z         -2⋅T₀⋅z  -2⋅T₁⋅z        -2⋅T₀⋅z  -2⋅T₁⋅z  -T₂⋅z  -T₃⋅z\n",
       " ⋅ℯ     ⋅ℯ      + 0.32⋅ℯ       ⋅ℯ        + 1.0⋅ℯ       ⋅ℯ       ⋅ℯ     ⋅ℯ     "
      ]
     },
     "execution_count": 1437,
     "metadata": {},
     "output_type": "execute_result"
    }
   ],
   "source": [
    "exp_periodic"
   ]
  },
  {
   "cell_type": "code",
   "execution_count": 1438,
   "metadata": {
    "collapsed": false
   },
   "outputs": [
    {
     "data": {
      "image/png": "[encoded data removed]",
      "text/latex": [
       "$$0.8352 z e^{- T_{0} z} e^{- T_{1} z} + 0.72 z e^{- T_{0} z} e^{- T_{1} z} e^{- T_{2} z} e^{- T_{3} z} - 0.64 z e^{- 2 T_{0} z} e^{- 2 T_{1} z} - 2.0 z e^{- 2 T_{0} z} e^{- 2 T_{1} z} e^{- T_{2} z} e^{- T_{3} z}$$"
      ],
      "text/plain": [
       "          -T₀⋅z  -T₁⋅z           -T₀⋅z  -T₁⋅z  -T₂⋅z  -T₃⋅z              -2⋅T₀\n",
       "0.8352⋅z⋅ℯ     ⋅ℯ      + 0.72⋅z⋅ℯ     ⋅ℯ     ⋅ℯ     ⋅ℯ      - - -0.64⋅z⋅ℯ     \n",
       "\n",
       "⋅z  -2⋅T₁⋅z                -2⋅T₀⋅z  -2⋅T₁⋅z  -T₂⋅z  -T₃⋅z\n",
       "  ⋅ℯ        - -2.0⋅(-1)⋅z⋅ℯ       ⋅ℯ       ⋅ℯ     ⋅ℯ     "
      ]
     },
     "execution_count": 1438,
     "metadata": {},
     "output_type": "execute_result"
    }
   ],
   "source": [
    "exp_periodic.diff(Ts[0])"
   ]
  },
  {
   "cell_type": "code",
   "execution_count": 1621,
   "metadata": {
    "collapsed": false
   },
   "outputs": [
    {
     "data": {
      "image/png": "[encoded data removed]",
      "text/latex": [
       "$$0.8352 T_{0} e^{- T_{0} z} e^{- T_{1} z} + 0.72 T_{0} e^{- T_{0} z} e^{- T_{1} z} e^{- T_{2} z} e^{- T_{3} z} - 0.64 T_{0} e^{- 2 T_{0} z} e^{- 2 T_{1} z} - 2.0 T_{0} e^{- 2 T_{0} z} e^{- 2 T_{1} z} e^{- T_{2} z} e^{- T_{3} z} + 0.8352 T_{1} e^{- T_{0} z} e^{- T_{1} z} + 0.72 T_{1} e^{- T_{0} z} e^{- T_{1} z} e^{- T_{2} z} e^{- T_{3} z} - 0.64 T_{1} e^{- 2 T_{0} z} e^{- 2 T_{1} z} - 2.0 T_{1} e^{- 2 T_{0} z} e^{- 2 T_{1} z} e^{- T_{2} z} e^{- T_{3} z} - 0.1296 T_{2} e^{- T_{2} z} e^{- T_{3} z} + 0.72 T_{2} e^{- T_{0} z} e^{- T_{1} z} e^{- T_{2} z} e^{- T_{3} z} - 1.0 T_{2} e^{- 2 T_{0} z} e^{- 2 T_{1} z} e^{- T_{2} z} e^{- T_{3} z} - 0.1296 T_{3} e^{- T_{2} z} e^{- T_{3} z} + 0.72 T_{3} e^{- T_{0} z} e^{- T_{1} z} e^{- T_{2} z} e^{- T_{3} z} - 1.0 T_{3} e^{- 2 T_{0} z} e^{- 2 T_{1} z} e^{- T_{2} z} e^{- T_{3} z}$$"
      ],
      "text/plain": [
       "           -T₀⋅z  -T₁⋅z            -T₀⋅z  -T₁⋅z  -T₂⋅z  -T₃⋅z               -2\n",
       "0.8352⋅T₀⋅ℯ     ⋅ℯ      + 0.72⋅T₀⋅ℯ     ⋅ℯ     ⋅ℯ     ⋅ℯ      - - -0.64⋅T₀⋅ℯ  \n",
       "\n",
       "⋅T₀⋅z  -2⋅T₁⋅z                 -2⋅T₀⋅z  -2⋅T₁⋅z  -T₂⋅z  -T₃⋅z              -T₀\n",
       "     ⋅ℯ        - -2.0⋅(-1)⋅T₀⋅ℯ       ⋅ℯ       ⋅ℯ     ⋅ℯ      + 0.8352⋅T₁⋅ℯ   \n",
       "\n",
       "⋅z  -T₁⋅z            -T₀⋅z  -T₁⋅z  -T₂⋅z  -T₃⋅z               -2⋅T₀⋅z  -2⋅T₁⋅z\n",
       "  ⋅ℯ      + 0.72⋅T₁⋅ℯ     ⋅ℯ     ⋅ℯ     ⋅ℯ      - - -0.64⋅T₁⋅ℯ       ⋅ℯ       \n",
       "\n",
       "                 -2⋅T₀⋅z  -2⋅T₁⋅z  -T₂⋅z  -T₃⋅z                 -T₂⋅z  -T₃⋅z  \n",
       " - -2.0⋅(-1)⋅T₁⋅ℯ       ⋅ℯ       ⋅ℯ     ⋅ℯ      - - -0.1296⋅T₂⋅ℯ     ⋅ℯ      +\n",
       "\n",
       "          -T₀⋅z  -T₁⋅z  -T₂⋅z  -T₃⋅z              -2⋅T₀⋅z  -2⋅T₁⋅z  -T₂⋅z  -T₃\n",
       " 0.72⋅T₂⋅ℯ     ⋅ℯ     ⋅ℯ     ⋅ℯ      - - -1.0⋅T₂⋅ℯ       ⋅ℯ       ⋅ℯ     ⋅ℯ   \n",
       "\n",
       "⋅z                 -T₂⋅z  -T₃⋅z            -T₀⋅z  -T₁⋅z  -T₂⋅z  -T₃⋅z         \n",
       "   - - -0.1296⋅T₃⋅ℯ     ⋅ℯ      + 0.72⋅T₃⋅ℯ     ⋅ℯ     ⋅ℯ     ⋅ℯ      - - -1.0\n",
       "\n",
       "     -2⋅T₀⋅z  -2⋅T₁⋅z  -T₂⋅z  -T₃⋅z\n",
       "⋅T₃⋅ℯ       ⋅ℯ       ⋅ℯ     ⋅ℯ     "
      ]
     },
     "execution_count": 1621,
     "metadata": {},
     "output_type": "execute_result"
    }
   ],
   "source": [
    "diff_z = exp_periodic.diff(z)\n",
    "diff_z"
   ]
  },
  {
   "cell_type": "markdown",
   "metadata": {},
   "source": [
    "Suppose We have the passive linear system. Its roots satisfy\n",
    "$$\n",
    "f(z,T_1,...,T_k)  = 0.\n",
    "$$\n",
    "Now suppose that we add the nonlinearities. This shifts the time delays depanding on the index of \n",
    "refraction. For each frequency $z$ there will be a slightly different shift.\n",
    "\n",
    "To leading order, we can capture the effect on the shift of the root $z$ by Taylor expanding.\n",
    "Perturb the delays $T_j \\to T_j + \\Delta T_j$, then $z \\to z + \\Delta z$ such that\n",
    "$$\n",
    "f(z + \\Delta z, T_1+ \\Delta T_1,...,T_k + \\Delta T_k) = 0.\n",
    "$$\n",
    "Taylor expanding to first order and using the condition on the original roots and delays,\n",
    "$$\n",
    "\\frac{\\partial f}{\\partial z}(z,T_1,...,T_k) \\Delta z + \\sum_{j=1}^k \\frac{\\partial f}{\\partial T_j} (z,T_1,...,T_k) \\Delta T_j = 0.\n",
    "$$\n",
    "Solving,\n",
    "$$\n",
    "\\Delta z = - \\frac{\\sum_{j=1}^k \\frac{\\partial f}{\\partial T_j} (z,T_1,...,T_k) \\Delta T_j }{ \\frac{\\partial f}{\\partial z}(z,T_1,...,T_k)} .\n",
    "$$\n",
    "This procedure can be done symbolically and turned into a function, so that it can be done only once. Then, the formula can be used for each individual frequency in order to find its shift. \n",
    "\n",
    "The procedure can also be repeated recursively for greater precision. This will only be important for stronger nonlinearities. For this to be done, the new frequency $z+\\Delta z$ is used to find the new indices of refraction, which are then used for find the new delays. Then the formula can be applied again."
   ]
  },
  {
   "cell_type": "code",
   "execution_count": 1440,
   "metadata": {
    "collapsed": true
   },
   "outputs": [],
   "source": [
    "T_expression = sum([exp_periodic.diff(T)*T_d for T,T_d in zip(Ts,Ts_Delta)])"
   ]
  },
  {
   "cell_type": "code",
   "execution_count": 1454,
   "metadata": {
    "collapsed": false,
    "scrolled": false
   },
   "outputs": [],
   "source": [
    "sol = sp.solve(T_expression + exp_periodic.diff(z)*z_Delta, z_Delta)"
   ]
  },
  {
   "cell_type": "code",
   "execution_count": 1455,
   "metadata": {
    "collapsed": false
   },
   "outputs": [
    {
     "data": {
      "image/png": "[encoded data removed]",
      "text/latex": [
       "$$- \\frac{z \\left(- 450.0 dT_{0} e^{z \\left(T_{0} + T_{1}\\right)} + 400.0 dT_{0} e^{z \\left(T_{2} + T_{3}\\right)} - 522.0 dT_{0} e^{z \\left(T_{0} + T_{1} + T_{2} + T_{3}\\right)} + 1250.0 dT_{0} - 450.0 dT_{1} e^{z \\left(T_{0} + T_{1}\\right)} + 400.0 dT_{1} e^{z \\left(T_{2} + T_{3}\\right)} - 522.0 dT_{1} e^{z \\left(T_{0} + T_{1} + T_{2} + T_{3}\\right)} + 1250.0 dT_{1} - 450.0 dT_{2} e^{z \\left(T_{0} + T_{1}\\right)} + 81.0 dT_{2} e^{2.0 z \\left(T_{0} + T_{1}\\right)} + 625.0 dT_{2} - 450.0 dT_{3} e^{z \\left(T_{0} + T_{1}\\right)} + 81.0 dT_{3} e^{2.0 z \\left(T_{0} + T_{1}\\right)} + 625.0 dT_{3}\\right)}{- 450.0 T_{0} e^{z \\left(T_{0} + T_{1}\\right)} + 400.0 T_{0} e^{z \\left(T_{2} + T_{3}\\right)} - 522.0 T_{0} e^{z \\left(T_{0} + T_{1} + T_{2} + T_{3}\\right)} + 1250.0 T_{0} - 450.0 T_{1} e^{z \\left(T_{0} + T_{1}\\right)} + 400.0 T_{1} e^{z \\left(T_{2} + T_{3}\\right)} - 522.0 T_{1} e^{z \\left(T_{0} + T_{1} + T_{2} + T_{3}\\right)} + 1250.0 T_{1} - 450.0 T_{2} e^{z \\left(T_{0} + T_{1}\\right)} + 81.0 T_{2} e^{2.0 z \\left(T_{0} + T_{1}\\right)} + 625.0 T_{2} - 450.0 T_{3} e^{z \\left(T_{0} + T_{1}\\right)} + 81.0 T_{3} e^{2.0 z \\left(T_{0} + T_{1}\\right)} + 625.0 T_{3}}$$"
      ],
      "text/plain": [
       "   ⎛                   z⋅(T₀ + T₁)              z⋅(T₂ + T₃)                   \n",
       "-z⋅⎝- -450.0⋅(-1)⋅dT₀⋅ℯ            + 400.0⋅dT₀⋅ℯ            - -522.0⋅(-1)⋅dT₀⋅\n",
       "──────────────────────────────────────────────────────────────────────────────\n",
       "                            z⋅(T₀ + T₁)             z⋅(T₂ + T₃)               \n",
       "          - -450.0⋅(-1)⋅T₀⋅ℯ            + 400.0⋅T₀⋅ℯ            - -522.0⋅(-1)⋅\n",
       "\n",
       " z⋅(T₀ + T₁ + T₂ + T₃)                                 z⋅(T₀ + T₁)            \n",
       "ℯ                      + 1250.0⋅dT₀ - -450.0⋅(-1)⋅dT₁⋅ℯ            + 400.0⋅dT₁\n",
       "──────────────────────────────────────────────────────────────────────────────\n",
       "    z⋅(T₀ + T₁ + T₂ + T₃)                               z⋅(T₀ + T₁)           \n",
       "T₀⋅ℯ                      + 1250.0⋅T₀ - -450.0⋅(-1)⋅T₁⋅ℯ            + 400.0⋅T₁\n",
       "\n",
       "  z⋅(T₂ + T₃)                    z⋅(T₀ + T₁ + T₂ + T₃)                        \n",
       "⋅ℯ            - -522.0⋅(-1)⋅dT₁⋅ℯ                      + 1250.0⋅dT₁ - -450.0⋅(\n",
       "──────────────────────────────────────────────────────────────────────────────\n",
       "  z⋅(T₂ + T₃)                   z⋅(T₀ + T₁ + T₂ + T₃)                         \n",
       "⋅ℯ            - -522.0⋅(-1)⋅T₁⋅ℯ                      + 1250.0⋅T₁ - -450.0⋅(-1\n",
       "\n",
       "         z⋅(T₀ + T₁)             2.0⋅z⋅(T₀ + T₁)                              \n",
       "-1)⋅dT₂⋅ℯ            + 81.0⋅dT₂⋅ℯ                + 625.0⋅dT₂ - -450.0⋅(-1)⋅dT₃\n",
       "──────────────────────────────────────────────────────────────────────────────\n",
       "      z⋅(T₀ + T₁)            2.0⋅z⋅(T₀ + T₁)                              z⋅(T\n",
       ")⋅T₂⋅ℯ            + 81.0⋅T₂⋅ℯ                + 625.0⋅T₂ - -450.0⋅(-1)⋅T₃⋅ℯ    \n",
       "\n",
       "  z⋅(T₀ + T₁)             2.0⋅z⋅(T₀ + T₁)            ⎞ \n",
       "⋅ℯ            + 81.0⋅dT₃⋅ℯ                + 625.0⋅dT₃⎠ \n",
       "───────────────────────────────────────────────────────\n",
       "₀ + T₁)            2.0⋅z⋅(T₀ + T₁)                     \n",
       "        + 81.0⋅T₃⋅ℯ                + 625.0⋅T₃          "
      ]
     },
     "execution_count": 1455,
     "metadata": {},
     "output_type": "execute_result"
    }
   ],
   "source": [
    "sol[0]"
   ]
  },
  {
   "cell_type": "markdown",
   "metadata": {},
   "source": [
    "In the expression above we notice that the numerator and denominator are only different in that the numerator has $d T_j$ for each $T_j$ in the denominator (except in the exponents), and that there is an overall factor of $-z$ in the numerator. This is due to the special form of the function $f$. The calculations can therefore be simplified: one only needs to compute $\\frac{\\partial f}{\\partial z}$, and make the appropriate replacements. This is done below"
   ]
  },
  {
   "cell_type": "code",
   "execution_count": 1632,
   "metadata": {
    "collapsed": false
   },
   "outputs": [],
   "source": [
    "T_temps = [sp.symbols('T_temp_'+str(i)) for i in range(4)]"
   ]
  },
  {
   "cell_type": "code",
   "execution_count": 1633,
   "metadata": {
    "collapsed": false
   },
   "outputs": [
    {
     "data": {
      "image/png": "[encoded data removed]",
      "text/latex": [
       "$$\\left [ T_{temp 0}, \\quad T_{temp 1}, \\quad T_{temp 2}, \\quad T_{temp 3}\\right ]$$"
      ],
      "text/plain": [
       "[T_temp_0, T_temp_1, T_temp_2, T_temp_3]"
      ]
     },
     "execution_count": 1633,
     "metadata": {},
     "output_type": "execute_result"
    }
   ],
   "source": [
    "T_temps"
   ]
  },
  {
   "cell_type": "code",
   "execution_count": 1654,
   "metadata": {
    "collapsed": true
   },
   "outputs": [],
   "source": [
    "D_tmp = {z*T:T_t for T,T_t in zip(Ts,T_temps)}\n",
    "D_inv = {T_t:z*T for T,T_t in zip(Ts,T_temps)}"
   ]
  },
  {
   "cell_type": "code",
   "execution_count": 1655,
   "metadata": {
    "collapsed": false
   },
   "outputs": [],
   "source": [
    "diff_z2 = diff_z.subs(D_tmp)"
   ]
  },
  {
   "cell_type": "code",
   "execution_count": 1656,
   "metadata": {
    "collapsed": false
   },
   "outputs": [],
   "source": [
    "D = {T:dT for T,dT in zip(Ts,Ts_Delta)}"
   ]
  },
  {
   "cell_type": "code",
   "execution_count": 1657,
   "metadata": {
    "collapsed": false
   },
   "outputs": [],
   "source": [
    "diff_z3 = diff_z2.subs(D)"
   ]
  },
  {
   "cell_type": "code",
   "execution_count": 1666,
   "metadata": {
    "collapsed": false
   },
   "outputs": [],
   "source": [
    "diff_z4 = diff_z3.subs(D_inv)"
   ]
  },
  {
   "cell_type": "code",
   "execution_count": 1667,
   "metadata": {
    "collapsed": false
   },
   "outputs": [
    {
     "data": {
      "image/png": "[encoded data removed]",
      "text/latex": [
       "$$0.8352 T_{0} e^{- T_{0} z} e^{- T_{1} z} + 0.72 T_{0} e^{- T_{0} z} e^{- T_{1} z} e^{- T_{2} z} e^{- T_{3} z} - 0.64 T_{0} e^{- 2 T_{0} z} e^{- 2 T_{1} z} - 2.0 T_{0} e^{- 2 T_{0} z} e^{- 2 T_{1} z} e^{- T_{2} z} e^{- T_{3} z} + 0.8352 T_{1} e^{- T_{0} z} e^{- T_{1} z} + 0.72 T_{1} e^{- T_{0} z} e^{- T_{1} z} e^{- T_{2} z} e^{- T_{3} z} - 0.64 T_{1} e^{- 2 T_{0} z} e^{- 2 T_{1} z} - 2.0 T_{1} e^{- 2 T_{0} z} e^{- 2 T_{1} z} e^{- T_{2} z} e^{- T_{3} z} - 0.1296 T_{2} e^{- T_{2} z} e^{- T_{3} z} + 0.72 T_{2} e^{- T_{0} z} e^{- T_{1} z} e^{- T_{2} z} e^{- T_{3} z} - 1.0 T_{2} e^{- 2 T_{0} z} e^{- 2 T_{1} z} e^{- T_{2} z} e^{- T_{3} z} - 0.1296 T_{3} e^{- T_{2} z} e^{- T_{3} z} + 0.72 T_{3} e^{- T_{0} z} e^{- T_{1} z} e^{- T_{2} z} e^{- T_{3} z} - 1.0 T_{3} e^{- 2 T_{0} z} e^{- 2 T_{1} z} e^{- T_{2} z} e^{- T_{3} z}$$"
      ],
      "text/plain": [
       "           -T₀⋅z  -T₁⋅z            -T₀⋅z  -T₁⋅z  -T₂⋅z  -T₃⋅z               -2\n",
       "0.8352⋅T₀⋅ℯ     ⋅ℯ      + 0.72⋅T₀⋅ℯ     ⋅ℯ     ⋅ℯ     ⋅ℯ      - - -0.64⋅T₀⋅ℯ  \n",
       "\n",
       "⋅T₀⋅z  -2⋅T₁⋅z                 -2⋅T₀⋅z  -2⋅T₁⋅z  -T₂⋅z  -T₃⋅z              -T₀\n",
       "     ⋅ℯ        - -2.0⋅(-1)⋅T₀⋅ℯ       ⋅ℯ       ⋅ℯ     ⋅ℯ      + 0.8352⋅T₁⋅ℯ   \n",
       "\n",
       "⋅z  -T₁⋅z            -T₀⋅z  -T₁⋅z  -T₂⋅z  -T₃⋅z               -2⋅T₀⋅z  -2⋅T₁⋅z\n",
       "  ⋅ℯ      + 0.72⋅T₁⋅ℯ     ⋅ℯ     ⋅ℯ     ⋅ℯ      - - -0.64⋅T₁⋅ℯ       ⋅ℯ       \n",
       "\n",
       "                 -2⋅T₀⋅z  -2⋅T₁⋅z  -T₂⋅z  -T₃⋅z                 -T₂⋅z  -T₃⋅z  \n",
       " - -2.0⋅(-1)⋅T₁⋅ℯ       ⋅ℯ       ⋅ℯ     ⋅ℯ      - - -0.1296⋅T₂⋅ℯ     ⋅ℯ      +\n",
       "\n",
       "          -T₀⋅z  -T₁⋅z  -T₂⋅z  -T₃⋅z              -2⋅T₀⋅z  -2⋅T₁⋅z  -T₂⋅z  -T₃\n",
       " 0.72⋅T₂⋅ℯ     ⋅ℯ     ⋅ℯ     ⋅ℯ      - - -1.0⋅T₂⋅ℯ       ⋅ℯ       ⋅ℯ     ⋅ℯ   \n",
       "\n",
       "⋅z                 -T₂⋅z  -T₃⋅z            -T₀⋅z  -T₁⋅z  -T₂⋅z  -T₃⋅z         \n",
       "   - - -0.1296⋅T₃⋅ℯ     ⋅ℯ      + 0.72⋅T₃⋅ℯ     ⋅ℯ     ⋅ℯ     ⋅ℯ      - - -1.0\n",
       "\n",
       "     -2⋅T₀⋅z  -2⋅T₁⋅z  -T₂⋅z  -T₃⋅z\n",
       "⋅T₃⋅ℯ       ⋅ℯ       ⋅ℯ     ⋅ℯ     "
      ]
     },
     "execution_count": 1667,
     "metadata": {},
     "output_type": "execute_result"
    }
   ],
   "source": [
    "diff_z"
   ]
  },
  {
   "cell_type": "code",
   "execution_count": 1668,
   "metadata": {
    "collapsed": true
   },
   "outputs": [],
   "source": [
    "sol2 = -z*diff_z4 / diff_z"
   ]
  },
  {
   "cell_type": "code",
   "execution_count": 1708,
   "metadata": {
    "collapsed": false
   },
   "outputs": [
    {
     "data": {
      "image/png": "[encoded data removed]",
      "text/latex": [
       "$$- \\frac{z \\left(0.8352 dT_{0} e^{- T_{0} z} e^{- T_{1} z} + 0.72 dT_{0} e^{- T_{0} z} e^{- T_{1} z} e^{- T_{2} z} e^{- T_{3} z} - 0.64 dT_{0} e^{- 2 T_{0} z} e^{- 2 T_{1} z} - 2.0 dT_{0} e^{- 2 T_{0} z} e^{- 2 T_{1} z} e^{- T_{2} z} e^{- T_{3} z} + 0.8352 dT_{1} e^{- T_{0} z} e^{- T_{1} z} + 0.72 dT_{1} e^{- T_{0} z} e^{- T_{1} z} e^{- T_{2} z} e^{- T_{3} z} - 0.64 dT_{1} e^{- 2 T_{0} z} e^{- 2 T_{1} z} - 2.0 dT_{1} e^{- 2 T_{0} z} e^{- 2 T_{1} z} e^{- T_{2} z} e^{- T_{3} z} - 0.1296 dT_{2} e^{- T_{2} z} e^{- T_{3} z} + 0.72 dT_{2} e^{- T_{0} z} e^{- T_{1} z} e^{- T_{2} z} e^{- T_{3} z} - 1.0 dT_{2} e^{- 2 T_{0} z} e^{- 2 T_{1} z} e^{- T_{2} z} e^{- T_{3} z} - 0.1296 dT_{3} e^{- T_{2} z} e^{- T_{3} z} + 0.72 dT_{3} e^{- T_{0} z} e^{- T_{1} z} e^{- T_{2} z} e^{- T_{3} z} - 1.0 dT_{3} e^{- 2 T_{0} z} e^{- 2 T_{1} z} e^{- T_{2} z} e^{- T_{3} z}\\right)}{0.8352 T_{0} e^{- T_{0} z} e^{- T_{1} z} + 0.72 T_{0} e^{- T_{0} z} e^{- T_{1} z} e^{- T_{2} z} e^{- T_{3} z} - 0.64 T_{0} e^{- 2 T_{0} z} e^{- 2 T_{1} z} - 2.0 T_{0} e^{- 2 T_{0} z} e^{- 2 T_{1} z} e^{- T_{2} z} e^{- T_{3} z} + 0.8352 T_{1} e^{- T_{0} z} e^{- T_{1} z} + 0.72 T_{1} e^{- T_{0} z} e^{- T_{1} z} e^{- T_{2} z} e^{- T_{3} z} - 0.64 T_{1} e^{- 2 T_{0} z} e^{- 2 T_{1} z} - 2.0 T_{1} e^{- 2 T_{0} z} e^{- 2 T_{1} z} e^{- T_{2} z} e^{- T_{3} z} - 0.1296 T_{2} e^{- T_{2} z} e^{- T_{3} z} + 0.72 T_{2} e^{- T_{0} z} e^{- T_{1} z} e^{- T_{2} z} e^{- T_{3} z} - 1.0 T_{2} e^{- 2 T_{0} z} e^{- 2 T_{1} z} e^{- T_{2} z} e^{- T_{3} z} - 0.1296 T_{3} e^{- T_{2} z} e^{- T_{3} z} + 0.72 T_{3} e^{- T_{0} z} e^{- T_{1} z} e^{- T_{2} z} e^{- T_{3} z} - 1.0 T_{3} e^{- 2 T_{0} z} e^{- 2 T_{1} z} e^{- T_{2} z} e^{- T_{3} z}}$$"
      ],
      "text/plain": [
       "   ⎛            -T₀⋅z  -T₁⋅z             -T₀⋅z  -T₁⋅z  -T₂⋅z  -T₃⋅z           \n",
       "-z⋅⎝0.8352⋅dT₀⋅ℯ     ⋅ℯ      + 0.72⋅dT₀⋅ℯ     ⋅ℯ     ⋅ℯ     ⋅ℯ      - - -0.64⋅\n",
       "──────────────────────────────────────────────────────────────────────────────\n",
       "                     -T₀⋅z  -T₁⋅z            -T₀⋅z  -T₁⋅z  -T₂⋅z  -T₃⋅z       \n",
       "          0.8352⋅T₀⋅ℯ     ⋅ℯ      + 0.72⋅T₀⋅ℯ     ⋅ℯ     ⋅ℯ     ⋅ℯ      - - -0\n",
       "\n",
       "     -2⋅T₀⋅z  -2⋅T₁⋅z                  -2⋅T₀⋅z  -2⋅T₁⋅z  -T₂⋅z  -T₃⋅z         \n",
       "dT₀⋅ℯ       ⋅ℯ        - -2.0⋅(-1)⋅dT₀⋅ℯ       ⋅ℯ       ⋅ℯ     ⋅ℯ      + 0.8352\n",
       "──────────────────────────────────────────────────────────────────────────────\n",
       "        -2⋅T₀⋅z  -2⋅T₁⋅z                 -2⋅T₀⋅z  -2⋅T₁⋅z  -T₂⋅z  -T₃⋅z       \n",
       ".64⋅T₀⋅ℯ       ⋅ℯ        - -2.0⋅(-1)⋅T₀⋅ℯ       ⋅ℯ       ⋅ℯ     ⋅ℯ      + 0.83\n",
       "\n",
       "      -T₀⋅z  -T₁⋅z             -T₀⋅z  -T₁⋅z  -T₂⋅z  -T₃⋅z                -2⋅T₀\n",
       "⋅dT₁⋅ℯ     ⋅ℯ      + 0.72⋅dT₁⋅ℯ     ⋅ℯ     ⋅ℯ     ⋅ℯ      - - -0.64⋅dT₁⋅ℯ     \n",
       "──────────────────────────────────────────────────────────────────────────────\n",
       "       -T₀⋅z  -T₁⋅z            -T₀⋅z  -T₁⋅z  -T₂⋅z  -T₃⋅z               -2⋅T₀⋅\n",
       "52⋅T₁⋅ℯ     ⋅ℯ      + 0.72⋅T₁⋅ℯ     ⋅ℯ     ⋅ℯ     ⋅ℯ      - - -0.64⋅T₁⋅ℯ      \n",
       "\n",
       "⋅z  -2⋅T₁⋅z                  -2⋅T₀⋅z  -2⋅T₁⋅z  -T₂⋅z  -T₃⋅z                  -\n",
       "  ⋅ℯ        - -2.0⋅(-1)⋅dT₁⋅ℯ       ⋅ℯ       ⋅ℯ     ⋅ℯ      - - -0.1296⋅dT₂⋅ℯ \n",
       "──────────────────────────────────────────────────────────────────────────────\n",
       "z  -2⋅T₁⋅z                 -2⋅T₀⋅z  -2⋅T₁⋅z  -T₂⋅z  -T₃⋅z                 -T₂⋅\n",
       " ⋅ℯ        - -2.0⋅(-1)⋅T₁⋅ℯ       ⋅ℯ       ⋅ℯ     ⋅ℯ      - - -0.1296⋅T₂⋅ℯ    \n",
       "\n",
       "T₂⋅z  -T₃⋅z             -T₀⋅z  -T₁⋅z  -T₂⋅z  -T₃⋅z               -2⋅T₀⋅z  -2⋅T\n",
       "    ⋅ℯ      + 0.72⋅dT₂⋅ℯ     ⋅ℯ     ⋅ℯ     ⋅ℯ      - - -1.0⋅dT₂⋅ℯ       ⋅ℯ    \n",
       "──────────────────────────────────────────────────────────────────────────────\n",
       "z  -T₃⋅z            -T₀⋅z  -T₁⋅z  -T₂⋅z  -T₃⋅z              -2⋅T₀⋅z  -2⋅T₁⋅z  \n",
       " ⋅ℯ      + 0.72⋅T₂⋅ℯ     ⋅ℯ     ⋅ℯ     ⋅ℯ      - - -1.0⋅T₂⋅ℯ       ⋅ℯ       ⋅ℯ\n",
       "\n",
       "₁⋅z  -T₂⋅z  -T₃⋅z                  -T₂⋅z  -T₃⋅z             -T₀⋅z  -T₁⋅z  -T₂⋅\n",
       "   ⋅ℯ     ⋅ℯ      - - -0.1296⋅dT₃⋅ℯ     ⋅ℯ      + 0.72⋅dT₃⋅ℯ     ⋅ℯ     ⋅ℯ    \n",
       "──────────────────────────────────────────────────────────────────────────────\n",
       "-T₂⋅z  -T₃⋅z                 -T₂⋅z  -T₃⋅z            -T₀⋅z  -T₁⋅z  -T₂⋅z  -T₃⋅\n",
       "     ⋅ℯ      - - -0.1296⋅T₃⋅ℯ     ⋅ℯ      + 0.72⋅T₃⋅ℯ     ⋅ℯ     ⋅ℯ     ⋅ℯ    \n",
       "\n",
       "z  -T₃⋅z               -2⋅T₀⋅z  -2⋅T₁⋅z  -T₂⋅z  -T₃⋅z⎞ \n",
       " ⋅ℯ      - - -1.0⋅dT₃⋅ℯ       ⋅ℯ       ⋅ℯ     ⋅ℯ     ⎠ \n",
       "───────────────────────────────────────────────────────\n",
       "z              -2⋅T₀⋅z  -2⋅T₁⋅z  -T₂⋅z  -T₃⋅z          \n",
       "  - - -1.0⋅T₃⋅ℯ       ⋅ℯ       ⋅ℯ     ⋅ℯ               "
      ]
     },
     "execution_count": 1708,
     "metadata": {},
     "output_type": "execute_result"
    }
   ],
   "source": [
    "sol2"
   ]
  },
  {
   "cell_type": "code",
   "execution_count": 1707,
   "metadata": {
    "collapsed": false
   },
   "outputs": [
    {
     "data": {
      "image/png": "[encoded data removed]",
      "text/latex": [
       "$$- \\frac{z \\left(0.64 \\left(dT_{0} + dT_{1}\\right) e^{z \\left(4 T_{0} + 4 T_{1} + 3 T_{2} + 3 T_{3}\\right)} - 0.8352 \\left(dT_{0} + dT_{1}\\right) e^{z \\left(5 T_{0} + 5 T_{1} + 3 T_{2} + 3 T_{3}\\right)} + 0.1296 \\left(dT_{2} + dT_{3}\\right) e^{2 z \\left(3 T_{0} + 3 T_{1} + T_{2} + T_{3}\\right)} - 0.72 \\left(dT_{0} + dT_{1} + dT_{2} + dT_{3}\\right) e^{z \\left(5 T_{0} + 5 T_{1} + 2 T_{2} + 2 T_{3}\\right)} + \\left(2.0 dT_{0} + 2.0 dT_{1} + 1.0 dT_{2} + 1.0 dT_{3}\\right) e^{2 z \\left(2 T_{0} + 2 T_{1} + T_{2} + T_{3}\\right)}\\right) e^{- 2 z \\left(2 T_{0} + 2 T_{1} + T_{2} + T_{3}\\right)}}{2.0 T_{0} + 2.0 T_{1} + 1.0 T_{2} + 1.0 T_{3} + 0.64 \\left(T_{0} + T_{1}\\right) e^{z \\left(T_{2} + T_{3}\\right)} - 0.8352 \\left(T_{0} + T_{1}\\right) e^{z \\left(T_{0} + T_{1} + T_{2} + T_{3}\\right)} + 0.1296 \\left(T_{2} + T_{3}\\right) e^{2 z \\left(T_{0} + T_{1}\\right)} - 0.72 \\left(T_{0} + T_{1} + T_{2} + T_{3}\\right) e^{z \\left(T_{0} + T_{1}\\right)}}$$"
      ],
      "text/plain": [
       "   ⎛                  z⋅(4⋅T₀ + 4⋅T₁ + 3⋅T₂ + 3⋅T₃)                          z\n",
       "-z⋅⎝0.64⋅(dT₀ + dT₁)⋅ℯ                              - - -0.8352⋅(dT₀ + dT₁)⋅ℯ \n",
       "──────────────────────────────────────────────────────────────────────────────\n",
       "                                                                              \n",
       "                                                                     2.0⋅T₀ + \n",
       "\n",
       "⋅(5⋅T₀ + 5⋅T₁ + 3⋅T₂ + 3⋅T₃)                       2⋅z⋅(3⋅T₀ + 3⋅T₁ + T₂ + T₃)\n",
       "                             + 0.1296⋅(dT₂ + dT₃)⋅ℯ                           \n",
       "──────────────────────────────────────────────────────────────────────────────\n",
       "                                           z⋅(T₂ + T₃)                        \n",
       "2.0⋅T₁ + 1.0⋅T₂ + 1.0⋅T₃ + 0.64⋅(T₀ + T₁)⋅ℯ            - - -0.8352⋅(T₀ + T₁)⋅ℯ\n",
       "\n",
       "                                    z⋅(5⋅T₀ + 5⋅T₁ + 2⋅T₂ + 2⋅T₃)             \n",
       " - - -0.72⋅(dT₀ + dT₁ + dT₂ + dT₃)⋅ℯ                              + (2.0⋅dT₀ +\n",
       "──────────────────────────────────────────────────────────────────────────────\n",
       "z⋅(T₀ + T₁ + T₂ + T₃)                     2⋅z⋅(T₀ + T₁)                       \n",
       "                      + 0.1296⋅(T₂ + T₃)⋅ℯ              - - -0.72⋅(T₀ + T₁ + T\n",
       "\n",
       "                               2⋅z⋅(2⋅T₀ + 2⋅T₁ + T₂ + T₃)⎞  -2⋅z⋅(2⋅T₀ + 2⋅T₁\n",
       " 2.0⋅dT₁ + 1.0⋅dT₂ + 1.0⋅dT₃)⋅ℯ                           ⎠⋅ℯ                 \n",
       "──────────────────────────────────────────────────────────────────────────────\n",
       "         z⋅(T₀ + T₁)                                                          \n",
       "₂ + T₃)⋅ℯ                                                                     \n",
       "\n",
       " + T₂ + T₃) \n",
       "            \n",
       "────────────\n",
       "            \n",
       "            "
      ]
     },
     "execution_count": 1707,
     "metadata": {},
     "output_type": "execute_result"
    }
   ],
   "source": [
    "sp.simplify(sol2)"
   ]
  },
  {
   "cell_type": "code",
   "execution_count": 1696,
   "metadata": {
    "collapsed": false
   },
   "outputs": [
    {
     "data": {
      "image/png": "[encoded data removed]",
      "text/latex": [
       "$$- \\frac{z \\left(- 450.0 dT_{0} e^{z \\left(T_{0} + T_{1}\\right)} + 400.0 dT_{0} e^{z \\left(T_{2} + T_{3}\\right)} - 522.0 dT_{0} e^{z \\left(T_{0} + T_{1} + T_{2} + T_{3}\\right)} + 1250.0 dT_{0} - 450.0 dT_{1} e^{z \\left(T_{0} + T_{1}\\right)} + 400.0 dT_{1} e^{z \\left(T_{2} + T_{3}\\right)} - 522.0 dT_{1} e^{z \\left(T_{0} + T_{1} + T_{2} + T_{3}\\right)} + 1250.0 dT_{1} - 450.0 dT_{2} e^{z \\left(T_{0} + T_{1}\\right)} + 81.0 dT_{2} e^{2.0 z \\left(T_{0} + T_{1}\\right)} + 625.0 dT_{2} - 450.0 dT_{3} e^{z \\left(T_{0} + T_{1}\\right)} + 81.0 dT_{3} e^{2.0 z \\left(T_{0} + T_{1}\\right)} + 625.0 dT_{3}\\right)}{- 450.0 T_{0} e^{z \\left(T_{0} + T_{1}\\right)} + 400.0 T_{0} e^{z \\left(T_{2} + T_{3}\\right)} - 522.0 T_{0} e^{z \\left(T_{0} + T_{1} + T_{2} + T_{3}\\right)} + 1250.0 T_{0} - 450.0 T_{1} e^{z \\left(T_{0} + T_{1}\\right)} + 400.0 T_{1} e^{z \\left(T_{2} + T_{3}\\right)} - 522.0 T_{1} e^{z \\left(T_{0} + T_{1} + T_{2} + T_{3}\\right)} + 1250.0 T_{1} - 450.0 T_{2} e^{z \\left(T_{0} + T_{1}\\right)} + 81.0 T_{2} e^{2.0 z \\left(T_{0} + T_{1}\\right)} + 625.0 T_{2} - 450.0 T_{3} e^{z \\left(T_{0} + T_{1}\\right)} + 81.0 T_{3} e^{2.0 z \\left(T_{0} + T_{1}\\right)} + 625.0 T_{3}}$$"
      ],
      "text/plain": [
       "   ⎛                   z⋅(T₀ + T₁)              z⋅(T₂ + T₃)                   \n",
       "-z⋅⎝- -450.0⋅(-1)⋅dT₀⋅ℯ            + 400.0⋅dT₀⋅ℯ            - -522.0⋅(-1)⋅dT₀⋅\n",
       "──────────────────────────────────────────────────────────────────────────────\n",
       "                            z⋅(T₀ + T₁)             z⋅(T₂ + T₃)               \n",
       "          - -450.0⋅(-1)⋅T₀⋅ℯ            + 400.0⋅T₀⋅ℯ            - -522.0⋅(-1)⋅\n",
       "\n",
       " z⋅(T₀ + T₁ + T₂ + T₃)                                 z⋅(T₀ + T₁)            \n",
       "ℯ                      + 1250.0⋅dT₀ - -450.0⋅(-1)⋅dT₁⋅ℯ            + 400.0⋅dT₁\n",
       "──────────────────────────────────────────────────────────────────────────────\n",
       "    z⋅(T₀ + T₁ + T₂ + T₃)                               z⋅(T₀ + T₁)           \n",
       "T₀⋅ℯ                      + 1250.0⋅T₀ - -450.0⋅(-1)⋅T₁⋅ℯ            + 400.0⋅T₁\n",
       "\n",
       "  z⋅(T₂ + T₃)                    z⋅(T₀ + T₁ + T₂ + T₃)                        \n",
       "⋅ℯ            - -522.0⋅(-1)⋅dT₁⋅ℯ                      + 1250.0⋅dT₁ - -450.0⋅(\n",
       "──────────────────────────────────────────────────────────────────────────────\n",
       "  z⋅(T₂ + T₃)                   z⋅(T₀ + T₁ + T₂ + T₃)                         \n",
       "⋅ℯ            - -522.0⋅(-1)⋅T₁⋅ℯ                      + 1250.0⋅T₁ - -450.0⋅(-1\n",
       "\n",
       "         z⋅(T₀ + T₁)             2.0⋅z⋅(T₀ + T₁)                              \n",
       "-1)⋅dT₂⋅ℯ            + 81.0⋅dT₂⋅ℯ                + 625.0⋅dT₂ - -450.0⋅(-1)⋅dT₃\n",
       "──────────────────────────────────────────────────────────────────────────────\n",
       "      z⋅(T₀ + T₁)            2.0⋅z⋅(T₀ + T₁)                              z⋅(T\n",
       ")⋅T₂⋅ℯ            + 81.0⋅T₂⋅ℯ                + 625.0⋅T₂ - -450.0⋅(-1)⋅T₃⋅ℯ    \n",
       "\n",
       "  z⋅(T₀ + T₁)             2.0⋅z⋅(T₀ + T₁)            ⎞ \n",
       "⋅ℯ            + 81.0⋅dT₃⋅ℯ                + 625.0⋅dT₃⎠ \n",
       "───────────────────────────────────────────────────────\n",
       "₀ + T₁)            2.0⋅z⋅(T₀ + T₁)                     \n",
       "        + 81.0⋅T₃⋅ℯ                + 625.0⋅T₃          "
      ]
     },
     "execution_count": 1696,
     "metadata": {},
     "output_type": "execute_result"
    }
   ],
   "source": [
    "sol[0]"
   ]
  },
  {
   "cell_type": "markdown",
   "metadata": {},
   "source": [
    "### Comparing the two expressions for the perturbation. They should be equal."
   ]
  },
  {
   "cell_type": "code",
   "execution_count": 1710,
   "metadata": {
    "collapsed": false
   },
   "outputs": [
    {
     "name": "stderr",
     "output_type": "stream",
     "text": [
      "/Users/gil/anaconda/lib/python2.7/site-packages/ipykernel/__main__.py:2: VisibleDeprecationWarning: using a non-integer number instead of an integer will result in an error in the future\n",
      "  from ipykernel import kernelapp as app\n",
      "/Users/gil/anaconda/lib/python2.7/site-packages/ipykernel/__main__.py:3: VisibleDeprecationWarning: using a non-integer number instead of an integer will result in an error in the future\n",
      "  app.launch_new_instance()\n"
     ]
    },
    {
     "data": {
      "image/png": "[encoded data removed]",
      "text/latex": [
       "$$\\left \\{ T_{0} : 0.551979709504, \\quad T_{1} : 0.633492791974, \\quad T_{2} : 0.165974367764, \\quad T_{3} : 0.223896639574, \\quad dT_{0} : 0.0544514288807, \\quad dT_{1} : 0.0278845353305, \\quad dT_{2} : 0.0219219438699, \\quad dT_{3} : 0.0400214008288, \\quad z : 1.0\\right \\}$$"
      ],
      "text/plain": [
       "{T₀: 0.551979709504, T₁: 0.633492791974, T₂: 0.165974367764, T₃: 0.22389663957\n",
       "4, dT₀: 0.0544514288807, dT₁: 0.0278845353305, dT₂: 0.0219219438699, dT₃: 0.04\n",
       "00214008288, z: 1.0}"
      ]
     },
     "execution_count": 1710,
     "metadata": {},
     "output_type": "execute_result"
    }
   ],
   "source": [
    "D_sample = {z:1.}\n",
    "D_sample.update({T:np.random.random(1.)[0] for i,T in enumerate(Ts)})\n",
    "D_sample.update({T:np.random.random(1.)[0]/10. for i,T in enumerate(Ts_Delta)})\n",
    "D_sample"
   ]
  },
  {
   "cell_type": "code",
   "execution_count": 1711,
   "metadata": {
    "collapsed": false
   },
   "outputs": [
    {
     "data": {
      "image/png": "[encoded data removed]",
      "text/latex": [
       "$$-0.0691829590737381$$"
      ],
      "text/plain": [
       "-0.0691829590737381"
      ]
     },
     "execution_count": 1711,
     "metadata": {},
     "output_type": "execute_result"
    }
   ],
   "source": [
    "sol2.subs(D_sample)"
   ]
  },
  {
   "cell_type": "code",
   "execution_count": 1712,
   "metadata": {
    "collapsed": false
   },
   "outputs": [
    {
     "data": {
      "image/png": "[encoded data removed]",
      "text/latex": [
       "$$-0.0691829590737381$$"
      ],
      "text/plain": [
       "-0.0691829590737381"
      ]
     },
     "execution_count": 1712,
     "metadata": {},
     "output_type": "execute_result"
    }
   ],
   "source": [
    "sol[0].subs(D_sample)"
   ]
  },
  {
   "cell_type": "markdown",
   "metadata": {},
   "source": [
    "### Making a function from the expression"
   ]
  },
  {
   "cell_type": "code",
   "execution_count": 1734,
   "metadata": {
    "collapsed": false,
    "scrolled": true
   },
   "outputs": [],
   "source": [
    "func = sp.lambdify((z,Ts,Ts_Delta),sol2) #(1,(1,2,3,4),(1,2,3,4))"
   ]
  },
  {
   "cell_type": "code",
   "execution_count": 1731,
   "metadata": {
    "collapsed": false
   },
   "outputs": [],
   "source": [
    "tuple_sample = (D_sample[z],tuple([D_sample[T] for T in Ts]),tuple([D_sample[T_d] for T_d in Ts_Delta]) )"
   ]
  },
  {
   "cell_type": "code",
   "execution_count": 1736,
   "metadata": {
    "collapsed": false
   },
   "outputs": [
    {
     "data": {
      "image/png": "[encoded data removed]",
      "text/latex": [
       "$$-0.0691829590737$$"
      ],
      "text/plain": [
       "-0.0691829590737"
      ]
     },
     "execution_count": 1736,
     "metadata": {},
     "output_type": "execute_result"
    }
   ],
   "source": [
    "func(*tuple_sample)"
   ]
  },
  {
   "cell_type": "code",
   "execution_count": null,
   "metadata": {
    "collapsed": true
   },
   "outputs": [],
   "source": [
    "map()"
   ]
  },
  {
   "cell_type": "code",
   "execution_count": null,
   "metadata": {
    "collapsed": true
   },
   "outputs": [],
   "source": []
  }
 ],
 "metadata": {
  "kernelspec": {
   "display_name": "Python 2",
   "language": "python",
   "name": "python2"
  },
  "language_info": {
   "codemirror_mode": {
    "name": "ipython",
    "version": 2
   },
   "file_extension": ".py",
   "mimetype": "text/x-python",
   "name": "python",
   "nbconvert_exporter": "python",
   "pygments_lexer": "ipython2",
   "version": "2.7.11"
  }
 },
 "nbformat": 4,
 "nbformat_minor": 0
}
