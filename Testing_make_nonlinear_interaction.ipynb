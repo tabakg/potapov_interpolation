{
 "cells": [
  {
   "cell_type": "markdown",
   "metadata": {},
   "source": [
    "# In this ipython notebook we will consider our method of constructing nonlinear interactions. We examine the resulting terms and confirm they have the expected behavior."
   ]
  },
  {
   "cell_type": "code",
   "execution_count": 5,
   "metadata": {
    "collapsed": false
   },
   "outputs": [],
   "source": [
    "import Potapov_Code.Roots as Roots\n",
    "import Potapov_Code.Potapov as Potapov\n",
    "import Potapov_Code.Time_Delay_Network as Time_Delay_Network\n",
    "import Potapov_Code.Time_Sims as Time_Sims\n",
    "import Potapov_Code.functions as functions\n",
    "import Potapov_Code.tests as tests\n",
    "\n",
    "import numpy as np\n",
    "import numpy.linalg as la\n",
    "from scipy.integrate import ode\n",
    "\n",
    "import matplotlib.pyplot as plt\n",
    "%matplotlib inline"
   ]
  },
  {
   "cell_type": "code",
   "execution_count": 6,
   "metadata": {
    "collapsed": true
   },
   "outputs": [],
   "source": [
    "def contour_plot(Mat,func = abs):\n",
    "    '''\n",
    "    Make a simple plot to view a matrix\n",
    "\n",
    "    Args:\n",
    "        Mat (compelx-valued matrix): a matrix to view\n",
    "        func (optional[function]): a function to apply to each component\n",
    "\n",
    "    Generates a plot of the matrix.\n",
    "    '''\n",
    "    fig = plt.figure()\n",
    "    ax = fig.add_subplot(111)\n",
    "    cax = ax.matshow(func(Mat), interpolation='nearest')\n",
    "    fig.colorbar(cax)\n",
    "    plt.show()\n"
   ]
  },
  {
   "cell_type": "code",
   "execution_count": 400,
   "metadata": {
    "collapsed": true
   },
   "outputs": [],
   "source": [
    "Ex = Time_Delay_Network.Example1(r = 0.7, max_linewidth=35.)\n",
    "Ex.run_Potapov()\n",
    "E = Ex.E\n",
    "roots = Ex.roots\n",
    "M1 = Ex.M1\n",
    "delays = Ex.delays\n",
    "modes = functions.spatial_modes(roots,M1,E)"
   ]
  },
  {
   "cell_type": "code",
   "execution_count": 401,
   "metadata": {
    "collapsed": true
   },
   "outputs": [],
   "source": [
    "vecs = Ex.vecs"
   ]
  },
  {
   "cell_type": "code",
   "execution_count": 402,
   "metadata": {
    "collapsed": true
   },
   "outputs": [],
   "source": [
    "roots.sort(key = lambda z: z.imag)"
   ]
  },
  {
   "cell_type": "code",
   "execution_count": 403,
   "metadata": {
    "collapsed": false
   },
   "outputs": [
    {
     "data": {
      "text/plain": [
       "[(-1.1889164797957745-20.943951023931955j),\n",
       " (-1.1889164797957745+0j),\n",
       " (-1.1889164797957745+20.943951023931955j)]"
      ]
     },
     "execution_count": 403,
     "metadata": {},
     "output_type": "execute_result"
    }
   ],
   "source": [
    " roots"
   ]
  },
  {
   "cell_type": "code",
   "execution_count": 463,
   "metadata": {
    "collapsed": true
   },
   "outputs": [],
   "source": [
    "root_z = lambda z: 1j*z  ## a fake root we will vary"
   ]
  },
  {
   "cell_type": "code",
   "execution_count": 471,
   "metadata": {
    "collapsed": true
   },
   "outputs": [],
   "source": [
    "roots_to_use = lambda z: [root_z(z).imag,roots[0].imag,roots[-1].imag]"
   ]
  },
  {
   "cell_type": "code",
   "execution_count": 472,
   "metadata": {
    "collapsed": true
   },
   "outputs": [],
   "source": [
    "modes_to_use = modes"
   ]
  },
  {
   "cell_type": "code",
   "execution_count": 473,
   "metadata": {
    "collapsed": true
   },
   "outputs": [],
   "source": [
    "delay_indices = 0"
   ]
  },
  {
   "cell_type": "code",
   "execution_count": 474,
   "metadata": {
    "collapsed": true
   },
   "outputs": [],
   "source": [
    "plus_or_minus_arr =  [1,1,1]"
   ]
  },
  {
   "cell_type": "code",
   "execution_count": 488,
   "metadata": {
    "collapsed": true
   },
   "outputs": [],
   "source": [
    "x = np.linspace(-10000, 10000,4000)"
   ]
  },
  {
   "cell_type": "code",
   "execution_count": 489,
   "metadata": {
    "collapsed": false
   },
   "outputs": [
    {
     "data": {
      "text/plain": [
       "<module 'Potapov_Code.functions' from 'Potapov_Code/functions.pyc'>"
      ]
     },
     "execution_count": 489,
     "metadata": {},
     "output_type": "execute_result"
    }
   ],
   "source": [
    "reload(Potapov_Code.functions)"
   ]
  },
  {
   "cell_type": "code",
   "execution_count": 490,
   "metadata": {
    "collapsed": true
   },
   "outputs": [],
   "source": [
    "f = lambda z: functions.make_nonlinear_interaction(roots_to_use(z),modes_to_use,Ex.delays,0,\n",
    "                                                   0,0.01,plus_or_minus_arr)"
   ]
  },
  {
   "cell_type": "code",
   "execution_count": 491,
   "metadata": {
    "collapsed": false
   },
   "outputs": [
    {
     "data": {
      "text/plain": [
       "[<matplotlib.lines.Line2D at 0x12929b850>]"
      ]
     },
     "execution_count": 491,
     "metadata": {},
     "output_type": "execute_result"
    },
    {
     "data": {
      "image/png": "[encoded data removed]",
      "text/plain": [
       "<matplotlib.figure.Figure at 0x122275150>"
      ]
     },
     "metadata": {},
     "output_type": "display_data"
    }
   ],
   "source": [
    "plt.plot(x, [abs(f(z))**2 for z in x])"
   ]
  },
  {
   "cell_type": "code",
   "execution_count": 492,
   "metadata": {
    "collapsed": false
   },
   "outputs": [],
   "source": [
    "Ex = Time_Delay_Network.Example3(r1 = 0.7, r3 = 0.7, max_linewidth=35.)\n",
    "Ex.run_Potapov()\n",
    "E = Ex.E\n",
    "roots = Ex.roots\n",
    "M1 = Ex.M1\n",
    "delays = Ex.delays\n",
    "modes = functions.spatial_modes(roots,M1,E)"
   ]
  },
  {
   "cell_type": "code",
   "execution_count": 493,
   "metadata": {
    "collapsed": false
   },
   "outputs": [],
   "source": [
    "vecs = Ex.vecs"
   ]
  },
  {
   "cell_type": "code",
   "execution_count": 494,
   "metadata": {
    "collapsed": false
   },
   "outputs": [],
   "source": [
    "roots.sort(key = lambda z: z.imag)"
   ]
  },
  {
   "cell_type": "code",
   "execution_count": 495,
   "metadata": {
    "collapsed": false
   },
   "outputs": [
    {
     "data": {
      "text/plain": [
       "[(-1.1867857239576904-53.731290378625815j),\n",
       " (-1.1714495298385854-40.60438955513678j),\n",
       " (-1.2178438327806835-32.542503045139362j),\n",
       " (-1.1500606861696614-20.178105255320496j),\n",
       " (-1.236142384757039-10.901754569501422j),\n",
       " (-1.1431816829945924+1.2586240840022705e-167j),\n",
       " (-1.2361423847570399+10.901754569501421j),\n",
       " (-1.1500606861696616+20.178105255320492j),\n",
       " (-1.2178438327806838+32.542503045139362j),\n",
       " (-1.1714495298385852+40.60438955513678j),\n",
       " (-1.1867857239576902+53.731290378625815j)]"
      ]
     },
     "execution_count": 495,
     "metadata": {},
     "output_type": "execute_result"
    }
   ],
   "source": [
    " roots"
   ]
  },
  {
   "cell_type": "code",
   "execution_count": 496,
   "metadata": {
    "collapsed": false
   },
   "outputs": [
    {
     "data": {
      "text/plain": [
       "(-2.358235253796275+94.33567993376259j)"
      ]
     },
     "execution_count": 496,
     "metadata": {},
     "output_type": "execute_result"
    }
   ],
   "source": [
    "roots[-1]+roots[-2]"
   ]
  },
  {
   "cell_type": "code",
   "execution_count": 497,
   "metadata": {
    "collapsed": true
   },
   "outputs": [],
   "source": [
    "root_z = lambda z: 1j*z  ## a fake root we will vary"
   ]
  },
  {
   "cell_type": "code",
   "execution_count": 563,
   "metadata": {
    "collapsed": true
   },
   "outputs": [],
   "source": [
    "roots_to_use = lambda z: [root_z(z).imag,roots[0].imag,roots[1].imag]"
   ]
  },
  {
   "cell_type": "code",
   "execution_count": 564,
   "metadata": {
    "collapsed": false
   },
   "outputs": [],
   "source": [
    "modes_to_use = [modes[0],modes[0], modes[0]]"
   ]
  },
  {
   "cell_type": "code",
   "execution_count": 565,
   "metadata": {
    "collapsed": true
   },
   "outputs": [],
   "source": [
    "delay_indices = 0"
   ]
  },
  {
   "cell_type": "code",
   "execution_count": 566,
   "metadata": {
    "collapsed": false
   },
   "outputs": [],
   "source": [
    "plus_or_minus_arr =  [1,1,1]"
   ]
  },
  {
   "cell_type": "code",
   "execution_count": 582,
   "metadata": {
    "collapsed": true
   },
   "outputs": [],
   "source": [
    "x = np.linspace(-800,1000,4000)"
   ]
  },
  {
   "cell_type": "code",
   "execution_count": 583,
   "metadata": {
    "collapsed": false
   },
   "outputs": [
    {
     "data": {
      "text/plain": [
       "<module 'Potapov_Code.functions' from 'Potapov_Code/functions.pyc'>"
      ]
     },
     "execution_count": 583,
     "metadata": {},
     "output_type": "execute_result"
    }
   ],
   "source": [
    "reload(Potapov_Code.functions)"
   ]
  },
  {
   "cell_type": "code",
   "execution_count": 584,
   "metadata": {
    "collapsed": false
   },
   "outputs": [],
   "source": [
    "f = lambda z: functions.make_nonlinear_interaction(roots_to_use(z),modes_to_use,Ex.delays,0,\n",
    "                                                   0,0.01,plus_or_minus_arr)"
   ]
  },
  {
   "cell_type": "code",
   "execution_count": 585,
   "metadata": {
    "collapsed": true
   },
   "outputs": [],
   "source": [
    "### by default, indices_of_refraction=[1,1,1]"
   ]
  },
  {
   "cell_type": "markdown",
   "metadata": {},
   "source": [
    "We will vary the fake root we introduced to obtain the phase-mismatch diagram. That is, the phase mismatch $\\delta k$ is going to be some linear function of $z$."
   ]
  },
  {
   "cell_type": "code",
   "execution_count": 586,
   "metadata": {
    "collapsed": false,
    "scrolled": false
   },
   "outputs": [
    {
     "data": {
      "text/plain": [
       "[<matplotlib.lines.Line2D at 0x12a91b210>]"
      ]
     },
     "execution_count": 586,
     "metadata": {},
     "output_type": "execute_result"
    },
    {
     "data": {
      "image/png": "[encoded data removed]",
      "text/plain": [
       "<matplotlib.figure.Figure at 0x12a28f250>"
      ]
     },
     "metadata": {},
     "output_type": "display_data"
    }
   ],
   "source": [
    "plt.plot(x, [abs(f(z))**2 for z in x])"
   ]
  },
  {
   "cell_type": "markdown",
   "metadata": {},
   "source": [
    "What happens when we change the indices of refraction for the different modes? The phase-mismatch will shift depending on where the new $\\delta k = 0$ occurs. The width of the peak may also change if the indices of refraction are large."
   ]
  },
  {
   "cell_type": "code",
   "execution_count": 605,
   "metadata": {
    "collapsed": true
   },
   "outputs": [],
   "source": [
    "indices_of_refraction=[3.,5.,10.]"
   ]
  },
  {
   "cell_type": "code",
   "execution_count": 606,
   "metadata": {
    "collapsed": true
   },
   "outputs": [],
   "source": [
    "f = lambda z: functions.make_nonlinear_interaction(roots_to_use(z),\n",
    "                modes_to_use,Ex.delays,0,0,0.1,plus_or_minus_arr,indices_of_refraction=indices_of_refraction)"
   ]
  },
  {
   "cell_type": "code",
   "execution_count": 607,
   "metadata": {
    "collapsed": false,
    "scrolled": true
   },
   "outputs": [
    {
     "data": {
      "text/plain": [
       "[<matplotlib.lines.Line2D at 0x12b4a1910>]"
      ]
     },
     "execution_count": 607,
     "metadata": {},
     "output_type": "execute_result"
    },
    {
     "data": {
      "image/png": "[encoded data removed]",
      "text/plain": [
       "<matplotlib.figure.Figure at 0x12b042250>"
      ]
     },
     "metadata": {},
     "output_type": "display_data"
    }
   ],
   "source": [
    "plt.plot(x, [abs(f(z))**2 for z in x])"
   ]
  },
  {
   "cell_type": "markdown",
   "metadata": {},
   "source": [
    "# Generating a Hamiltonian from  a model"
   ]
  },
  {
   "cell_type": "markdown",
   "metadata": {},
   "source": [
    " In this section we will use example 3 to generate a Hamiltonian with nonlinaer coefficients resulting when inserting a nonlinearity in a circuit. We will assume that the nonlinearity is inserting at the delay line of index 0 corresponding to $\\tau_1$."
   ]
  },
  {
   "cell_type": "code",
   "execution_count": 611,
   "metadata": {
    "collapsed": false
   },
   "outputs": [],
   "source": [
    "import sympy as sp\n",
    "import itertools\n",
    "from qnet.algebra.circuit_algebra import *"
   ]
  },
  {
   "cell_type": "code",
   "execution_count": 612,
   "metadata": {
    "collapsed": false
   },
   "outputs": [],
   "source": [
    "Ex = Time_Delay_Network.Example3(r1 = 0.9, r3 = 0.9, max_linewidth=35.,max_freq=25.)\n",
    "Ex.run_Potapov()\n",
    "E = Ex.E\n",
    "roots = Ex.roots\n",
    "M1 = Ex.M1\n",
    "delays = Ex.delays\n",
    "modes = functions.spatial_modes(roots,M1,E)"
   ]
  },
  {
   "cell_type": "code",
   "execution_count": 613,
   "metadata": {
    "collapsed": false
   },
   "outputs": [
    {
     "data": {
      "text/plain": [
       "[(-0.36514939263783197-10.901513851604911j),\n",
       " (-0.33769377381866061+2.0232070709165708e-21j),\n",
       " (-0.36514939263783225+10.901513851604911j),\n",
       " (-0.33972600185569901+20.178467995423109j),\n",
       " (-0.3397260018556984-20.17846799542311j)]"
      ]
     },
     "execution_count": 613,
     "metadata": {},
     "output_type": "execute_result"
    }
   ],
   "source": [
    "roots"
   ]
  },
  {
   "cell_type": "code",
   "execution_count": 614,
   "metadata": {
    "collapsed": true
   },
   "outputs": [],
   "source": [
    "## nonlinearity information\n",
    "\n",
    "delay_index = 0 \n",
    "start_nonlin = 0.\n",
    "duration_nonlin = .1"
   ]
  },
  {
   "cell_type": "code",
   "execution_count": 806,
   "metadata": {
    "collapsed": true
   },
   "outputs": [],
   "source": [
    "NONLIN_WEIGHT = 10."
   ]
  },
  {
   "cell_type": "code",
   "execution_count": 615,
   "metadata": {
    "collapsed": true
   },
   "outputs": [],
   "source": [
    "m = len(roots)"
   ]
  },
  {
   "cell_type": "code",
   "execution_count": 616,
   "metadata": {
    "collapsed": true
   },
   "outputs": [],
   "source": [
    "indices = range(m)"
   ]
  },
  {
   "cell_type": "code",
   "execution_count": 617,
   "metadata": {
    "collapsed": true
   },
   "outputs": [],
   "source": [
    "chi_order = 3  ## i.e. chi-3 nonlinearity"
   ]
  },
  {
   "cell_type": "code",
   "execution_count": 618,
   "metadata": {
    "collapsed": false
   },
   "outputs": [],
   "source": [
    "plus_minus_combinations = list(itertools.combinations(range(chi_order + 1), 2))  ## pick which fields are annihilated"
   ]
  },
  {
   "cell_type": "code",
   "execution_count": 619,
   "metadata": {
    "collapsed": false
   },
   "outputs": [],
   "source": [
    "list_of_pm_arr = []\n",
    "for tup in plus_minus_combinations:\n",
    "    ls = [1]*(chi_order+1)\n",
    "    for i in tup:\n",
    "        ls[i]=-1\n",
    "    list_of_pm_arr.append(ls)"
   ]
  },
  {
   "cell_type": "code",
   "execution_count": 620,
   "metadata": {
    "collapsed": false
   },
   "outputs": [],
   "source": [
    "a = [sp.symbols('a_'+str(i)) for i in range(m)]\n",
    "a_H = [sp.symbols('a^H_'+str(i)) for i in range(m)]"
   ]
  },
  {
   "cell_type": "code",
   "execution_count": null,
   "metadata": {
    "collapsed": true
   },
   "outputs": [],
   "source": []
  },
  {
   "cell_type": "code",
   "execution_count": 621,
   "metadata": {
    "collapsed": false
   },
   "outputs": [],
   "source": [
    "A,B,C,D = Potapov.get_Potapov_ABCD(Ex.roots,Ex.vecs,Ex.T,z=0.)"
   ]
  },
  {
   "cell_type": "code",
   "execution_count": 622,
   "metadata": {
    "collapsed": true
   },
   "outputs": [],
   "source": [
    "#Omega = (A-A.H)/(2j) #### closed dynamics only. i.e. not damping"
   ]
  },
  {
   "cell_type": "code",
   "execution_count": 623,
   "metadata": {
    "collapsed": false
   },
   "outputs": [],
   "source": [
    "Omega = -1j*A  ## full dynamics"
   ]
  },
  {
   "cell_type": "code",
   "execution_count": 624,
   "metadata": {
    "collapsed": false,
    "scrolled": true
   },
   "outputs": [],
   "source": [
    "H_lin_sp = 0\n",
    "## with sympy only\n",
    "for i in range(m):\n",
    "    for j in range(m):\n",
    "        H_lin_sp += a_H[i]*a[j]*Omega[i,j]"
   ]
  },
  {
   "cell_type": "code",
   "execution_count": 625,
   "metadata": {
    "collapsed": true
   },
   "outputs": [],
   "source": [
    "def make_nonlin_term_sp(combination,pm_arr):\n",
    "    '''\n",
    "    Make symbolic term\n",
    "    With sympy only\n",
    "    '''\n",
    "    r = 1\n",
    "    for index,sign in zip(combination,pm_arr):\n",
    "        if sign == 1:\n",
    "            r*= a_H[index]\n",
    "        else:\n",
    "            r *= a[index]\n",
    "    return r"
   ]
  },
  {
   "cell_type": "markdown",
   "metadata": {},
   "source": [
    "Let's impose a large 'index of refraction'. In the future we will replaces this by better conditions for phase-mismatch, including realistic values. For now, this will narrow the gain versus $\\Delta k$ function so that few interaction terms remain."
   ]
  },
  {
   "cell_type": "code",
   "execution_count": 626,
   "metadata": {
    "collapsed": true
   },
   "outputs": [],
   "source": [
    "def weight(combination,pm_arr):\n",
    "    roots_to_use = np.array([roots[i].imag for i in combination])\n",
    "    modes_to_use = [modes[i] for i in combination]\n",
    "    return functions.make_nonlinear_interaction(roots_to_use, modes_to_use, delays, delay_indices,\n",
    "                                start_nonlin,duration_nonlin,pm_arr,\n",
    "                                indices_of_refraction = [1000.]*len(combination),\n",
    "                                eps=1e-12,)"
   ]
  },
  {
   "cell_type": "code",
   "execution_count": 627,
   "metadata": {
    "collapsed": true
   },
   "outputs": [],
   "source": [
    "## TODO: add a priori check to restrict exponential growth\n",
    "weights = {}"
   ]
  },
  {
   "cell_type": "code",
   "execution_count": 628,
   "metadata": {
    "collapsed": true
   },
   "outputs": [
    {
     "name": "stdout",
     "output_type": "stream",
     "text": [
      "delta_k is less than epsilon, approximating linearly.\n",
      "delta_k is less than epsilon, approximating linearly.\n",
      "delta_k is less than epsilon, approximating linearly.\n",
      "delta_k is less than epsilon, approximating linearly.\n",
      "delta_k is less than epsilon, approximating linearly.\n",
      "delta_k is less than epsilon, approximating linearly.\n",
      "delta_k is less than epsilon, approximating linearly.\n",
      "delta_k is less than epsilon, approximating linearly.\n",
      "delta_k is less than epsilon, approximating linearly.\n",
      "delta_k is less than epsilon, approximating linearly.\n",
      "delta_k is less than epsilon, approximating linearly.\n",
      "delta_k is less than epsilon, approximating linearly.\n",
      "delta_k is less than epsilon, approximating linearly.\n",
      "delta_k is less than epsilon, approximating linearly.\n",
      "delta_k is less than epsilon, approximating linearly.\n",
      "delta_k is less than epsilon, approximating linearly.\n",
      "delta_k is less than epsilon, approximating linearly.\n",
      "delta_k is less than epsilon, approximating linearly.\n",
      "delta_k is less than epsilon, approximating linearly.\n",
      "delta_k is less than epsilon, approximating linearly.\n",
      "delta_k is less than epsilon, approximating linearly.\n",
      "delta_k is less than epsilon, approximating linearly.\n",
      "delta_k is less than epsilon, approximating linearly.\n",
      "delta_k is less than epsilon, approximating linearly.\n",
      "delta_k is less than epsilon, approximating linearly.\n",
      "delta_k is less than epsilon, approximating linearly.\n",
      "delta_k is less than epsilon, approximating linearly.\n",
      "delta_k is less than epsilon, approximating linearly.\n",
      "delta_k is less than epsilon, approximating linearly.\n",
      "delta_k is less than epsilon, approximating linearly.\n",
      "delta_k is less than epsilon, approximating linearly.\n",
      "delta_k is less than epsilon, approximating linearly.\n",
      "delta_k is less than epsilon, approximating linearly.\n",
      "delta_k is less than epsilon, approximating linearly.\n",
      "delta_k is less than epsilon, approximating linearly.\n",
      "delta_k is less than epsilon, approximating linearly.\n",
      "delta_k is less than epsilon, approximating linearly.\n",
      "delta_k is less than epsilon, approximating linearly.\n",
      "delta_k is less than epsilon, approximating linearly.\n",
      "delta_k is less than epsilon, approximating linearly.\n",
      "delta_k is less than epsilon, approximating linearly.\n",
      "delta_k is less than epsilon, approximating linearly.\n",
      "delta_k is less than epsilon, approximating linearly.\n",
      "delta_k is less than epsilon, approximating linearly.\n",
      "delta_k is less than epsilon, approximating linearly.\n",
      "delta_k is less than epsilon, approximating linearly.\n",
      "delta_k is less than epsilon, approximating linearly.\n",
      "delta_k is less than epsilon, approximating linearly.\n",
      "delta_k is less than epsilon, approximating linearly.\n",
      "delta_k is less than epsilon, approximating linearly.\n",
      "delta_k is less than epsilon, approximating linearly.\n",
      "delta_k is less than epsilon, approximating linearly.\n",
      "delta_k is less than epsilon, approximating linearly.\n",
      "delta_k is less than epsilon, approximating linearly.\n",
      "delta_k is less than epsilon, approximating linearly.\n",
      "delta_k is less than epsilon, approximating linearly.\n",
      "delta_k is less than epsilon, approximating linearly.\n",
      "delta_k is less than epsilon, approximating linearly.\n",
      "delta_k is less than epsilon, approximating linearly.\n",
      "delta_k is less than epsilon, approximating linearly.\n",
      "delta_k is less than epsilon, approximating linearly.\n",
      "delta_k is less than epsilon, approximating linearly.\n",
      "delta_k is less than epsilon, approximating linearly.\n",
      "delta_k is less than epsilon, approximating linearly.\n",
      "delta_k is less than epsilon, approximating linearly.\n",
      "delta_k is less than epsilon, approximating linearly.\n",
      "delta_k is less than epsilon, approximating linearly.\n",
      "delta_k is less than epsilon, approximating linearly.\n",
      "delta_k is less than epsilon, approximating linearly.\n",
      "delta_k is less than epsilon, approximating linearly.\n",
      "delta_k is less than epsilon, approximating linearly.\n",
      "delta_k is less than epsilon, approximating linearly.\n",
      "delta_k is less than epsilon, approximating linearly.\n",
      "delta_k is less than epsilon, approximating linearly.\n",
      "delta_k is less than epsilon, approximating linearly.\n",
      "delta_k is less than epsilon, approximating linearly.\n",
      "420\n"
     ]
    }
   ],
   "source": [
    "count = 0\n",
    "\n",
    "for pm_arr in list_of_pm_arr:\n",
    "    field_combinations = itertools.combinations_with_replacement(range(m), chi_order+1)\n",
    "    for combination in field_combinations:\n",
    "        count += 1\n",
    "        weights[tuple(combination),tuple(pm_arr)] = weight(combination,pm_arr)        \n",
    "print count"
   ]
  },
  {
   "cell_type": "code",
   "execution_count": 629,
   "metadata": {
    "collapsed": false,
    "scrolled": false
   },
   "outputs": [
    {
     "data": {
      "image/png": "[encoded data removed]",
      "text/plain": [
       "<matplotlib.figure.Figure at 0x12b464350>"
      ]
     },
     "metadata": {},
     "output_type": "display_data"
    }
   ],
   "source": [
    "plt.hist([abs(x) for x in [weights[key] for key in weights] ],bins=100);"
   ]
  },
  {
   "cell_type": "markdown",
   "metadata": {},
   "source": [
    "As we see above, most of the interactions are negligible. Let's drop them out."
   ]
  },
  {
   "cell_type": "code",
   "execution_count": 630,
   "metadata": {
    "collapsed": false
   },
   "outputs": [],
   "source": [
    "significant_weight_keys = [key for key in weights if abs(weights[key]) > 1e-4]"
   ]
  },
  {
   "cell_type": "code",
   "execution_count": 631,
   "metadata": {
    "collapsed": false
   },
   "outputs": [],
   "source": [
    "significant_weights = dict((key,weights[key]) for key in significant_weight_keys)"
   ]
  },
  {
   "cell_type": "code",
   "execution_count": 632,
   "metadata": {
    "collapsed": true
   },
   "outputs": [],
   "source": [
    "significant_weights =  {k:v for k,v in weights.iteritems() if abs(v) > 1e-4} ## more elegant "
   ]
  },
  {
   "cell_type": "code",
   "execution_count": 633,
   "metadata": {
    "collapsed": false,
    "scrolled": true
   },
   "outputs": [
    {
     "data": {
      "text/plain": [
       "76"
      ]
     },
     "execution_count": 633,
     "metadata": {},
     "output_type": "execute_result"
    }
   ],
   "source": [
    "len(significant_weights)"
   ]
  },
  {
   "cell_type": "code",
   "execution_count": 782,
   "metadata": {
    "collapsed": false
   },
   "outputs": [],
   "source": [
    "H_nonlin_sp = 0  ## with sympy only\n",
    "\n",
    "for combination,pm_arr in significant_weights:\n",
    "    H_nonlin_sp += make_nonlin_term_sp(combination,pm_arr)*significant_weights[combination,pm_arr]"
   ]
  },
  {
   "cell_type": "code",
   "execution_count": 807,
   "metadata": {
    "collapsed": false
   },
   "outputs": [],
   "source": [
    "H_sp = H_lin_sp + H_nonlin_sp*NONLIN_WEIGHT"
   ]
  },
  {
   "cell_type": "code",
   "execution_count": 808,
   "metadata": {
    "collapsed": true
   },
   "outputs": [],
   "source": [
    "def make_sp_conj(A):\n",
    "    '''\n",
    "    Returns the symbolic conjugate of A.\n",
    "    Args:\n",
    "        A (symbolic expression in symbols a[i] and a_H[i])\n",
    "    Returns:\n",
    "        The complex conjugate of A\n",
    "    '''\n",
    "    A_H = sp.conjugate(H_sp)\n",
    "    for i in range(len(a)):\n",
    "        A_H = A_H.subs(sp.conjugate(a[i]),a_H[i])\n",
    "        A_H = A_H.subs(sp.conjugate(a_H[i]),a[i])\n",
    "    return A_H"
   ]
  },
  {
   "cell_type": "code",
   "execution_count": 809,
   "metadata": {
    "collapsed": false
   },
   "outputs": [],
   "source": [
    "def make_eq_motion(H_sp):\n",
    "    '''\n",
    "    Input is a tuple or list, output is a matrix vector\n",
    "    '''\n",
    "    A_H = make_sp_conj(H_sp)\n",
    "    diff_ls = [1j*sp.diff(H_sp,var) for var in a_H] + [-1j*sp.diff(A_H,var) for var in a]\n",
    "    fs = [sp.lambdify( tuple(a+a_H),expression) for expression in diff_ls ]\n",
    "    return lambda arr: (np.asmatrix([ f(* arr ) for f in fs])).T"
   ]
  },
  {
   "cell_type": "code",
   "execution_count": 810,
   "metadata": {
    "collapsed": true
   },
   "outputs": [],
   "source": [
    "    A_H = sp.conjugate(H_sp)\n",
    "    for i in range(len(a)):\n",
    "        A_H = A_H.subs(sp.conjugate(a[i]),a_H[i])\n",
    "        A_H = A_H.subs(sp.conjugate(a_H[i]),a[i])"
   ]
  },
  {
   "cell_type": "code",
   "execution_count": 811,
   "metadata": {
    "collapsed": false
   },
   "outputs": [],
   "source": [
    "eq_mot = make_eq_motion(H_sp)"
   ]
  },
  {
   "cell_type": "code",
   "execution_count": 812,
   "metadata": {
    "collapsed": true
   },
   "outputs": [],
   "source": [
    "def double_up(M1,M2=None):\n",
    "    if M2 == None:\n",
    "        M2 = np.zeros_like(M1)\n",
    "    top = np.hstack([M1,M2])\n",
    "    bottom = np.hstack([np.conj(M2),np.conj(M1)])\n",
    "    return np.vstack([top,bottom])"
   ]
  },
  {
   "cell_type": "code",
   "execution_count": 813,
   "metadata": {
    "collapsed": false
   },
   "outputs": [],
   "source": [
    "A_d,C_d,D_d = map(double_up,(A,C,D))"
   ]
  },
  {
   "cell_type": "code",
   "execution_count": 814,
   "metadata": {
    "collapsed": false
   },
   "outputs": [],
   "source": [
    "B_d = -double_up(C.H)"
   ]
  },
  {
   "cell_type": "code",
   "execution_count": 815,
   "metadata": {
    "collapsed": false
   },
   "outputs": [],
   "source": [
    "def make_f(eq_mot,B,a_in):\n",
    "    '''\n",
    "    Nonlinear equations of motion\n",
    "    '''\n",
    "    return lambda t,a: np.asarray(eq_mot(a)+B*a_in(t)).T[0]"
   ]
  },
  {
   "cell_type": "code",
   "execution_count": 816,
   "metadata": {
    "collapsed": true
   },
   "outputs": [],
   "source": [
    "def make_f_lin(A,B,a_in):\n",
    "    '''\n",
    "    Linear equations of motion\n",
    "    '''\n",
    "    return lambda t,a: np.asarray(A*np.asmatrix(a).T+B*a_in(t)).T[0]"
   ]
  },
  {
   "cell_type": "code",
   "execution_count": 817,
   "metadata": {
    "collapsed": true
   },
   "outputs": [],
   "source": [
    "a_in = lambda t: np.asmatrix([1.]*4).T"
   ]
  },
  {
   "cell_type": "code",
   "execution_count": 818,
   "metadata": {
    "collapsed": false
   },
   "outputs": [],
   "source": [
    "f = make_f(eq_mot,B_d,a_in)"
   ]
  },
  {
   "cell_type": "code",
   "execution_count": 819,
   "metadata": {
    "collapsed": true
   },
   "outputs": [],
   "source": [
    "f_lin = make_f_lin(A_d,B_d,a_in)"
   ]
  },
  {
   "cell_type": "code",
   "execution_count": 820,
   "metadata": {
    "collapsed": false
   },
   "outputs": [
    {
     "name": "stdout",
     "output_type": "stream",
     "text": [
      "[[-0.33972600-19.11352881j]\n",
      " [-0.87314689+23.3997759j ]\n",
      " [-0.42266661+11.76116304j]\n",
      " [-1.60513022 +2.79281965j]\n",
      " [-1.09514712 -7.76191194j]\n",
      " [-0.33972600+19.11352881j]\n",
      " [-0.87314689-23.3997759j ]\n",
      " [-0.42266661-11.76116304j]\n",
      " [-1.60513022 -2.79281965j]\n",
      " [-1.09514712 +7.76191194j]]\n"
     ]
    }
   ],
   "source": [
    "eq_res = eq_mot([1.]*10)\n",
    "print eq_res"
   ]
  },
  {
   "cell_type": "code",
   "execution_count": 821,
   "metadata": {
    "collapsed": false
   },
   "outputs": [
    {
     "name": "stdout",
     "output_type": "stream",
     "text": [
      "[[-0.33972600-20.178468j  ]\n",
      " [-0.87314689+20.38977829j]\n",
      " [-0.42266661+10.69622386j]\n",
      " [-1.60513022 +0.1043035j ]\n",
      " [-1.09514712-10.4504281j ]\n",
      " [-0.33972600+20.178468j  ]\n",
      " [-0.87314689-20.38977829j]\n",
      " [-0.42266661-10.69622386j]\n",
      " [-1.60513022 -0.1043035j ]\n",
      " [-1.09514712+10.4504281j ]]\n"
     ]
    }
   ],
   "source": [
    "mat_res = A_d*np.asmatrix([1.]*10).T\n",
    "print mat_res"
   ]
  },
  {
   "cell_type": "code",
   "execution_count": 822,
   "metadata": {
    "collapsed": false,
    "scrolled": false
   },
   "outputs": [
    {
     "data": {
      "text/plain": [
       "array([ 7.18115794])"
      ]
     },
     "execution_count": 822,
     "metadata": {},
     "output_type": "execute_result"
    }
   ],
   "source": [
    "## compute L2 error between \n",
    "np.sqrt(sum(np.asarray(abs(eq_res - mat_res))**2))"
   ]
  },
  {
   "cell_type": "code",
   "execution_count": 845,
   "metadata": {
    "collapsed": true
   },
   "outputs": [],
   "source": [
    "r = ode(f).set_integrator('zvode', method='bdf')\n",
    "r_lin = ode(f_lin).set_integrator('zvode', method='bdf')"
   ]
  },
  {
   "cell_type": "code",
   "execution_count": 846,
   "metadata": {
    "collapsed": true
   },
   "outputs": [],
   "source": [
    "y0 = np.asmatrix([0.]*10).T\n",
    "t0=0."
   ]
  },
  {
   "cell_type": "code",
   "execution_count": 847,
   "metadata": {
    "collapsed": false
   },
   "outputs": [
    {
     "data": {
      "text/plain": [
       "<scipy.integrate._ode.ode at 0x12d9a89d0>"
      ]
     },
     "execution_count": 847,
     "metadata": {},
     "output_type": "execute_result"
    }
   ],
   "source": [
    "r.set_initial_value(y0, t0)\n",
    "r_lin.set_initial_value(y0, t0)"
   ]
  },
  {
   "cell_type": "code",
   "execution_count": 848,
   "metadata": {
    "collapsed": true
   },
   "outputs": [],
   "source": [
    "t1 = 100\n",
    "dt = 0.01"
   ]
  },
  {
   "cell_type": "code",
   "execution_count": 849,
   "metadata": {
    "collapsed": false
   },
   "outputs": [],
   "source": [
    "Y = []\n",
    "\n",
    "while r.successful() and r.t < t1:\n",
    "    r.integrate(r.t+dt)\n",
    "    u = a_in(r.t)\n",
    "    Y.append(C_d*r.y+D_d*u)"
   ]
  },
  {
   "cell_type": "code",
   "execution_count": 850,
   "metadata": {
    "collapsed": true
   },
   "outputs": [],
   "source": [
    "Y_lin = []\n",
    "\n",
    "while r_lin.successful() and r_lin.t < t1:\n",
    "    r_lin.integrate(r_lin.t+dt)\n",
    "    u = a_in(r_lin.t)\n",
    "    Y_lin.append(C_d*r_lin.y+D_d*u)"
   ]
  },
  {
   "cell_type": "code",
   "execution_count": 851,
   "metadata": {
    "collapsed": false
   },
   "outputs": [
    {
     "data": {
      "image/png": "[encoded data removed]",
      "text/plain": [
       "<matplotlib.figure.Figure at 0x1223e4b50>"
      ]
     },
     "metadata": {},
     "output_type": "display_data"
    }
   ],
   "source": [
    "for i in range(4):\n",
    "    plt.plot([(y).real[i][0,0] for y in Y ])\n",
    "    \n",
    "for i in range(4):\n",
    "    plt.plot([(y).real[i][0,0] for y in Y_lin ])"
   ]
  },
  {
   "cell_type": "markdown",
   "metadata": {},
   "source": [
    "#### When Making the nonlinear terms above zero, we find agreement with the linear equtions of motion."
   ]
  },
  {
   "cell_type": "markdown",
   "metadata": {},
   "source": [
    "Using the symbolic packages is kind of slow. For classical simulations maybe we can avoid that. We just need to extract the equations of motion, which should end up being sparse in the interaction terms.\n",
    "\n",
    "TODO: implement without sympy, e.g. with Julia"
   ]
  },
  {
   "cell_type": "markdown",
   "metadata": {},
   "source": [
    "# ##############################"
   ]
  },
  {
   "cell_type": "code",
   "execution_count": null,
   "metadata": {
    "collapsed": true
   },
   "outputs": [],
   "source": []
  },
  {
   "cell_type": "code",
   "execution_count": null,
   "metadata": {
    "collapsed": true
   },
   "outputs": [],
   "source": []
  },
  {
   "cell_type": "code",
   "execution_count": null,
   "metadata": {
    "collapsed": true
   },
   "outputs": [],
   "source": []
  },
  {
   "cell_type": "code",
   "execution_count": null,
   "metadata": {
    "collapsed": true
   },
   "outputs": [],
   "source": []
  },
  {
   "cell_type": "code",
   "execution_count": null,
   "metadata": {
    "collapsed": true
   },
   "outputs": [],
   "source": []
  },
  {
   "cell_type": "code",
   "execution_count": null,
   "metadata": {
    "collapsed": true
   },
   "outputs": [],
   "source": []
  },
  {
   "cell_type": "markdown",
   "metadata": {},
   "source": [
    "# Testing different cases with make_nonlinear_interaction\n",
    "\n",
    "making sure different exceptions get caught"
   ]
  },
  {
   "cell_type": "code",
   "execution_count": 206,
   "metadata": {
    "collapsed": false
   },
   "outputs": [],
   "source": [
    "roots_to_use = np.array([roots[i] for i in combination])\n",
    "modes_to_use = [modes[i] for i in combination]"
   ]
  },
  {
   "cell_type": "code",
   "execution_count": 207,
   "metadata": {
    "collapsed": true
   },
   "outputs": [],
   "source": [
    "def call_make_non_lin():\n",
    "    return functions.make_nonlinear_interaction(roots_to_use, modes_to_use, delays, delay_indices,\n",
    "                            start_nonlin,duration_nonlin,pm_arr,\n",
    "                            indices_of_refraction,\n",
    "                            eps=1e-12,func=lambda z : z.imag)"
   ]
  },
  {
   "cell_type": "code",
   "execution_count": 208,
   "metadata": {
    "collapsed": false
   },
   "outputs": [
    {
     "data": {
      "text/plain": [
       "(0.0021779902481650101+0.0036737045407247908j)"
      ]
     },
     "execution_count": 208,
     "metadata": {},
     "output_type": "execute_result"
    }
   ],
   "source": [
    "call_make_non_lin()"
   ]
  },
  {
   "cell_type": "code",
   "execution_count": 209,
   "metadata": {
    "collapsed": false
   },
   "outputs": [
    {
     "data": {
      "text/plain": [
       "(0.0051419161593478663+0j)"
      ]
     },
     "execution_count": 209,
     "metadata": {},
     "output_type": "execute_result"
    }
   ],
   "source": [
    "indices_of_refraction = 1000.\n",
    "call_make_non_lin()"
   ]
  },
  {
   "cell_type": "code",
   "execution_count": 210,
   "metadata": {
    "collapsed": false
   },
   "outputs": [
    {
     "ename": "Exception",
     "evalue": "each element of start_nonlin must be greater than 0.",
     "output_type": "error",
     "traceback": [
      "\u001b[0;31m---------------------------------------------------------------------------\u001b[0m",
      "\u001b[0;31mException\u001b[0m                                 Traceback (most recent call last)",
      "\u001b[0;32m<ipython-input-210-699e1b01d691>\u001b[0m in \u001b[0;36m<module>\u001b[0;34m()\u001b[0m\n\u001b[1;32m      1\u001b[0m \u001b[0mstart_nonlin\u001b[0m \u001b[0;34m=\u001b[0m \u001b[0;34m-\u001b[0m\u001b[0;36m1\u001b[0m  \u001b[0;31m## this shouldn't happen\u001b[0m\u001b[0;34m\u001b[0m\u001b[0m\n\u001b[0;32m----> 2\u001b[0;31m \u001b[0mcall_make_non_lin\u001b[0m\u001b[0;34m(\u001b[0m\u001b[0;34m)\u001b[0m\u001b[0;34m\u001b[0m\u001b[0m\n\u001b[0m",
      "\u001b[0;32m<ipython-input-207-65a81927434a>\u001b[0m in \u001b[0;36mcall_make_non_lin\u001b[0;34m()\u001b[0m\n\u001b[1;32m      3\u001b[0m                             \u001b[0mstart_nonlin\u001b[0m\u001b[0;34m,\u001b[0m\u001b[0mduration_nonlin\u001b[0m\u001b[0;34m,\u001b[0m\u001b[0mpm_arr\u001b[0m\u001b[0;34m,\u001b[0m\u001b[0;34m\u001b[0m\u001b[0m\n\u001b[1;32m      4\u001b[0m                             \u001b[0mindices_of_refraction\u001b[0m\u001b[0;34m,\u001b[0m\u001b[0;34m\u001b[0m\u001b[0m\n\u001b[0;32m----> 5\u001b[0;31m                             eps=1e-12,func=lambda z : z.imag)\n\u001b[0m",
      "\u001b[0;32m/Users/gil/Google Drive/Copy/Potapov/Potapov_4/Potapov_Code/functions.py\u001b[0m in \u001b[0;36mmake_nonlinear_interaction\u001b[0;34m(roots, modes, delays, delay_indices, start_nonlin, duration_nonlin, plus_or_minus_arr, indices_of_refraction, eps, func)\u001b[0m\n\u001b[1;32m    281\u001b[0m     \u001b[0;32mfor\u001b[0m \u001b[0mdelay_index\u001b[0m\u001b[0;34m,\u001b[0m\u001b[0mstart_loc\u001b[0m \u001b[0;32min\u001b[0m \u001b[0mzip\u001b[0m\u001b[0;34m(\u001b[0m\u001b[0mdelay_indices\u001b[0m\u001b[0;34m,\u001b[0m\u001b[0mstart_nonlin\u001b[0m\u001b[0;34m)\u001b[0m\u001b[0;34m:\u001b[0m\u001b[0;34m\u001b[0m\u001b[0m\n\u001b[1;32m    282\u001b[0m         \u001b[0;32mif\u001b[0m \u001b[0mstart_loc\u001b[0m \u001b[0;34m<\u001b[0m \u001b[0;36m0\u001b[0m\u001b[0;34m:\u001b[0m\u001b[0;34m\u001b[0m\u001b[0m\n\u001b[0;32m--> 283\u001b[0;31m             \u001b[0;32mraise\u001b[0m \u001b[0mException\u001b[0m\u001b[0;34m(\u001b[0m\u001b[0;34m'each element of start_nonlin must be greater than 0.'\u001b[0m\u001b[0;34m)\u001b[0m\u001b[0;34m\u001b[0m\u001b[0m\n\u001b[0m\u001b[1;32m    284\u001b[0m         \u001b[0;32mif\u001b[0m \u001b[0mduration_nonlin\u001b[0m \u001b[0;34m+\u001b[0m \u001b[0mstart_loc\u001b[0m \u001b[0;34m>\u001b[0m \u001b[0mdelays\u001b[0m\u001b[0;34m[\u001b[0m\u001b[0mdelay_index\u001b[0m\u001b[0;34m]\u001b[0m\u001b[0;34m:\u001b[0m\u001b[0;34m\u001b[0m\u001b[0m\n\u001b[1;32m    285\u001b[0m             raise Exception('duration_nonlin + start_loc must be less than the '\n",
      "\u001b[0;31mException\u001b[0m: each element of start_nonlin must be greater than 0."
     ]
    }
   ],
   "source": [
    "start_nonlin = -1  ## this shouldn't happen\n",
    "call_make_non_lin()"
   ]
  },
  {
   "cell_type": "code",
   "execution_count": 211,
   "metadata": {
    "collapsed": false
   },
   "outputs": [
    {
     "ename": "Exception",
     "evalue": "duration_nonlin + start_loc must be less than the delay of index delay_index for start_loc in start_nonlin and delay_index in delay_indices.",
     "output_type": "error",
     "traceback": [
      "\u001b[0;31m---------------------------------------------------------------------------\u001b[0m",
      "\u001b[0;31mException\u001b[0m                                 Traceback (most recent call last)",
      "\u001b[0;32m<ipython-input-211-4b091efebb23>\u001b[0m in \u001b[0;36m<module>\u001b[0;34m()\u001b[0m\n\u001b[1;32m      1\u001b[0m \u001b[0mstart_nonlin\u001b[0m \u001b[0;34m=\u001b[0m \u001b[0;34m[\u001b[0m\u001b[0;36m1\u001b[0m\u001b[0;34m]\u001b[0m\u001b[0;34m*\u001b[0m\u001b[0mlen\u001b[0m\u001b[0;34m(\u001b[0m\u001b[0mroots_to_use\u001b[0m\u001b[0;34m)\u001b[0m\u001b[0;34m\u001b[0m\u001b[0m\n\u001b[0;32m----> 2\u001b[0;31m \u001b[0mcall_make_non_lin\u001b[0m\u001b[0;34m(\u001b[0m\u001b[0;34m)\u001b[0m\u001b[0;34m\u001b[0m\u001b[0m\n\u001b[0m",
      "\u001b[0;32m<ipython-input-207-65a81927434a>\u001b[0m in \u001b[0;36mcall_make_non_lin\u001b[0;34m()\u001b[0m\n\u001b[1;32m      3\u001b[0m                             \u001b[0mstart_nonlin\u001b[0m\u001b[0;34m,\u001b[0m\u001b[0mduration_nonlin\u001b[0m\u001b[0;34m,\u001b[0m\u001b[0mpm_arr\u001b[0m\u001b[0;34m,\u001b[0m\u001b[0;34m\u001b[0m\u001b[0m\n\u001b[1;32m      4\u001b[0m                             \u001b[0mindices_of_refraction\u001b[0m\u001b[0;34m,\u001b[0m\u001b[0;34m\u001b[0m\u001b[0m\n\u001b[0;32m----> 5\u001b[0;31m                             eps=1e-12,func=lambda z : z.imag)\n\u001b[0m",
      "\u001b[0;32m/Users/gil/Google Drive/Copy/Potapov/Potapov_4/Potapov_Code/functions.py\u001b[0m in \u001b[0;36mmake_nonlinear_interaction\u001b[0;34m(roots, modes, delays, delay_indices, start_nonlin, duration_nonlin, plus_or_minus_arr, indices_of_refraction, eps, func)\u001b[0m\n\u001b[1;32m    285\u001b[0m             raise Exception('duration_nonlin + start_loc must be less than the '\n\u001b[1;32m    286\u001b[0m                            \u001b[0;34m+\u001b[0m\u001b[0;34m'delay of index delay_index for start_loc in '\u001b[0m\u001b[0;34m\u001b[0m\u001b[0m\n\u001b[0;32m--> 287\u001b[0;31m                            +'start_nonlin and delay_index in delay_indices.')\n\u001b[0m\u001b[1;32m    288\u001b[0m \u001b[0;34m\u001b[0m\u001b[0m\n\u001b[1;32m    289\u001b[0m     \u001b[0;32mif\u001b[0m \u001b[0mindices_of_refraction\u001b[0m \u001b[0;34m==\u001b[0m \u001b[0mNone\u001b[0m\u001b[0;34m:\u001b[0m\u001b[0;34m\u001b[0m\u001b[0m\n",
      "\u001b[0;31mException\u001b[0m: duration_nonlin + start_loc must be less than the delay of index delay_index for start_loc in start_nonlin and delay_index in delay_indices."
     ]
    }
   ],
   "source": [
    "start_nonlin = [1]*len(roots_to_use)\n",
    "call_make_non_lin()"
   ]
  },
  {
   "cell_type": "code",
   "execution_count": 212,
   "metadata": {
    "collapsed": false
   },
   "outputs": [
    {
     "data": {
      "text/plain": [
       "(0.0050904969977543877+0j)"
      ]
     },
     "execution_count": 212,
     "metadata": {},
     "output_type": "execute_result"
    }
   ],
   "source": [
    "start_nonlin = 0.00001\n",
    "duration_nonlin = .099\n",
    "call_make_non_lin()"
   ]
  },
  {
   "cell_type": "code",
   "execution_count": 213,
   "metadata": {
    "collapsed": false
   },
   "outputs": [
    {
     "data": {
      "text/plain": [
       "(0.0050904969977543877+0j)"
      ]
     },
     "execution_count": 213,
     "metadata": {},
     "output_type": "execute_result"
    }
   ],
   "source": [
    "start_nonlin = [0.00001]*len(roots_to_use)\n",
    "duration_nonlin = .099\n",
    "call_make_non_lin()"
   ]
  },
  {
   "cell_type": "markdown",
   "metadata": {
    "collapsed": true
   },
   "source": [
    "## Unused methods below"
   ]
  },
  {
   "cell_type": "code",
   "execution_count": 131,
   "metadata": {
    "collapsed": false
   },
   "outputs": [
    {
     "data": {
      "text/plain": [
       "'\\nconsolidated_weightes = {}\\nfor key in significant_weights:\\n    if not key[0] in consolidated_weightes:\\n        consolidated_weightes[key[0]] = significant_weights[key]\\n    else:\\n        consolidated_weightes[key[0]] += significant_weights[key]\\n'"
      ]
     },
     "execution_count": 131,
     "metadata": {},
     "output_type": "execute_result"
    }
   ],
   "source": [
    "## consolidated weights do not take into account which modes are createad or annihilated.\n",
    "\n",
    "consolidated_weightes = {}\n",
    "for key in significant_weights:\n",
    "    if not key[0] in consolidated_weightes:\n",
    "        consolidated_weightes[key[0]] = significant_weights[key]\n",
    "    else:\n",
    "        consolidated_weightes[key[0]] += significant_weights[key]"
   ]
  },
  {
   "cell_type": "code",
   "execution_count": null,
   "metadata": {
    "collapsed": true
   },
   "outputs": [],
   "source": [
    "## QNET annihilation and creation operators\n",
    "\n",
    "a_ = [Destroy(local_space('fock', namespace = str(i))) for i in range(m)]"
   ]
  },
  {
   "cell_type": "code",
   "execution_count": null,
   "metadata": {
    "collapsed": true
   },
   "outputs": [],
   "source": [
    "## Make linear Hamiltonian with QNET\n",
    "\n",
    "H_lin = sum([a_[i].dag()*a_[i]*Omega[i,i] for i in range(m)])  ## with QNET\n",
    "def make_nonlin_term(combination,pm_arr):\n",
    "    '''\n",
    "    Make symbolic term\n",
    "    With QNET\n",
    "    '''\n",
    "    r = 1\n",
    "    for index,sign in zip(combination,pm_arr):\n",
    "        if sign == 1:\n",
    "            r*= a_[index].dag()\n",
    "        else:\n",
    "            r *= a_[index]\n",
    "    return r"
   ]
  },
  {
   "cell_type": "code",
   "execution_count": null,
   "metadata": {
    "collapsed": true
   },
   "outputs": [],
   "source": [
    "## Make nonlinear Hamiltonian in QNET \n",
    "\n",
    "H_nonlin = 0  ## with QNET\n",
    "\n",
    "for combination,pm_arr in significant_weights:\n",
    "    H_nonlin += make_nonlin_term(combination,pm_arr)*significant_weights[combination,pm_arr]\n",
    "    \n",
    "H_qnet = H_lin+H_nonlin"
   ]
  }
 ],
 "metadata": {
  "kernelspec": {
   "display_name": "Python 2",
   "language": "python",
   "name": "python2"
  },
  "language_info": {
   "codemirror_mode": {
    "name": "ipython",
    "version": 2
   },
   "file_extension": ".py",
   "mimetype": "text/x-python",
   "name": "python",
   "nbconvert_exporter": "python",
   "pygments_lexer": "ipython2",
   "version": "2.7.12"
  },
  "widgets": {
   "state": {},
   "version": "1.1.2"
  }
 },
 "nbformat": 4,
 "nbformat_minor": 0
}
