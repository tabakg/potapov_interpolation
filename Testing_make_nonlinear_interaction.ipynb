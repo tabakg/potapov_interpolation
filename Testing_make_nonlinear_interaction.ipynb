{
 "cells": [
  {
   "cell_type": "markdown",
   "metadata": {},
   "source": [
    "## In this ipython notebook we will consider our method of constructing nonlinear interactions"
   ]
  },
  {
   "cell_type": "code",
   "execution_count": 46,
   "metadata": {
    "collapsed": false
   },
   "outputs": [],
   "source": [
    "import Roots\n",
    "import Potapov\n",
    "import Examples\n",
    "import Time_Sims\n",
    "import functions\n",
    "import tests\n",
    "\n",
    "import numpy as np\n",
    "import numpy.linalg as la\n",
    "\n",
    "import matplotlib.pyplot as plt\n",
    "%matplotlib inline"
   ]
  },
  {
   "cell_type": "code",
   "execution_count": 47,
   "metadata": {
    "collapsed": true
   },
   "outputs": [],
   "source": [
    "def contour_plot(Mat,func = abs):\n",
    "    '''\n",
    "    Make a simple plot to view a matrix\n",
    "\n",
    "    Args:\n",
    "        Mat (compelx-valued matrix): a matrix to view\n",
    "        func (optional[function]): a function to apply to each component\n",
    "\n",
    "    Generates a plot of the matrix.\n",
    "    '''\n",
    "    fig = plt.figure()\n",
    "    ax = fig.add_subplot(111)\n",
    "    cax = ax.matshow(func(Mat), interpolation='nearest')\n",
    "    fig.colorbar(cax)\n",
    "    plt.show()\n"
   ]
  },
  {
   "cell_type": "code",
   "execution_count": 48,
   "metadata": {
    "collapsed": false
   },
   "outputs": [],
   "source": [
    "Ex = Examples.Example3(r1 = 0.9, r3 = 0.9, max_linewidth=35.)\n",
    "Ex.run_Potapov()\n",
    "E = Ex.E\n",
    "roots = Ex.roots\n",
    "M1 = Ex.M1\n",
    "delays = Ex.delays\n",
    "modes = functions.spatial_modes(roots,M1,E)"
   ]
  },
  {
   "cell_type": "code",
   "execution_count": 4,
   "metadata": {
    "collapsed": false
   },
   "outputs": [],
   "source": [
    "vecs = Ex.vecs"
   ]
  },
  {
   "cell_type": "code",
   "execution_count": 5,
   "metadata": {
    "collapsed": false
   },
   "outputs": [
    {
     "data": {
      "text/plain": [
       "[(-0.35974471149047982-32.541813662957928j),\n",
       " (-0.35974471149047882+32.541813662957935j),\n",
       " (-0.36514939263783175+10.901513851604911j),\n",
       " (-0.33769377381866061+1.4264640534763705e-19j),\n",
       " (-0.36514939263783219-10.901513851604911j),\n",
       " (-0.35057287529591047+53.73045125564974j),\n",
       " (-0.346043734193046+40.605122744190666j),\n",
       " (-0.33972600185569823+20.17846799542311j),\n",
       " (-0.35057287529591047-53.73045125564973j),\n",
       " (-0.3460437341930459-40.605122744190666j),\n",
       " (-0.33972600185569823-20.17846799542311j)]"
      ]
     },
     "execution_count": 5,
     "metadata": {},
     "output_type": "execute_result"
    }
   ],
   "source": [
    "roots"
   ]
  },
  {
   "cell_type": "code",
   "execution_count": 6,
   "metadata": {
    "collapsed": true
   },
   "outputs": [],
   "source": [
    "root_z = lambda z: 1j*z  ## a fake root we will vary"
   ]
  },
  {
   "cell_type": "code",
   "execution_count": 7,
   "metadata": {
    "collapsed": true
   },
   "outputs": [],
   "source": [
    "roots_to_use = lambda z: [root_z(z),roots[-1],roots[-2]]"
   ]
  },
  {
   "cell_type": "code",
   "execution_count": 8,
   "metadata": {
    "collapsed": true
   },
   "outputs": [],
   "source": [
    "modes_to_use = [modes[-1],modes[-1], modes[4]]"
   ]
  },
  {
   "cell_type": "code",
   "execution_count": 9,
   "metadata": {
    "collapsed": true
   },
   "outputs": [],
   "source": [
    "delay_index = 0"
   ]
  },
  {
   "cell_type": "code",
   "execution_count": 10,
   "metadata": {
    "collapsed": false
   },
   "outputs": [],
   "source": [
    "plus_or_minus_arr =  [-1,-1,-1]"
   ]
  },
  {
   "cell_type": "code",
   "execution_count": 11,
   "metadata": {
    "collapsed": true
   },
   "outputs": [],
   "source": [
    "x = np.linspace(-300,260,1000)"
   ]
  },
  {
   "cell_type": "code",
   "execution_count": 12,
   "metadata": {
    "collapsed": true
   },
   "outputs": [],
   "source": [
    "f = lambda z: functions.make_nonlinear_interaction(roots_to_use(z),modes_to_use,Ex.delays,0,0,0.1,plus_or_minus_arr)"
   ]
  },
  {
   "cell_type": "code",
   "execution_count": 13,
   "metadata": {
    "collapsed": true
   },
   "outputs": [],
   "source": [
    "### by default, indices_of_refraction=[1,1,1]"
   ]
  },
  {
   "cell_type": "markdown",
   "metadata": {},
   "source": [
    "We will vary the fake root we introduced to obtain the phase-mismatch diagram. That is, the phase mismatch $\\delta k$ is going to be some linear function of $z$."
   ]
  },
  {
   "cell_type": "code",
   "execution_count": 14,
   "metadata": {
    "collapsed": false,
    "scrolled": false
   },
   "outputs": [
    {
     "data": {
      "text/plain": [
       "[<matplotlib.lines.Line2D at 0x10dd17990>]"
      ]
     },
     "execution_count": 14,
     "metadata": {},
     "output_type": "execute_result"
    },
    {
     "data": {
      "image/png": "[encoded data removed]",
      "text/plain": [
       "<matplotlib.figure.Figure at 0x10dc668d0>"
      ]
     },
     "metadata": {},
     "output_type": "display_data"
    }
   ],
   "source": [
    "plt.plot(x, [abs(f(z))**2 for z in x])"
   ]
  },
  {
   "cell_type": "markdown",
   "metadata": {},
   "source": [
    "What happens when we change the indices of refraction for the different modes? The phase-mismatch will shift depending on where the new $\\delta k = 0$ occurs. The width of the peak may also change if the indices of refraction are large."
   ]
  },
  {
   "cell_type": "code",
   "execution_count": 15,
   "metadata": {
    "collapsed": true
   },
   "outputs": [],
   "source": [
    "indices_of_refraction=[3.,1.1,2.]"
   ]
  },
  {
   "cell_type": "code",
   "execution_count": 16,
   "metadata": {
    "collapsed": true
   },
   "outputs": [],
   "source": [
    "f = lambda z: functions.make_nonlinear_interaction(roots_to_use(z),\n",
    "                modes_to_use,Ex.delays,0,0,0.1,plus_or_minus_arr,indices_of_refraction=indices_of_refraction)"
   ]
  },
  {
   "cell_type": "code",
   "execution_count": 17,
   "metadata": {
    "collapsed": false,
    "scrolled": true
   },
   "outputs": [
    {
     "data": {
      "text/plain": [
       "[<matplotlib.lines.Line2D at 0x10e8de710>]"
      ]
     },
     "execution_count": 17,
     "metadata": {},
     "output_type": "execute_result"
    },
    {
     "data": {
      "image/png": "[encoded data removed]",
      "text/plain": [
       "<matplotlib.figure.Figure at 0x106f0fb50>"
      ]
     },
     "metadata": {},
     "output_type": "display_data"
    }
   ],
   "source": [
    "plt.plot(x, [abs(f(z))**2 for z in x])"
   ]
  },
  {
   "cell_type": "markdown",
   "metadata": {},
   "source": [
    "# Generating a Hamiltonian from  a model"
   ]
  },
  {
   "cell_type": "markdown",
   "metadata": {},
   "source": [
    " In this section we will use example 3 to generate a Hamiltonian with nonlinaer coefficients resulting when inserting a nonlinearity in a circuit. We will assume that the nonlinearity is inserting at the delay line of index 0 corresponding to $\\tau_1$."
   ]
  },
  {
   "cell_type": "code",
   "execution_count": 18,
   "metadata": {
    "collapsed": false
   },
   "outputs": [],
   "source": [
    "import sympy as sp\n",
    "import itertools\n",
    "from qnet.algebra.circuit_algebra import *"
   ]
  },
  {
   "cell_type": "code",
   "execution_count": 19,
   "metadata": {
    "collapsed": false
   },
   "outputs": [],
   "source": [
    "Ex = Examples.Example3(r1 = 0.9, r3 = 0.9, max_linewidth=35.,max_freq=25.)\n",
    "Ex.run_Potapov()\n",
    "E = Ex.E\n",
    "roots = Ex.roots\n",
    "M1 = Ex.M1\n",
    "delays = Ex.delays\n",
    "modes = functions.spatial_modes(roots,M1,E)"
   ]
  },
  {
   "cell_type": "code",
   "execution_count": 20,
   "metadata": {
    "collapsed": false
   },
   "outputs": [
    {
     "data": {
      "text/plain": [
       "[(-0.36514939263783186-10.901513851604911j),\n",
       " (-0.33972600185569823+20.178467995423109j),\n",
       " (-0.36514939263783186+10.901513851604911j),\n",
       " (-0.33972600185569823-20.17846799542311j),\n",
       " (-0.3376937738186606-4.1474624048492497e-23j)]"
      ]
     },
     "execution_count": 20,
     "metadata": {},
     "output_type": "execute_result"
    }
   ],
   "source": [
    "roots"
   ]
  },
  {
   "cell_type": "code",
   "execution_count": 21,
   "metadata": {
    "collapsed": true
   },
   "outputs": [],
   "source": [
    "## nonlinearity information\n",
    "\n",
    "delay_index = 0 \n",
    "start_nonlin = 0.\n",
    "duration_nonlin = .1"
   ]
  },
  {
   "cell_type": "code",
   "execution_count": 22,
   "metadata": {
    "collapsed": false,
    "scrolled": false
   },
   "outputs": [
    {
     "data": {
      "image/png": "[encoded data removed]",
      "text/latex": [
       "$$5$$"
      ],
      "text/plain": [
       "5"
      ]
     },
     "execution_count": 22,
     "metadata": {},
     "output_type": "execute_result"
    }
   ],
   "source": [
    "len(roots)"
   ]
  },
  {
   "cell_type": "code",
   "execution_count": 23,
   "metadata": {
    "collapsed": false
   },
   "outputs": [
    {
     "data": {
      "image/png": "[encoded data removed]",
      "text/latex": [
       "$$5$$"
      ],
      "text/plain": [
       "5"
      ]
     },
     "execution_count": 23,
     "metadata": {},
     "output_type": "execute_result"
    }
   ],
   "source": [
    "len(modes)"
   ]
  },
  {
   "cell_type": "code",
   "execution_count": 24,
   "metadata": {
    "collapsed": true
   },
   "outputs": [],
   "source": [
    "m = len(roots)"
   ]
  },
  {
   "cell_type": "code",
   "execution_count": 25,
   "metadata": {
    "collapsed": true
   },
   "outputs": [],
   "source": [
    "indices = range(m)"
   ]
  },
  {
   "cell_type": "code",
   "execution_count": 26,
   "metadata": {
    "collapsed": true
   },
   "outputs": [],
   "source": [
    "chi_order = 3  ## i.e. chi-3 nonlinearity"
   ]
  },
  {
   "cell_type": "code",
   "execution_count": 27,
   "metadata": {
    "collapsed": false
   },
   "outputs": [],
   "source": [
    "plus_minus_combinations = list(itertools.combinations(range(4), 2))  ## pick which fields are annihilated"
   ]
  },
  {
   "cell_type": "code",
   "execution_count": 28,
   "metadata": {
    "collapsed": false
   },
   "outputs": [],
   "source": [
    "list_of_pm_arr = []\n",
    "for tup in plus_minus_combinations:\n",
    "    ls = [1]*(chi_order+1)\n",
    "    for i in tup:\n",
    "        ls[i]=-1\n",
    "    list_of_pm_arr.append(ls)"
   ]
  },
  {
   "cell_type": "code",
   "execution_count": 29,
   "metadata": {
    "collapsed": false
   },
   "outputs": [
    {
     "data": {
      "image/png": "[encoded data removed]",
      "text/latex": [
       "$$\\left [ \\left [ -1, \\quad -1, \\quad 1, \\quad 1\\right ], \\quad \\left [ -1, \\quad 1, \\quad -1, \\quad 1\\right ], \\quad \\left [ -1, \\quad 1, \\quad 1, \\quad -1\\right ], \\quad \\left [ 1, \\quad -1, \\quad -1, \\quad 1\\right ], \\quad \\left [ 1, \\quad -1, \\quad 1, \\quad -1\\right ], \\quad \\left [ 1, \\quad 1, \\quad -1, \\quad -1\\right ]\\right ]$$"
      ],
      "text/plain": [
       "[[-1, -1, 1, 1], [-1, 1, -1, 1], [-1, 1, 1, -1], [1, -1, -1, 1], [1, -1, 1, -1\n",
       "], [1, 1, -1, -1]]"
      ]
     },
     "execution_count": 29,
     "metadata": {},
     "output_type": "execute_result"
    }
   ],
   "source": [
    "list_of_pm_arr"
   ]
  },
  {
   "cell_type": "code",
   "execution_count": 30,
   "metadata": {
    "collapsed": true
   },
   "outputs": [],
   "source": [
    "a = [sp.symbols('a_'+str(i)) for i in range(m)]\n",
    "a_H = [sp.symbols('a^H_'+str(i)) for i in range(m)]"
   ]
  },
  {
   "cell_type": "code",
   "execution_count": 31,
   "metadata": {
    "collapsed": false
   },
   "outputs": [],
   "source": [
    "a_ = [Destroy(local_space('fock', namespace = str(i))) for i in range(m)]"
   ]
  },
  {
   "cell_type": "code",
   "execution_count": 32,
   "metadata": {
    "collapsed": false
   },
   "outputs": [
    {
     "data": {
      "text/plain": [
       "[Destroy(LocalSpace('fock', '0')),\n",
       " Destroy(LocalSpace('fock', '1')),\n",
       " Destroy(LocalSpace('fock', '2')),\n",
       " Destroy(LocalSpace('fock', '3')),\n",
       " Destroy(LocalSpace('fock', '4'))]"
      ]
     },
     "execution_count": 32,
     "metadata": {},
     "output_type": "execute_result"
    }
   ],
   "source": [
    "a_"
   ]
  },
  {
   "cell_type": "code",
   "execution_count": 33,
   "metadata": {
    "collapsed": false
   },
   "outputs": [],
   "source": [
    "A,B,C,D = Potapov.get_Potapov_ABCD(Ex.roots,Ex.vecs,Ex.T,z=0.)"
   ]
  },
  {
   "cell_type": "code",
   "execution_count": 34,
   "metadata": {
    "collapsed": true
   },
   "outputs": [],
   "source": [
    "Omega = (A-A.H)/(2j)"
   ]
  },
  {
   "cell_type": "markdown",
   "metadata": {},
   "source": [
    "## Next, we will make the assumption that the off-diagonal elements are zero. More generally, we can diagonalize the Hamiltonian. However, the modes are not exactly orthogonal; the error introduced by this is of the same order as no diagonalizing the Hamiltonian above."
   ]
  },
  {
   "cell_type": "code",
   "execution_count": 116,
   "metadata": {
    "collapsed": true
   },
   "outputs": [],
   "source": [
    "H_lin_sp = sum([a_H[i]*a[i]*Omega[i,i] for i in range(m)])  ## with sympy only"
   ]
  },
  {
   "cell_type": "code",
   "execution_count": 117,
   "metadata": {
    "collapsed": false
   },
   "outputs": [],
   "source": [
    "H_lin = sum([a_[i].dag()*a_[i]*Omega[i,i] for i in range(m)])  ## with QNET"
   ]
  },
  {
   "cell_type": "code",
   "execution_count": 118,
   "metadata": {
    "collapsed": false
   },
   "outputs": [
    {
     "data": {
      "text/latex": [
       "$ 10.9015  {a_{{{\\rm fock}}_{{\\rm 0}}}^\\dagger} {a_{{{\\rm fock}}_{{\\rm 0}}}} +  (-10.9015)  {a_{{{\\rm fock}}_{{\\rm 1}}}^\\dagger} {a_{{{\\rm fock}}_{{\\rm 1}}}} +  (-9.62246e-20)  {a_{{{\\rm fock}}_{{\\rm 2}}}^\\dagger} {a_{{{\\rm fock}}_{{\\rm 2}}}}$"
      ],
      "text/plain": [
       "OperatorPlus(ScalarTimesOperator((10.901513851604907+0j), OperatorTimes(Create(LocalSpace('fock', '0')), Destroy(LocalSpace('fock', '0')))), ScalarTimesOperator((-10.901513851604912-0j), OperatorTimes(Create(LocalSpace('fock', '1')), Destroy(LocalSpace('fock', '1')))), ScalarTimesOperator((-9.6224584680117385e-20-0j), OperatorTimes(Create(LocalSpace('fock', '2')), Destroy(LocalSpace('fock', '2')))))"
      ]
     },
     "execution_count": 118,
     "metadata": {},
     "output_type": "execute_result"
    }
   ],
   "source": [
    "H_lin"
   ]
  },
  {
   "cell_type": "code",
   "execution_count": 119,
   "metadata": {
    "collapsed": true
   },
   "outputs": [],
   "source": [
    "def make_nonlin_term_sp(combination,pm_arr):\n",
    "    '''\n",
    "    Make symbolic term\n",
    "    With sympy only\n",
    "    '''\n",
    "    r = 1\n",
    "    for index,sign in zip(combination,pm_arr):\n",
    "        if sign == 1:\n",
    "            r*= a_H[index]\n",
    "        else:\n",
    "            r *= a[index]\n",
    "    return r"
   ]
  },
  {
   "cell_type": "code",
   "execution_count": 120,
   "metadata": {
    "collapsed": true
   },
   "outputs": [],
   "source": [
    "def make_nonlin_term(combination,pm_arr):\n",
    "    '''\n",
    "    Make symbolic term\n",
    "    With QNET\n",
    "    '''\n",
    "    r = 1\n",
    "    for index,sign in zip(combination,pm_arr):\n",
    "        if sign == 1:\n",
    "            r*= a_[index].dag()\n",
    "        else:\n",
    "            r *= a_[index]\n",
    "    return r"
   ]
  },
  {
   "cell_type": "code",
   "execution_count": 134,
   "metadata": {
    "collapsed": false
   },
   "outputs": [
    {
     "data": {
      "image/png": "[encoded data removed]",
      "text/latex": [
       "$$10.9015138516049 a^{H}_{0} a_{0} - 10.9015138516049 a^{H}_{1} a_{1} - 9.62245846801174 \\cdot 10^{-20} a^{H}_{2} a_{2}$$"
      ],
      "text/plain": [
       "10.9015138516049⋅a_0__H⋅a₀ - -10.9015138516049⋅(-1)⋅a_1__H⋅a₁ - - -9.622458468\n",
       "01174e-20⋅a_2__H⋅a₂"
      ]
     },
     "execution_count": 134,
     "metadata": {},
     "output_type": "execute_result"
    }
   ],
   "source": [
    "H_lin_sp"
   ]
  },
  {
   "cell_type": "markdown",
   "metadata": {},
   "source": [
    "Let's impose a large 'index of refraction'. In the future we will replaces this by better conditions for phase-mismatch, including realistic values. For now, this will narrow the gain versus $\\Delta k$ function so that few interaction terms remain."
   ]
  },
  {
   "cell_type": "code",
   "execution_count": 121,
   "metadata": {
    "collapsed": true
   },
   "outputs": [],
   "source": [
    "def weight(combination,pm_arr):\n",
    "    roots_to_use = np.array([roots[i] for i in combination])\n",
    "    modes_to_use = [modes[i] for i in combination]\n",
    "    return functions.make_nonlinear_interaction(roots_to_use, modes_to_use, delays, delay_index,\n",
    "                                start_nonlin,duration_nonlin,pm_arr,\n",
    "                                indices_of_refraction = [1000.]*len(combination),\n",
    "                                eps=1e-12,func=lambda z : z.imag)"
   ]
  },
  {
   "cell_type": "code",
   "execution_count": 122,
   "metadata": {
    "collapsed": true
   },
   "outputs": [],
   "source": [
    "## TODO: add a priori check to restrict exponential growth\n",
    "weights = {}"
   ]
  },
  {
   "cell_type": "code",
   "execution_count": 123,
   "metadata": {
    "collapsed": false
   },
   "outputs": [
    {
     "name": "stdout",
     "output_type": "stream",
     "text": [
      "90\n"
     ]
    }
   ],
   "source": [
    "\n",
    "count = 0\n",
    "\n",
    "for pm_arr in list_of_pm_arr:\n",
    "    field_combinations = itertools.combinations_with_replacement(range(m), chi_order+1)\n",
    "    for combination in field_combinations:\n",
    "        count += 1\n",
    "        weights[tuple(combination),tuple(pm_arr)] = weight(combination,pm_arr)        \n",
    "print count"
   ]
  },
  {
   "cell_type": "code",
   "execution_count": 124,
   "metadata": {
    "collapsed": false,
    "scrolled": false
   },
   "outputs": [
    {
     "data": {
      "text/plain": [
       "(array([ 58.,   0.,   0.,   0.,   0.,   0.,   0.,   0.,   0.,   0.,   0.,\n",
       "          0.,   0.,   0.,   0.,   0.,   0.,   0.,   0.,  16.,   0.,   0.,\n",
       "          0.,   0.,   0.,   0.,   0.,   0.,   0.,   0.,   0.,   0.,   0.,\n",
       "          0.,   0.,   0.,   0.,   0.,   0.,   0.,   0.,   0.,   0.,   0.,\n",
       "         10.,   0.,   0.,   0.,   0.,   0.,   0.,   0.,   0.,   0.,   0.,\n",
       "          0.,   0.,   0.,   0.,   0.,   0.,   0.,   0.,   0.,   0.,   0.,\n",
       "          0.,   0.,   0.,   0.,   0.,   0.,   0.,   0.,   0.,   0.,   0.,\n",
       "          0.,   0.,   0.,   0.,   0.,   0.,   0.,   0.,   0.,   0.,   0.,\n",
       "          0.,   0.,   0.,   0.,   0.,   0.,   0.,   0.,   0.,   0.,   0.,\n",
       "          6.]), array([  3.92408486e-08,   1.15799812e-04,   2.31560382e-04,\n",
       "          3.47320953e-04,   4.63081524e-04,   5.78842094e-04,\n",
       "          6.94602665e-04,   8.10363236e-04,   9.26123807e-04,\n",
       "          1.04188438e-03,   1.15764495e-03,   1.27340552e-03,\n",
       "          1.38916609e-03,   1.50492666e-03,   1.62068723e-03,\n",
       "          1.73644780e-03,   1.85220837e-03,   1.96796894e-03,\n",
       "          2.08372951e-03,   2.19949008e-03,   2.31525066e-03,\n",
       "          2.43101123e-03,   2.54677180e-03,   2.66253237e-03,\n",
       "          2.77829294e-03,   2.89405351e-03,   3.00981408e-03,\n",
       "          3.12557465e-03,   3.24133522e-03,   3.35709579e-03,\n",
       "          3.47285636e-03,   3.58861693e-03,   3.70437750e-03,\n",
       "          3.82013807e-03,   3.93589865e-03,   4.05165922e-03,\n",
       "          4.16741979e-03,   4.28318036e-03,   4.39894093e-03,\n",
       "          4.51470150e-03,   4.63046207e-03,   4.74622264e-03,\n",
       "          4.86198321e-03,   4.97774378e-03,   5.09350435e-03,\n",
       "          5.20926492e-03,   5.32502549e-03,   5.44078606e-03,\n",
       "          5.55654664e-03,   5.67230721e-03,   5.78806778e-03,\n",
       "          5.90382835e-03,   6.01958892e-03,   6.13534949e-03,\n",
       "          6.25111006e-03,   6.36687063e-03,   6.48263120e-03,\n",
       "          6.59839177e-03,   6.71415234e-03,   6.82991291e-03,\n",
       "          6.94567348e-03,   7.06143405e-03,   7.17719463e-03,\n",
       "          7.29295520e-03,   7.40871577e-03,   7.52447634e-03,\n",
       "          7.64023691e-03,   7.75599748e-03,   7.87175805e-03,\n",
       "          7.98751862e-03,   8.10327919e-03,   8.21903976e-03,\n",
       "          8.33480033e-03,   8.45056090e-03,   8.56632147e-03,\n",
       "          8.68208205e-03,   8.79784262e-03,   8.91360319e-03,\n",
       "          9.02936376e-03,   9.14512433e-03,   9.26088490e-03,\n",
       "          9.37664547e-03,   9.49240604e-03,   9.60816661e-03,\n",
       "          9.72392718e-03,   9.83968775e-03,   9.95544832e-03,\n",
       "          1.00712089e-02,   1.01869695e-02,   1.03027300e-02,\n",
       "          1.04184906e-02,   1.05342512e-02,   1.06500117e-02,\n",
       "          1.07657723e-02,   1.08815329e-02,   1.09972935e-02,\n",
       "          1.11130540e-02,   1.12288146e-02,   1.13445752e-02,\n",
       "          1.14603357e-02,   1.15760963e-02]), <a list of 100 Patch objects>)"
      ]
     },
     "execution_count": 124,
     "metadata": {},
     "output_type": "execute_result"
    },
    {
     "data": {
      "image/png": "[encoded data removed]",
      "text/plain": [
       "<matplotlib.figure.Figure at 0x112e984d0>"
      ]
     },
     "metadata": {},
     "output_type": "display_data"
    }
   ],
   "source": [
    "plt.hist([abs(x) for x in [weights[key] for key in weights] ],bins=100)"
   ]
  },
  {
   "cell_type": "markdown",
   "metadata": {},
   "source": [
    "As we see above, most of the interactions are negligible. Let's drop them out."
   ]
  },
  {
   "cell_type": "code",
   "execution_count": 125,
   "metadata": {
    "collapsed": false
   },
   "outputs": [],
   "source": [
    "significant_weight_keys = [key for key in weights if abs(weights[key]) > 1e-4]"
   ]
  },
  {
   "cell_type": "code",
   "execution_count": 126,
   "metadata": {
    "collapsed": false
   },
   "outputs": [],
   "source": [
    "significant_weights = dict((key,weights[key]) for key in significant_weight_keys)"
   ]
  },
  {
   "cell_type": "code",
   "execution_count": 127,
   "metadata": {
    "collapsed": false
   },
   "outputs": [
    {
     "data": {
      "image/png": "[encoded data removed]",
      "text/latex": [
       "$$32$$"
      ],
      "text/plain": [
       "32"
      ]
     },
     "execution_count": 127,
     "metadata": {},
     "output_type": "execute_result"
    }
   ],
   "source": [
    "len(significant_weights)"
   ]
  },
  {
   "cell_type": "code",
   "execution_count": 128,
   "metadata": {
    "collapsed": false
   },
   "outputs": [
    {
     "data": {
      "text/plain": [
       "'H_nonlin_sp = 0  ## with sympy only\\n\\nfor combination,pm_arr in significant_weights:\\n    H_nonlin_sp += make_nonlin_term_sp(combination,pm_arr)*significant_weights[combination,pm_arr]'"
      ]
     },
     "execution_count": 128,
     "metadata": {},
     "output_type": "execute_result"
    }
   ],
   "source": [
    "'''H_nonlin_sp = 0  ## with sympy only\n",
    "\n",
    "for combination,pm_arr in significant_weights:\n",
    "    H_nonlin_sp += make_nonlin_term_sp(combination,pm_arr)*significant_weights[combination,pm_arr]'''"
   ]
  },
  {
   "cell_type": "code",
   "execution_count": 129,
   "metadata": {
    "collapsed": false
   },
   "outputs": [],
   "source": [
    "H_nonlin = 0  ## with QNET\n",
    "\n",
    "for combination,pm_arr in significant_weights:\n",
    "    H_nonlin += make_nonlin_term(combination,pm_arr)*significant_weights[combination,pm_arr]"
   ]
  },
  {
   "cell_type": "code",
   "execution_count": 130,
   "metadata": {
    "collapsed": false
   },
   "outputs": [
    {
     "data": {
      "text/latex": [
       "$ 0.0115761  {a_{{{\\rm fock}}_{{\\rm 0}}}^\\dagger} {a_{{{\\rm fock}}_{{\\rm 0}}}^\\dagger} {a_{{{\\rm fock}}_{{\\rm 0}}}} {a_{{{\\rm fock}}_{{\\rm 0}}}} +  (0.00514192 + (-4.51028e-18)i)  {a_{{{\\rm fock}}_{{\\rm 0}}}^\\dagger} {a_{{{\\rm fock}}_{{\\rm 0}}}^\\dagger} {a_{{{\\rm fock}}_{{\\rm 1}}}} {a_{{{\\rm fock}}_{{\\rm 2}}}} +  (0.00514192 + (-3.46945e-19)i)  {a_{{{\\rm fock}}_{{\\rm 0}}}^\\dagger} {a_{{{\\rm fock}}_{{\\rm 0}}}} {a_{{{\\rm fock}}_{{\\rm 1}}}^\\dagger} {a_{{{\\rm fock}}_{{\\rm 1}}}} +  0.00514192  {a_{{{\\rm fock}}_{{\\rm 0}}}^\\dagger} {a_{{{\\rm fock}}_{{\\rm 0}}}} {a_{{{\\rm fock}}_{{\\rm 2}}}^\\dagger} {a_{{{\\rm fock}}_{{\\rm 2}}}} +  0.0115761  {a_{{{\\rm fock}}_{{\\rm 0}}}^\\dagger} {a_{{{\\rm fock}}_{{\\rm 0}}}} \\left(1 +  {a_{{{\\rm fock}}_{{\\rm 0}}}^\\dagger} {a_{{{\\rm fock}}_{{\\rm 0}}}}\\right)  +  (0.00514192 + 3.46945e-19i)  {a_{{{\\rm fock}}_{{\\rm 0}}}^\\dagger} {a_{{{\\rm fock}}_{{\\rm 0}}}} \\left(1 +  {a_{{{\\rm fock}}_{{\\rm 1}}}^\\dagger} {a_{{{\\rm fock}}_{{\\rm 1}}}}\\right)  +  0.00514192  {a_{{{\\rm fock}}_{{\\rm 0}}}^\\dagger} {a_{{{\\rm fock}}_{{\\rm 0}}}} \\left(1 +  {a_{{{\\rm fock}}_{{\\rm 2}}}^\\dagger} {a_{{{\\rm fock}}_{{\\rm 2}}}}\\right)  +  0.0115761  {a_{{{\\rm fock}}_{{\\rm 0}}}^\\dagger} \\left(1 +  {a_{{{\\rm fock}}_{{\\rm 0}}}^\\dagger} {a_{{{\\rm fock}}_{{\\rm 0}}}}\\right)  {a_{{{\\rm fock}}_{{\\rm 0}}}} +  0.00228396  {a_{{{\\rm fock}}_{{\\rm 1}}}^\\dagger} {a_{{{\\rm fock}}_{{\\rm 1}}}^\\dagger} {a_{{{\\rm fock}}_{{\\rm 1}}}} {a_{{{\\rm fock}}_{{\\rm 1}}}} +  0.00228396  {a_{{{\\rm fock}}_{{\\rm 1}}}^\\dagger} {a_{{{\\rm fock}}_{{\\rm 1}}}} {a_{{{\\rm fock}}_{{\\rm 2}}}^\\dagger} {a_{{{\\rm fock}}_{{\\rm 2}}}} +  0.00228396  {a_{{{\\rm fock}}_{{\\rm 1}}}^\\dagger} {a_{{{\\rm fock}}_{{\\rm 1}}}} \\left(1 +  {a_{{{\\rm fock}}_{{\\rm 1}}}^\\dagger} {a_{{{\\rm fock}}_{{\\rm 1}}}}\\right)  +  0.00228396  {a_{{{\\rm fock}}_{{\\rm 1}}}^\\dagger} {a_{{{\\rm fock}}_{{\\rm 1}}}} \\left(1 +  {a_{{{\\rm fock}}_{{\\rm 2}}}^\\dagger} {a_{{{\\rm fock}}_{{\\rm 2}}}}\\right)  +  0.00228396  {a_{{{\\rm fock}}_{{\\rm 1}}}^\\dagger} \\left(1 +  {a_{{{\\rm fock}}_{{\\rm 1}}}^\\dagger} {a_{{{\\rm fock}}_{{\\rm 1}}}}\\right)  {a_{{{\\rm fock}}_{{\\rm 1}}}} +  (0.00228396 + 1.73472e-19i)  {a_{{{\\rm fock}}_{{\\rm 2}}}^\\dagger} {a_{{{\\rm fock}}_{{\\rm 2}}}^\\dagger} {a_{{{\\rm fock}}_{{\\rm 2}}}} {a_{{{\\rm fock}}_{{\\rm 2}}}} +  0.00228396  {a_{{{\\rm fock}}_{{\\rm 2}}}^\\dagger} {a_{{{\\rm fock}}_{{\\rm 2}}}} \\left(1 +  {a_{{{\\rm fock}}_{{\\rm 2}}}^\\dagger} {a_{{{\\rm fock}}_{{\\rm 2}}}}\\right)  +  0.00228396  {a_{{{\\rm fock}}_{{\\rm 2}}}^\\dagger} \\left(1 +  {a_{{{\\rm fock}}_{{\\rm 2}}}^\\dagger} {a_{{{\\rm fock}}_{{\\rm 2}}}}\\right)  {a_{{{\\rm fock}}_{{\\rm 2}}}} +  (0.00514192 + 4.51028e-18i)  {a_{{{\\rm fock}}_{{\\rm 0}}}} {a_{{{\\rm fock}}_{{\\rm 0}}}} {a_{{{\\rm fock}}_{{\\rm 1}}}^\\dagger} {a_{{{\\rm fock}}_{{\\rm 2}}}^\\dagger} +  0.0115761  {a_{{{\\rm fock}}_{{\\rm 0}}}} \\left(1 +  {a_{{{\\rm fock}}_{{\\rm 0}}}^\\dagger} {a_{{{\\rm fock}}_{{\\rm 0}}}}\\right)  {a_{{{\\rm fock}}_{{\\rm 0}}}^\\dagger} +  0.00228396  {a_{{{\\rm fock}}_{{\\rm 1}}}} \\left(1 +  {a_{{{\\rm fock}}_{{\\rm 1}}}^\\dagger} {a_{{{\\rm fock}}_{{\\rm 1}}}}\\right)  {a_{{{\\rm fock}}_{{\\rm 1}}}^\\dagger} +  (0.00228396 + (-1.73472e-19)i)  {a_{{{\\rm fock}}_{{\\rm 2}}}} \\left(1 +  {a_{{{\\rm fock}}_{{\\rm 2}}}^\\dagger} {a_{{{\\rm fock}}_{{\\rm 2}}}}\\right)  {a_{{{\\rm fock}}_{{\\rm 2}}}^\\dagger} +  0.0115761  \\left(1 +  {a_{{{\\rm fock}}_{{\\rm 0}}}^\\dagger} {a_{{{\\rm fock}}_{{\\rm 0}}}}\\right)  {a_{{{\\rm fock}}_{{\\rm 0}}}^\\dagger} {a_{{{\\rm fock}}_{{\\rm 0}}}} +  (0.00514192 + (-3.46945e-19)i)  \\left(1 +  {a_{{{\\rm fock}}_{{\\rm 0}}}^\\dagger} {a_{{{\\rm fock}}_{{\\rm 0}}}}\\right)  {a_{{{\\rm fock}}_{{\\rm 1}}}^\\dagger} {a_{{{\\rm fock}}_{{\\rm 1}}}} +  0.00514192  \\left(1 +  {a_{{{\\rm fock}}_{{\\rm 0}}}^\\dagger} {a_{{{\\rm fock}}_{{\\rm 0}}}}\\right)  {a_{{{\\rm fock}}_{{\\rm 2}}}^\\dagger} {a_{{{\\rm fock}}_{{\\rm 2}}}} +  0.0115761  \\left(1 +  {a_{{{\\rm fock}}_{{\\rm 0}}}^\\dagger} {a_{{{\\rm fock}}_{{\\rm 0}}}}\\right)  \\left(1 +  {a_{{{\\rm fock}}_{{\\rm 0}}}^\\dagger} {a_{{{\\rm fock}}_{{\\rm 0}}}}\\right)  +  (0.00514192 + 3.46945e-19i)  \\left(1 +  {a_{{{\\rm fock}}_{{\\rm 0}}}^\\dagger} {a_{{{\\rm fock}}_{{\\rm 0}}}}\\right)  \\left(1 +  {a_{{{\\rm fock}}_{{\\rm 1}}}^\\dagger} {a_{{{\\rm fock}}_{{\\rm 1}}}}\\right)  +  0.00514192  \\left(1 +  {a_{{{\\rm fock}}_{{\\rm 0}}}^\\dagger} {a_{{{\\rm fock}}_{{\\rm 0}}}}\\right)  \\left(1 +  {a_{{{\\rm fock}}_{{\\rm 2}}}^\\dagger} {a_{{{\\rm fock}}_{{\\rm 2}}}}\\right)  +  0.00228396  \\left(1 +  {a_{{{\\rm fock}}_{{\\rm 1}}}^\\dagger} {a_{{{\\rm fock}}_{{\\rm 1}}}}\\right)  {a_{{{\\rm fock}}_{{\\rm 1}}}^\\dagger} {a_{{{\\rm fock}}_{{\\rm 1}}}} +  0.00228396  \\left(1 +  {a_{{{\\rm fock}}_{{\\rm 1}}}^\\dagger} {a_{{{\\rm fock}}_{{\\rm 1}}}}\\right)  {a_{{{\\rm fock}}_{{\\rm 2}}}^\\dagger} {a_{{{\\rm fock}}_{{\\rm 2}}}} +  0.00228396  \\left(1 +  {a_{{{\\rm fock}}_{{\\rm 1}}}^\\dagger} {a_{{{\\rm fock}}_{{\\rm 1}}}}\\right)  \\left(1 +  {a_{{{\\rm fock}}_{{\\rm 1}}}^\\dagger} {a_{{{\\rm fock}}_{{\\rm 1}}}}\\right)  +  0.00228396  \\left(1 +  {a_{{{\\rm fock}}_{{\\rm 1}}}^\\dagger} {a_{{{\\rm fock}}_{{\\rm 1}}}}\\right)  \\left(1 +  {a_{{{\\rm fock}}_{{\\rm 2}}}^\\dagger} {a_{{{\\rm fock}}_{{\\rm 2}}}}\\right)  +  0.00228396  \\left(1 +  {a_{{{\\rm fock}}_{{\\rm 2}}}^\\dagger} {a_{{{\\rm fock}}_{{\\rm 2}}}}\\right)  {a_{{{\\rm fock}}_{{\\rm 2}}}^\\dagger} {a_{{{\\rm fock}}_{{\\rm 2}}}} +  0.00228396  \\left(1 +  {a_{{{\\rm fock}}_{{\\rm 2}}}^\\dagger} {a_{{{\\rm fock}}_{{\\rm 2}}}}\\right)  \\left(1 +  {a_{{{\\rm fock}}_{{\\rm 2}}}^\\dagger} {a_{{{\\rm fock}}_{{\\rm 2}}}}\\right) $"
      ],
      "text/plain": [
       "OperatorPlus(ScalarTimesOperator((0.01157609631319622+0j), OperatorTimes(Create(LocalSpace('fock', '0')), Create(LocalSpace('fock', '0')), Destroy(LocalSpace('fock', '0')), Destroy(LocalSpace('fock', '0')))), ScalarTimesOperator((0.0051419161593478646-4.5102810375396986e-18j), OperatorTimes(Create(LocalSpace('fock', '0')), Create(LocalSpace('fock', '0')), Destroy(LocalSpace('fock', '1')), Destroy(LocalSpace('fock', '2')))), ScalarTimesOperator((0.0051419161593478663-3.4694469519536144e-19j), OperatorTimes(Create(LocalSpace('fock', '0')), Destroy(LocalSpace('fock', '0')), Create(LocalSpace('fock', '1')), Destroy(LocalSpace('fock', '1')))), ScalarTimesOperator((0.0051419161593478611+0j), OperatorTimes(Create(LocalSpace('fock', '0')), Destroy(LocalSpace('fock', '0')), Create(LocalSpace('fock', '2')), Destroy(LocalSpace('fock', '2')))), ScalarTimesOperator((0.01157609631319622+0j), OperatorTimes(Create(LocalSpace('fock', '0')), Destroy(LocalSpace('fock', '0')), OperatorPlus(IdentityOperator, OperatorTimes(Create(LocalSpace('fock', '0')), Destroy(LocalSpace('fock', '0')))))), ScalarTimesOperator((0.0051419161593478663+3.4694469519536144e-19j), OperatorTimes(Create(LocalSpace('fock', '0')), Destroy(LocalSpace('fock', '0')), OperatorPlus(IdentityOperator, OperatorTimes(Create(LocalSpace('fock', '1')), Destroy(LocalSpace('fock', '1')))))), ScalarTimesOperator((0.0051419161593478611+0j), OperatorTimes(Create(LocalSpace('fock', '0')), Destroy(LocalSpace('fock', '0')), OperatorPlus(IdentityOperator, OperatorTimes(Create(LocalSpace('fock', '2')), Destroy(LocalSpace('fock', '2')))))), ScalarTimesOperator((0.01157609631319622+0j), OperatorTimes(Create(LocalSpace('fock', '0')), OperatorPlus(IdentityOperator, OperatorTimes(Create(LocalSpace('fock', '0')), Destroy(LocalSpace('fock', '0')))), Destroy(LocalSpace('fock', '0')))), ScalarTimesOperator((0.0022839566184002041+0j), OperatorTimes(Create(LocalSpace('fock', '1')), Create(LocalSpace('fock', '1')), Destroy(LocalSpace('fock', '1')), Destroy(LocalSpace('fock', '1')))), ScalarTimesOperator((0.0022839566184002023+0j), OperatorTimes(Create(LocalSpace('fock', '1')), Destroy(LocalSpace('fock', '1')), Create(LocalSpace('fock', '2')), Destroy(LocalSpace('fock', '2')))), ScalarTimesOperator((0.0022839566184002041+0j), OperatorTimes(Create(LocalSpace('fock', '1')), Destroy(LocalSpace('fock', '1')), OperatorPlus(IdentityOperator, OperatorTimes(Create(LocalSpace('fock', '1')), Destroy(LocalSpace('fock', '1')))))), ScalarTimesOperator((0.0022839566184002023+0j), OperatorTimes(Create(LocalSpace('fock', '1')), Destroy(LocalSpace('fock', '1')), OperatorPlus(IdentityOperator, OperatorTimes(Create(LocalSpace('fock', '2')), Destroy(LocalSpace('fock', '2')))))), ScalarTimesOperator((0.0022839566184002041+0j), OperatorTimes(Create(LocalSpace('fock', '1')), OperatorPlus(IdentityOperator, OperatorTimes(Create(LocalSpace('fock', '1')), Destroy(LocalSpace('fock', '1')))), Destroy(LocalSpace('fock', '1')))), ScalarTimesOperator((0.0022839566184001993+1.7347234759768072e-19j), OperatorTimes(Create(LocalSpace('fock', '2')), Create(LocalSpace('fock', '2')), Destroy(LocalSpace('fock', '2')), Destroy(LocalSpace('fock', '2')))), ScalarTimesOperator((0.0022839566184001997+0j), OperatorTimes(Create(LocalSpace('fock', '2')), Destroy(LocalSpace('fock', '2')), OperatorPlus(IdentityOperator, OperatorTimes(Create(LocalSpace('fock', '2')), Destroy(LocalSpace('fock', '2')))))), ScalarTimesOperator((0.0022839566184001997+0j), OperatorTimes(Create(LocalSpace('fock', '2')), OperatorPlus(IdentityOperator, OperatorTimes(Create(LocalSpace('fock', '2')), Destroy(LocalSpace('fock', '2')))), Destroy(LocalSpace('fock', '2')))), ScalarTimesOperator((0.0051419161593478646+4.5102810375396986e-18j), OperatorTimes(Destroy(LocalSpace('fock', '0')), Destroy(LocalSpace('fock', '0')), Create(LocalSpace('fock', '1')), Create(LocalSpace('fock', '2')))), ScalarTimesOperator((0.01157609631319622+0j), OperatorTimes(Destroy(LocalSpace('fock', '0')), OperatorPlus(IdentityOperator, OperatorTimes(Create(LocalSpace('fock', '0')), Destroy(LocalSpace('fock', '0')))), Create(LocalSpace('fock', '0')))), ScalarTimesOperator((0.0022839566184002041+0j), OperatorTimes(Destroy(LocalSpace('fock', '1')), OperatorPlus(IdentityOperator, OperatorTimes(Create(LocalSpace('fock', '1')), Destroy(LocalSpace('fock', '1')))), Create(LocalSpace('fock', '1')))), ScalarTimesOperator((0.0022839566184001993-1.7347234759768072e-19j), OperatorTimes(Destroy(LocalSpace('fock', '2')), OperatorPlus(IdentityOperator, OperatorTimes(Create(LocalSpace('fock', '2')), Destroy(LocalSpace('fock', '2')))), Create(LocalSpace('fock', '2')))), ScalarTimesOperator((0.01157609631319622+0j), OperatorTimes(OperatorPlus(IdentityOperator, OperatorTimes(Create(LocalSpace('fock', '0')), Destroy(LocalSpace('fock', '0')))), Create(LocalSpace('fock', '0')), Destroy(LocalSpace('fock', '0')))), ScalarTimesOperator((0.0051419161593478663-3.4694469519536144e-19j), OperatorTimes(OperatorPlus(IdentityOperator, OperatorTimes(Create(LocalSpace('fock', '0')), Destroy(LocalSpace('fock', '0')))), Create(LocalSpace('fock', '1')), Destroy(LocalSpace('fock', '1')))), ScalarTimesOperator((0.0051419161593478611+0j), OperatorTimes(OperatorPlus(IdentityOperator, OperatorTimes(Create(LocalSpace('fock', '0')), Destroy(LocalSpace('fock', '0')))), Create(LocalSpace('fock', '2')), Destroy(LocalSpace('fock', '2')))), ScalarTimesOperator((0.01157609631319622+0j), OperatorTimes(OperatorPlus(IdentityOperator, OperatorTimes(Create(LocalSpace('fock', '0')), Destroy(LocalSpace('fock', '0')))), OperatorPlus(IdentityOperator, OperatorTimes(Create(LocalSpace('fock', '0')), Destroy(LocalSpace('fock', '0')))))), ScalarTimesOperator((0.0051419161593478663+3.4694469519536144e-19j), OperatorTimes(OperatorPlus(IdentityOperator, OperatorTimes(Create(LocalSpace('fock', '0')), Destroy(LocalSpace('fock', '0')))), OperatorPlus(IdentityOperator, OperatorTimes(Create(LocalSpace('fock', '1')), Destroy(LocalSpace('fock', '1')))))), ScalarTimesOperator((0.0051419161593478611+0j), OperatorTimes(OperatorPlus(IdentityOperator, OperatorTimes(Create(LocalSpace('fock', '0')), Destroy(LocalSpace('fock', '0')))), OperatorPlus(IdentityOperator, OperatorTimes(Create(LocalSpace('fock', '2')), Destroy(LocalSpace('fock', '2')))))), ScalarTimesOperator((0.0022839566184002041+0j), OperatorTimes(OperatorPlus(IdentityOperator, OperatorTimes(Create(LocalSpace('fock', '1')), Destroy(LocalSpace('fock', '1')))), Create(LocalSpace('fock', '1')), Destroy(LocalSpace('fock', '1')))), ScalarTimesOperator((0.0022839566184002023+0j), OperatorTimes(OperatorPlus(IdentityOperator, OperatorTimes(Create(LocalSpace('fock', '1')), Destroy(LocalSpace('fock', '1')))), Create(LocalSpace('fock', '2')), Destroy(LocalSpace('fock', '2')))), ScalarTimesOperator((0.0022839566184002041+0j), OperatorTimes(OperatorPlus(IdentityOperator, OperatorTimes(Create(LocalSpace('fock', '1')), Destroy(LocalSpace('fock', '1')))), OperatorPlus(IdentityOperator, OperatorTimes(Create(LocalSpace('fock', '1')), Destroy(LocalSpace('fock', '1')))))), ScalarTimesOperator((0.0022839566184002023+0j), OperatorTimes(OperatorPlus(IdentityOperator, OperatorTimes(Create(LocalSpace('fock', '1')), Destroy(LocalSpace('fock', '1')))), OperatorPlus(IdentityOperator, OperatorTimes(Create(LocalSpace('fock', '2')), Destroy(LocalSpace('fock', '2')))))), ScalarTimesOperator((0.0022839566184001997+0j), OperatorTimes(OperatorPlus(IdentityOperator, OperatorTimes(Create(LocalSpace('fock', '2')), Destroy(LocalSpace('fock', '2')))), Create(LocalSpace('fock', '2')), Destroy(LocalSpace('fock', '2')))), ScalarTimesOperator((0.0022839566184001997+0j), OperatorTimes(OperatorPlus(IdentityOperator, OperatorTimes(Create(LocalSpace('fock', '2')), Destroy(LocalSpace('fock', '2')))), OperatorPlus(IdentityOperator, OperatorTimes(Create(LocalSpace('fock', '2')), Destroy(LocalSpace('fock', '2')))))))"
      ]
     },
     "execution_count": 130,
     "metadata": {},
     "output_type": "execute_result"
    }
   ],
   "source": [
    "H_nonlin"
   ]
  },
  {
   "cell_type": "markdown",
   "metadata": {},
   "source": [
    "### Using the symbolic packages is kind of slow. For classical simulations maybe we can avoid that. We just need to extract the equations of motion, which should end up being sparse in the interaction terms "
   ]
  },
  {
   "cell_type": "code",
   "execution_count": null,
   "metadata": {
    "collapsed": true
   },
   "outputs": [],
   "source": []
  },
  {
   "cell_type": "code",
   "execution_count": null,
   "metadata": {
    "collapsed": true
   },
   "outputs": [],
   "source": []
  },
  {
   "cell_type": "code",
   "execution_count": 131,
   "metadata": {
    "collapsed": false
   },
   "outputs": [
    {
     "data": {
      "text/plain": [
       "'\\nconsolidated_weightes = {}\\nfor key in significant_weights:\\n    if not key[0] in consolidated_weightes:\\n        consolidated_weightes[key[0]] = significant_weights[key]\\n    else:\\n        consolidated_weightes[key[0]] += significant_weights[key]\\n'"
      ]
     },
     "execution_count": 131,
     "metadata": {},
     "output_type": "execute_result"
    }
   ],
   "source": [
    "## consolidated weights do not take into account which modes are createad or annihilated.\n",
    "\n",
    "'''\n",
    "consolidated_weightes = {}\n",
    "for key in significant_weights:\n",
    "    if not key[0] in consolidated_weightes:\n",
    "        consolidated_weightes[key[0]] = significant_weights[key]\n",
    "    else:\n",
    "        consolidated_weightes[key[0]] += significant_weights[key]\n",
    "'''"
   ]
  },
  {
   "cell_type": "code",
   "execution_count": 132,
   "metadata": {
    "collapsed": false
   },
   "outputs": [
    {
     "data": {
      "text/plain": [
       "'len(consolidated_weightes)'"
      ]
     },
     "execution_count": 132,
     "metadata": {},
     "output_type": "execute_result"
    }
   ],
   "source": [
    "'''len(consolidated_weightes)'''"
   ]
  },
  {
   "cell_type": "code",
   "execution_count": null,
   "metadata": {
    "collapsed": true
   },
   "outputs": [],
   "source": []
  },
  {
   "cell_type": "code",
   "execution_count": null,
   "metadata": {
    "collapsed": true
   },
   "outputs": [],
   "source": []
  },
  {
   "cell_type": "code",
   "execution_count": null,
   "metadata": {
    "collapsed": true
   },
   "outputs": [],
   "source": []
  }
 ],
 "metadata": {
  "kernelspec": {
   "display_name": "Python 2",
   "language": "python",
   "name": "python2"
  },
  "language_info": {
   "codemirror_mode": {
    "name": "ipython",
    "version": 2
   },
   "file_extension": ".py",
   "mimetype": "text/x-python",
   "name": "python",
   "nbconvert_exporter": "python",
   "pygments_lexer": "ipython2",
   "version": "2.7.11"
  }
 },
 "nbformat": 4,
 "nbformat_minor": 0
}
