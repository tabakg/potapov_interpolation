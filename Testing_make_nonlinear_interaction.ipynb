{
 "cells": [
  {
   "cell_type": "markdown",
   "metadata": {},
   "source": [
    "## In this ipython notebook we will consider our method of constructing nonlinear interactions"
   ]
  },
  {
   "cell_type": "code",
   "execution_count": 685,
   "metadata": {
    "collapsed": true
   },
   "outputs": [],
   "source": [
    "import Roots\n",
    "import Potapov\n",
    "import Examples\n",
    "import Time_Sims\n",
    "import functions\n",
    "import tests\n",
    "\n",
    "import numpy as np\n",
    "import numpy.linalg as la\n",
    "from scipy.linalg import cholesky\n",
    "\n",
    "import matplotlib.pyplot as plt\n",
    "%matplotlib inline"
   ]
  },
  {
   "cell_type": "code",
   "execution_count": 127,
   "metadata": {
    "collapsed": true
   },
   "outputs": [],
   "source": [
    "def contour_plot(Mat):\n",
    "    fig = plt.figure()\n",
    "    ax = fig.add_subplot(111)\n",
    "    cax = ax.matshow(abs(Mat), interpolation='nearest')\n",
    "    fig.colorbar(cax)\n",
    "    plt.show()"
   ]
  },
  {
   "cell_type": "code",
   "execution_count": 280,
   "metadata": {
    "collapsed": false
   },
   "outputs": [],
   "source": [
    "Ex = Examples.Example3(r1 = 0.9, r3 = 0.9, max_linewidth=35.)\n",
    "Ex.run_Potapov()\n",
    "E = Ex.E\n",
    "roots = Ex.roots\n",
    "M1 = Ex.M1\n",
    "delays = Ex.delays\n",
    "modes = functions.spatial_modes(roots,M1,E)"
   ]
  },
  {
   "cell_type": "code",
   "execution_count": 281,
   "metadata": {
    "collapsed": false
   },
   "outputs": [],
   "source": [
    "vecs = Ex.vecs"
   ]
  },
  {
   "cell_type": "code",
   "execution_count": 282,
   "metadata": {
    "collapsed": false
   },
   "outputs": [
    {
     "data": {
      "text/plain": [
       "[(-0.35974471149047982-32.541813662957928j),\n",
       " (-0.35974471149047882+32.541813662957935j),\n",
       " (-0.36514939263783175+10.901513851604911j),\n",
       " (-0.33769377381866061+1.4264640534763705e-19j),\n",
       " (-0.36514939263783219-10.901513851604911j),\n",
       " (-0.35057287529591047+53.73045125564974j),\n",
       " (-0.346043734193046+40.605122744190666j),\n",
       " (-0.33972600185569823+20.17846799542311j),\n",
       " (-0.35057287529591047-53.73045125564973j),\n",
       " (-0.3460437341930459-40.605122744190666j),\n",
       " (-0.33972600185569823-20.17846799542311j)]"
      ]
     },
     "execution_count": 282,
     "metadata": {},
     "output_type": "execute_result"
    }
   ],
   "source": [
    "roots"
   ]
  },
  {
   "cell_type": "code",
   "execution_count": 283,
   "metadata": {
    "collapsed": true
   },
   "outputs": [],
   "source": [
    "root_z = lambda z: 1j*z  ## a fake root we will vary"
   ]
  },
  {
   "cell_type": "code",
   "execution_count": 284,
   "metadata": {
    "collapsed": true
   },
   "outputs": [],
   "source": [
    "roots_to_use = lambda z: [root_z(z),roots[-1],roots[-2]]"
   ]
  },
  {
   "cell_type": "code",
   "execution_count": 285,
   "metadata": {
    "collapsed": true
   },
   "outputs": [],
   "source": [
    "modes_to_use = [modes[-1],modes[-1], modes[4]]"
   ]
  },
  {
   "cell_type": "code",
   "execution_count": 286,
   "metadata": {
    "collapsed": true
   },
   "outputs": [],
   "source": [
    "delay_index = 0"
   ]
  },
  {
   "cell_type": "code",
   "execution_count": 287,
   "metadata": {
    "collapsed": false
   },
   "outputs": [],
   "source": [
    "plus_or_minus_arr =  [-1,-1,-1]"
   ]
  },
  {
   "cell_type": "code",
   "execution_count": 288,
   "metadata": {
    "collapsed": true
   },
   "outputs": [],
   "source": [
    "x = np.linspace(-300,260,1000)"
   ]
  },
  {
   "cell_type": "code",
   "execution_count": 289,
   "metadata": {
    "collapsed": true
   },
   "outputs": [],
   "source": [
    "f = lambda z: functions.make_nonlinear_interaction(roots_to_use(z),modes_to_use,Ex.delays,0,0,0.1,plus_or_minus_arr)"
   ]
  },
  {
   "cell_type": "code",
   "execution_count": 290,
   "metadata": {
    "collapsed": true
   },
   "outputs": [],
   "source": [
    "### by default, indices_of_refraction=[1,1,1]"
   ]
  },
  {
   "cell_type": "markdown",
   "metadata": {},
   "source": [
    "We will vary the fake root we introduced to obtain the phase-mismatch diagram. That is, the phase mismatch $\\delta k$ is going to be some linear function of $z$."
   ]
  },
  {
   "cell_type": "code",
   "execution_count": 291,
   "metadata": {
    "collapsed": false,
    "scrolled": false
   },
   "outputs": [
    {
     "data": {
      "text/plain": [
       "[<matplotlib.lines.Line2D at 0x10cd12250>]"
      ]
     },
     "execution_count": 291,
     "metadata": {},
     "output_type": "execute_result"
    },
    {
     "data": {
      "image/png": "[encoded data removed]",
      "text/plain": [
       "<matplotlib.figure.Figure at 0x10d0b9e10>"
      ]
     },
     "metadata": {},
     "output_type": "display_data"
    }
   ],
   "source": [
    "plt.plot(x, [abs(f(z))**2 for z in x])"
   ]
  },
  {
   "cell_type": "markdown",
   "metadata": {},
   "source": [
    "What happens when we change the indices of refraction for the different modes? The phase-mismatch will shift depending on where the new $\\delta k = 0$ occurs. The width of the peak may also change if the indices of refraction are large."
   ]
  },
  {
   "cell_type": "code",
   "execution_count": 292,
   "metadata": {
    "collapsed": true
   },
   "outputs": [],
   "source": [
    "indices_of_refraction=[3.,1.1,2.]"
   ]
  },
  {
   "cell_type": "code",
   "execution_count": 293,
   "metadata": {
    "collapsed": true
   },
   "outputs": [],
   "source": [
    "f = lambda z: functions.make_nonlinear_interaction(roots_to_use(z),\n",
    "                modes_to_use,Ex.delays,0,0,0.1,plus_or_minus_arr,indices_of_refraction=indices_of_refraction)"
   ]
  },
  {
   "cell_type": "code",
   "execution_count": 294,
   "metadata": {
    "collapsed": false,
    "scrolled": true
   },
   "outputs": [
    {
     "data": {
      "text/plain": [
       "[<matplotlib.lines.Line2D at 0x10ce28510>]"
      ]
     },
     "execution_count": 294,
     "metadata": {},
     "output_type": "execute_result"
    },
    {
     "data": {
      "image/png": "[encoded data removed]",
      "text/plain": [
       "<matplotlib.figure.Figure at 0x10cceedd0>"
      ]
     },
     "metadata": {},
     "output_type": "display_data"
    }
   ],
   "source": [
    "plt.plot(x, [abs(f(z))**2 for z in x])"
   ]
  },
  {
   "cell_type": "markdown",
   "metadata": {},
   "source": [
    "# Generating a Hamiltonian from  a model"
   ]
  },
  {
   "cell_type": "markdown",
   "metadata": {},
   "source": [
    " In this section we will use example 3 to generate a Hamiltonian with nonlinaer coefficients resulting when inserting a nonlinearity in a circuit. We will assume that the nonlinearity is inserting at the delay line of index 0 corresponding to $\\tau_1$."
   ]
  },
  {
   "cell_type": "code",
   "execution_count": 323,
   "metadata": {
    "collapsed": false
   },
   "outputs": [],
   "source": [
    "import sympy as sp\n",
    "import itertools\n",
    "from qnet.algebra.circuit_algebra import *"
   ]
  },
  {
   "cell_type": "code",
   "execution_count": 626,
   "metadata": {
    "collapsed": true
   },
   "outputs": [],
   "source": [
    "Ex = Examples.Example3(r1 = 0.9, r3 = 0.9, max_linewidth=35.,max_freq=15.)\n",
    "Ex.run_Potapov()\n",
    "E = Ex.E\n",
    "roots = Ex.roots\n",
    "M1 = Ex.M1\n",
    "delays = Ex.delays\n",
    "modes = functions.spatial_modes(roots,M1,E)"
   ]
  },
  {
   "cell_type": "code",
   "execution_count": 627,
   "metadata": {
    "collapsed": false
   },
   "outputs": [
    {
     "data": {
      "text/plain": [
       "[(-0.33769377381866061-9.6224584680117253e-20j),\n",
       " (-0.36514939263783192-10.901513851604911j),\n",
       " (-0.36514939263783175+10.901513851604911j)]"
      ]
     },
     "execution_count": 627,
     "metadata": {},
     "output_type": "execute_result"
    }
   ],
   "source": [
    "roots"
   ]
  },
  {
   "cell_type": "code",
   "execution_count": 628,
   "metadata": {
    "collapsed": true
   },
   "outputs": [],
   "source": [
    "## nonlinearity information\n",
    "\n",
    "delay_index = 0 \n",
    "start_nonlin = 0.\n",
    "end_nonlin = .1"
   ]
  },
  {
   "cell_type": "code",
   "execution_count": 629,
   "metadata": {
    "collapsed": false,
    "scrolled": false
   },
   "outputs": [
    {
     "data": {
      "image/png": "[encoded data removed]",
      "text/latex": [
       "$$3$$"
      ],
      "text/plain": [
       "3"
      ]
     },
     "execution_count": 629,
     "metadata": {},
     "output_type": "execute_result"
    }
   ],
   "source": [
    "len(roots)"
   ]
  },
  {
   "cell_type": "code",
   "execution_count": 630,
   "metadata": {
    "collapsed": false
   },
   "outputs": [
    {
     "data": {
      "image/png": "[encoded data removed]",
      "text/latex": [
       "$$3$$"
      ],
      "text/plain": [
       "3"
      ]
     },
     "execution_count": 630,
     "metadata": {},
     "output_type": "execute_result"
    }
   ],
   "source": [
    "len(modes)"
   ]
  },
  {
   "cell_type": "code",
   "execution_count": 631,
   "metadata": {
    "collapsed": true
   },
   "outputs": [],
   "source": [
    "m = len(roots)"
   ]
  },
  {
   "cell_type": "code",
   "execution_count": 632,
   "metadata": {
    "collapsed": true
   },
   "outputs": [],
   "source": [
    "indices = range(m)"
   ]
  },
  {
   "cell_type": "code",
   "execution_count": 633,
   "metadata": {
    "collapsed": true
   },
   "outputs": [],
   "source": [
    "chi_order = 3  ## i.e. chi-3 nonlinearity"
   ]
  },
  {
   "cell_type": "code",
   "execution_count": 634,
   "metadata": {
    "collapsed": false
   },
   "outputs": [],
   "source": [
    "plus_minus_combinations = list(itertools.combinations(range(4), 2))  ## pick which fields are annihilated"
   ]
  },
  {
   "cell_type": "code",
   "execution_count": 635,
   "metadata": {
    "collapsed": false
   },
   "outputs": [],
   "source": [
    "list_of_pm_arr = []\n",
    "for tup in plus_minus_combinations:\n",
    "    ls = [1]*(chi_order+1)\n",
    "    for i in tup:\n",
    "        ls[i]=-1\n",
    "    list_of_pm_arr.append(ls)"
   ]
  },
  {
   "cell_type": "code",
   "execution_count": 636,
   "metadata": {
    "collapsed": false
   },
   "outputs": [
    {
     "data": {
      "image/png": "[encoded data removed]",
      "text/latex": [
       "$$\\left [ \\left [ -1, \\quad -1, \\quad 1, \\quad 1\\right ], \\quad \\left [ -1, \\quad 1, \\quad -1, \\quad 1\\right ], \\quad \\left [ -1, \\quad 1, \\quad 1, \\quad -1\\right ], \\quad \\left [ 1, \\quad -1, \\quad -1, \\quad 1\\right ], \\quad \\left [ 1, \\quad -1, \\quad 1, \\quad -1\\right ], \\quad \\left [ 1, \\quad 1, \\quad -1, \\quad -1\\right ]\\right ]$$"
      ],
      "text/plain": [
       "[[-1, -1, 1, 1], [-1, 1, -1, 1], [-1, 1, 1, -1], [1, -1, -1, 1], [1, -1, 1, -1\n",
       "], [1, 1, -1, -1]]"
      ]
     },
     "execution_count": 636,
     "metadata": {},
     "output_type": "execute_result"
    }
   ],
   "source": [
    "list_of_pm_arr"
   ]
  },
  {
   "cell_type": "code",
   "execution_count": 637,
   "metadata": {
    "collapsed": true
   },
   "outputs": [],
   "source": [
    "a = [sp.symbols('a_'+str(i)) for i in range(m)]\n",
    "a_H = [sp.symbols('a^H_'+str(i)) for i in range(m)]"
   ]
  },
  {
   "cell_type": "code",
   "execution_count": 638,
   "metadata": {
    "collapsed": false
   },
   "outputs": [],
   "source": [
    "a_ = [Destroy(local_space('fock', namespace = str(i))) for i in range(m)]"
   ]
  },
  {
   "cell_type": "code",
   "execution_count": 639,
   "metadata": {
    "collapsed": false
   },
   "outputs": [
    {
     "data": {
      "text/plain": [
       "[Destroy(LocalSpace('fock', '0')),\n",
       " Destroy(LocalSpace('fock', '1')),\n",
       " Destroy(LocalSpace('fock', '2'))]"
      ]
     },
     "execution_count": 639,
     "metadata": {},
     "output_type": "execute_result"
    }
   ],
   "source": [
    "a_"
   ]
  },
  {
   "cell_type": "code",
   "execution_count": 640,
   "metadata": {
    "collapsed": false
   },
   "outputs": [],
   "source": [
    "A,B,C,D = Potapov.get_Potapov_ABCD(Ex.roots,Ex.vecs)"
   ]
  },
  {
   "cell_type": "markdown",
   "metadata": {},
   "source": [
    "To obtain the SLH from the ABCD, we can use that for a passive system $\\Omega = (A - A^H)/2i$. We may have to change $B$ and $C$ so that $\\tilde B = \\tilde C^H$ and $\\tilde B \\tilde C = BC$.  Also notice that $(A+A^H)/2 = BC/2$."
   ]
  },
  {
   "cell_type": "code",
   "execution_count": 677,
   "metadata": {
    "collapsed": true
   },
   "outputs": [],
   "source": [
    "Omega = (A-A.H)/(2j)"
   ]
  },
  {
   "cell_type": "code",
   "execution_count": 678,
   "metadata": {
    "collapsed": false
   },
   "outputs": [
    {
     "data": {
      "image/png": "[encoded data removed]",
      "text/plain": [
       "<matplotlib.figure.Figure at 0x10da46350>"
      ]
     },
     "metadata": {},
     "output_type": "display_data"
    }
   ],
   "source": [
    "contour_plot(Omega)"
   ]
  },
  {
   "cell_type": "code",
   "execution_count": null,
   "metadata": {
    "collapsed": true
   },
   "outputs": [],
   "source": []
  },
  {
   "cell_type": "code",
   "execution_count": 655,
   "metadata": {
    "collapsed": false
   },
   "outputs": [],
   "source": [
    "## Let's look at the off-diagonal elements\n",
    "\n",
    "Omega2 = - (A.imag+A.imag.H)/2\n",
    "for i in range(Omega2.shape[0]):\n",
    "    Omega2[i,i]=0"
   ]
  },
  {
   "cell_type": "code",
   "execution_count": 687,
   "metadata": {
    "collapsed": false
   },
   "outputs": [
    {
     "data": {
      "image/png": "[encoded data removed]",
      "text/plain": [
       "<matplotlib.figure.Figure at 0x1134f22d0>"
      ]
     },
     "metadata": {},
     "output_type": "display_data"
    }
   ],
   "source": [
    "contour_plot((A+A.H)/2.)"
   ]
  },
  {
   "cell_type": "code",
   "execution_count": 680,
   "metadata": {
    "collapsed": false,
    "scrolled": false
   },
   "outputs": [
    {
     "data": {
      "image/png": "[encoded data removed]",
      "text/plain": [
       "<matplotlib.figure.Figure at 0x10fa526d0>"
      ]
     },
     "metadata": {},
     "output_type": "display_data"
    }
   ],
   "source": [
    "contour_plot(B*C/2.)"
   ]
  },
  {
   "cell_type": "code",
   "execution_count": 707,
   "metadata": {
    "collapsed": false
   },
   "outputs": [],
   "source": [
    "B_tilde = np.asmatrix(cholesky(-B*C,overwrite_a=True))\n",
    "C_tilde = B_tilde.H"
   ]
  },
  {
   "cell_type": "code",
   "execution_count": 711,
   "metadata": {
    "collapsed": false
   },
   "outputs": [
    {
     "data": {
      "image/png": "[encoded data removed]",
      "text/plain": [
       "<matplotlib.figure.Figure at 0x11033b350>"
      ]
     },
     "metadata": {},
     "output_type": "display_data"
    }
   ],
   "source": [
    "contour_plot(C_tilde*C_tilde.H/2.)"
   ]
  },
  {
   "cell_type": "code",
   "execution_count": 712,
   "metadata": {
    "collapsed": false
   },
   "outputs": [
    {
     "data": {
      "image/png": "[encoded data removed]",
      "text/plain": [
       "<matplotlib.figure.Figure at 0x1132ff190>"
      ]
     },
     "metadata": {},
     "output_type": "display_data"
    }
   ],
   "source": [
    "contour_plot(B_tilde.H*B_tilde/2.)"
   ]
  },
  {
   "cell_type": "code",
   "execution_count": 717,
   "metadata": {
    "collapsed": false
   },
   "outputs": [
    {
     "data": {
      "image/png": "[encoded data removed]",
      "text/plain": [
       "<matplotlib.figure.Figure at 0x112a7dc90>"
      ]
     },
     "metadata": {},
     "output_type": "display_data"
    },
    {
     "data": {
      "text/plain": [
       "<function matplotlib.pyplot.show>"
      ]
     },
     "execution_count": 717,
     "metadata": {},
     "output_type": "execute_result"
    }
   ],
   "source": [
    "#what is left in Omega after subtracting the diagonal\n",
    "contour_plot(Omega2)\n",
    "plt.show"
   ]
  },
  {
   "cell_type": "code",
   "execution_count": null,
   "metadata": {
    "collapsed": true
   },
   "outputs": [],
   "source": []
  },
  {
   "cell_type": "markdown",
   "metadata": {},
   "source": [
    "## Next, we will make the assumption that the off-diagonal elements are zero. More generally, we can diagonalize the Hamiltonian. However, the modes are not exactly orthogonal; the error introduced by this is of the same order as no diagonalizing the Hamiltonian above."
   ]
  },
  {
   "cell_type": "code",
   "execution_count": 547,
   "metadata": {
    "collapsed": true
   },
   "outputs": [],
   "source": [
    "'''H_lin_sp = sum([a_H[i]*a[i]*Omega[i,i] for i in range(m)])  ## with sympy only'''"
   ]
  },
  {
   "cell_type": "code",
   "execution_count": 548,
   "metadata": {
    "collapsed": false
   },
   "outputs": [],
   "source": [
    "H_lin = sum([a_[i].dag()*a_[i]*Omega[i,i] for i in range(m)])  ## with QNET"
   ]
  },
  {
   "cell_type": "code",
   "execution_count": 549,
   "metadata": {
    "collapsed": false
   },
   "outputs": [
    {
     "data": {
      "text/latex": [
       "$ - 2.13996e-20  {a_{{{\\rm fock}}_{{\\rm 0}}}^\\dagger} {a_{{{\\rm fock}}_{{\\rm 0}}}} -  32.5418  {a_{{{\\rm fock}}_{{\\rm 1}}}^\\dagger} {a_{{{\\rm fock}}_{{\\rm 1}}}} +  32.5418  {a_{{{\\rm fock}}_{{\\rm 2}}}^\\dagger} {a_{{{\\rm fock}}_{{\\rm 2}}}} -  10.9015  {a_{{{\\rm fock}}_{{\\rm 3}}}^\\dagger} {a_{{{\\rm fock}}_{{\\rm 3}}}} +  10.9015  {a_{{{\\rm fock}}_{{\\rm 4}}}^\\dagger} {a_{{{\\rm fock}}_{{\\rm 4}}}} -  20.1785  {a_{{{\\rm fock}}_{{\\rm 5}}}^\\dagger} {a_{{{\\rm fock}}_{{\\rm 5}}}} +  20.1785  {a_{{{\\rm fock}}_{{\\rm 6}}}^\\dagger} {a_{{{\\rm fock}}_{{\\rm 6}}}}$"
      ],
      "text/plain": [
       "OperatorPlus(ScalarTimesOperator(-2.1399595893815304e-20, OperatorTimes(Create(LocalSpace('fock', '0')), Destroy(LocalSpace('fock', '0')))), ScalarTimesOperator(-32.541813662957928, OperatorTimes(Create(LocalSpace('fock', '1')), Destroy(LocalSpace('fock', '1')))), ScalarTimesOperator(32.541813662957935, OperatorTimes(Create(LocalSpace('fock', '2')), Destroy(LocalSpace('fock', '2')))), ScalarTimesOperator(-10.901513851604914, OperatorTimes(Create(LocalSpace('fock', '3')), Destroy(LocalSpace('fock', '3')))), ScalarTimesOperator(10.901513851604911, OperatorTimes(Create(LocalSpace('fock', '4')), Destroy(LocalSpace('fock', '4')))), ScalarTimesOperator(-20.178467995423112, OperatorTimes(Create(LocalSpace('fock', '5')), Destroy(LocalSpace('fock', '5')))), ScalarTimesOperator(20.178467995423102, OperatorTimes(Create(LocalSpace('fock', '6')), Destroy(LocalSpace('fock', '6')))))"
      ]
     },
     "execution_count": 549,
     "metadata": {},
     "output_type": "execute_result"
    }
   ],
   "source": [
    "H_lin"
   ]
  },
  {
   "cell_type": "code",
   "execution_count": 550,
   "metadata": {
    "collapsed": true
   },
   "outputs": [],
   "source": [
    "'''def make_nonlin_term_sp(combination,pm_arr):\n",
    "    '''\n",
    "    Make symbolic term\n",
    "    With sympy only\n",
    "    '''\n",
    "    r = 1\n",
    "    for index,sign in zip(combination,pm_arr):\n",
    "        if sign == 1:\n",
    "            r*= a_H[index]\n",
    "        else:\n",
    "            r *= a[index]\n",
    "    return r'''"
   ]
  },
  {
   "cell_type": "code",
   "execution_count": 551,
   "metadata": {
    "collapsed": true
   },
   "outputs": [],
   "source": [
    "def make_nonlin_term(combination,pm_arr):\n",
    "    '''\n",
    "    Make symbolic term\n",
    "    With QNET\n",
    "    '''\n",
    "    r = 1\n",
    "    for index,sign in zip(combination,pm_arr):\n",
    "        if sign == 1:\n",
    "            r*= a_[index].dag()\n",
    "        else:\n",
    "            r *= a_[index]\n",
    "    return r"
   ]
  },
  {
   "cell_type": "markdown",
   "metadata": {},
   "source": [
    "Let's impose a large 'index of refraction'. In the future we will replaces this by better conditions for phase-mismatch, including realistic values. For now, this will narrow the gain versus $\\Delta k$ function so that few interaction terms remain."
   ]
  },
  {
   "cell_type": "code",
   "execution_count": 552,
   "metadata": {
    "collapsed": true
   },
   "outputs": [],
   "source": [
    "def weight(combination,pm_arr):\n",
    "    roots_to_use = np.array([roots[i] for i in combination])\n",
    "    modes_to_use = [modes[i] for i in combination]\n",
    "    return functions.make_nonlinear_interaction(roots_to_use, modes_to_use, delays, delay_index,\n",
    "                                start_nonlin,end_nonlin,pm_arr,\n",
    "                                indices_of_refraction = [1000.]*len(combination),\n",
    "                                eps=1e-12,func=lambda z : z.imag)"
   ]
  },
  {
   "cell_type": "code",
   "execution_count": 553,
   "metadata": {
    "collapsed": true
   },
   "outputs": [],
   "source": [
    "## TODO: add a priori check to restrict exponential growth\n",
    "weights = {}"
   ]
  },
  {
   "cell_type": "code",
   "execution_count": 554,
   "metadata": {
    "collapsed": false
   },
   "outputs": [
    {
     "name": "stdout",
     "output_type": "stream",
     "text": [
      "1260\n"
     ]
    }
   ],
   "source": [
    "\n",
    "count = 0\n",
    "\n",
    "for pm_arr in list_of_pm_arr:\n",
    "    field_combinations = itertools.combinations_with_replacement(range(m), chi_order+1)\n",
    "    for combination in field_combinations:\n",
    "        count += 1\n",
    "        weights[tuple(combination),tuple(pm_arr)] = weight(combination,pm_arr)        \n",
    "print count"
   ]
  },
  {
   "cell_type": "code",
   "execution_count": 555,
   "metadata": {
    "collapsed": false,
    "scrolled": false
   },
   "outputs": [
    {
     "data": {
      "text/plain": [
       "(array([ 1122.,     0.,     0.,    16.,    18.,    16.,     0.,     0.,\n",
       "           28.,     0.,    28.,     0.,     0.,     0.,     0.,     0.,\n",
       "            0.,     0.,    16.,    16.]),\n",
       " array([  3.92408486e-08,   5.78842094e-04,   1.15764495e-03,\n",
       "          1.73644780e-03,   2.31525066e-03,   2.89405351e-03,\n",
       "          3.47285636e-03,   4.05165922e-03,   4.63046207e-03,\n",
       "          5.20926492e-03,   5.78806778e-03,   6.36687063e-03,\n",
       "          6.94567348e-03,   7.52447634e-03,   8.10327919e-03,\n",
       "          8.68208205e-03,   9.26088490e-03,   9.83968775e-03,\n",
       "          1.04184906e-02,   1.09972935e-02,   1.15760963e-02]),\n",
       " <a list of 20 Patch objects>)"
      ]
     },
     "execution_count": 555,
     "metadata": {},
     "output_type": "execute_result"
    },
    {
     "data": {
      "image/png": "[encoded data removed]",
      "text/plain": [
       "<matplotlib.figure.Figure at 0x11048e490>"
      ]
     },
     "metadata": {},
     "output_type": "display_data"
    }
   ],
   "source": [
    "plt.hist([abs(x) for x in [weights[key] for key in weights] ],bins=20)"
   ]
  },
  {
   "cell_type": "markdown",
   "metadata": {},
   "source": [
    "As we see above, most of the interactions are negligible. Let's drop them out."
   ]
  },
  {
   "cell_type": "code",
   "execution_count": 556,
   "metadata": {
    "collapsed": false
   },
   "outputs": [],
   "source": [
    "significant_weight_keys = [key for key in weights if abs(weights[key]) > 1e-4]"
   ]
  },
  {
   "cell_type": "code",
   "execution_count": 557,
   "metadata": {
    "collapsed": false
   },
   "outputs": [],
   "source": [
    "significant_weights = dict((key,weights[key]) for key in significant_weight_keys)"
   ]
  },
  {
   "cell_type": "code",
   "execution_count": 558,
   "metadata": {
    "collapsed": false
   },
   "outputs": [
    {
     "data": {
      "image/png": "[encoded data removed]",
      "text/latex": [
       "$$142$$"
      ],
      "text/plain": [
       "142"
      ]
     },
     "execution_count": 558,
     "metadata": {},
     "output_type": "execute_result"
    }
   ],
   "source": [
    "len(significant_weights)"
   ]
  },
  {
   "cell_type": "code",
   "execution_count": 564,
   "metadata": {
    "collapsed": false
   },
   "outputs": [
    {
     "data": {
      "text/plain": [
       "'H_nonlin_sp = 0  ## with sympy only\\n\\nfor combination,pm_arr in significant_weights:\\n    H_nonlin_sp += make_nonlin_term_sp(combination,pm_arr)*significant_weights[combination,pm_arr]'"
      ]
     },
     "execution_count": 564,
     "metadata": {},
     "output_type": "execute_result"
    }
   ],
   "source": [
    "'''H_nonlin_sp = 0  ## with sympy only\n",
    "\n",
    "for combination,pm_arr in significant_weights:\n",
    "    H_nonlin_sp += make_nonlin_term_sp(combination,pm_arr)*significant_weights[combination,pm_arr]'''"
   ]
  },
  {
   "cell_type": "code",
   "execution_count": 560,
   "metadata": {
    "collapsed": false
   },
   "outputs": [],
   "source": [
    "H_nonlin = 0  ## with QNET\n",
    "\n",
    "for combination,pm_arr in significant_weights:\n",
    "    H_nonlin += make_nonlin_term(combination,pm_arr)*significant_weights[combination,pm_arr]"
   ]
  },
  {
   "cell_type": "code",
   "execution_count": 563,
   "metadata": {
    "collapsed": false
   },
   "outputs": [],
   "source": [
    "##H_nonlin_sp"
   ]
  },
  {
   "cell_type": "code",
   "execution_count": 568,
   "metadata": {
    "collapsed": false
   },
   "outputs": [
    {
     "ename": "NameError",
     "evalue": "name 'diff' is not defined",
     "output_type": "error",
     "traceback": [
      "\u001b[0;31m---------------------------------------------------------------------------\u001b[0m",
      "\u001b[0;31mNameError\u001b[0m                                 Traceback (most recent call last)",
      "\u001b[0;32m<ipython-input-568-d60683e964bd>\u001b[0m in \u001b[0;36m<module>\u001b[0;34m()\u001b[0m\n\u001b[0;32m----> 1\u001b[0;31m \u001b[0mdiff\u001b[0m\u001b[0;34m(\u001b[0m\u001b[0mH_nonlin\u001b[0m\u001b[0;34m,\u001b[0m\u001b[0ma_\u001b[0m\u001b[0;34m[\u001b[0m\u001b[0mi\u001b[0m\u001b[0;34m]\u001b[0m\u001b[0;34m)\u001b[0m\u001b[0;34m\u001b[0m\u001b[0m\n\u001b[0m",
      "\u001b[0;31mNameError\u001b[0m: name 'diff' is not defined"
     ]
    }
   ],
   "source": [
    "diff(H_nonlin,a_[i])"
   ]
  },
  {
   "cell_type": "markdown",
   "metadata": {},
   "source": [
    "### Using the symbolic packages is kind of slow. For classical simulations maybe we can avoid that. We just need to extract the equations of motion, which should end up being sparse in the interaction terms "
   ]
  },
  {
   "cell_type": "code",
   "execution_count": null,
   "metadata": {
    "collapsed": true
   },
   "outputs": [],
   "source": []
  },
  {
   "cell_type": "code",
   "execution_count": null,
   "metadata": {
    "collapsed": true
   },
   "outputs": [],
   "source": []
  },
  {
   "cell_type": "code",
   "execution_count": 505,
   "metadata": {
    "collapsed": false
   },
   "outputs": [
    {
     "data": {
      "text/plain": [
       "'\\nconsolidated_weightes = {}\\nfor key in significant_weights:\\n    if not key[0] in consolidated_weightes:\\n        consolidated_weightes[key[0]] = significant_weights[key]\\n    else:\\n        consolidated_weightes[key[0]] += significant_weights[key]\\n'"
      ]
     },
     "execution_count": 505,
     "metadata": {},
     "output_type": "execute_result"
    }
   ],
   "source": [
    "## consolidated weights do not take into account which modes are createad or annihilated.\n",
    "\n",
    "'''\n",
    "consolidated_weightes = {}\n",
    "for key in significant_weights:\n",
    "    if not key[0] in consolidated_weightes:\n",
    "        consolidated_weightes[key[0]] = significant_weights[key]\n",
    "    else:\n",
    "        consolidated_weightes[key[0]] += significant_weights[key]\n",
    "'''"
   ]
  },
  {
   "cell_type": "code",
   "execution_count": 506,
   "metadata": {
    "collapsed": false
   },
   "outputs": [
    {
     "data": {
      "text/plain": [
       "'len(consolidated_weightes)'"
      ]
     },
     "execution_count": 506,
     "metadata": {},
     "output_type": "execute_result"
    }
   ],
   "source": [
    "'''len(consolidated_weightes)'''"
   ]
  }
 ],
 "metadata": {
  "kernelspec": {
   "display_name": "Python 2",
   "language": "python",
   "name": "python2"
  },
  "language_info": {
   "codemirror_mode": {
    "name": "ipython",
    "version": 2
   },
   "file_extension": ".py",
   "mimetype": "text/x-python",
   "name": "python",
   "nbconvert_exporter": "python",
   "pygments_lexer": "ipython2",
   "version": "2.7.11"
  }
 },
 "nbformat": 4,
 "nbformat_minor": 0
}
