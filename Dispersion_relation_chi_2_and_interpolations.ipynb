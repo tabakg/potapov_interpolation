{
 "cells": [
  {
   "cell_type": "markdown",
   "metadata": {},
   "source": [
    "# Solving phase and frequency matching conditions for $\\chi^{(2)}$  computationally\n",
    "\n",
    "# 1D interpolation for solution space\n",
    "\n",
    "Refractive index from:\n",
    "\n",
    "http://refractiveindex.info/?shelf=main&book=LiNbO3&page=Zelmon-o"
   ]
  },
  {
   "cell_type": "markdown",
   "metadata": {},
   "source": [
    "# Notes\n",
    "\n",
    "There are three frequencies, $\\omega_1,\\omega_2,\\omega_3$. By the frequency matching condition, we impose $\\omega_3 = -\\omega_1 - \\omega_2$. \n",
    "\n",
    "The user must be watchful of the range for which the index of refraction equation is valid. In the case blow this corresponds to $\\omega \\in \\pm [6,60]$ in units of $10^{13} Hz$. \n",
    "\n",
    "In the code below, `fixed_omega1 is the value` dedicated to a fixed value of $\\omega_1$. There is a single degree of freedom remaining since $\\omega_3$ depends on $\\omega_1,\\omega_2$. We initialize a list of tuples `oms` with the values that will correspond to the initial values of $\\omega_1$ and $\\omega_2$. We must make sure that all three values are inside the admissible range. When the values are in the 'corners' of the ranges, Newton's method convergence slows."
   ]
  },
  {
   "cell_type": "markdown",
   "metadata": {},
   "source": [
    "Let's start with 3-wave mixing interactions. \n",
    "\n",
    "The conditions we need are:\n",
    "\\begin{align}\n",
    "&T \\left|\\omega_1+\\omega_2+\\omega_3 \\right| \\le \\epsilon_1\\\\\n",
    "&\\left| L\\left(k_1+k_2+k_3\\right) \\right|= \\le \\epsilon_2 \\implies \\left| \\frac{L}{c} \\left( n(\\omega_1)\\omega_1+n(\\omega_2)\\omega_2+n(\\omega_3)\\omega_3 \\right)) \\right| \\le \\epsilon_2.\n",
    "\\end{align}\n",
    "In practice we use small cutoffs $\\epsilon_1,\\epsilon_2$ instead of zeros. These are dimensionless numbers. The $T$ is the duration of the simulation or decay time of the system modes (whichever is smaller), and $\\epsilon_1$ maps to the fractional error in the result. $L$ is the legnth of the cavity, and $\\epsilon_2$ is chosen so that $L \\Delta k / 2$  is sufficiently small so that that $\\text{sinc}^2(L \\Delta_k /2)$ is small ($L \\Delta k / 2$ should be on the order of magnitude of 10).\n",
    "\n",
    "One way to solve a set of equations is to use Newton's method a few times. We do this here to simulateneously solve the phase and frequency matching conditions for $\\chi^{(2)}$ nonlinearity.\n",
    "The main idea is to trace along the solutions, incrementing $\\omega_1$ at each step and finding the new $\\omega_2$ and $\\omega_3$ at each step.\n",
    "\n",
    "Another point of consideration when considering the cutoffs $\\epsilon_1$ and $\\epsilon_2$ is the number of modes being dropped. If this number if very large the approximation is not guaranteed to work well.\n",
    "\n",
    "Later I also interpolate the dispersion relations in the appropriate region. "
   ]
  },
  {
   "cell_type": "code",
   "execution_count": 156,
   "metadata": {
    "collapsed": false
   },
   "outputs": [],
   "source": [
    "import sympy as sp\n",
    "import numpy as np\n",
    "import scipy.constants\n",
    "from sympy.utilities.autowrap import ufuncify\n",
    "import time\n",
    "from scipy import interpolate\n",
    "\n",
    "import matplotlib.pyplot as plt\n",
    "%matplotlib inline\n",
    "\n",
    "from sympy import init_printing\n",
    "init_printing() "
   ]
  },
  {
   "cell_type": "code",
   "execution_count": 157,
   "metadata": {
    "collapsed": true
   },
   "outputs": [],
   "source": [
    "def plot_arr(arr):\n",
    "    fig = plt.figure(figsize=(15,15))\n",
    "    ax = fig.add_subplot(111)\n",
    "    cax = ax.matshow(np.asmatrix(arr), interpolation='nearest')\n",
    "    fig.colorbar(cax)\n",
    "    plt.show()"
   ]
  },
  {
   "cell_type": "code",
   "execution_count": 158,
   "metadata": {
    "collapsed": true
   },
   "outputs": [],
   "source": [
    "## from https://www.andreas-jung.com/contents/a-python-decorator-for-measuring-the-execution-time-of-methods\n",
    "\n",
    "def timeit(method):\n",
    "    def timed(*args, **kw):\n",
    "        ts = time.time()\n",
    "        result = method(*args, **kw)\n",
    "        te = time.time()\n",
    "        print '%r %2.2f sec' % \\\n",
    "              (method.__name__, te-ts)\n",
    "        return result\n",
    "    return timed"
   ]
  },
  {
   "cell_type": "code",
   "execution_count": 159,
   "metadata": {
    "collapsed": true
   },
   "outputs": [],
   "source": [
    "lambd,omega,omega1,omega2,omega3,omega4 = sp.symbols('lambda omega omega_1 omega_2 omega_3 omega_4')\n",
    "l2 = lambd **2\n",
    "\n",
    "def n_symb(pol='o'):\n",
    "    s = 1.\n",
    "    if pol == 'o':\n",
    "        s += 2.6734 * l2 / (l2 - 0.01764)\n",
    "        s += 1.2290 * l2 / (l2 - 0.05914)\n",
    "        s += 12.614 * l2 / (l2 - 474.6)\n",
    "    else:\n",
    "        s += 2.9804 * l2 / (l2 - 0.02047)\n",
    "        s += 0.5981 * l2 / (l2 - 0.0666)\n",
    "        s += 8.9543 * l2 / (l2 - 416.08)\n",
    "    return sp.sqrt(s)\n",
    "\n",
    "def k_symb(symbol=omega,pol='o'):\n",
    "    '''k is accurate for omega inputs between 6-60.'''\n",
    "    return ((n_symb(pol=pol) * symbol )\n",
    "                .subs(lambd,scipy.constants.c / (symbol*1e7))) ## / scipy.constants.c\n",
    "\n",
    "def make_newton_update_expression(dispersion_difference_function,symbols):\n",
    "    expression_diff = [sp.diff(dispersion_difference_function,sym) for sym in symbols]\n",
    "    return [- dispersion_difference_function / der for der in expression_diff]\n",
    "\n",
    "dispersion_difference_function = k_symb()\n",
    "update_expression = make_newton_update_expression(dispersion_difference_function.expand(),symbols=[omega])"
   ]
  },
  {
   "cell_type": "code",
   "execution_count": 160,
   "metadata": {
    "collapsed": false
   },
   "outputs": [
    {
     "data": {
      "image/png": "[encoded data removed]",
      "text/latex": [
       "$$\\omega \\sqrt{1.0 + \\frac{2402.73209483501}{- 0.01764 \\omega^{2} + 898.755178736817} + \\frac{1104.57011466755}{- 0.05914 \\omega^{2} + 898.755178736817} + \\frac{11336.8978245862}{- 474.6 \\omega^{2} + 898.755178736817}}$$"
      ],
      "text/plain": [
       "       _______________________________________________________________________\n",
       "      ╱                2402.73209483501                     1104.57011466755  \n",
       "ω⋅   ╱  1.0 + ────────────────────────────────── + ───────────────────────────\n",
       "    ╱                       2                                    2            \n",
       "  ╲╱          - - -0.01764⋅ω  + 898.755178736817   - - -0.05914⋅ω  + 898.75517\n",
       "\n",
       "______________________________________________\n",
       "                    11336.8978245862          \n",
       "─────── + ─────────────────────────────────── \n",
       "                         2                    \n",
       "8736817   - -474.6⋅(-1)⋅ω  + 898.755178736817 "
      ]
     },
     "execution_count": 160,
     "metadata": {},
     "output_type": "execute_result"
    }
   ],
   "source": [
    "dispersion_difference_function.expand()"
   ]
  },
  {
   "cell_type": "code",
   "execution_count": 161,
   "metadata": {
    "collapsed": true
   },
   "outputs": [],
   "source": [
    "k_o_vs_omega = ufuncify([omega],k_symb())\n",
    "k_e_vs_omega = ufuncify([omega],k_symb(pol='e'))"
   ]
  },
  {
   "cell_type": "code",
   "execution_count": 172,
   "metadata": {
    "collapsed": true
   },
   "outputs": [],
   "source": [
    "#####  Different granularities for the range of omegas\n",
    "\n",
    "omegas1 = np.asarray([6.+ i*5 for i in range(int(1e1))])\n",
    "omegas2 = np.asarray([6.+ i*5e-1 for i in range(int(1e2))])\n",
    "omegas3 = np.asarray([6.+ i*5e-2 for i in range(int(1e3))])\n",
    "omegas4 = np.asarray([6.+ i*5e-3 for i in range(int(1e4))])\n",
    "omegas5 = np.asarray([6.+ i*5e-4 for i in range(int(1e5))])"
   ]
  },
  {
   "cell_type": "code",
   "execution_count": 173,
   "metadata": {
    "collapsed": false
   },
   "outputs": [
    {
     "data": {
      "text/plain": [
       "<matplotlib.text.Text at 0x16159fdd0>"
      ]
     },
     "execution_count": 173,
     "metadata": {},
     "output_type": "execute_result"
    },
    {
     "data": {
      "image/png": "[encoded data removed]",
      "text/plain": [
       "<matplotlib.figure.Figure at 0x169bb9a50>"
      ]
     },
     "metadata": {},
     "output_type": "display_data"
    }
   ],
   "source": [
    "plt.plot(omegas3,k_o_vs_omega(omegas3))\n",
    "plt.plot(omegas3,k_e_vs_omega(omegas3))\n",
    "plt.plot(omegas3,omegas3*2.3)\n",
    "plt.title('Linear relationship, ordinary dispersion, extraordinary dispersion')"
   ]
  },
  {
   "cell_type": "code",
   "execution_count": null,
   "metadata": {
    "collapsed": true
   },
   "outputs": [],
   "source": [
    "######"
   ]
  },
  {
   "cell_type": "code",
   "execution_count": 174,
   "metadata": {
    "collapsed": true
   },
   "outputs": [],
   "source": [
    "dispersion_difference_function = k_symb(omega1,pol='o')+k_symb(omega2,pol='o')+k_symb(omega3,pol='e')\n",
    "\n",
    "symbols=[omega1,omega2]\n",
    "update_expression = make_newton_update_expression(dispersion_difference_function.expand(),\n",
    "                                                    symbols=[omega1,omega2,omega3])\n",
    "\n",
    "update_expression = [ex.subs(omega3,-omega1-omega2) for ex in update_expression]"
   ]
  },
  {
   "cell_type": "code",
   "execution_count": 175,
   "metadata": {
    "collapsed": true
   },
   "outputs": [],
   "source": [
    "newton_update_func_0 = ufuncify( symbols , update_expression[0])\n",
    "newton_update_func_1 = ufuncify( symbols , update_expression[1])\n",
    "newton_update_func_2 = ufuncify( symbols , update_expression[2])\n",
    "\n",
    "omegas_dict = {}\n",
    "\n",
    "ind_range = range(2,5)\n",
    "for i in ind_range:\n",
    "    omegas_dict[i] = np.asarray([6.+ j*5*pow(10,-i) for j in range(1+pow(10,i))])\n",
    "\n",
    "def trace_omegas(omegas,arg2 = 24.):\n",
    "    fixed_omega_1_init=omegas[0]\n",
    "    omegas_delta = omegas[1]-omegas[0]\n",
    "    oms = [(fixed_omega_1_init, arg2)]\n",
    "    converged_points = []\n",
    "    for i in range(int(1e5)):\n",
    "        arg2 += newton_update_func_1(*(oms[-1]))\n",
    "        oms.append((omegas[0],arg2))\n",
    "        if sum([ (oms[-1][i] - oms[-2][i])**2 for i in range(2)]) < omegas_delta * 1e-15:\n",
    "            break\n",
    "    for arg1 in omegas:\n",
    "        for i in range(50):\n",
    "            for j in range(10):\n",
    "                arg2 += newton_update_func_1(*(oms[-1]))\n",
    "                oms.append((arg1,arg2))\n",
    "            if sum([ (oms[-1][k] - oms[-2][k])**2 for k in range(2)]) < omegas_delta * 1e-15:\n",
    "                break\n",
    "        converged_points.append(arg2)\n",
    "    return np.asarray(converged_points)"
   ]
  },
  {
   "cell_type": "code",
   "execution_count": 176,
   "metadata": {
    "collapsed": false
   },
   "outputs": [
    {
     "name": "stdout",
     "output_type": "stream",
     "text": [
      "i = 2\n",
      "'timed_trace_omegas' 0.50 sec\n",
      "i = 3\n",
      "'timed_trace_omegas' 0.52 sec\n",
      "i = 4\n",
      "'timed_trace_omegas' 4.87 sec\n",
      "'interpolate_omegas' 0.01 sec\n"
     ]
    }
   ],
   "source": [
    "@timeit\n",
    "def timed_trace_omegas(*args,**kw):\n",
    "    return trace_omegas(*args, **kw)\n",
    "\n",
    "@timeit\n",
    "def interpolate_omegas(omegas_few,omegas_many,omegas_few_values):\n",
    "    f = interpolate.UnivariateSpline(omegas_few, omegas_few_values,k=2,s=1e-10)\n",
    "    return f(omegas_many)\n",
    "\n",
    "omegas_2_converged = {}\n",
    "for i in ind_range:\n",
    "    print \"i = \" + str(i)\n",
    "    omegas_2_converged[i] = timed_trace_omegas(omegas_dict[i])\n",
    "\n",
    "omega_values_interpolated = interpolate_omegas(omegas_dict[3],\n",
    "    omegas_dict[4],omegas_2_converged[3] )"
   ]
  },
  {
   "cell_type": "code",
   "execution_count": 178,
   "metadata": {
    "collapsed": false
   },
   "outputs": [],
   "source": [
    "def trace_omegas_BENCHMARK(omegas,arg2 = 24.):\n",
    "    '''\n",
    "    Trace through triples of frequencies constrained by \n",
    "    :math:`omega1+omega2+omega3 = 0`.\n",
    "    \n",
    "    At each step of incrementing omega1, find the new omega2 \n",
    "    and omega3 by applying Newton's method to omega2 \n",
    "    and the constraint to obtain omega3.\n",
    "    \n",
    "    At each step apply 200 Newton's steps to converge.\n",
    "    \n",
    "    Args:\n",
    "        omegas (list of floats):\n",
    "            The frequencies in the range desired\n",
    "        fixed_omega_3 (optional [float]): initial value of omega3.\n",
    "        \n",
    "    Returns:\n",
    "        oms (list of floats): A history of the Newton's steps\n",
    "        converged_points (list of tuples): \n",
    "    '''\n",
    "    fixed_omega1=omegas[0]\n",
    "    omegas_delta = omegas[1]-omegas[0]\n",
    "    oms = [(fixed_omega1, arg2)]  ## k is accurate for omega inputs between 6-60.\n",
    "    converged_points = []\n",
    "    for i in range(int(1e5)):\n",
    "        arg2 += newton_update_func_1(*(oms[-1]))\n",
    "        oms.append((omegas[0],arg2))\n",
    "        if sum([ (oms[-1][i] - oms[-2][i])**2 for i in range(2)]) < omegas_delta * 1e-10 :\n",
    "            break\n",
    "    for arg1 in omegas:\n",
    "        for i in range(200):\n",
    "            arg2 += newton_update_func_1(*(oms[-1]))\n",
    "            oms.append((arg1,arg2))\n",
    "        converged_points.append((arg1,arg2))\n",
    "    return oms,converged_points"
   ]
  },
  {
   "cell_type": "code",
   "execution_count": 179,
   "metadata": {
    "collapsed": false
   },
   "outputs": [],
   "source": [
    "def trace_omegas(omegas,arg2 = 24.):\n",
    "    '''\n",
    "    Trace through triples of frequencies constrained by \n",
    "    :math:`omega1+omega2+omega3 = 0`.\n",
    "    \n",
    "    At each step of incrementing omega1, find the new omega2 \n",
    "    and omega3 by applying Newton's method to omega2 \n",
    "    and the constraint to obtain omega3.\n",
    "    \n",
    "    \n",
    "    Trace through the omegas, when finding the next\n",
    "    step with Newton's method occasionally check the error \n",
    "    and allow terminating early.\n",
    "    \n",
    "    Args:\n",
    "        omegas (list of floats):\n",
    "            The frequencies in the range desired\n",
    "        fixed_omega_3 (optional [float]): initial value of omega3.\n",
    "        \n",
    "    Returns:\n",
    "        oms (list of floats): A history of the Newton's steps\n",
    "        converged_points (list of tuples): \n",
    "    '''\n",
    "    fixed_omega1=omegas[0]\n",
    "    omegas_delta = omegas[1]-omegas[0]\n",
    "    oms = [(fixed_omega1, arg2)]  ## k is accurate for omega inputs between 6-60.\n",
    "    converged_points = []\n",
    "    for i in range(int(1e5)):\n",
    "        arg2 += newton_update_func_1(*(oms[-1]))\n",
    "        oms.append((omegas[0],arg2))\n",
    "        if sum([ (oms[-1][i] - oms[-2][i])**2 for i in range(2)]) < omegas_delta * 1e-10 :\n",
    "            break\n",
    "    for arg1 in omegas:\n",
    "        for i in range(50):\n",
    "            for j in range(10):\n",
    "                arg2 += newton_update_func_1(*(oms[-1]))\n",
    "                oms.append((arg1,arg2))\n",
    "            if sum([ (oms[-1][k] - oms[-2][k])**2 for k in range(2)]) < omegas_delta * 1e-10:\n",
    "                break\n",
    "        converged_points.append((arg1,arg2))\n",
    "    return oms,converged_points"
   ]
  },
  {
   "cell_type": "code",
   "execution_count": 180,
   "metadata": {
    "collapsed": true
   },
   "outputs": [],
   "source": [
    "converged_dict = {}\n",
    "converged_dict_BENCHMARK = {}"
   ]
  },
  {
   "cell_type": "code",
   "execution_count": 181,
   "metadata": {
    "collapsed": false
   },
   "outputs": [
    {
     "name": "stdout",
     "output_type": "stream",
     "text": [
      "time to converge:  1.592868\n",
      "time to converge:  0.80961\n",
      "time to converge:  6.283256\n"
     ]
    }
   ],
   "source": [
    "for ind,omegas in zip([3,4,5],[omegas3,omegas4,omegas5]):\n",
    "    t0 = time.clock()\n",
    "    oms,converged_points = trace_omegas(omegas)\n",
    "    t1 = time.clock()\n",
    "    print \"time to converge: \", t1-t0\n",
    "    k_os = k_o_func(omegas)\n",
    "    k_es = k_e_func(omegas)\n",
    "    converged_omegas = [(arg1,arg2,30-arg1-arg2) for arg1,arg2 in converged_points]\n",
    "    converged_dict[ind] = omegas,converged_omegas"
   ]
  },
  {
   "cell_type": "code",
   "execution_count": 182,
   "metadata": {
    "collapsed": false,
    "scrolled": false
   },
   "outputs": [
    {
     "name": "stdout",
     "output_type": "stream",
     "text": [
      "time to converge:  0.445815\n",
      "time to converge:  2.811241\n",
      "time to converge:  28.655134\n"
     ]
    }
   ],
   "source": [
    "for ind,omegas in zip([3,4,5],[omegas3,omegas4,omegas5]):\n",
    "    t0 = time.clock()\n",
    "    oms,converged_points = trace_omegas_BENCHMARK(omegas)\n",
    "    t1 = time.clock()\n",
    "    print \"time to converge: \", t1-t0\n",
    "    k_os = k_o_func(omegas)\n",
    "    k_es = k_e_func(omegas)\n",
    "    converged_omegas_BENCHMARK = [(arg1,arg2,30-arg1-arg2) for arg1,arg2 in converged_points]\n",
    "    converged_dict_BENCHMARK[ind] = omegas,converged_omegas_BENCHMARK"
   ]
  },
  {
   "cell_type": "code",
   "execution_count": 183,
   "metadata": {
    "collapsed": false
   },
   "outputs": [
    {
     "data": {
      "image/png": "[encoded data removed]",
      "text/plain": [
       "<matplotlib.figure.Figure at 0x16164dd90>"
      ]
     },
     "metadata": {},
     "output_type": "display_data"
    }
   ],
   "source": [
    "plt.figure(figsize=(20,10))\n",
    "for ind,(omegas,converged_omegas) in converged_dict.iteritems():\n",
    "    #plt.figure(ind)\n",
    "    plt.plot(omegas[::pow(10,ind-3)],converged_omegas[::pow(10,ind-3)])"
   ]
  },
  {
   "cell_type": "code",
   "execution_count": 74,
   "metadata": {
    "collapsed": true
   },
   "outputs": [],
   "source": [
    "# omegas_converged = {}"
   ]
  },
  {
   "cell_type": "code",
   "execution_count": 75,
   "metadata": {
    "collapsed": false
   },
   "outputs": [],
   "source": [
    "# for i in range(3,6):\n",
    "#     omegas,converged_omegas = converged_dict[i]\n",
    "#     omegas_converged[i] =  [tup[1] for tup in converged_omegas]"
   ]
  },
  {
   "cell_type": "markdown",
   "metadata": {},
   "source": [
    "## Interpolations "
   ]
  },
  {
   "cell_type": "markdown",
   "metadata": {},
   "source": [
    "Note: Using UnivariateSpline with k=2 and a small value of `s` seems to offer a good balance of speed and precision."
   ]
  },
  {
   "cell_type": "code",
   "execution_count": 157,
   "metadata": {
    "collapsed": true
   },
   "outputs": [],
   "source": [
    "@timeit\n",
    "def interpolate_omegas(omegas_few,omegas_many,omegas_few_values):\n",
    "    '''\n",
    "    A method for interpolation from omegas_few to omegas_many.\n",
    "    \n",
    "    Args:\n",
    "        omegas_few (list of floats):\n",
    "            points to use to interpolate\n",
    "        omegas_many (list of floats):\n",
    "            points to interpolate to. Should have omegas_few included.\n",
    "        omegas_few_values (list of floats):\n",
    "            The values of the omegas_few that have already been computed\n",
    "            \n",
    "    Returns:\n",
    "        A list of length len(omegas_many) interpolating the values of omegas_few.\n",
    "    '''\n",
    "    f = interpolate.UnivariateSpline(omegas_few, omegas_few_values,k=2,s=1e-10)\n",
    "    return f(omegas_many)"
   ]
  },
  {
   "cell_type": "code",
   "execution_count": 158,
   "metadata": {
    "collapsed": false,
    "scrolled": true
   },
   "outputs": [
    {
     "name": "stdout",
     "output_type": "stream",
     "text": [
      "'interpolate_omegas' 0.03 sec\n"
     ]
    }
   ],
   "source": [
    "omega_values_interpolated = interpolate_omegas(np.asarray(omegas3),np.asarray(omegas5[1:99900]),np.asarray(omegas_converged[3]))"
   ]
  },
  {
   "cell_type": "code",
   "execution_count": 159,
   "metadata": {
    "collapsed": false,
    "scrolled": true
   },
   "outputs": [
    {
     "data": {
      "text/plain": [
       "<matplotlib.text.Text at 0x128c23410>"
      ]
     },
     "execution_count": 159,
     "metadata": {},
     "output_type": "execute_result"
    },
    {
     "data": {
      "image/png": "[encoded data removed]",
      "text/plain": [
       "<matplotlib.figure.Figure at 0x12caf7a10>"
      ]
     },
     "metadata": {},
     "output_type": "display_data"
    }
   ],
   "source": [
    "plt.plot(omegas5[1:99900],omega_values_interpolated)\n",
    "plt.plot(omegas3,omegas_converged[3])\n",
    "plt.title('interpolated versus original values')"
   ]
  },
  {
   "cell_type": "code",
   "execution_count": 161,
   "metadata": {
    "collapsed": false
   },
   "outputs": [
    {
     "name": "stdout",
     "output_type": "stream",
     "text": [
      "total abs error 0.520267025544\n",
      "max error 7.03401227735e-05\n"
     ]
    }
   ],
   "source": [
    "print 'total abs error', sum(abs(omega_values_interpolated - np.asarray(omegas_converged[5][1:99900])))\n",
    "print 'max error', max(abs(omega_values_interpolated - np.asarray(omegas_converged[5][1:99900])))"
   ]
  },
  {
   "cell_type": "markdown",
   "metadata": {},
   "source": [
    "##  Experimenting with 2D interpolation (could be used for four-wave mixing)\n",
    "\n",
    "We try to use 2-D cubic interpolation from a grid of length 1001 to a grid of length 10001. Time is 3.67 sec."
   ]
  },
  {
   "cell_type": "code",
   "execution_count": 68,
   "metadata": {
    "collapsed": true
   },
   "outputs": [],
   "source": [
    "omegas_dict = {}"
   ]
  },
  {
   "cell_type": "code",
   "execution_count": 69,
   "metadata": {
    "collapsed": false
   },
   "outputs": [],
   "source": [
    "for i in range(3,6):\n",
    "    omegas_dict[i] = [6.+ j*5*pow(10,-i) for j in range(1+pow(10,i))]"
   ]
  },
  {
   "cell_type": "code",
   "execution_count": 70,
   "metadata": {
    "collapsed": false
   },
   "outputs": [
    {
     "name": "stdout",
     "output_type": "stream",
     "text": [
      "[  6.        6.00005   6.0001  ...,  10.9999   10.99995  11.     ]\n"
     ]
    }
   ],
   "source": [
    "print np.asarray(omegas_dict[5])"
   ]
  },
  {
   "cell_type": "code",
   "execution_count": 162,
   "metadata": {
    "collapsed": false
   },
   "outputs": [
    {
     "name": "stdout",
     "output_type": "stream",
     "text": [
      "[  6.      6.005   6.01  ...,  10.99   10.995  11.   ]\n"
     ]
    }
   ],
   "source": [
    "print np.asarray(omegas_dict[3])"
   ]
  },
  {
   "cell_type": "code",
   "execution_count": 168,
   "metadata": {
    "collapsed": true
   },
   "outputs": [],
   "source": [
    "x = omegas_dict[3]\n",
    "y = omegas_dict[3]"
   ]
  },
  {
   "cell_type": "code",
   "execution_count": 169,
   "metadata": {
    "collapsed": false
   },
   "outputs": [
    {
     "data": {
      "image/png": "[encoded data removed]",
      "text/latex": [
       "$$1001$$"
      ],
      "text/plain": [
       "1001"
      ]
     },
     "execution_count": 169,
     "metadata": {},
     "output_type": "execute_result"
    }
   ],
   "source": [
    "len(x)"
   ]
  },
  {
   "cell_type": "code",
   "execution_count": 73,
   "metadata": {
    "collapsed": true
   },
   "outputs": [],
   "source": [
    "z = np.zeros((len(x),len(y)))"
   ]
  },
  {
   "cell_type": "code",
   "execution_count": 74,
   "metadata": {
    "collapsed": false
   },
   "outputs": [],
   "source": [
    "for i in xrange(len(x)):\n",
    "    for j in xrange(len(y)):\n",
    "        z[i,j] = x[i]+y[j]"
   ]
  },
  {
   "cell_type": "code",
   "execution_count": 75,
   "metadata": {
    "collapsed": false
   },
   "outputs": [],
   "source": [
    "f = interpolate.interp2d(x,y,z,kind='q')"
   ]
  },
  {
   "cell_type": "code",
   "execution_count": 163,
   "metadata": {
    "collapsed": true
   },
   "outputs": [],
   "source": [
    "x_new = omegas_dict[4]\n",
    "y_new = omegas_dict[4]"
   ]
  },
  {
   "cell_type": "code",
   "execution_count": 167,
   "metadata": {
    "collapsed": false
   },
   "outputs": [
    {
     "data": {
      "image/png": "[encoded data removed]",
      "text/latex": [
       "$$10001$$"
      ],
      "text/plain": [
       "10001"
      ]
     },
     "execution_count": 167,
     "metadata": {},
     "output_type": "execute_result"
    }
   ],
   "source": [
    "len(x_new)"
   ]
  },
  {
   "cell_type": "code",
   "execution_count": 164,
   "metadata": {
    "collapsed": false
   },
   "outputs": [],
   "source": [
    "@timeit\n",
    "def get_values(x_new,y_new):\n",
    "    return f(x_new,y_new)"
   ]
  },
  {
   "cell_type": "code",
   "execution_count": 165,
   "metadata": {
    "collapsed": false
   },
   "outputs": [
    {
     "name": "stdout",
     "output_type": "stream",
     "text": [
      "'get_values' 3.67 sec\n"
     ]
    }
   ],
   "source": [
    "z = get_values(x_new,y_new)"
   ]
  }
 ],
 "metadata": {
  "kernelspec": {
   "display_name": "Python 2",
   "language": "python",
   "name": "python2"
  },
  "language_info": {
   "codemirror_mode": {
    "name": "ipython",
    "version": 2
   },
   "file_extension": ".py",
   "mimetype": "text/x-python",
   "name": "python",
   "nbconvert_exporter": "python",
   "pygments_lexer": "ipython2",
   "version": "2.7.12"
  },
  "widgets": {
   "state": {},
   "version": "1.1.2"
  }
 },
 "nbformat": 4,
 "nbformat_minor": 0
}
