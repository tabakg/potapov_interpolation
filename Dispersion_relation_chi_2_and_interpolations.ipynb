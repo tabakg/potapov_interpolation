{
 "cells": [
  {
   "cell_type": "markdown",
   "metadata": {},
   "source": [
    "# Making a linear interpolation for the dispersion relationship.\n",
    "\n",
    "Refractive index from:\n",
    "\n",
    "http://refractiveindex.info/?shelf=main&book=LiNbO3&page=Zelmon-o"
   ]
  },
  {
   "cell_type": "markdown",
   "metadata": {},
   "source": [
    "Let's start with 3-wave mixing interactions. \n",
    "\n",
    "The conditions we need are:\n",
    "\\begin{align}\n",
    "&T \\left|\\omega_1+\\omega_2+\\omega_3 \\right| \\le \\epsilon_1\\\\\n",
    "&\\left| L\\left(k_1+k_2+k_3\\right) \\right|= \\le \\epsilon_2 \\implies \\left| \\frac{L}{c} \\left( n(\\omega_1)\\omega_1+n(\\omega_2)\\omega_2+n(\\omega_3)\\omega_3 \\right)) \\right| \\le \\epsilon_2.\n",
    "\\end{align}\n",
    "In practice we use small cutoffs $\\epsilon_1,\\epsilon_2$ instead of zeros. These are dimensionless numbers. The $T$ is the duration of the simulation or decay time of the system modes (whichever is smaller), and $\\epsilon_1$ maps to the fractional error in the result. $L$ is the legnth of the cavity, and $\\epsilon_2$ is chosen so that $L \\Delta k / 2$  is sufficiently small so that that $\\text{sinc}^2(L \\Delta_k /2)$ is small ($L \\Delta k / 2$ should be on the order of magnitude of 10).\n",
    "\n",
    "One way to solve a set of equations is to use Newton's method a few times. We do this here to simulateneously solve the phase and frequency matching conditions for $\\chi^{(2)}$ nonlinearity.\n",
    "The main idea is to trace along the solutions, incrementing $\\omega_1$ at each step and finding the new $\\omega_2$ and $\\omega_3$ at each step.\n",
    "\n",
    "Another point of consideration when considering the cutoffs $\\epsilon_1$ and $\\epsilon_2$ is the number of modes being dropped. If this number if very large the approximation is not guaranteed to work well.\n",
    "\n",
    "Later I also interpolate the dispersion relations in the appropriate region. "
   ]
  },
  {
   "cell_type": "code",
   "execution_count": 1,
   "metadata": {
    "collapsed": false
   },
   "outputs": [
    {
     "name": "stdout",
     "output_type": "stream",
     "text": [
      "Populating the interactive namespace from numpy and matplotlib\n"
     ]
    }
   ],
   "source": [
    "import numpy as np\n",
    "import matplotlib.pyplot as plt\n",
    "%pylab inline\n",
    "import scipy.constants"
   ]
  },
  {
   "cell_type": "code",
   "execution_count": 2,
   "metadata": {
    "collapsed": true
   },
   "outputs": [],
   "source": [
    "import sympy as sp\n",
    "from sympy.utilities.autowrap import ufuncify"
   ]
  },
  {
   "cell_type": "code",
   "execution_count": 113,
   "metadata": {
    "collapsed": true
   },
   "outputs": [],
   "source": [
    "from sympy import init_printing\n",
    "init_printing() \n",
    "import time"
   ]
  },
  {
   "cell_type": "code",
   "execution_count": 4,
   "metadata": {
    "collapsed": true
   },
   "outputs": [],
   "source": [
    "\n",
    "from scipy import interpolate"
   ]
  },
  {
   "cell_type": "code",
   "execution_count": 5,
   "metadata": {
    "collapsed": true
   },
   "outputs": [],
   "source": [
    "from scipy import stats"
   ]
  },
  {
   "cell_type": "code",
   "execution_count": 6,
   "metadata": {
    "collapsed": true
   },
   "outputs": [],
   "source": [
    "def timeit(method):\n",
    "\n",
    "    def timed(*args, **kw):\n",
    "        ts = time.time()\n",
    "        result = method(*args, **kw)\n",
    "        te = time.time()\n",
    "\n",
    "        print '%r %2.2f sec' % \\\n",
    "              (method.__name__, te-ts)\n",
    "        return result\n",
    "\n",
    "    return timed"
   ]
  },
  {
   "cell_type": "code",
   "execution_count": 7,
   "metadata": {
    "collapsed": true
   },
   "outputs": [],
   "source": [
    "def n_o(lambd):\n",
    "    l2 = lambd**2\n",
    "    s = 1.\n",
    "    s += 2.6734 * l2 / (l2 - 0.01764)\n",
    "    s += 1.2290 * l2 / (l2 - 0.05914)\n",
    "    s += 12.614 * l2 / (l2 - 474.6)\n",
    "    return np.sqrt(s)\n",
    "\n",
    "def n_e(lambd):\n",
    "    l2 = lambd**2\n",
    "    s = 1.\n",
    "    s += 2.9804 * l2 / (l2 - 0.02047)\n",
    "    s += 0.5981 * l2 / (l2 - 0.0666)\n",
    "    s += 8.9543 * l2 / (l2 - 416.08)\n",
    "    return np.sqrt(s)"
   ]
  },
  {
   "cell_type": "code",
   "execution_count": 8,
   "metadata": {
    "collapsed": false
   },
   "outputs": [],
   "source": [
    "def n(lambd,pol='o'):\n",
    "    l2 = lambd**2\n",
    "    s = 1.\n",
    "    if pol == 'o':\n",
    "        s += 2.6734 * l2 / (l2 - 0.01764)\n",
    "        s += 1.2290 * l2 / (l2 - 0.05914)\n",
    "        s += 12.614 * l2 / (l2 - 474.6)\n",
    "    else:\n",
    "        s += 2.9804 * l2 / (l2 - 0.02047)\n",
    "        s += 0.5981 * l2 / (l2 - 0.0666)\n",
    "        s += 8.9543 * l2 / (l2 - 416.08)\n",
    "    return np.sqrt(s)"
   ]
  },
  {
   "cell_type": "code",
   "execution_count": 9,
   "metadata": {
    "collapsed": true
   },
   "outputs": [],
   "source": [
    "lambd,omega,omega1,omega2,omega3 = sp.symbols('lambda omega omega_1 omega_2 omega_3')\n",
    "l2 = lambd **2"
   ]
  },
  {
   "cell_type": "code",
   "execution_count": 119,
   "metadata": {
    "collapsed": true
   },
   "outputs": [],
   "source": [
    "def n_symb(pol='o'):\n",
    "    s = 1.\n",
    "    if pol == 'o':\n",
    "        s += 2.6734 * l2 / (l2 - 0.01764)\n",
    "        s += 1.2290 * l2 / (l2 - 0.05914)\n",
    "        s += 12.614 * l2 / (l2 - 474.6)\n",
    "    else:\n",
    "        s += 2.9804 * l2 / (l2 - 0.02047)\n",
    "        s += 0.5981 * l2 / (l2 - 0.0666)\n",
    "        s += 8.9543 * l2 / (l2 - 416.08)\n",
    "    return sp.sqrt(s)"
   ]
  },
  {
   "cell_type": "code",
   "execution_count": 120,
   "metadata": {
    "collapsed": true
   },
   "outputs": [],
   "source": [
    "def make_newton_update_expression(dispersion_difference_function,symbols):\n",
    "    expression_diff = np.asarray([sp.diff(dispersion_difference_function,sym) for sym in symbols])\n",
    "    return np.array(([- dispersion_difference_function / der for der in expression_diff]))"
   ]
  },
  {
   "cell_type": "markdown",
   "metadata": {},
   "source": [
    "The indices of refraction above are given in terms of $\\lambda$ (in microns). We compute the dispersion relations in terms of the frequency, which will be given in $10^{13} Hz$. The $13$ and $6$ from the microns units cancel to give a power of $7$."
   ]
  },
  {
   "cell_type": "code",
   "execution_count": 121,
   "metadata": {
    "collapsed": true
   },
   "outputs": [],
   "source": [
    "def k(omega,pol='o'):\n",
    "    return (n(scipy.constants.c / (omega*1e7), pol=pol)\n",
    "        * omega ) ## / scipy.constants.c"
   ]
  },
  {
   "cell_type": "code",
   "execution_count": 122,
   "metadata": {
    "collapsed": false
   },
   "outputs": [],
   "source": [
    "def k_symb(symbol=omega,pol='o'):\n",
    "    return ((n_symb(pol=pol) * symbol / scipy.constants.c)\n",
    "                .subs(lambd,scipy.constants.c / (symbol*1e7)))"
   ]
  },
  {
   "cell_type": "code",
   "execution_count": 123,
   "metadata": {
    "collapsed": false
   },
   "outputs": [],
   "source": [
    "dispersion_difference_function = k_symb()"
   ]
  },
  {
   "cell_type": "code",
   "execution_count": 124,
   "metadata": {
    "collapsed": false
   },
   "outputs": [
    {
     "data": {
      "image/png": "[encoded data removed]",
      "text/latex": [
       "$$3.33564095198152 \\cdot 10^{-9} \\omega \\sqrt{1.0 + \\frac{2402.73209483501}{- 0.01764 \\omega^{2} + 898.755178736817} + \\frac{1104.57011466755}{- 0.05914 \\omega^{2} + 898.755178736817} + \\frac{11336.8978245862}{- 474.6 \\omega^{2} + 898.755178736817}}$$"
      ],
      "text/plain": [
       "                           ___________________________________________________\n",
       "                          ╱                2402.73209483501                   \n",
       "3.33564095198152e-9⋅ω⋅   ╱  1.0 + ────────────────────────────────── + ───────\n",
       "                        ╱                       2                             \n",
       "                      ╲╱          - - -0.01764⋅ω  + 898.755178736817   - - -0.\n",
       "\n",
       "__________________________________________________________________\n",
       "  1104.57011466755                      11336.8978245862          \n",
       "─────────────────────────── + ─────────────────────────────────── \n",
       "       2                                     2                    \n",
       "05914⋅ω  + 898.755178736817   - -474.6⋅(-1)⋅ω  + 898.755178736817 "
      ]
     },
     "execution_count": 124,
     "metadata": {},
     "output_type": "execute_result"
    }
   ],
   "source": [
    "dispersion_difference_function.expand()"
   ]
  },
  {
   "cell_type": "code",
   "execution_count": 125,
   "metadata": {
    "collapsed": false
   },
   "outputs": [],
   "source": [
    "update_expression = make_newton_update_expression(dispersion_difference_function.expand(),symbols=[omega])"
   ]
  },
  {
   "cell_type": "code",
   "execution_count": 128,
   "metadata": {
    "collapsed": false
   },
   "outputs": [
    {
     "data": {
      "image/png": "[encoded data removed]",
      "text/latex": [
       "$$- \\frac{3.33564095198152 \\cdot 10^{-9} \\omega \\sqrt{1.0 + \\frac{2402.73209483501}{- 0.01764 \\omega^{2} + 898.755178736817} + \\frac{1104.57011466755}{- 0.05914 \\omega^{2} + 898.755178736817} + \\frac{11336.8978245862}{- 474.6 \\omega^{2} + 898.755178736817}}}{\\frac{3.33564095198152 \\cdot 10^{-9} \\omega \\left(\\frac{42.3841941528895 \\omega}{\\left(- 0.01764 \\omega^{2} + 898.755178736817\\right)^{2}} + \\frac{65.3242765814388 \\omega}{\\left(- 0.05914 \\omega^{2} + 898.755178736817\\right)^{2}} + \\frac{5380491.70754862 \\omega}{\\left(- 474.6 \\omega^{2} + 898.755178736817\\right)^{2}}\\right)}{\\sqrt{1.0 + \\frac{2402.73209483501}{- 0.01764 \\omega^{2} + 898.755178736817} + \\frac{1104.57011466755}{- 0.05914 \\omega^{2} + 898.755178736817} + \\frac{11336.8978245862}{- 474.6 \\omega^{2} + 898.755178736817}}} + 3.33564095198152 \\cdot 10^{-9} \\sqrt{1.0 + \\frac{2402.73209483501}{- 0.01764 \\omega^{2} + 898.755178736817} + \\frac{1104.57011466755}{- 0.05914 \\omega^{2} + 898.755178736817} + \\frac{11336.8978245862}{- 474.6 \\omega^{2} + 898.755178736817}}}$$"
      ],
      "text/plain": [
       "                                                                              \n",
       "                                                                              \n",
       "                                                                       -3.3356\n",
       "                                                                              \n",
       "                                                                              \n",
       "──────────────────────────────────────────────────────────────────────────────\n",
       "                      ⎛          42.3841941528895⋅ω                      65.32\n",
       "3.33564095198152e-9⋅ω⋅⎜───────────────────────────────────── + ───────────────\n",
       "                      ⎜                                    2                  \n",
       "                      ⎜⎛              2                   ⎞    ⎛              \n",
       "                      ⎝⎝- - -0.01764⋅ω  + 898.755178736817⎠    ⎝- - -0.05914⋅ω\n",
       "──────────────────────────────────────────────────────────────────────────────\n",
       "               _______________________________________________________________\n",
       "              ╱                2402.73209483501                     1104.57011\n",
       "             ╱  1.0 + ────────────────────────────────── + ───────────────────\n",
       "            ╱                       2                                    2    \n",
       "          ╲╱          - - -0.01764⋅ω  + 898.755178736817   - - -0.05914⋅ω  + 8\n",
       "\n",
       "                     _________________________________________________________\n",
       "                    ╱                2402.73209483501                     1104\n",
       "4095198152e-9⋅ω⋅   ╱  1.0 + ────────────────────────────────── + ─────────────\n",
       "                  ╱                       2                                   \n",
       "                ╲╱          - - -0.01764⋅ω  + 898.755178736817   - - -0.05914⋅\n",
       "──────────────────────────────────────────────────────────────────────────────\n",
       "42765814388⋅ω                      5380491.70754862⋅ω          ⎞              \n",
       "────────────────────── + ──────────────────────────────────────⎟              \n",
       "                     2                                        2⎟              \n",
       "2                   ⎞    ⎛               2                   ⎞ ⎟              \n",
       "  + 898.755178736817⎠    ⎝- -474.6⋅(-1)⋅ω  + 898.755178736817⎠ ⎠              \n",
       "──────────────────────────────────────────────────────────────── + 3.335640951\n",
       "______________________________________________________                        \n",
       "466755                      11336.8978245862                                  \n",
       "─────────────── + ───────────────────────────────────                         \n",
       "                                 2                                            \n",
       "98.755178736817   - -474.6⋅(-1)⋅ω  + 898.755178736817                         \n",
       "\n",
       "____________________________________________________________                  \n",
       ".57011466755                      11336.8978245862                            \n",
       "───────────────────── + ───────────────────────────────────                   \n",
       " 2                                     2                                      \n",
       "ω  + 898.755178736817   - -474.6⋅(-1)⋅ω  + 898.755178736817                   \n",
       "──────────────────────────────────────────────────────────────────────────────\n",
       "                                                                              \n",
       "                                                                              \n",
       "                                                                              \n",
       "              ________________________________________________________________\n",
       "             ╱                2402.73209483501                     1104.570114\n",
       "98152e-9⋅   ╱  1.0 + ────────────────────────────────── + ────────────────────\n",
       "           ╱                       2                                    2     \n",
       "         ╲╱          - - -0.01764⋅ω  + 898.755178736817   - - -0.05914⋅ω  + 89\n",
       "                                                                              \n",
       "                                                                              \n",
       "                                                                              \n",
       "\n",
       "                                                     \n",
       "                                                     \n",
       "                                                     \n",
       "                                                     \n",
       "                                                     \n",
       "─────────────────────────────────────────────────────\n",
       "                                                     \n",
       "                                                     \n",
       "                                                     \n",
       "_____________________________________________________\n",
       "66755                      11336.8978245862          \n",
       "────────────── + ─────────────────────────────────── \n",
       "                                2                    \n",
       "8.755178736817   - -474.6⋅(-1)⋅ω  + 898.755178736817 \n",
       "                                                     \n",
       "                                                     \n",
       "                                                     "
      ]
     },
     "execution_count": 128,
     "metadata": {},
     "output_type": "execute_result"
    }
   ],
   "source": [
    "update_expression[0]"
   ]
  },
  {
   "cell_type": "code",
   "execution_count": 129,
   "metadata": {
    "collapsed": false
   },
   "outputs": [],
   "source": [
    "newton_update_func = ufuncify( [omega] , update_expression)"
   ]
  },
  {
   "cell_type": "code",
   "execution_count": 130,
   "metadata": {
    "collapsed": false
   },
   "outputs": [
    {
     "data": {
      "image/png": "[encoded data removed]",
      "text/latex": [
       "$$-9.46970430718$$"
      ],
      "text/plain": [
       "-9.46970430718"
      ]
     },
     "execution_count": 130,
     "metadata": {},
     "output_type": "execute_result"
    }
   ],
   "source": [
    "newton_update_func(10)"
   ]
  },
  {
   "cell_type": "code",
   "execution_count": 20,
   "metadata": {
    "collapsed": false
   },
   "outputs": [
    {
     "name": "stdout",
     "output_type": "stream",
     "text": [
      "7.69149\n"
     ]
    }
   ],
   "source": [
    "t0 = time.clock()\n",
    "for i in xrange(int(1e7)):\n",
    "    newton_update_func(10.)\n",
    "t1 = time.clock()\n",
    "print t1-t0"
   ]
  },
  {
   "cell_type": "code",
   "execution_count": 21,
   "metadata": {
    "collapsed": true
   },
   "outputs": [],
   "source": [
    "#####"
   ]
  },
  {
   "cell_type": "code",
   "execution_count": 22,
   "metadata": {
    "collapsed": false
   },
   "outputs": [],
   "source": [
    "dispersion_difference_function = k_symb(omega1,pol='o')+k_symb(omega2,pol='o')+k_symb(omega3,pol='e')"
   ]
  },
  {
   "cell_type": "code",
   "execution_count": 23,
   "metadata": {
    "collapsed": false
   },
   "outputs": [
    {
     "data": {
      "image/png": "[encoded data removed]",
      "text/latex": [
       "$$3.33564095198152 \\omega_{1} \\sqrt{1.0 + \\frac{2402.73209483501}{- 0.01764 \\omega_{1}^{2} + 898.755178736817} + \\frac{1104.57011466755}{- 0.05914 \\omega_{1}^{2} + 898.755178736817} + \\frac{11336.8978245862}{- 474.6 \\omega_{1}^{2} + 898.755178736817}} + 3.33564095198152 \\omega_{2} \\sqrt{1.0 + \\frac{2402.73209483501}{- 0.01764 \\omega_{2}^{2} + 898.755178736817} + \\frac{1104.57011466755}{- 0.05914 \\omega_{2}^{2} + 898.755178736817} + \\frac{11336.8978245862}{- 474.6 \\omega_{2}^{2} + 898.755178736817}} + 3.33564095198152 \\omega_{3} \\sqrt{1.0 + \\frac{2678.64993470721}{- 0.02047 \\omega_{3}^{2} + 898.755178736817} + \\frac{537.545472402491}{- 0.0666 \\omega_{3}^{2} + 898.755178736817} + \\frac{8047.72349696308}{- 416.08 \\omega_{3}^{2} + 898.755178736817}}$$"
      ],
      "text/plain": [
       "                         _____________________________________________________\n",
       "                        ╱                 2402.73209483501                    \n",
       "3.33564095198152⋅ω₁⋅   ╱  1.0 + ─────────────────────────────────── + ────────\n",
       "                      ╱                        2                              \n",
       "                    ╲╱          - - -0.01764⋅ω₁  + 898.755178736817   - - -0.0\n",
       "\n",
       "___________________________________________________________________           \n",
       "  1104.57011466755                      11336.8978245862                      \n",
       "─────────────────────────── + ────────────────────────────────────  + 3.335640\n",
       "       2                                      2                               \n",
       "5914⋅ω₁  + 898.755178736817   - -474.6⋅(-1)⋅ω₁  + 898.755178736817            \n",
       "\n",
       "                 _____________________________________________________________\n",
       "                ╱                 2402.73209483501                      1104.5\n",
       "95198152⋅ω₂⋅   ╱  1.0 + ─────────────────────────────────── + ────────────────\n",
       "              ╱                        2                                     2\n",
       "            ╲╱          - - -0.01764⋅ω₂  + 898.755178736817   - - -0.05914⋅ω₂ \n",
       "\n",
       "___________________________________________________________                   \n",
       "7011466755                      11336.8978245862                              \n",
       "─────────────────── + ────────────────────────────────────  + 3.33564095198152\n",
       "                                      2                                       \n",
       " + 898.755178736817   - -474.6⋅(-1)⋅ω₂  + 898.755178736817                    \n",
       "\n",
       "         _____________________________________________________________________\n",
       "        ╱                 2678.64993470721                     537.54547240249\n",
       "⋅ω₃⋅   ╱  1.0 + ─────────────────────────────────── + ────────────────────────\n",
       "      ╱                        2                                    2         \n",
       "    ╲╱          - - -0.02047⋅ω₃  + 898.755178736817   - - -0.0666⋅ω₃  + 898.75\n",
       "\n",
       "___________________________________________________\n",
       "1                       8047.72349696308           \n",
       "────────── + ───────────────────────────────────── \n",
       "                              2                    \n",
       "5178736817   - -416.08⋅(-1)⋅ω₃  + 898.755178736817 "
      ]
     },
     "execution_count": 23,
     "metadata": {},
     "output_type": "execute_result"
    }
   ],
   "source": [
    "dispersion_difference_function.expand()*1e9"
   ]
  },
  {
   "cell_type": "code",
   "execution_count": 24,
   "metadata": {
    "collapsed": true
   },
   "outputs": [],
   "source": [
    "def make_newton_update_expression(dispersion_difference_function,symbols):\n",
    "    expression_diff = np.asarray([sp.diff(dispersion_difference_function,sym) for sym in symbols])\n",
    "    return np.array(([sym - dispersion_difference_function / der for sym,der in zip(symbols,expression_diff)]))"
   ]
  },
  {
   "cell_type": "code",
   "execution_count": 25,
   "metadata": {
    "collapsed": false
   },
   "outputs": [],
   "source": [
    "update_expression = make_newton_update_expression((1e9*dispersion_difference_function).expand(),\n",
    "                                                    symbols=[omega1,omega2,omega3])"
   ]
  },
  {
   "cell_type": "code",
   "execution_count": 26,
   "metadata": {
    "collapsed": false
   },
   "outputs": [],
   "source": [
    "update_expression = np.asarray([ex.subs(omega3,-omega1-omega2) for ex in update_expression])"
   ]
  },
  {
   "cell_type": "code",
   "execution_count": 131,
   "metadata": {
    "collapsed": false,
    "scrolled": true
   },
   "outputs": [
    {
     "data": {
      "image/png": "[encoded data removed]",
      "text/latex": [
       "$$- \\frac{3.33564095198152 \\cdot 10^{-9} \\omega \\sqrt{1.0 + \\frac{2402.73209483501}{- 0.01764 \\omega^{2} + 898.755178736817} + \\frac{1104.57011466755}{- 0.05914 \\omega^{2} + 898.755178736817} + \\frac{11336.8978245862}{- 474.6 \\omega^{2} + 898.755178736817}}}{\\frac{3.33564095198152 \\cdot 10^{-9} \\omega \\left(\\frac{42.3841941528895 \\omega}{\\left(- 0.01764 \\omega^{2} + 898.755178736817\\right)^{2}} + \\frac{65.3242765814388 \\omega}{\\left(- 0.05914 \\omega^{2} + 898.755178736817\\right)^{2}} + \\frac{5380491.70754862 \\omega}{\\left(- 474.6 \\omega^{2} + 898.755178736817\\right)^{2}}\\right)}{\\sqrt{1.0 + \\frac{2402.73209483501}{- 0.01764 \\omega^{2} + 898.755178736817} + \\frac{1104.57011466755}{- 0.05914 \\omega^{2} + 898.755178736817} + \\frac{11336.8978245862}{- 474.6 \\omega^{2} + 898.755178736817}}} + 3.33564095198152 \\cdot 10^{-9} \\sqrt{1.0 + \\frac{2402.73209483501}{- 0.01764 \\omega^{2} + 898.755178736817} + \\frac{1104.57011466755}{- 0.05914 \\omega^{2} + 898.755178736817} + \\frac{11336.8978245862}{- 474.6 \\omega^{2} + 898.755178736817}}}$$"
      ],
      "text/plain": [
       "                                                                              \n",
       "                                                                              \n",
       "                                                                       -3.3356\n",
       "                                                                              \n",
       "                                                                              \n",
       "──────────────────────────────────────────────────────────────────────────────\n",
       "                      ⎛          42.3841941528895⋅ω                      65.32\n",
       "3.33564095198152e-9⋅ω⋅⎜───────────────────────────────────── + ───────────────\n",
       "                      ⎜                                    2                  \n",
       "                      ⎜⎛              2                   ⎞    ⎛              \n",
       "                      ⎝⎝- - -0.01764⋅ω  + 898.755178736817⎠    ⎝- - -0.05914⋅ω\n",
       "──────────────────────────────────────────────────────────────────────────────\n",
       "               _______________________________________________________________\n",
       "              ╱                2402.73209483501                     1104.57011\n",
       "             ╱  1.0 + ────────────────────────────────── + ───────────────────\n",
       "            ╱                       2                                    2    \n",
       "          ╲╱          - - -0.01764⋅ω  + 898.755178736817   - - -0.05914⋅ω  + 8\n",
       "\n",
       "                     _________________________________________________________\n",
       "                    ╱                2402.73209483501                     1104\n",
       "4095198152e-9⋅ω⋅   ╱  1.0 + ────────────────────────────────── + ─────────────\n",
       "                  ╱                       2                                   \n",
       "                ╲╱          - - -0.01764⋅ω  + 898.755178736817   - - -0.05914⋅\n",
       "──────────────────────────────────────────────────────────────────────────────\n",
       "42765814388⋅ω                      5380491.70754862⋅ω          ⎞              \n",
       "────────────────────── + ──────────────────────────────────────⎟              \n",
       "                     2                                        2⎟              \n",
       "2                   ⎞    ⎛               2                   ⎞ ⎟              \n",
       "  + 898.755178736817⎠    ⎝- -474.6⋅(-1)⋅ω  + 898.755178736817⎠ ⎠              \n",
       "──────────────────────────────────────────────────────────────── + 3.335640951\n",
       "______________________________________________________                        \n",
       "466755                      11336.8978245862                                  \n",
       "─────────────── + ───────────────────────────────────                         \n",
       "                                 2                                            \n",
       "98.755178736817   - -474.6⋅(-1)⋅ω  + 898.755178736817                         \n",
       "\n",
       "____________________________________________________________                  \n",
       ".57011466755                      11336.8978245862                            \n",
       "───────────────────── + ───────────────────────────────────                   \n",
       " 2                                     2                                      \n",
       "ω  + 898.755178736817   - -474.6⋅(-1)⋅ω  + 898.755178736817                   \n",
       "──────────────────────────────────────────────────────────────────────────────\n",
       "                                                                              \n",
       "                                                                              \n",
       "                                                                              \n",
       "              ________________________________________________________________\n",
       "             ╱                2402.73209483501                     1104.570114\n",
       "98152e-9⋅   ╱  1.0 + ────────────────────────────────── + ────────────────────\n",
       "           ╱                       2                                    2     \n",
       "         ╲╱          - - -0.01764⋅ω  + 898.755178736817   - - -0.05914⋅ω  + 89\n",
       "                                                                              \n",
       "                                                                              \n",
       "                                                                              \n",
       "\n",
       "                                                     \n",
       "                                                     \n",
       "                                                     \n",
       "                                                     \n",
       "                                                     \n",
       "─────────────────────────────────────────────────────\n",
       "                                                     \n",
       "                                                     \n",
       "                                                     \n",
       "_____________________________________________________\n",
       "66755                      11336.8978245862          \n",
       "────────────── + ─────────────────────────────────── \n",
       "                                2                    \n",
       "8.755178736817   - -474.6⋅(-1)⋅ω  + 898.755178736817 \n",
       "                                                     \n",
       "                                                     \n",
       "                                                     "
      ]
     },
     "execution_count": 131,
     "metadata": {},
     "output_type": "execute_result"
    }
   ],
   "source": [
    "update_expression[0]"
   ]
  },
  {
   "cell_type": "code",
   "execution_count": 28,
   "metadata": {
    "collapsed": false
   },
   "outputs": [],
   "source": [
    "symbols=[omega1,omega2]\n",
    "\n",
    "newton_update_func_0 = ufuncify( symbols , update_expression[0])\n",
    "newton_update_func_1 = ufuncify( symbols , update_expression[1])\n",
    "newton_update_func_2 = ufuncify( symbols , update_expression[2])"
   ]
  },
  {
   "cell_type": "markdown",
   "metadata": {},
   "source": [
    "# Notes\n",
    "\n",
    "There are three frequencies, $\\omega_1,\\omega_2,\\omega_3$. By the frequency matching condition, we impose $\\omega_3 = -\\omega_1 - \\omega_2$. \n",
    "\n",
    "The user must be watchful of the range for which the index of refraction equation is valid. In our case this corresponds to $\\omega \\in \\pm [6,60]$ in units of $10^{13} Hz$. \n",
    "\n",
    "In the above code, `fixed_omega1 is the value` dedicated to a fixed value of $\\omega_1$. There is a single degree of freedom remaining since $\\omega_3$ depends on $\\omega_1,\\omega_2$. We initialize a list of tuples `oms` with the values that will correspond to the initial values of $\\omega_1$ and $\\omega_2$. We must make sure that all three values are inside the admissible range. When the values are in the 'corners' of the ranges, Newton's method convergence slows."
   ]
  },
  {
   "cell_type": "code",
   "execution_count": 135,
   "metadata": {
    "collapsed": true
   },
   "outputs": [],
   "source": [
    "omegas = np.asarray([6.+ i*5e-1 for i in range(120)])"
   ]
  },
  {
   "cell_type": "code",
   "execution_count": 136,
   "metadata": {
    "collapsed": false
   },
   "outputs": [],
   "source": [
    "k_os = [k_symb(pol='o').subs(omega,om) for om in omegas]\n",
    "k_es = [k_symb(pol='e').subs(omega,om) for om in omegas]"
   ]
  },
  {
   "cell_type": "code",
   "execution_count": 137,
   "metadata": {
    "collapsed": false
   },
   "outputs": [
    {
     "data": {
      "text/plain": [
       "<matplotlib.text.Text at 0x122f38a90>"
      ]
     },
     "execution_count": 137,
     "metadata": {},
     "output_type": "execute_result"
    },
    {
     "data": {
      "image/png": "[encoded data removed]",
      "text/plain": [
       "<matplotlib.figure.Figure at 0x122ce6910>"
      ]
     },
     "metadata": {},
     "output_type": "display_data"
    }
   ],
   "source": [
    "plt.plot(omegas,k_es)\n",
    "plt.plot(omegas,k_os)\n",
    "plt.plot(omegas,omegas*8e-9)\n",
    "plt.title('Linear relationship, ordinary dispersion, extraordinary dispersion')"
   ]
  },
  {
   "cell_type": "code",
   "execution_count": 138,
   "metadata": {
    "collapsed": false
   },
   "outputs": [],
   "source": [
    "omegas_delta = omegas[1]-omegas[0]"
   ]
  },
  {
   "cell_type": "code",
   "execution_count": 139,
   "metadata": {
    "collapsed": false
   },
   "outputs": [],
   "source": [
    "fixed_omega1=15.\n",
    "oms = [(fixed_omega1, 30 - fixed_omega1)]  ## k is accurate for omega inputs between 6-60.\n",
    "converged_points = []\n",
    "for i in range(100):\n",
    "    arg2 = newton_update_func_1(*(oms[-1]))\n",
    "    oms.append((omegas[0],arg2))\n",
    "    if sum([ (oms[-1][i] - oms[-2][i])**2 for i in range(2)]) < omegas_delta / 100.:\n",
    "        break\n",
    "for arg1 in omegas:\n",
    "    for i in range(10):\n",
    "        arg2 = newton_update_func_1(*(oms[-1]))\n",
    "        oms.append((arg1,arg2))\n",
    "        if sum([ (oms[-1][i] - oms[-2][i])**2 for i in range(2)]) < omegas_delta / 100.:\n",
    "            break\n",
    "    converged_points.append((arg1,arg2))"
   ]
  },
  {
   "cell_type": "code",
   "execution_count": 140,
   "metadata": {
    "collapsed": false
   },
   "outputs": [],
   "source": [
    "converged_omegas = [(arg1,arg2,30-arg1-arg2) for arg1,arg2 in converged_points]"
   ]
  },
  {
   "cell_type": "code",
   "execution_count": 141,
   "metadata": {
    "collapsed": false
   },
   "outputs": [
    {
     "data": {
      "text/plain": [
       "[<matplotlib.lines.Line2D at 0x12caf76d0>,\n",
       " <matplotlib.lines.Line2D at 0x12caf78d0>]"
      ]
     },
     "execution_count": 141,
     "metadata": {},
     "output_type": "execute_result"
    },
    {
     "data": {
      "image/png": "[encoded data removed]",
      "text/plain": [
       "<matplotlib.figure.Figure at 0x122f64ed0>"
      ]
     },
     "metadata": {},
     "output_type": "display_data"
    }
   ],
   "source": [
    "plt.figure(figsize=(20,10))\n",
    "plt.plot(oms)"
   ]
  },
  {
   "cell_type": "code",
   "execution_count": 142,
   "metadata": {
    "collapsed": false
   },
   "outputs": [
    {
     "data": {
      "text/plain": [
       "[<matplotlib.lines.Line2D at 0x12cbadd50>,\n",
       " <matplotlib.lines.Line2D at 0x12cbadf50>,\n",
       " <matplotlib.lines.Line2D at 0x12ce020d0>]"
      ]
     },
     "execution_count": 142,
     "metadata": {},
     "output_type": "execute_result"
    },
    {
     "data": {
      "image/png": "[encoded data removed]",
      "text/plain": [
       "<matplotlib.figure.Figure at 0x12cd16710>"
      ]
     },
     "metadata": {},
     "output_type": "display_data"
    }
   ],
   "source": [
    "plt.figure(figsize=(20,10))\n",
    "plt.plot(omegas,converged_omegas)"
   ]
  },
  {
   "cell_type": "code",
   "execution_count": 143,
   "metadata": {
    "collapsed": true
   },
   "outputs": [],
   "source": [
    "#####  More omegas"
   ]
  },
  {
   "cell_type": "code",
   "execution_count": 41,
   "metadata": {
    "collapsed": true
   },
   "outputs": [],
   "source": [
    "k_o_func = ufuncify([omega],k_symb(pol='o'))\n",
    "k_e_func = ufuncify([omega],k_symb(pol='e'))"
   ]
  },
  {
   "cell_type": "code",
   "execution_count": 147,
   "metadata": {
    "collapsed": true
   },
   "outputs": [],
   "source": [
    "omegas1 = np.asarray([6.+ i*5 for i in range(int(1e1))])\n",
    "omegas2 = np.asarray([6.+ i*5e-1 for i in range(int(1e2))])\n",
    "omegas3 = np.asarray([6.+ i*5e-2 for i in range(int(1e3))])\n",
    "omegas4 = np.asarray([6.+ i*5e-3 for i in range(int(1e4))])\n",
    "omegas5 = np.asarray([6.+ i*5e-4 for i in range(int(1e5))])"
   ]
  },
  {
   "cell_type": "code",
   "execution_count": 148,
   "metadata": {
    "collapsed": true
   },
   "outputs": [],
   "source": [
    "###### Stuff we can do with newton_update_func"
   ]
  },
  {
   "cell_type": "code",
   "execution_count": 149,
   "metadata": {
    "collapsed": true
   },
   "outputs": [],
   "source": [
    "fixed_omega1 = 15.\n",
    "fixed_omega_3 = 30."
   ]
  },
  {
   "cell_type": "code",
   "execution_count": 150,
   "metadata": {
    "collapsed": true
   },
   "outputs": [],
   "source": [
    "omega_pairs = {}\n",
    "X = {}"
   ]
  },
  {
   "cell_type": "code",
   "execution_count": 151,
   "metadata": {
    "collapsed": true
   },
   "outputs": [],
   "source": [
    "for i in range(1,6):\n",
    "    X[i] = np.arange(7,45,5*pow(10,-i))\n",
    "    omega_pairs[i] = [(fixed_omega1, omega_2) for omega_2 in X[i]]"
   ]
  },
  {
   "cell_type": "code",
   "execution_count": 152,
   "metadata": {
    "collapsed": false
   },
   "outputs": [],
   "source": [
    "@timeit\n",
    "def get_newton_steps(omega_pairs):\n",
    "    return map(lambda z: newton_update_func_1(*z),omega_pairs)"
   ]
  },
  {
   "cell_type": "code",
   "execution_count": 153,
   "metadata": {
    "collapsed": true
   },
   "outputs": [],
   "source": [
    "newton_out = {}"
   ]
  },
  {
   "cell_type": "code",
   "execution_count": 154,
   "metadata": {
    "collapsed": false
   },
   "outputs": [
    {
     "name": "stdout",
     "output_type": "stream",
     "text": [
      "'get_newton_steps' 0.00 sec\n",
      "'get_newton_steps' 0.00 sec\n",
      "'get_newton_steps' 0.01 sec\n",
      "'get_newton_steps' 0.08 sec\n",
      "'get_newton_steps' 0.82 sec\n"
     ]
    }
   ],
   "source": [
    "for i in range(1,6):\n",
    "    newton_out[i] = get_newton_steps(omega_pairs[i])"
   ]
  },
  {
   "cell_type": "code",
   "execution_count": 55,
   "metadata": {
    "collapsed": true
   },
   "outputs": [],
   "source": [
    "#######"
   ]
  },
  {
   "cell_type": "code",
   "execution_count": 56,
   "metadata": {
    "collapsed": true
   },
   "outputs": [],
   "source": [
    "def trace_omegas_BENCHMARK(omegas,fixed_omega_3 = 30.):\n",
    "    '''\n",
    "    Trace through triples of frequencies constrained by \n",
    "    :math:`omega1+omega2+omega3 = 0`.\n",
    "    \n",
    "    At each step of incrementing omega1, find the new omega2 \n",
    "    and omega3 by applying Newton's method to omega2 \n",
    "    and the constraint to obtain omega3.\n",
    "    \n",
    "    At each step apply 200 Newton's steps to converge.\n",
    "    \n",
    "    Args:\n",
    "        omegas (list of floats):\n",
    "            The frequencies in the range desired\n",
    "        fixed_omega_3 (optional [float]): initial value of omega3.\n",
    "        \n",
    "    Returns:\n",
    "        oms (list of floats): A history of the Newton's steps\n",
    "        converged_points (list of tuples): \n",
    "    '''\n",
    "    fixed_omega1=omegas[0]\n",
    "    oms = [(fixed_omega1, fixed_omega_3 - fixed_omega1)]  ## k is accurate for omega inputs between 6-60.\n",
    "    converged_points = []\n",
    "    for i in range(int(1e5)):\n",
    "        arg2 = newton_update_func_1(*(oms[-1]))\n",
    "        oms.append((omegas[0],arg2))\n",
    "        if sum([ (oms[-1][i] - oms[-2][i])**2 for i in range(2)]) < omegas_delta * 1e-10 :\n",
    "            break\n",
    "    for arg1 in omegas:\n",
    "        for i in range(200):\n",
    "            arg2 = newton_update_func_1(*(oms[-1]))\n",
    "            oms.append((arg1,arg2))\n",
    "        converged_points.append((arg1,arg2))\n",
    "    return oms,converged_points"
   ]
  },
  {
   "cell_type": "code",
   "execution_count": 57,
   "metadata": {
    "collapsed": false
   },
   "outputs": [],
   "source": [
    "def trace_omegas(omegas,fixed_omega_3 = 30.):\n",
    "    '''\n",
    "    Trace through triples of frequencies constrained by \n",
    "    :math:`omega1+omega2+omega3 = 0`.\n",
    "    \n",
    "    At each step of incrementing omega1, find the new omega2 \n",
    "    and omega3 by applying Newton's method to omega2 \n",
    "    and the constraint to obtain omega3.\n",
    "    \n",
    "    \n",
    "    Trace through the omegas, when finding the next\n",
    "    step with Newton's method occasionally check the error \n",
    "    and allow terminating early.\n",
    "    \n",
    "    Args:\n",
    "        omegas (list of floats):\n",
    "            The frequencies in the range desired\n",
    "        fixed_omega_3 (optional [float]): initial value of omega3.\n",
    "        \n",
    "    Returns:\n",
    "        oms (list of floats): A history of the Newton's steps\n",
    "        converged_points (list of tuples): \n",
    "    '''\n",
    "    fixed_omega1=omegas[0]\n",
    "    oms = [(fixed_omega1, fixed_omega_3 - fixed_omega1)]  ## k is accurate for omega inputs between 6-60.\n",
    "    converged_points = []\n",
    "    for i in range(int(1e5)):\n",
    "        arg2 = newton_update_func_1(*(oms[-1]))\n",
    "        oms.append((omegas[0],arg2))\n",
    "        if sum([ (oms[-1][i] - oms[-2][i])**2 for i in range(2)]) < omegas_delta * 1e-10 :\n",
    "            break\n",
    "    for arg1 in omegas:\n",
    "        for i in range(50):\n",
    "            for j in range(10):\n",
    "                arg2 = newton_update_func_1(*(oms[-1]))\n",
    "                oms.append((arg1,arg2))\n",
    "            if sum([ (oms[-1][k] - oms[-2][k])**2 for k in range(2)]) < omegas_delta * 1e-10:\n",
    "                break\n",
    "        converged_points.append((arg1,arg2))\n",
    "    return oms,converged_points"
   ]
  },
  {
   "cell_type": "code",
   "execution_count": 58,
   "metadata": {
    "collapsed": true
   },
   "outputs": [],
   "source": [
    "converged_dict = {}\n",
    "converged_dict_BENCHMARK = {}"
   ]
  },
  {
   "cell_type": "code",
   "execution_count": 59,
   "metadata": {
    "collapsed": false
   },
   "outputs": [
    {
     "name": "stdout",
     "output_type": "stream",
     "text": [
      "time to converge:  0.087337\n",
      "time to converge:  0.501434\n",
      "time to converge:  3.071447\n"
     ]
    }
   ],
   "source": [
    "for ind,omegas in zip([3,4,5],[omegas3,omegas4,omegas5]):\n",
    "    t0 = time.clock()\n",
    "    oms,converged_points = trace_omegas(omegas)\n",
    "    t1 = time.clock()\n",
    "    print \"time to converge: \", t1-t0\n",
    "    k_os = k_o_func(omegas)\n",
    "    k_es = k_e_func(omegas)\n",
    "    converged_omegas = [(arg1,arg2,30-arg1-arg2) for arg1,arg2 in converged_points]\n",
    "    converged_dict[ind] = omegas,converged_omegas"
   ]
  },
  {
   "cell_type": "code",
   "execution_count": 60,
   "metadata": {
    "collapsed": false,
    "scrolled": false
   },
   "outputs": [
    {
     "name": "stdout",
     "output_type": "stream",
     "text": [
      "time to converge:  0.37857\n",
      "time to converge:  2.663485\n",
      "time to converge:  26.749138\n"
     ]
    }
   ],
   "source": [
    "for ind,omegas in zip([3,4,5],[omegas3,omegas4,omegas5]):\n",
    "    t0 = time.clock()\n",
    "    oms,converged_points = trace_omegas_BENCHMARK(omegas)\n",
    "    t1 = time.clock()\n",
    "    print \"time to converge: \", t1-t0\n",
    "    k_os = k_o_func(omegas)\n",
    "    k_es = k_e_func(omegas)\n",
    "    converged_omegas_BENCHMARK = [(arg1,arg2,30-arg1-arg2) for arg1,arg2 in converged_points]\n",
    "    converged_dict_BENCHMARK[ind] = omegas,converged_omegas_BENCHMARK"
   ]
  },
  {
   "cell_type": "code",
   "execution_count": 61,
   "metadata": {
    "collapsed": false
   },
   "outputs": [
    {
     "data": {
      "image/png": "[encoded data removed]",
      "text/plain": [
       "<matplotlib.figure.Figure at 0x11e9867d0>"
      ]
     },
     "metadata": {},
     "output_type": "display_data"
    }
   ],
   "source": [
    "plt.figure(figsize=(20,10))\n",
    "for ind,(omegas,converged_omegas) in converged_dict.iteritems():\n",
    "    #plt.figure(ind)\n",
    "    plt.plot(omegas[::pow(10,ind-3)],converged_omegas[::pow(10,ind-3)])"
   ]
  },
  {
   "cell_type": "code",
   "execution_count": 62,
   "metadata": {
    "collapsed": true
   },
   "outputs": [],
   "source": [
    "omegas_converged = {}"
   ]
  },
  {
   "cell_type": "code",
   "execution_count": 63,
   "metadata": {
    "collapsed": false
   },
   "outputs": [],
   "source": [
    "for i in range(3,6):\n",
    "    omegas,converged_omegas = converged_dict[i]\n",
    "    omegas_converged[i] =  [tup[1] for tup in converged_omegas]"
   ]
  },
  {
   "cell_type": "markdown",
   "metadata": {},
   "source": [
    "## Interpolations "
   ]
  },
  {
   "cell_type": "markdown",
   "metadata": {},
   "source": [
    "Note: Using UnivariateSpline with k=2 and a small value of `s` seems to offer a good balance of speed and precision."
   ]
  },
  {
   "cell_type": "code",
   "execution_count": 157,
   "metadata": {
    "collapsed": true
   },
   "outputs": [],
   "source": [
    "@timeit\n",
    "def interpolate_omegas(omegas_few,omegas_many,omegas_few_values):\n",
    "    '''\n",
    "    A method for interpolation from omegas_few to omegas_many.\n",
    "    \n",
    "    Args:\n",
    "        omegas_few (list of floats):\n",
    "            points to use to interpolate\n",
    "        omegas_many (list of floats):\n",
    "            points to interpolate to. Should have omegas_few included.\n",
    "        omegas_few_values (list of floats):\n",
    "            The values of the omegas_few that have already been computed\n",
    "            \n",
    "    Returns:\n",
    "        A list of length len(omegas_many) interpolating the values of omegas_few.\n",
    "    '''\n",
    "    f = interpolate.UnivariateSpline(omegas_few, omegas_few_values,k=2,s=1e-10)\n",
    "    return f(omegas_many)"
   ]
  },
  {
   "cell_type": "code",
   "execution_count": 158,
   "metadata": {
    "collapsed": false,
    "scrolled": true
   },
   "outputs": [
    {
     "name": "stdout",
     "output_type": "stream",
     "text": [
      "'interpolate_omegas' 0.03 sec\n"
     ]
    }
   ],
   "source": [
    "omega_values_interpolated = interpolate_omegas(np.asarray(omegas3),np.asarray(omegas5[1:99900]),np.asarray(omegas_converged[3]))"
   ]
  },
  {
   "cell_type": "code",
   "execution_count": 159,
   "metadata": {
    "collapsed": false,
    "scrolled": true
   },
   "outputs": [
    {
     "data": {
      "text/plain": [
       "<matplotlib.text.Text at 0x128c23410>"
      ]
     },
     "execution_count": 159,
     "metadata": {},
     "output_type": "execute_result"
    },
    {
     "data": {
      "image/png": "[encoded data removed]",
      "text/plain": [
       "<matplotlib.figure.Figure at 0x12caf7a10>"
      ]
     },
     "metadata": {},
     "output_type": "display_data"
    }
   ],
   "source": [
    "plt.plot(omegas5[1:99900],omega_values_interpolated)\n",
    "plt.plot(omegas3,omegas_converged[3])\n",
    "plt.title('interpolated versus original values')"
   ]
  },
  {
   "cell_type": "code",
   "execution_count": 161,
   "metadata": {
    "collapsed": false
   },
   "outputs": [
    {
     "name": "stdout",
     "output_type": "stream",
     "text": [
      "total abs error 0.520267025544\n",
      "max error 7.03401227735e-05\n"
     ]
    }
   ],
   "source": [
    "print 'total abs error', sum(abs(omega_values_interpolated - np.asarray(omegas_converged[5][1:99900])))\n",
    "print 'max error', max(abs(omega_values_interpolated - np.asarray(omegas_converged[5][1:99900])))"
   ]
  },
  {
   "cell_type": "markdown",
   "metadata": {},
   "source": [
    "##  Experimenting with 2D interpolation (could be used for four-wave mixing)\n",
    "\n",
    "We try to use 2-D cubic interpolation from a grid of length 1001 to a grid of length 10001. Time is 3.67 sec."
   ]
  },
  {
   "cell_type": "code",
   "execution_count": 68,
   "metadata": {
    "collapsed": true
   },
   "outputs": [],
   "source": [
    "omegas_dict = {}"
   ]
  },
  {
   "cell_type": "code",
   "execution_count": 69,
   "metadata": {
    "collapsed": false
   },
   "outputs": [],
   "source": [
    "for i in range(3,6):\n",
    "    omegas_dict[i] = [6.+ j*5*pow(10,-i) for j in range(1+pow(10,i))]"
   ]
  },
  {
   "cell_type": "code",
   "execution_count": 70,
   "metadata": {
    "collapsed": false
   },
   "outputs": [
    {
     "name": "stdout",
     "output_type": "stream",
     "text": [
      "[  6.        6.00005   6.0001  ...,  10.9999   10.99995  11.     ]\n"
     ]
    }
   ],
   "source": [
    "print np.asarray(omegas_dict[5])"
   ]
  },
  {
   "cell_type": "code",
   "execution_count": 162,
   "metadata": {
    "collapsed": false
   },
   "outputs": [
    {
     "name": "stdout",
     "output_type": "stream",
     "text": [
      "[  6.      6.005   6.01  ...,  10.99   10.995  11.   ]\n"
     ]
    }
   ],
   "source": [
    "print np.asarray(omegas_dict[3])"
   ]
  },
  {
   "cell_type": "code",
   "execution_count": 168,
   "metadata": {
    "collapsed": true
   },
   "outputs": [],
   "source": [
    "x = omegas_dict[3]\n",
    "y = omegas_dict[3]"
   ]
  },
  {
   "cell_type": "code",
   "execution_count": 169,
   "metadata": {
    "collapsed": false
   },
   "outputs": [
    {
     "data": {
      "image/png": "[encoded data removed]",
      "text/latex": [
       "$$1001$$"
      ],
      "text/plain": [
       "1001"
      ]
     },
     "execution_count": 169,
     "metadata": {},
     "output_type": "execute_result"
    }
   ],
   "source": [
    "len(x)"
   ]
  },
  {
   "cell_type": "code",
   "execution_count": 73,
   "metadata": {
    "collapsed": true
   },
   "outputs": [],
   "source": [
    "z = np.zeros((len(x),len(y)))"
   ]
  },
  {
   "cell_type": "code",
   "execution_count": 74,
   "metadata": {
    "collapsed": false
   },
   "outputs": [],
   "source": [
    "for i in xrange(len(x)):\n",
    "    for j in xrange(len(y)):\n",
    "        z[i,j] = x[i]+y[j]"
   ]
  },
  {
   "cell_type": "code",
   "execution_count": 75,
   "metadata": {
    "collapsed": false
   },
   "outputs": [],
   "source": [
    "f = interpolate.interp2d(x,y,z,kind='q')"
   ]
  },
  {
   "cell_type": "code",
   "execution_count": 163,
   "metadata": {
    "collapsed": true
   },
   "outputs": [],
   "source": [
    "x_new = omegas_dict[4]\n",
    "y_new = omegas_dict[4]"
   ]
  },
  {
   "cell_type": "code",
   "execution_count": 167,
   "metadata": {
    "collapsed": false
   },
   "outputs": [
    {
     "data": {
      "image/png": "[encoded data removed]",
      "text/latex": [
       "$$10001$$"
      ],
      "text/plain": [
       "10001"
      ]
     },
     "execution_count": 167,
     "metadata": {},
     "output_type": "execute_result"
    }
   ],
   "source": [
    "len(x_new)"
   ]
  },
  {
   "cell_type": "code",
   "execution_count": 164,
   "metadata": {
    "collapsed": false
   },
   "outputs": [],
   "source": [
    "@timeit\n",
    "def get_values(x_new,y_new):\n",
    "    return f(x_new,y_new)"
   ]
  },
  {
   "cell_type": "code",
   "execution_count": 165,
   "metadata": {
    "collapsed": false
   },
   "outputs": [
    {
     "name": "stdout",
     "output_type": "stream",
     "text": [
      "'get_values' 3.67 sec\n"
     ]
    }
   ],
   "source": [
    "z = get_values(x_new,y_new)"
   ]
  }
 ],
 "metadata": {
  "kernelspec": {
   "display_name": "Python 2",
   "language": "python",
   "name": "python2"
  },
  "language_info": {
   "codemirror_mode": {
    "name": "ipython",
    "version": 2
   },
   "file_extension": ".py",
   "mimetype": "text/x-python",
   "name": "python",
   "nbconvert_exporter": "python",
   "pygments_lexer": "ipython2",
   "version": "2.7.12"
  },
  "widgets": {
   "state": {},
   "version": "1.1.2"
  }
 },
 "nbformat": 4,
 "nbformat_minor": 0
}
